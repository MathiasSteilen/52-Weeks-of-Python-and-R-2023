{
 "cells": [
  {
   "cell_type": "markdown",
   "metadata": {},
   "source": [
    "## Using NLP Methods to extract meaning from free text for supervised modelling 📜🗣️"
   ]
  },
  {
   "cell_type": "markdown",
   "metadata": {},
   "source": [
    "### The data: Rent prices in Vienna, scraped previously from [Willhaben.at](https://www.willhaben.at)"
   ]
  },
  {
   "cell_type": "code",
   "execution_count": 1,
   "metadata": {
    "vscode": {
     "languageId": "r"
    }
   },
   "outputs": [
    {
     "name": "stderr",
     "output_type": "stream",
     "text": [
      "── \u001b[1mAttaching packages\u001b[22m ─────────────────────────────────────── tidyverse 1.3.2 ──\n",
      "\u001b[32m✔\u001b[39m \u001b[34mggplot2\u001b[39m 3.3.6      \u001b[32m✔\u001b[39m \u001b[34mpurrr  \u001b[39m 0.3.5 \n",
      "\u001b[32m✔\u001b[39m \u001b[34mtibble \u001b[39m 3.1.8      \u001b[32m✔\u001b[39m \u001b[34mdplyr  \u001b[39m 1.0.10\n",
      "\u001b[32m✔\u001b[39m \u001b[34mtidyr  \u001b[39m 1.2.1      \u001b[32m✔\u001b[39m \u001b[34mstringr\u001b[39m 1.4.1 \n",
      "\u001b[32m✔\u001b[39m \u001b[34mreadr  \u001b[39m 2.1.3      \u001b[32m✔\u001b[39m \u001b[34mforcats\u001b[39m 0.5.2 \n",
      "── \u001b[1mConflicts\u001b[22m ────────────────────────────────────────── tidyverse_conflicts() ──\n",
      "\u001b[31m✖\u001b[39m \u001b[34mdplyr\u001b[39m::\u001b[32mfilter()\u001b[39m masks \u001b[34mstats\u001b[39m::filter()\n",
      "\u001b[31m✖\u001b[39m \u001b[34mdplyr\u001b[39m::\u001b[32mlag()\u001b[39m    masks \u001b[34mstats\u001b[39m::lag()\n",
      "\n",
      "Attaching package: 'lubridate'\n",
      "\n",
      "\n",
      "The following objects are masked from 'package:base':\n",
      "\n",
      "    date, intersect, setdiff, union\n",
      "\n",
      "\n",
      "── \u001b[1mAttaching packages\u001b[22m ────────────────────────────────────── tidymodels 1.0.0 ──\n",
      "\n",
      "\u001b[32m✔\u001b[39m \u001b[34mdials       \u001b[39m 1.0.0     \u001b[32m✔\u001b[39m \u001b[34mrsample     \u001b[39m 1.1.0\n",
      "\u001b[32m✔\u001b[39m \u001b[34minfer       \u001b[39m 1.0.3     \u001b[32m✔\u001b[39m \u001b[34mtune        \u001b[39m 1.0.1\n",
      "\u001b[32m✔\u001b[39m \u001b[34mmodeldata   \u001b[39m 1.0.1     \u001b[32m✔\u001b[39m \u001b[34mworkflows   \u001b[39m 1.1.0\n",
      "\u001b[32m✔\u001b[39m \u001b[34mparsnip     \u001b[39m 1.0.2     \u001b[32m✔\u001b[39m \u001b[34mworkflowsets\u001b[39m 1.0.0\n",
      "\u001b[32m✔\u001b[39m \u001b[34mrecipes     \u001b[39m 1.0.1     \u001b[32m✔\u001b[39m \u001b[34myardstick   \u001b[39m 1.1.0\n",
      "\n",
      "── \u001b[1mConflicts\u001b[22m ───────────────────────────────────────── tidymodels_conflicts() ──\n",
      "\u001b[31m✖\u001b[39m \u001b[34mscales\u001b[39m::\u001b[32mdiscard()\u001b[39m masks \u001b[34mpurrr\u001b[39m::discard()\n",
      "\u001b[31m✖\u001b[39m \u001b[34mdplyr\u001b[39m::\u001b[32mfilter()\u001b[39m   masks \u001b[34mstats\u001b[39m::filter()\n",
      "\u001b[31m✖\u001b[39m \u001b[34mrecipes\u001b[39m::\u001b[32mfixed()\u001b[39m  masks \u001b[34mstringr\u001b[39m::fixed()\n",
      "\u001b[31m✖\u001b[39m \u001b[34mdplyr\u001b[39m::\u001b[32mlag()\u001b[39m      masks \u001b[34mstats\u001b[39m::lag()\n",
      "\u001b[31m✖\u001b[39m \u001b[34myardstick\u001b[39m::\u001b[32mspec()\u001b[39m masks \u001b[34mreadr\u001b[39m::spec()\n",
      "\u001b[31m✖\u001b[39m \u001b[34mrecipes\u001b[39m::\u001b[32mstep()\u001b[39m   masks \u001b[34mstats\u001b[39m::step()\n",
      "\u001b[34m•\u001b[39m Use suppressPackageStartupMessages() to eliminate package startup messages\n",
      "\n",
      "\n",
      "Attaching package: 'vip'\n",
      "\n",
      "\n",
      "The following object is masked from 'package:utils':\n",
      "\n",
      "    vi\n",
      "\n",
      "\n",
      "Loading required package: foreach\n",
      "\n",
      "\n",
      "Attaching package: 'foreach'\n",
      "\n",
      "\n",
      "The following objects are masked from 'package:purrr':\n",
      "\n",
      "    accumulate, when\n",
      "\n",
      "\n",
      "Loading required package: iterators\n",
      "\n",
      "Loading required package: parallel\n",
      "\n"
     ]
    }
   ],
   "source": [
    "# Load the necessary libraries\n",
    "library(tidyverse)\n",
    "library(tidytext)\n",
    "library(broom)\n",
    "library(lubridate)\n",
    "library(tidymodels)\n",
    "library(textrecipes)\n",
    "library(vip)\n",
    "library(doParallel)\n",
    "\n",
    "# Chart Theme\n",
    "theme_set(theme_bw() +\n",
    "          theme(plot.title = element_text(size = 14, face = \"bold\"),\n",
    "                plot.subtitle = element_text(size = 10, face = \"italic\",\n",
    "                                             colour = \"grey50\")))"
   ]
  },
  {
   "cell_type": "code",
   "execution_count": 2,
   "metadata": {
    "vscode": {
     "languageId": "r"
    }
   },
   "outputs": [
    {
     "name": "stderr",
     "output_type": "stream",
     "text": [
      "\u001b[1mRows: \u001b[22m\u001b[34m7655\u001b[39m \u001b[1mColumns: \u001b[22m\u001b[34m6\u001b[39m\n",
      "\u001b[36m──\u001b[39m \u001b[1mColumn specification\u001b[22m \u001b[36m────────────────────────────────────────────────────────\u001b[39m\n",
      "\u001b[1mDelimiter:\u001b[22m \",\"\n",
      "\u001b[31mchr\u001b[39m (2): title, landlord\n",
      "\u001b[32mdbl\u001b[39m (4): price, sqm, rooms, postcode\n",
      "\n",
      "\u001b[36mℹ\u001b[39m Use `spec()` to retrieve the full column specification for this data.\n",
      "\u001b[36mℹ\u001b[39m Specify the column types or set `show_col_types = FALSE` to quiet this message.\n"
     ]
    }
   ],
   "source": [
    "# read in the data with some mods\n",
    "data <- read_csv(\"C:/Users/mathi/OneDrive/Python/52-Weeks-of-Python-and-R-2023/08 - Tokenisation/Willhaben_everything_clean.csv\") %>%\n",
    "    filter(postcode != 9999) %>% \n",
    "    mutate(across(c(rooms, postcode, landlord), as.factor))"
   ]
  },
  {
   "cell_type": "code",
   "execution_count": 3,
   "metadata": {
    "vscode": {
     "languageId": "r"
    }
   },
   "outputs": [
    {
     "name": "stdout",
     "output_type": "stream",
     "text": [
      "Rows: 7,652\n",
      "Columns: 6\n",
      "$ title    \u001b[3m\u001b[90m<chr>\u001b[39m\u001b[23m \"Provisionsfreie 2-Zimmer Wohnung in Ober St. Veit, Erstbezug…\n",
      "$ price    \u001b[3m\u001b[90m<dbl>\u001b[39m\u001b[23m 780.00, 795.00, 1114.47, 895.00, 1073.00, 799.40, 596.00, 950…\n",
      "$ sqm      \u001b[3m\u001b[90m<dbl>\u001b[39m\u001b[23m 47, 43, 70, 48, 78, 46, 40, 66, 64, 58, 30, 223, 40, 421, 126…\n",
      "$ rooms    \u001b[3m\u001b[90m<fct>\u001b[39m\u001b[23m 2, 2, 3, 2, 3, 2, 2, 2, 3, 3, 1, 6, 2, 8, 2, 2, 2, 3, 2, 2, 2…\n",
      "$ postcode \u001b[3m\u001b[90m<fct>\u001b[39m\u001b[23m 1130, 1120, 1230, 1030, 1140, 1140, 1170, 1130, 1160, 1010, 1…\n",
      "$ landlord \u001b[3m\u001b[90m<fct>\u001b[39m\u001b[23m \"Privat\", \"Privat\", \"BUWOG Group GmbH\", \"Privat\", \"Privat\", \"…\n"
     ]
    }
   ],
   "source": [
    "glimpse(data)"
   ]
  },
  {
   "attachments": {},
   "cell_type": "markdown",
   "metadata": {},
   "source": [
    "Only one column has a little missing data:"
   ]
  },
  {
   "cell_type": "code",
   "execution_count": 4,
   "metadata": {
    "vscode": {
     "languageId": "r"
    }
   },
   "outputs": [
    {
     "data": {
      "text/html": [
       "<table class=\"dataframe\">\n",
       "<caption>A tibble: 1 × 2</caption>\n",
       "<thead>\n",
       "\t<tr><th scope=col>name</th><th scope=col>value</th></tr>\n",
       "\t<tr><th scope=col>&lt;chr&gt;</th><th scope=col>&lt;dbl&gt;</th></tr>\n",
       "</thead>\n",
       "<tbody>\n",
       "\t<tr><td>rooms</td><td>0.009670674</td></tr>\n",
       "</tbody>\n",
       "</table>\n"
      ],
      "text/latex": [
       "A tibble: 1 × 2\n",
       "\\begin{tabular}{ll}\n",
       " name & value\\\\\n",
       " <chr> & <dbl>\\\\\n",
       "\\hline\n",
       "\t rooms & 0.009670674\\\\\n",
       "\\end{tabular}\n"
      ],
      "text/markdown": [
       "\n",
       "A tibble: 1 × 2\n",
       "\n",
       "| name &lt;chr&gt; | value &lt;dbl&gt; |\n",
       "|---|---|\n",
       "| rooms | 0.009670674 |\n",
       "\n"
      ],
      "text/plain": [
       "  name  value      \n",
       "1 rooms 0.009670674"
      ]
     },
     "metadata": {},
     "output_type": "display_data"
    }
   ],
   "source": [
    "colMeans(is.na(data)) %>% \n",
    "    enframe() %>% \n",
    "    arrange(-value) %>% \n",
    "    filter(value > 0)"
   ]
  },
  {
   "attachments": {},
   "cell_type": "markdown",
   "metadata": {},
   "source": [
    "German stopwords:"
   ]
  },
  {
   "cell_type": "code",
   "execution_count": 21,
   "metadata": {
    "vscode": {
     "languageId": "r"
    }
   },
   "outputs": [],
   "source": [
    "german_stopwords <- c(\n",
    "    \"aber\", \"alle\", \"allem\", \"allen\",\n",
    "    \"aller\", \"alles\", \"als\", \"also\", \"am\", \"an\", \"ander\", \"andere\",\n",
    "    \"anderem\", \"anderen\", \"anderer\", \"anderes\", \"anderm\", \"andern\",\n",
    "    \"anderr\", \"anders\", \"auch\", \"auf\", \"aus\", \"bei\", \"bin\", \"bis\",\n",
    "    \"bist\", \"da\", \"damit\", \"dann\", \"der\", \"den\", \"des\", \"dem\", \"die\",\n",
    "    \"das\", \"dass\", \"daß\", \"derselbe\", \"derselben\", \"denselben\", \"desselben\",\n",
    "    \"demselben\", \"dieselbe\", \"dieselben\", \"dasselbe\", \"dazu\", \"dein\",\n",
    "    \"deine\", \"deinem\", \"deinen\", \"deiner\", \"deines\", \"denn\", \"derer\",\n",
    "    \"dessen\", \"dich\", \"dir\", \"du\", \"dies\", \"diese\", \"diesem\", \"diesen\",\n",
    "    \"dieser\", \"dieses\", \"doch\", \"dort\", \"durch\", \"ein\", \"eine\", \"einem\",\n",
    "    \"einen\", \"einer\", \"eines\", \"einig\", \"einige\", \"einigem\", \"einigen\",\n",
    "    \"einiger\", \"einiges\", \"einmal\", \"er\", \"ihn\", \"ihm\", \"es\", \"etwas\",\n",
    "    \"euer\", \"eure\", \"eurem\", \"euren\", \"eurer\", \"eures\", \"für\", \"gegen\", \"gewesen\",\n",
    "    \"hab\", \"habe\", \"haben\", \"hat\", \"hatte\", \"hatten\", \"hier\", \"hin\", \"hinter\",\n",
    "    \"ich\", \"mich\", \"mir\", \"ihr\", \"ihre\", \"ihrem\", \"ihren\", \"ihrer\", \"ihres\", \"euch\",\n",
    "    \"im\", \"in\", \"indem\", \"ins\", \"ist\", \"jede\", \"jedem\", \"jeden\", \"jeder\",\n",
    "    \"jedes\", \"jene\", \"jenem\", \"jenen\", \"jener\", \"jenes\", \"jetzt\",\n",
    "    \"kann\", \"kein\", \"keine\", \"keinem\", \"keinen\", \"keiner\", \"keines\", \"können\",\n",
    "    \"könnte\", \"machen\", \"man\", \"manche\", \"manchem\", \"manchen\", \"mancher\", \"manches\", \"mein\",\n",
    "    \"meine\", \"meinem\", \"meinen\", \"meiner\", \"meines\", \"mit\", \"muss\", \"musste\",\n",
    "    \"nach\", \"nicht\", \"nichts\", \"noch\", \"nun\", \"nur\", \"ob\", \"oder\", \"ohne\",\n",
    "    \"sehr\", \"sein\", \"seine\", \"seinem\", \"seinen\", \"seiner\", \"seines\", \"selbst\",\n",
    "    \"sich\", \"sie\", \"ihnen\", \"sind\", \"so\", \"solche\", \"solchem\", \"solchen\", \"solcher\",\n",
    "    \"solches\", \"soll\", \"sollte\", \"sondern\", \"sonst\", \"über\", \"um\", \"und\",\n",
    "    \"uns\", \"unsere\", \"unserem\", \"unseren\", \"unser\", \"unseres\", \"unter\", \"viel\",\n",
    "    \"vom\", \"von\", \"vor\", \"während\", \"war\", \"waren\", \"warst\", \"was\", \"weg\",\n",
    "    \"weil\", \"weiter\", \"welche\", \"welchem\", \"welchen\", \"welcher\", \"welches\", \"wenn\",\n",
    "    \"werde\", \"werden\", \"wie\", \"wieder\", \"will\", \"wir\", \"wird\", \"wirst\",\n",
    "    \"wo\", \"wollen\", \"wollte\", \"würde\", \"würden\", \"zu\", \"zum\", \"zur\",\n",
    "    \"zwar\", \"zwischen\"\n",
    ")"
   ]
  },
  {
   "cell_type": "markdown",
   "metadata": {},
   "source": [
    "### Training a Model"
   ]
  },
  {
   "attachments": {},
   "cell_type": "markdown",
   "metadata": {},
   "source": [
    "Firstly: Making the splits and folds for cross validated hyperparameter tuning."
   ]
  },
  {
   "cell_type": "code",
   "execution_count": 5,
   "metadata": {
    "vscode": {
     "languageId": "r"
    }
   },
   "outputs": [],
   "source": [
    "dt_split <- initial_split(data)\n",
    "dt_train <- training(dt_split)\n",
    "dt_test <- testing(dt_split)\n",
    "\n",
    "folds <- vfold_cv(dt_train, folds=5)"
   ]
  },
  {
   "attachments": {},
   "cell_type": "markdown",
   "metadata": {},
   "source": [
    "Then, providing two recipes, one with tokenisation and stopword removal and one without."
   ]
  },
  {
   "cell_type": "code",
   "execution_count": 22,
   "metadata": {
    "vscode": {
     "languageId": "r"
    }
   },
   "outputs": [],
   "source": [
    "recipe_withtokens <- recipe(price ~ ., data = dt_train) %>%\n",
    "    step_unknown(rooms) %>%\n",
    "    step_tokenize(title) %>%\n",
    "    step_stopwords(title,\n",
    "        custom_stopword_source = german_stopwords\n",
    "    ) %>%\n",
    "    step_tokenfilter(title, max_tokens = 100) %>%\n",
    "    step_tf(title) %>%\n",
    "    step_other(all_nominal_predictors(), threshold = 0.01) %>%\n",
    "    step_dummy(all_nominal_predictors(), one_hot = TRUE)\n",
    "\n",
    "recipe_notokens <- recipe(price ~ ., data = dt_train) %>%\n",
    "    step_unknown(rooms) %>%\n",
    "    step_rm(title) %>%\n",
    "    step_other(all_nominal_predictors(), threshold = 0.01) %>%\n",
    "    step_dummy(all_nominal_predictors(), one_hot = TRUE)"
   ]
  },
  {
   "cell_type": "code",
   "execution_count": 24,
   "metadata": {
    "vscode": {
     "languageId": "r"
    }
   },
   "outputs": [
    {
     "name": "stdout",
     "output_type": "stream",
     "text": [
      "Rows: 5,739\n",
      "Columns: 146\n",
      "$ sqm                                               \u001b[3m\u001b[90m<dbl>\u001b[39m\u001b[23m 71, 45, 79, 49, 38, …\n",
      "$ price                                             \u001b[3m\u001b[90m<dbl>\u001b[39m\u001b[23m 1120.00, 789.81, 420…\n",
      "$ tf_title_1                                        \u001b[3m\u001b[90m<dbl>\u001b[39m\u001b[23m 0, 0, 1, 1, 0, 0, 1,…\n",
      "$ tf_title_2                                        \u001b[3m\u001b[90m<dbl>\u001b[39m\u001b[23m 1, 1, 0, 0, 0, 0, 0,…\n",
      "$ tf_title_3                                        \u001b[3m\u001b[90m<dbl>\u001b[39m\u001b[23m 0, 0, 0, 0, 0, 0, 0,…\n",
      "$ tf_title_4                                        \u001b[3m\u001b[90m<dbl>\u001b[39m\u001b[23m 0, 0, 0, 0, 1, 0, 1,…\n",
      "$ tf_title_ab                                       \u001b[3m\u001b[90m<dbl>\u001b[39m\u001b[23m 0, 0, 0, 0, 0, 0, 0,…\n",
      "$ tf_title_aktion                                   \u001b[3m\u001b[90m<dbl>\u001b[39m\u001b[23m 0, 0, 0, 1, 0, 0, 0,…\n",
      "$ tf_title_altbau                                   \u001b[3m\u001b[90m<dbl>\u001b[39m\u001b[23m 0, 0, 0, 0, 0, 0, 0,…\n",
      "$ tf_title_altbauwohnung                            \u001b[3m\u001b[90m<dbl>\u001b[39m\u001b[23m 0, 0, 0, 0, 0, 0, 0,…\n",
      "$ tf_title_anfragen                                 \u001b[3m\u001b[90m<dbl>\u001b[39m\u001b[23m 0, 0, 0, 0, 0, 0, 0,…\n",
      "$ tf_title_apartment                                \u001b[3m\u001b[90m<dbl>\u001b[39m\u001b[23m 0, 0, 0, 0, 0, 0, 0,…\n",
      "$ tf_title_aufstrebender                            \u001b[3m\u001b[90m<dbl>\u001b[39m\u001b[23m 0, 0, 0, 0, 0, 0, 0,…\n",
      "$ tf_title_außenfläche                              \u001b[3m\u001b[90m<dbl>\u001b[39m\u001b[23m 0, 0, 0, 0, 0, 0, 0,…\n",
      "$ tf_title_bahn                                     \u001b[3m\u001b[90m<dbl>\u001b[39m\u001b[23m 0, 0, 0, 0, 0, 0, 0,…\n",
      "$ tf_title_bahnhof                                  \u001b[3m\u001b[90m<dbl>\u001b[39m\u001b[23m 0, 0, 0, 0, 0, 0, 0,…\n",
      "$ tf_title_balkon                                   \u001b[3m\u001b[90m<dbl>\u001b[39m\u001b[23m 0, 0, 0, 0, 0, 0, 0,…\n",
      "$ tf_title_beim                                     \u001b[3m\u001b[90m<dbl>\u001b[39m\u001b[23m 0, 0, 0, 0, 0, 0, 0,…\n",
      "$ tf_title_bezirk                                   \u001b[3m\u001b[90m<dbl>\u001b[39m\u001b[23m 0, 0, 0, 0, 0, 0, 0,…\n",
      "$ tf_title_brigitte                                 \u001b[3m\u001b[90m<dbl>\u001b[39m\u001b[23m 0, 0, 0, 0, 0, 0, 0,…\n",
      "$ tf_title_brigittenau                              \u001b[3m\u001b[90m<dbl>\u001b[39m\u001b[23m 0, 0, 0, 0, 0, 0, 0,…\n",
      "$ tf_title_brigittenow                              \u001b[3m\u001b[90m<dbl>\u001b[39m\u001b[23m 0, 0, 0, 0, 0, 0, 0,…\n",
      "$ tf_title_dachgeschoss                             \u001b[3m\u001b[90m<dbl>\u001b[39m\u001b[23m 0, 0, 0, 0, 0, 0, 0,…\n",
      "$ tf_title_dachgeschosswohnung                      \u001b[3m\u001b[90m<dbl>\u001b[39m\u001b[23m 0, 0, 0, 0, 0, 0, 0,…\n",
      "$ tf_title_dg                                       \u001b[3m\u001b[90m<dbl>\u001b[39m\u001b[23m 0, 0, 0, 0, 0, 0, 0,…\n",
      "$ tf_title_direkt                                   \u001b[3m\u001b[90m<dbl>\u001b[39m\u001b[23m 0, 0, 0, 0, 0, 0, 0,…\n",
      "$ tf_title_donau                                    \u001b[3m\u001b[90m<dbl>\u001b[39m\u001b[23m 0, 0, 0, 0, 0, 0, 0,…\n",
      "$ tf_title_eck                                      \u001b[3m\u001b[90m<dbl>\u001b[39m\u001b[23m 0, 0, 0, 0, 0, 0, 0,…\n",
      "$ tf_title_einbauküche                              \u001b[3m\u001b[90m<dbl>\u001b[39m\u001b[23m 0, 0, 0, 1, 0, 0, 0,…\n",
      "$ tf_title_erstbezug                                \u001b[3m\u001b[90m<dbl>\u001b[39m\u001b[23m 0, 0, 0, 0, 0, 0, 0,…\n",
      "$ tf_title_erstbezugswohnungen                      \u001b[3m\u001b[90m<dbl>\u001b[39m\u001b[23m 0, 0, 0, 0, 0, 0, 0,…\n",
      "$ tf_title_erster                                   \u001b[3m\u001b[90m<dbl>\u001b[39m\u001b[23m 0, 0, 0, 0, 0, 0, 0,…\n",
      "$ tf_title_floridsdorf                              \u001b[3m\u001b[90m<dbl>\u001b[39m\u001b[23m 0, 0, 0, 0, 0, 0, 0,…\n",
      "$ tf_title_floridsdorfer                            \u001b[3m\u001b[90m<dbl>\u001b[39m\u001b[23m 0, 0, 0, 0, 0, 0, 0,…\n",
      "$ tf_title_freifläche                               \u001b[3m\u001b[90m<dbl>\u001b[39m\u001b[23m 0, 0, 0, 0, 0, 0, 0,…\n",
      "$ tf_title_garten                                   \u001b[3m\u001b[90m<dbl>\u001b[39m\u001b[23m 0, 0, 0, 0, 0, 0, 0,…\n",
      "$ tf_title_geschirrspüler                           \u001b[3m\u001b[90m<dbl>\u001b[39m\u001b[23m 0, 0, 0, 0, 0, 0, 0,…\n",
      "$ tf_title_helle                                    \u001b[3m\u001b[90m<dbl>\u001b[39m\u001b[23m 0, 0, 0, 0, 0, 0, 0,…\n",
      "$ tf_title_herzen                                   \u001b[3m\u001b[90m<dbl>\u001b[39m\u001b[23m 0, 0, 0, 0, 0, 0, 0,…\n",
      "$ tf_title_hochwertige                              \u001b[3m\u001b[90m<dbl>\u001b[39m\u001b[23m 0, 0, 0, 0, 0, 0, 0,…\n",
      "$ tf_title_hochwertiger                             \u001b[3m\u001b[90m<dbl>\u001b[39m\u001b[23m 0, 0, 0, 0, 0, 0, 0,…\n",
      "$ tf_title_inkl                                     \u001b[3m\u001b[90m<dbl>\u001b[39m\u001b[23m 0, 0, 0, 0, 0, 0, 0,…\n",
      "$ tf_title_kagraner                                 \u001b[3m\u001b[90m<dbl>\u001b[39m\u001b[23m 0, 1, 0, 0, 0, 0, 0,…\n",
      "$ tf_title_kay                                      \u001b[3m\u001b[90m<dbl>\u001b[39m\u001b[23m 0, 0, 0, 0, 0, 0, 0,…\n",
      "$ tf_title_kellerabteil                             \u001b[3m\u001b[90m<dbl>\u001b[39m\u001b[23m 0, 0, 0, 0, 0, 0, 0,…\n",
      "$ tf_title_küche                                    \u001b[3m\u001b[90m<dbl>\u001b[39m\u001b[23m 0, 0, 0, 0, 0, 0, 0,…\n",
      "$ tf_title_lage                                     \u001b[3m\u001b[90m<dbl>\u001b[39m\u001b[23m 0, 0, 0, 0, 0, 0, 0,…\n",
      "$ tf_title_loggia                                   \u001b[3m\u001b[90m<dbl>\u001b[39m\u001b[23m 0, 0, 0, 0, 0, 0, 0,…\n",
      "$ tf_title_m                                        \u001b[3m\u001b[90m<dbl>\u001b[39m\u001b[23m 0, 0, 0, 0, 0, 1, 0,…\n",
      "$ tf_title_m2                                       \u001b[3m\u001b[90m<dbl>\u001b[39m\u001b[23m 0, 0, 0, 0, 0, 0, 0,…\n",
      "$ tf_title_markenküche                              \u001b[3m\u001b[90m<dbl>\u001b[39m\u001b[23m 0, 0, 0, 0, 0, 0, 0,…\n",
      "$ tf_title_markt                                    \u001b[3m\u001b[90m<dbl>\u001b[39m\u001b[23m 0, 0, 0, 0, 0, 0, 0,…\n",
      "$ tf_title_mieten                                   \u001b[3m\u001b[90m<dbl>\u001b[39m\u001b[23m 0, 0, 0, 0, 0, 0, 0,…\n",
      "$ tf_title_mieter                                   \u001b[3m\u001b[90m<dbl>\u001b[39m\u001b[23m 0, 0, 0, 0, 0, 0, 0,…\n",
      "$ tf_title_mietfrei                                 \u001b[3m\u001b[90m<dbl>\u001b[39m\u001b[23m 0, 1, 0, 0, 0, 0, 0,…\n",
      "$ tf_title_mietwohnung                              \u001b[3m\u001b[90m<dbl>\u001b[39m\u001b[23m 0, 0, 0, 0, 0, 0, 0,…\n",
      "$ tf_title_mietzinsfrei                             \u001b[3m\u001b[90m<dbl>\u001b[39m\u001b[23m 0, 0, 0, 1, 0, 0, 0,…\n",
      "$ tf_title_mm                                       \u001b[3m\u001b[90m<dbl>\u001b[39m\u001b[23m 0, 0, 0, 0, 0, 0, 1,…\n",
      "$ tf_title_möblierte                                \u001b[3m\u001b[90m<dbl>\u001b[39m\u001b[23m 0, 0, 0, 0, 0, 0, 0,…\n",
      "$ tf_title_moderne                                  \u001b[3m\u001b[90m<dbl>\u001b[39m\u001b[23m 0, 0, 0, 0, 0, 0, 0,…\n",
      "$ tf_title_moderner                                 \u001b[3m\u001b[90m<dbl>\u001b[39m\u001b[23m 0, 0, 0, 0, 0, 0, 0,…\n",
      "$ tf_title_monat                                    \u001b[3m\u001b[90m<dbl>\u001b[39m\u001b[23m 0, 0, 0, 1, 0, 0, 0,…\n",
      "$ tf_title_monate                                   \u001b[3m\u001b[90m<dbl>\u001b[39m\u001b[23m 0, 1, 0, 0, 0, 0, 0,…\n",
      "$ tf_title_nahe                                     \u001b[3m\u001b[90m<dbl>\u001b[39m\u001b[23m 0, 0, 0, 0, 0, 0, 0,…\n",
      "$ tf_title_nähe                                     \u001b[3m\u001b[90m<dbl>\u001b[39m\u001b[23m 1, 1, 0, 1, 1, 0, 0,…\n",
      "$ tf_title_neu                                      \u001b[3m\u001b[90m<dbl>\u001b[39m\u001b[23m 0, 0, 0, 0, 0, 0, 0,…\n",
      "$ tf_title_neubau                                   \u001b[3m\u001b[90m<dbl>\u001b[39m\u001b[23m 0, 1, 0, 0, 0, 0, 0,…\n",
      "$ tf_title_neubauwohnung                            \u001b[3m\u001b[90m<dbl>\u001b[39m\u001b[23m 0, 0, 0, 0, 0, 0, 0,…\n",
      "$ tf_title_now                                      \u001b[3m\u001b[90m<dbl>\u001b[39m\u001b[23m 0, 0, 0, 0, 0, 0, 0,…\n",
      "$ tf_title_park                                     \u001b[3m\u001b[90m<dbl>\u001b[39m\u001b[23m 0, 0, 0, 0, 0, 0, 0,…\n",
      "$ tf_title_platz                                    \u001b[3m\u001b[90m<dbl>\u001b[39m\u001b[23m 0, 1, 0, 0, 0, 0, 0,…\n",
      "$ tf_title_provision                                \u001b[3m\u001b[90m<dbl>\u001b[39m\u001b[23m 0, 0, 0, 0, 0, 0, 1,…\n",
      "$ tf_title_provisionfrei                            \u001b[3m\u001b[90m<dbl>\u001b[39m\u001b[23m 0, 0, 0, 0, 0, 0, 0,…\n",
      "$ tf_title_provisionsfrei                           \u001b[3m\u001b[90m<dbl>\u001b[39m\u001b[23m 0, 1, 0, 0, 0, 0, 0,…\n",
      "$ tf_title_provisionsfreie                          \u001b[3m\u001b[90m<dbl>\u001b[39m\u001b[23m 0, 0, 0, 0, 0, 0, 0,…\n",
      "$ tf_title_ruhelage                                 \u001b[3m\u001b[90m<dbl>\u001b[39m\u001b[23m 0, 0, 0, 0, 0, 0, 0,…\n",
      "$ tf_title_ruhige                                   \u001b[3m\u001b[90m<dbl>\u001b[39m\u001b[23m 0, 0, 0, 0, 0, 0, 0,…\n",
      "$ tf_title_ruhiger                                  \u001b[3m\u001b[90m<dbl>\u001b[39m\u001b[23m 0, 0, 0, 0, 0, 0, 0,…\n",
      "$ tf_title_schöne                                   \u001b[3m\u001b[90m<dbl>\u001b[39m\u001b[23m 0, 0, 0, 0, 0, 0, 0,…\n",
      "$ tf_title_schöpfl                                  \u001b[3m\u001b[90m<dbl>\u001b[39m\u001b[23m 0, 0, 0, 0, 0, 0, 0,…\n",
      "$ tf_title_sofort                                   \u001b[3m\u001b[90m<dbl>\u001b[39m\u001b[23m 0, 0, 0, 0, 0, 0, 0,…\n",
      "$ tf_title_sonnige                                  \u001b[3m\u001b[90m<dbl>\u001b[39m\u001b[23m 0, 0, 0, 0, 0, 0, 0,…\n",
      "$ tf_title_terrasse                                 \u001b[3m\u001b[90m<dbl>\u001b[39m\u001b[23m 0, 0, 0, 0, 0, 0, 0,…\n",
      "$ tf_title_terrassen                                \u001b[3m\u001b[90m<dbl>\u001b[39m\u001b[23m 0, 0, 0, 0, 0, 0, 0,…\n",
      "$ tf_title_top                                      \u001b[3m\u001b[90m<dbl>\u001b[39m\u001b[23m 0, 0, 0, 0, 0, 0, 0,…\n",
      "$ tf_title_u                                        \u001b[3m\u001b[90m<dbl>\u001b[39m\u001b[23m 0, 0, 0, 0, 0, 0, 0,…\n",
      "$ tf_title_u1                                       \u001b[3m\u001b[90m<dbl>\u001b[39m\u001b[23m 0, 1, 0, 0, 0, 0, 0,…\n",
      "$ tf_title_u3                                       \u001b[3m\u001b[90m<dbl>\u001b[39m\u001b[23m 0, 0, 0, 1, 0, 0, 0,…\n",
      "$ tf_title_u4                                       \u001b[3m\u001b[90m<dbl>\u001b[39m\u001b[23m 0, 0, 0, 0, 0, 0, 0,…\n",
      "$ tf_title_u6                                       \u001b[3m\u001b[90m<dbl>\u001b[39m\u001b[23m 0, 0, 0, 0, 0, 0, 0,…\n",
      "$ tf_title_unbefristet                              \u001b[3m\u001b[90m<dbl>\u001b[39m\u001b[23m 1, 0, 0, 0, 0, 0, 0,…\n",
      "$ tf_title_unbefristete                             \u001b[3m\u001b[90m<dbl>\u001b[39m\u001b[23m 0, 0, 0, 0, 0, 0, 0,…\n",
      "$ tf_title_vermieten                                \u001b[3m\u001b[90m<dbl>\u001b[39m\u001b[23m 0, 0, 0, 0, 0, 0, 0,…\n",
      "$ tf_title_wasserpark                               \u001b[3m\u001b[90m<dbl>\u001b[39m\u001b[23m 0, 0, 0, 0, 0, 0, 0,…\n",
      "$ tf_title_wg                                       \u001b[3m\u001b[90m<dbl>\u001b[39m\u001b[23m 0, 0, 0, 0, 0, 0, 0,…\n",
      "$ tf_title_wien                                     \u001b[3m\u001b[90m<dbl>\u001b[39m\u001b[23m 0, 0, 0, 0, 0, 0, 0,…\n",
      "$ tf_title_wohnen                                   \u001b[3m\u001b[90m<dbl>\u001b[39m\u001b[23m 0, 1, 0, 0, 0, 0, 0,…\n",
      "$ tf_title_wohngarten                               \u001b[3m\u001b[90m<dbl>\u001b[39m\u001b[23m 0, 0, 0, 1, 0, 0, 0,…\n",
      "$ tf_title_wohnung                                  \u001b[3m\u001b[90m<dbl>\u001b[39m\u001b[23m 0, 0, 0, 0, 1, 1, 1,…\n",
      "$ tf_title_wunderschöne                             \u001b[3m\u001b[90m<dbl>\u001b[39m\u001b[23m 0, 0, 0, 0, 0, 0, 0,…\n",
      "$ tf_title_zimmer                                   \u001b[3m\u001b[90m<dbl>\u001b[39m\u001b[23m 0, 0, 1, 0, 0, 0, 1,…\n",
      "$ tf_title_zimmerwohnung                            \u001b[3m\u001b[90m<dbl>\u001b[39m\u001b[23m 1, 0, 0, 0, 0, 0, 0,…\n",
      "$ rooms_X1                                          \u001b[3m\u001b[90m<dbl>\u001b[39m\u001b[23m 0, 0, 0, 0, 1, 0, 0,…\n",
      "$ rooms_X2                                          \u001b[3m\u001b[90m<dbl>\u001b[39m\u001b[23m 0, 1, 0, 1, 0, 0, 0,…\n",
      "$ rooms_X3                                          \u001b[3m\u001b[90m<dbl>\u001b[39m\u001b[23m 1, 0, 1, 0, 0, 1, 0,…\n",
      "$ rooms_X4                                          \u001b[3m\u001b[90m<dbl>\u001b[39m\u001b[23m 0, 0, 0, 0, 0, 0, 1,…\n",
      "$ rooms_X5                                          \u001b[3m\u001b[90m<dbl>\u001b[39m\u001b[23m 0, 0, 0, 0, 0, 0, 0,…\n",
      "$ rooms_unknown                                     \u001b[3m\u001b[90m<dbl>\u001b[39m\u001b[23m 0, 0, 0, 0, 0, 0, 0,…\n",
      "$ rooms_other                                       \u001b[3m\u001b[90m<dbl>\u001b[39m\u001b[23m 0, 0, 0, 0, 0, 0, 0,…\n",
      "$ postcode_X1010                                    \u001b[3m\u001b[90m<dbl>\u001b[39m\u001b[23m 0, 0, 0, 0, 0, 0, 0,…\n",
      "$ postcode_X1020                                    \u001b[3m\u001b[90m<dbl>\u001b[39m\u001b[23m 1, 0, 0, 0, 0, 0, 0,…\n",
      "$ postcode_X1030                                    \u001b[3m\u001b[90m<dbl>\u001b[39m\u001b[23m 0, 0, 0, 0, 0, 0, 0,…\n",
      "$ postcode_X1040                                    \u001b[3m\u001b[90m<dbl>\u001b[39m\u001b[23m 0, 0, 0, 0, 0, 0, 1,…\n",
      "$ postcode_X1050                                    \u001b[3m\u001b[90m<dbl>\u001b[39m\u001b[23m 0, 0, 0, 0, 0, 0, 0,…\n",
      "$ postcode_X1060                                    \u001b[3m\u001b[90m<dbl>\u001b[39m\u001b[23m 0, 0, 0, 0, 0, 0, 0,…\n",
      "$ postcode_X1070                                    \u001b[3m\u001b[90m<dbl>\u001b[39m\u001b[23m 0, 0, 0, 0, 0, 0, 0,…\n",
      "$ postcode_X1080                                    \u001b[3m\u001b[90m<dbl>\u001b[39m\u001b[23m 0, 0, 0, 0, 0, 0, 0,…\n",
      "$ postcode_X1090                                    \u001b[3m\u001b[90m<dbl>\u001b[39m\u001b[23m 0, 0, 0, 0, 0, 0, 0,…\n",
      "$ postcode_X1100                                    \u001b[3m\u001b[90m<dbl>\u001b[39m\u001b[23m 0, 0, 0, 0, 1, 0, 0,…\n",
      "$ postcode_X1110                                    \u001b[3m\u001b[90m<dbl>\u001b[39m\u001b[23m 0, 0, 1, 1, 0, 0, 0,…\n",
      "$ postcode_X1120                                    \u001b[3m\u001b[90m<dbl>\u001b[39m\u001b[23m 0, 0, 0, 0, 0, 0, 0,…\n",
      "$ postcode_X1130                                    \u001b[3m\u001b[90m<dbl>\u001b[39m\u001b[23m 0, 0, 0, 0, 0, 0, 0,…\n",
      "$ postcode_X1140                                    \u001b[3m\u001b[90m<dbl>\u001b[39m\u001b[23m 0, 0, 0, 0, 0, 0, 0,…\n",
      "$ postcode_X1150                                    \u001b[3m\u001b[90m<dbl>\u001b[39m\u001b[23m 0, 0, 0, 0, 0, 0, 0,…\n",
      "$ postcode_X1160                                    \u001b[3m\u001b[90m<dbl>\u001b[39m\u001b[23m 0, 0, 0, 0, 0, 1, 0,…\n",
      "$ postcode_X1170                                    \u001b[3m\u001b[90m<dbl>\u001b[39m\u001b[23m 0, 0, 0, 0, 0, 0, 0,…\n",
      "$ postcode_X1180                                    \u001b[3m\u001b[90m<dbl>\u001b[39m\u001b[23m 0, 0, 0, 0, 0, 0, 0,…\n",
      "$ postcode_X1190                                    \u001b[3m\u001b[90m<dbl>\u001b[39m\u001b[23m 0, 0, 0, 0, 0, 0, 0,…\n",
      "$ postcode_X1200                                    \u001b[3m\u001b[90m<dbl>\u001b[39m\u001b[23m 0, 0, 0, 0, 0, 0, 0,…\n",
      "$ postcode_X1210                                    \u001b[3m\u001b[90m<dbl>\u001b[39m\u001b[23m 0, 0, 0, 0, 0, 0, 0,…\n",
      "$ postcode_X1220                                    \u001b[3m\u001b[90m<dbl>\u001b[39m\u001b[23m 0, 1, 0, 0, 0, 0, 0,…\n",
      "$ postcode_X1230                                    \u001b[3m\u001b[90m<dbl>\u001b[39m\u001b[23m 0, 0, 0, 0, 0, 0, 0,…\n",
      "$ landlord_EDEX.Immobilien.GmbH                     \u001b[3m\u001b[90m<dbl>\u001b[39m\u001b[23m 0, 0, 0, 0, 0, 0, 0,…\n",
      "$ landlord_EHL.Immobilien.GmbH                      \u001b[3m\u001b[90m<dbl>\u001b[39m\u001b[23m 0, 0, 0, 0, 0, 0, 0,…\n",
      "$ landlord_EKAZENT.Management.GmbH                  \u001b[3m\u001b[90m<dbl>\u001b[39m\u001b[23m 0, 0, 0, 0, 0, 0, 0,…\n",
      "$ landlord_Gewerblicher.Anbieter                    \u001b[3m\u001b[90m<dbl>\u001b[39m\u001b[23m 0, 0, 0, 0, 0, 0, 0,…\n",
      "$ landlord_Haring.Immobilien.Treuhand.GmbH          \u001b[3m\u001b[90m<dbl>\u001b[39m\u001b[23m 0, 0, 0, 0, 0, 0, 0,…\n",
      "$ landlord_Hubner.Immobilien                        \u001b[3m\u001b[90m<dbl>\u001b[39m\u001b[23m 0, 0, 0, 0, 0, 0, 0,…\n",
      "$ landlord_IMMOcontract.Immobilien.Vermittlung.GmbH \u001b[3m\u001b[90m<dbl>\u001b[39m\u001b[23m 0, 0, 0, 0, 0, 0, 1,…\n",
      "$ landlord_IMV.Makler.GmbH                          \u001b[3m\u001b[90m<dbl>\u001b[39m\u001b[23m 0, 0, 0, 0, 0, 0, 0,…\n",
      "$ landlord_OPTIN.Immobilien.GmbH                    \u001b[3m\u001b[90m<dbl>\u001b[39m\u001b[23m 0, 0, 0, 0, 0, 0, 0,…\n",
      "$ landlord_ÖRAG.Immobilien.Vermittlung.GmbH         \u001b[3m\u001b[90m<dbl>\u001b[39m\u001b[23m 0, 0, 0, 0, 0, 0, 0,…\n",
      "$ landlord_Privat                                   \u001b[3m\u001b[90m<dbl>\u001b[39m\u001b[23m 0, 0, 1, 0, 0, 0, 0,…\n",
      "$ landlord_s.REAL...Wien                            \u001b[3m\u001b[90m<dbl>\u001b[39m\u001b[23m 0, 0, 0, 0, 0, 0, 0,…\n",
      "$ landlord_teamneunzehn.Gruppe                      \u001b[3m\u001b[90m<dbl>\u001b[39m\u001b[23m 0, 1, 0, 1, 0, 0, 0,…\n",
      "$ landlord_other                                    \u001b[3m\u001b[90m<dbl>\u001b[39m\u001b[23m 1, 0, 0, 0, 1, 1, 0,…\n"
     ]
    }
   ],
   "source": [
    "recipe_withtokens %>% prep %>% juice %>% glimpse"
   ]
  },
  {
   "attachments": {},
   "cell_type": "markdown",
   "metadata": {},
   "source": [
    "Setting up the model specification:"
   ]
  },
  {
   "cell_type": "code",
   "execution_count": 25,
   "metadata": {
    "vscode": {
     "languageId": "r"
    }
   },
   "outputs": [],
   "source": [
    "gb_spec <- \n",
    "  boost_tree(\n",
    "    trees = 1000,\n",
    "    tree_depth = tune(),\n",
    "    min_n = tune(),\n",
    "    loss_reduction = tune(),\n",
    "    sample_size = tune(),\n",
    "    mtry = tune(),\n",
    "    learn_rate = tune()\n",
    "  ) %>%\n",
    "  set_engine(\"xgboost\", importance = \"impurity\") %>%\n",
    "  set_mode(\"regression\")"
   ]
  },
  {
   "attachments": {},
   "cell_type": "markdown",
   "metadata": {},
   "source": [
    "Setting up the workflows. One with tokenisation and one without."
   ]
  },
  {
   "cell_type": "code",
   "execution_count": 26,
   "metadata": {
    "vscode": {
     "languageId": "r"
    }
   },
   "outputs": [],
   "source": [
    "gb_wflow_notokens <- workflow() %>%\n",
    "    add_recipe(recipe_notokens,\n",
    "        blueprint = hardhat::default_recipe_blueprint(\n",
    "            allow_novel_levels = TRUE\n",
    "        )\n",
    "    ) %>%\n",
    "    add_model(gb_spec)\n",
    "\n",
    "gb_wflow_withtokens <- workflow() %>%\n",
    "    add_recipe(recipe_withtokens,\n",
    "        blueprint = hardhat::default_recipe_blueprint(\n",
    "            allow_novel_levels = TRUE\n",
    "        )\n",
    "    ) %>%\n",
    "    add_model(gb_spec)"
   ]
  },
  {
   "cell_type": "code",
   "execution_count": 27,
   "metadata": {
    "vscode": {
     "languageId": "r"
    }
   },
   "outputs": [
    {
     "data": {
      "text/plain": [
       "══ Workflow ════════════════════════════════════════════════════════════════════\n",
       "\u001b[3mPreprocessor:\u001b[23m Recipe\n",
       "\u001b[3mModel:\u001b[23m boost_tree()\n",
       "\n",
       "── Preprocessor ────────────────────────────────────────────────────────────────\n",
       "7 Recipe Steps\n",
       "\n",
       "• step_unknown()\n",
       "• step_tokenize()\n",
       "• step_stopwords()\n",
       "• step_tokenfilter()\n",
       "• step_tf()\n",
       "• step_other()\n",
       "• step_dummy()\n",
       "\n",
       "── Model ───────────────────────────────────────────────────────────────────────\n",
       "Boosted Tree Model Specification (regression)\n",
       "\n",
       "Main Arguments:\n",
       "  mtry = tune()\n",
       "  trees = 1000\n",
       "  min_n = tune()\n",
       "  tree_depth = tune()\n",
       "  learn_rate = tune()\n",
       "  loss_reduction = tune()\n",
       "  sample_size = tune()\n",
       "\n",
       "Engine-Specific Arguments:\n",
       "  importance = impurity\n",
       "\n",
       "Computational engine: xgboost \n"
      ]
     },
     "metadata": {},
     "output_type": "display_data"
    }
   ],
   "source": [
    "gb_wflow_withtokens"
   ]
  },
  {
   "attachments": {},
   "cell_type": "markdown",
   "metadata": {},
   "source": [
    "Providing a grid of hyperparameter values to be tuned through."
   ]
  },
  {
   "cell_type": "code",
   "execution_count": 28,
   "metadata": {
    "vscode": {
     "languageId": "r"
    }
   },
   "outputs": [
    {
     "name": "stdout",
     "output_type": "stream",
     "text": [
      "Rows: 15\n",
      "Columns: 6\n",
      "$ tree_depth     \u001b[3m\u001b[90m<int>\u001b[39m\u001b[23m 13, 8, 12, 5, 2, 3, 3, 11, 6, 10, 12, 15, 8, 4, 9\n",
      "$ min_n          \u001b[3m\u001b[90m<int>\u001b[39m\u001b[23m 33, 25, 32, 16, 28, 8, 3, 15, 10, 22, 39, 18, 23, 5, 36\n",
      "$ loss_reduction \u001b[3m\u001b[90m<dbl>\u001b[39m\u001b[23m 1.508804e-04, 1.030452e-08, 7.587773e-06, 1.102988e-06,…\n",
      "$ sample_size    \u001b[3m\u001b[90m<dbl>\u001b[39m\u001b[23m 0.5989820, 0.4559255, 0.6419281, 0.7880331, 0.2377450, …\n",
      "$ mtry           \u001b[3m\u001b[90m<int>\u001b[39m\u001b[23m 2, 1, 3, 3, 1, 4, 5, 3, 5, 6, 2, 6, 4, 5, 3\n",
      "$ learn_rate     \u001b[3m\u001b[90m<dbl>\u001b[39m\u001b[23m 3.455905e-07, 1.621309e-05, 1.883798e-02, 1.908520e-04,…\n"
     ]
    }
   ],
   "source": [
    "gb_grid <- \n",
    "  grid_latin_hypercube(\n",
    "    tree_depth(),\n",
    "    min_n(),\n",
    "    loss_reduction(),\n",
    "    sample_size = sample_prop(),\n",
    "    finalize(mtry(), dt_train),\n",
    "    learn_rate(),\n",
    "    size = 15\n",
    "  )\n",
    "\n",
    "glimpse(gb_grid)"
   ]
  },
  {
   "cell_type": "markdown",
   "metadata": {},
   "source": [
    "### Hyperparameter Tuning without Tokens"
   ]
  },
  {
   "attachments": {},
   "cell_type": "markdown",
   "metadata": {},
   "source": [
    "Using 6 cores for the tuning process:"
   ]
  },
  {
   "cell_type": "code",
   "execution_count": 29,
   "metadata": {
    "vscode": {
     "languageId": "r"
    }
   },
   "outputs": [
    {
     "data": {
      "text/plain": [
       "Time difference of 2.55962 mins"
      ]
     },
     "metadata": {},
     "output_type": "display_data"
    }
   ],
   "source": [
    "start_time <- Sys.time()\n",
    "\n",
    "unregister_dopar <- function() {\n",
    "    env <- foreach:::.foreachGlobals\n",
    "    rm(list = ls(name = env), pos = env)\n",
    "}\n",
    "\n",
    "cl <- makePSOCKcluster(6)\n",
    "registerDoParallel(cl)\n",
    "\n",
    "gb_tune_notokens <- tune_grid(\n",
    "    object = gb_wflow_notokens,\n",
    "    resamples = folds,\n",
    "    grid = gb_grid\n",
    ")\n",
    "\n",
    "stopCluster(cl)\n",
    "unregister_dopar()\n",
    "\n",
    "end_time <- Sys.time()\n",
    "end_time - start_time"
   ]
  },
  {
   "cell_type": "markdown",
   "metadata": {},
   "source": [
    "### Hyperparameter Tuning with Tokens"
   ]
  },
  {
   "cell_type": "code",
   "execution_count": 30,
   "metadata": {
    "vscode": {
     "languageId": "r"
    }
   },
   "outputs": [
    {
     "data": {
      "text/plain": [
       "Time difference of 4.490944 mins"
      ]
     },
     "metadata": {},
     "output_type": "display_data"
    }
   ],
   "source": [
    "start_time <- Sys.time()\n",
    "\n",
    "unregister_dopar <- function() {\n",
    "    env <- foreach:::.foreachGlobals\n",
    "    rm(list = ls(name = env), pos = env)\n",
    "}\n",
    "\n",
    "cl <- makePSOCKcluster(6)\n",
    "registerDoParallel(cl)\n",
    "\n",
    "gb_tune_withtokens <- tune_grid(\n",
    "    object = gb_wflow_withtokens,\n",
    "    resamples = folds,\n",
    "    grid = gb_grid\n",
    ")\n",
    "\n",
    "stopCluster(cl)\n",
    "unregister_dopar()\n",
    "\n",
    "end_time <- Sys.time()\n",
    "end_time - start_time"
   ]
  },
  {
   "attachments": {},
   "cell_type": "markdown",
   "metadata": {},
   "source": [
    "### Fitting the final models as the best combinations of hyperparameters from the tuning process\n",
    "\n",
    "This you don't need to do in `sklearn` after doing a grid search."
   ]
  },
  {
   "cell_type": "code",
   "execution_count": 31,
   "metadata": {
    "vscode": {
     "languageId": "r"
    }
   },
   "outputs": [],
   "source": [
    "gb_final_fit_notokens <- gb_wflow_notokens %>%\n",
    "    finalize_workflow(select_best(gb_tune_notokens, metric = \"rmse\")) %>%\n",
    "    last_fit(dt_split)\n",
    "\n",
    "gb_final_fit_withtokens <- gb_wflow_withtokens %>%\n",
    "    finalize_workflow(select_best(gb_tune_withtokens, metric = \"rmse\")) %>%\n",
    "    last_fit(dt_split)"
   ]
  },
  {
   "attachments": {},
   "cell_type": "markdown",
   "metadata": {},
   "source": [
    "### Evaluating performance of the two models"
   ]
  },
  {
   "cell_type": "code",
   "execution_count": 32,
   "metadata": {
    "vscode": {
     "languageId": "r"
    }
   },
   "outputs": [],
   "source": [
    "eval_metrics <- metric_set(rsq, mae, rmse, mape)"
   ]
  },
  {
   "cell_type": "code",
   "execution_count": 33,
   "metadata": {
    "vscode": {
     "languageId": "r"
    }
   },
   "outputs": [
    {
     "data": {
      "text/html": [
       "<table class=\"dataframe\">\n",
       "<caption>A tibble: 4 × 3</caption>\n",
       "<thead>\n",
       "\t<tr><th scope=col>.metric</th><th scope=col>.estimator</th><th scope=col>.estimate</th></tr>\n",
       "\t<tr><th scope=col>&lt;chr&gt;</th><th scope=col>&lt;chr&gt;</th><th scope=col>&lt;dbl&gt;</th></tr>\n",
       "</thead>\n",
       "<tbody>\n",
       "\t<tr><td>rsq </td><td>standard</td><td>  0.6761958</td></tr>\n",
       "\t<tr><td>mae </td><td>standard</td><td>165.9308253</td></tr>\n",
       "\t<tr><td>rmse</td><td>standard</td><td>379.2683235</td></tr>\n",
       "\t<tr><td>mape</td><td>standard</td><td> 15.0627504</td></tr>\n",
       "</tbody>\n",
       "</table>\n"
      ],
      "text/latex": [
       "A tibble: 4 × 3\n",
       "\\begin{tabular}{lll}\n",
       " .metric & .estimator & .estimate\\\\\n",
       " <chr> & <chr> & <dbl>\\\\\n",
       "\\hline\n",
       "\t rsq  & standard &   0.6761958\\\\\n",
       "\t mae  & standard & 165.9308253\\\\\n",
       "\t rmse & standard & 379.2683235\\\\\n",
       "\t mape & standard &  15.0627504\\\\\n",
       "\\end{tabular}\n"
      ],
      "text/markdown": [
       "\n",
       "A tibble: 4 × 3\n",
       "\n",
       "| .metric &lt;chr&gt; | .estimator &lt;chr&gt; | .estimate &lt;dbl&gt; |\n",
       "|---|---|---|\n",
       "| rsq  | standard |   0.6761958 |\n",
       "| mae  | standard | 165.9308253 |\n",
       "| rmse | standard | 379.2683235 |\n",
       "| mape | standard |  15.0627504 |\n",
       "\n"
      ],
      "text/plain": [
       "  .metric .estimator .estimate  \n",
       "1 rsq     standard     0.6761958\n",
       "2 mae     standard   165.9308253\n",
       "3 rmse    standard   379.2683235\n",
       "4 mape    standard    15.0627504"
      ]
     },
     "metadata": {},
     "output_type": "display_data"
    }
   ],
   "source": [
    "gb_final_fit_notokens %>% \n",
    "    collect_predictions() %>% \n",
    "    eval_metrics(truth = price, estimate = .pred)"
   ]
  },
  {
   "cell_type": "code",
   "execution_count": 34,
   "metadata": {
    "vscode": {
     "languageId": "r"
    }
   },
   "outputs": [
    {
     "data": {
      "text/html": [
       "<table class=\"dataframe\">\n",
       "<caption>A tibble: 4 × 3</caption>\n",
       "<thead>\n",
       "\t<tr><th scope=col>.metric</th><th scope=col>.estimator</th><th scope=col>.estimate</th></tr>\n",
       "\t<tr><th scope=col>&lt;chr&gt;</th><th scope=col>&lt;chr&gt;</th><th scope=col>&lt;dbl&gt;</th></tr>\n",
       "</thead>\n",
       "<tbody>\n",
       "\t<tr><td>rsq </td><td>standard</td><td>  0.7013132</td></tr>\n",
       "\t<tr><td>mae </td><td>standard</td><td>169.7903552</td></tr>\n",
       "\t<tr><td>rmse</td><td>standard</td><td>361.3285651</td></tr>\n",
       "\t<tr><td>mape</td><td>standard</td><td> 15.9378967</td></tr>\n",
       "</tbody>\n",
       "</table>\n"
      ],
      "text/latex": [
       "A tibble: 4 × 3\n",
       "\\begin{tabular}{lll}\n",
       " .metric & .estimator & .estimate\\\\\n",
       " <chr> & <chr> & <dbl>\\\\\n",
       "\\hline\n",
       "\t rsq  & standard &   0.7013132\\\\\n",
       "\t mae  & standard & 169.7903552\\\\\n",
       "\t rmse & standard & 361.3285651\\\\\n",
       "\t mape & standard &  15.9378967\\\\\n",
       "\\end{tabular}\n"
      ],
      "text/markdown": [
       "\n",
       "A tibble: 4 × 3\n",
       "\n",
       "| .metric &lt;chr&gt; | .estimator &lt;chr&gt; | .estimate &lt;dbl&gt; |\n",
       "|---|---|---|\n",
       "| rsq  | standard |   0.7013132 |\n",
       "| mae  | standard | 169.7903552 |\n",
       "| rmse | standard | 361.3285651 |\n",
       "| mape | standard |  15.9378967 |\n",
       "\n"
      ],
      "text/plain": [
       "  .metric .estimator .estimate  \n",
       "1 rsq     standard     0.7013132\n",
       "2 mae     standard   169.7903552\n",
       "3 rmse    standard   361.3285651\n",
       "4 mape    standard    15.9378967"
      ]
     },
     "metadata": {},
     "output_type": "display_data"
    }
   ],
   "source": [
    "gb_final_fit_withtokens %>% \n",
    "    collect_predictions() %>% \n",
    "    eval_metrics(truth = price, estimate = .pred)"
   ]
  },
  {
   "cell_type": "code",
   "execution_count": 39,
   "metadata": {
    "vscode": {
     "languageId": "r"
    }
   },
   "outputs": [
    {
     "data": {
      "image/png": "[encoded data removed]",
      "text/plain": [
       "plot without title"
      ]
     },
     "metadata": {
      "image/png": {
       "height": 180,
       "width": 300
      }
     },
     "output_type": "display_data"
    }
   ],
   "source": [
    "options(repr.plot.width = 5, repr.plot.height = 3)\n",
    "\n",
    "bind_rows(\n",
    "    gb_final_fit_notokens %>%\n",
    "        collect_predictions() %>% \n",
    "        mutate(model = \"Without Tokenisation\"),\n",
    "    gb_final_fit_withtokens %>%\n",
    "        collect_predictions() %>% \n",
    "        mutate(model = \"With Tokenisation\")\n",
    ") %>%\n",
    "    filter(price > 100) %>% \n",
    "    ggplot(aes(x = price, y = .pred)) +\n",
    "    geom_point(alpha = 0.25, colour = \"midnightblue\") +\n",
    "    geom_abline() +\n",
    "    labs(\n",
    "        title = \"R: Improvement with Tokenisation\",\n",
    "        x = \"Actual Rent\", y = \"Predictions\"\n",
    "    ) +\n",
    "    facet_wrap(~model) +\n",
    "    scale_y_log10(labels = comma_format(suffix = \" EUR\")) +\n",
    "    scale_x_log10(labels = comma_format(suffix = \" EUR\")) +\n",
    "    theme_bw() +\n",
    "    theme(axis.text = element_text(size = 7))"
   ]
  },
  {
   "cell_type": "code",
   "execution_count": 40,
   "metadata": {
    "vscode": {
     "languageId": "r"
    }
   },
   "outputs": [],
   "source": [
    "ggsave(file = \"R.png\", dpi = 300, width = 4, height = 2.5)"
   ]
  }
 ],
 "metadata": {
  "kernelspec": {
   "display_name": "R",
   "language": "R",
   "name": "ir"
  },
  "language_info": {
   "codemirror_mode": "r",
   "file_extension": ".r",
   "mimetype": "text/x-r-source",
   "name": "R",
   "pygments_lexer": "r",
   "version": "4.2.1"
  },
  "orig_nbformat": 4
 },
 "nbformat": 4,
 "nbformat_minor": 2
}
