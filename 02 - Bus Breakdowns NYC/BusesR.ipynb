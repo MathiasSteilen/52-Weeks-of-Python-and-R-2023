{
 "cells": [
  {
   "attachments": {},
   "cell_type": "markdown",
   "metadata": {},
   "source": [
    "# Breakdowns of School Buses in NYC 🚌💥"
   ]
  },
  {
   "attachments": {},
   "cell_type": "markdown",
   "metadata": {},
   "source": [
    "## Initial Data Preparation"
   ]
  },
  {
   "cell_type": "code",
   "execution_count": 1,
   "metadata": {
    "vscode": {
     "languageId": "r"
    }
   },
   "outputs": [
    {
     "name": "stderr",
     "output_type": "stream",
     "text": [
      "── \u001b[1mAttaching packages\u001b[22m ─────────────────────────────────────── tidyverse 1.3.2 ──\n",
      "\u001b[32m✔\u001b[39m \u001b[34mggplot2\u001b[39m 3.3.6      \u001b[32m✔\u001b[39m \u001b[34mpurrr  \u001b[39m 0.3.5 \n",
      "\u001b[32m✔\u001b[39m \u001b[34mtibble \u001b[39m 3.1.8      \u001b[32m✔\u001b[39m \u001b[34mdplyr  \u001b[39m 1.0.10\n",
      "\u001b[32m✔\u001b[39m \u001b[34mtidyr  \u001b[39m 1.2.1      \u001b[32m✔\u001b[39m \u001b[34mstringr\u001b[39m 1.4.1 \n",
      "\u001b[32m✔\u001b[39m \u001b[34mreadr  \u001b[39m 2.1.3      \u001b[32m✔\u001b[39m \u001b[34mforcats\u001b[39m 0.5.2 \n",
      "── \u001b[1mConflicts\u001b[22m ────────────────────────────────────────── tidyverse_conflicts() ──\n",
      "\u001b[31m✖\u001b[39m \u001b[34mdplyr\u001b[39m::\u001b[32mfilter()\u001b[39m masks \u001b[34mstats\u001b[39m::filter()\n",
      "\u001b[31m✖\u001b[39m \u001b[34mdplyr\u001b[39m::\u001b[32mlag()\u001b[39m    masks \u001b[34mstats\u001b[39m::lag()\n",
      "\n",
      "Attaching package: 'lubridate'\n",
      "\n",
      "\n",
      "The following objects are masked from 'package:base':\n",
      "\n",
      "    date, intersect, setdiff, union\n",
      "\n",
      "\n",
      "\n",
      "Attaching package: 'scales'\n",
      "\n",
      "\n",
      "The following object is masked from 'package:purrr':\n",
      "\n",
      "    discard\n",
      "\n",
      "\n",
      "The following object is masked from 'package:readr':\n",
      "\n",
      "    col_factor\n",
      "\n",
      "\n"
     ]
    }
   ],
   "source": [
    "# Libraries\n",
    "library(tidyverse)\n",
    "library(lubridate)\n",
    "library(broom)\n",
    "library(scales)\n",
    "\n",
    "# Chart Theme\n",
    "theme_set(theme_bw() +\n",
    "    theme(\n",
    "        plot.title = element_text(size = 14, face = \"bold\"),\n",
    "        plot.subtitle = element_text(\n",
    "            size = 10, face = \"italic\",\n",
    "            colour = \"grey50\"\n",
    "        )\n",
    "    ))"
   ]
  },
  {
   "cell_type": "code",
   "execution_count": 2,
   "metadata": {
    "vscode": {
     "languageId": "r"
    }
   },
   "outputs": [
    {
     "name": "stderr",
     "output_type": "stream",
     "text": [
      "\u001b[1mRows: \u001b[22m\u001b[34m545691\u001b[39m \u001b[1mColumns: \u001b[22m\u001b[34m21\u001b[39m\n",
      "\u001b[36m──\u001b[39m \u001b[1mColumn specification\u001b[22m \u001b[36m────────────────────────────────────────────────────────\u001b[39m\n",
      "\u001b[1mDelimiter:\u001b[22m \",\"\n",
      "\u001b[31mchr\u001b[39m (19): School_Year, Run_Type, Bus_No, Route_Number, Reason, Schools_Servi...\n",
      "\u001b[32mdbl\u001b[39m  (2): Busbreakdown_ID, Number_Of_Students_On_The_Bus\n",
      "\n",
      "\u001b[36mℹ\u001b[39m Use `spec()` to retrieve the full column specification for this data.\n",
      "\u001b[36mℹ\u001b[39m Specify the column types or set `show_col_types = FALSE` to quiet this message.\n"
     ]
    }
   ],
   "source": [
    "df <- read_csv(\"C:/Users/mathi/OneDrive/Python/Data too Large to Push/bus-breakdowns-delays.csv\") %>% \n",
    "    janitor::clean_names()"
   ]
  },
  {
   "attachments": {},
   "cell_type": "markdown",
   "metadata": {},
   "source": [
    "The data is quite large, half a million rows and 21 columns, so a lot to work with!"
   ]
  },
  {
   "cell_type": "code",
   "execution_count": 3,
   "metadata": {
    "vscode": {
     "languageId": "r"
    }
   },
   "outputs": [
    {
     "name": "stdout",
     "output_type": "stream",
     "text": [
      "Rows: 545,691\n",
      "Columns: 21\n",
      "$ school_year                     \u001b[3m\u001b[90m<chr>\u001b[39m\u001b[23m \"2015-2016\", \"2015-2016\", \"2015-2016\",…\n",
      "$ busbreakdown_id                 \u001b[3m\u001b[90m<dbl>\u001b[39m\u001b[23m 1227538, 1227539, 1227540, 1227541, 12…\n",
      "$ run_type                        \u001b[3m\u001b[90m<chr>\u001b[39m\u001b[23m \"Special Ed AM Run\", \"Special Ed AM Ru…\n",
      "$ bus_no                          \u001b[3m\u001b[90m<chr>\u001b[39m\u001b[23m \"2621\", \"1260\", \"418\", \"4522\", \"3124\",…\n",
      "$ route_number                    \u001b[3m\u001b[90m<chr>\u001b[39m\u001b[23m \"J711\", \"M351\", \"3\", \"M271\", \"M373\", \"…\n",
      "$ reason                          \u001b[3m\u001b[90m<chr>\u001b[39m\u001b[23m \"Heavy Traffic\", \"Heavy Traffic\", \"Hea…\n",
      "$ schools_serviced                \u001b[3m\u001b[90m<chr>\u001b[39m\u001b[23m \"75003\", \"06716\", \"C445\", \"02699\", \"02…\n",
      "$ occurred_on                     \u001b[3m\u001b[90m<chr>\u001b[39m\u001b[23m \"11/05/2015 08:10:00 AM\", \"11/05/2015 …\n",
      "$ created_on                      \u001b[3m\u001b[90m<chr>\u001b[39m\u001b[23m \"11/05/2015 08:12:00 AM\", \"11/05/2015 …\n",
      "$ boro                            \u001b[3m\u001b[90m<chr>\u001b[39m\u001b[23m \"New Jersey\", \"Manhattan\", \"Bronx\", \"M…\n",
      "$ bus_company_name                \u001b[3m\u001b[90m<chr>\u001b[39m\u001b[23m \"RELIANT TRANS, INC. (B232\", \"HOYT TRA…\n",
      "$ how_long_delayed                \u001b[3m\u001b[90m<chr>\u001b[39m\u001b[23m NA, \"20MNS\", \"15MIN\", \"15 MIN\", NA, \"3…\n",
      "$ number_of_students_on_the_bus   \u001b[3m\u001b[90m<dbl>\u001b[39m\u001b[23m 11, 2, 8, 6, 6, 1, 3, 3, 5, 3, 3, 13, …\n",
      "$ has_contractor_notified_schools \u001b[3m\u001b[90m<chr>\u001b[39m\u001b[23m \"Yes\", \"Yes\", \"Yes\", \"No\", \"No\", \"Yes\"…\n",
      "$ has_contractor_notified_parents \u001b[3m\u001b[90m<chr>\u001b[39m\u001b[23m \"No\", \"Yes\", \"Yes\", \"No\", \"No\", \"Yes\",…\n",
      "$ have_you_alerted_opt            \u001b[3m\u001b[90m<chr>\u001b[39m\u001b[23m \"Yes\", \"No\", \"Yes\", \"No\", \"No\", \"Yes\",…\n",
      "$ informed_on                     \u001b[3m\u001b[90m<chr>\u001b[39m\u001b[23m \"11/05/2015 08:12:00 AM\", \"11/05/2015 …\n",
      "$ incident_number                 \u001b[3m\u001b[90m<chr>\u001b[39m\u001b[23m NA, NA, NA, NA, NA, NA, NA, NA, NA, NA…\n",
      "$ last_updated_on                 \u001b[3m\u001b[90m<chr>\u001b[39m\u001b[23m \"11/05/2015 08:12:14 AM\", \"11/05/2015 …\n",
      "$ breakdown_or_running_late       \u001b[3m\u001b[90m<chr>\u001b[39m\u001b[23m \"Running Late\", \"Running Late\", \"Runni…\n",
      "$ school_age_or_pre_k             \u001b[3m\u001b[90m<chr>\u001b[39m\u001b[23m \"School-Age\", \"School-Age\", \"Pre-K\", \"…\n"
     ]
    }
   ],
   "source": [
    "glimpse(df)"
   ]
  },
  {
   "attachments": {},
   "cell_type": "markdown",
   "metadata": {},
   "source": [
    "Initial preprocessing:\n",
    "- parse `school_year`\n",
    "- parse `how_long_delayed`\n",
    "- parse date columns\n",
    "- add helper column for whether delay time contains \"min\" and filter down to that"
   ]
  },
  {
   "cell_type": "code",
   "execution_count": 4,
   "metadata": {
    "vscode": {
     "languageId": "r"
    }
   },
   "outputs": [
    {
     "name": "stderr",
     "output_type": "stream",
     "text": [
      "Warning message:\n",
      "\"16 parsing failures.\n",
      "  row col expected     actual\n",
      "14421  -- a number MINS      \n",
      "26035  -- a number minutes   \n",
      "41352  -- a number est. 25min\n",
      "46808  -- a number est. 12min\n",
      "50532  -- a number est. 20min\n",
      "..... ... ........ ..........\n",
      "See problems(...) for more details.\n",
      "\"\n"
     ]
    }
   ],
   "source": [
    "data <- df %>%\n",
    "    mutate(contains_min = str_detect(tolower(how_long_delayed), \"min\")) %>% \n",
    "    filter(contains_min) %>% \n",
    "    mutate(\n",
    "        across(c(school_year, how_long_delayed), ~ parse_number(.x)),\n",
    "        across(c(occurred_on, created_on, informed_on, last_updated_on), \n",
    "                 ~ mdy_hms(.x))\n",
    "    )\n",
    "\n"
   ]
  },
  {
   "cell_type": "code",
   "execution_count": 5,
   "metadata": {
    "vscode": {
     "languageId": "r"
    }
   },
   "outputs": [
    {
     "name": "stdout",
     "output_type": "stream",
     "text": [
      "Rows: 473,387\n",
      "Columns: 22\n",
      "$ school_year                     \u001b[3m\u001b[90m<dbl>\u001b[39m\u001b[23m 2015, 2015, 2015, 2015, 2015, 2015, 20…\n",
      "$ busbreakdown_id                 \u001b[3m\u001b[90m<dbl>\u001b[39m\u001b[23m 1227540, 1227541, 1227543, 1227544, 12…\n",
      "$ run_type                        \u001b[3m\u001b[90m<chr>\u001b[39m\u001b[23m \"Pre-K/EI\", \"Special Ed AM Run\", \"Spec…\n",
      "$ bus_no                          \u001b[3m\u001b[90m<chr>\u001b[39m\u001b[23m \"418\", \"4522\", \"HT1502\", \"142\", \"56102…\n",
      "$ route_number                    \u001b[3m\u001b[90m<chr>\u001b[39m\u001b[23m \"3\", \"M271\", \"W796\", \"W633\", \"M126\", \"…\n",
      "$ reason                          \u001b[3m\u001b[90m<chr>\u001b[39m\u001b[23m \"Heavy Traffic\", \"Heavy Traffic\", \"Hea…\n",
      "$ schools_serviced                \u001b[3m\u001b[90m<chr>\u001b[39m\u001b[23m \"C445\", \"02699\", \"75407\", \"75670\", \"01…\n",
      "$ occurred_on                     \u001b[3m\u001b[90m<dttm>\u001b[39m\u001b[23m 2015-11-05 08:09:00, 2015-11-05 08:12…\n",
      "$ created_on                      \u001b[3m\u001b[90m<dttm>\u001b[39m\u001b[23m 2015-11-05 08:13:00, 2015-11-05 08:14…\n",
      "$ boro                            \u001b[3m\u001b[90m<chr>\u001b[39m\u001b[23m \"Bronx\", \"Manhattan\", \"Westchester\", \"…\n",
      "$ bus_company_name                \u001b[3m\u001b[90m<chr>\u001b[39m\u001b[23m \"G.V.C., LTD.\", \"RELIANT TRANS, INC. (…\n",
      "$ how_long_delayed                \u001b[3m\u001b[90m<dbl>\u001b[39m\u001b[23m 15, 15, 30, 20, 30, 30, 30, 15, 10, 15…\n",
      "$ number_of_students_on_the_bus   \u001b[3m\u001b[90m<dbl>\u001b[39m\u001b[23m 8, 6, 1, 3, 5, 13, 4, 1, 3, 0, 5, 0, 5…\n",
      "$ has_contractor_notified_schools \u001b[3m\u001b[90m<chr>\u001b[39m\u001b[23m \"Yes\", \"No\", \"Yes\", \"Yes\", \"Yes\", \"Yes…\n",
      "$ has_contractor_notified_parents \u001b[3m\u001b[90m<chr>\u001b[39m\u001b[23m \"Yes\", \"No\", \"Yes\", \"No\", \"Yes\", \"Yes\"…\n",
      "$ have_you_alerted_opt            \u001b[3m\u001b[90m<chr>\u001b[39m\u001b[23m \"Yes\", \"No\", \"Yes\", \"No\", \"Yes\", \"No\",…\n",
      "$ informed_on                     \u001b[3m\u001b[90m<dttm>\u001b[39m\u001b[23m 2015-11-05 08:13:00, 2015-11-05 08:14…\n",
      "$ incident_number                 \u001b[3m\u001b[90m<chr>\u001b[39m\u001b[23m NA, NA, NA, NA, NA, NA, NA, NA, NA, NA…\n",
      "$ last_updated_on                 \u001b[3m\u001b[90m<dttm>\u001b[39m\u001b[23m 2015-11-05 08:13:22, 2015-11-05 08:14…\n",
      "$ breakdown_or_running_late       \u001b[3m\u001b[90m<chr>\u001b[39m\u001b[23m \"Running Late\", \"Running Late\", \"Runni…\n",
      "$ school_age_or_pre_k             \u001b[3m\u001b[90m<chr>\u001b[39m\u001b[23m \"Pre-K\", \"School-Age\", \"School-Age\", \"…\n",
      "$ contains_min                    \u001b[3m\u001b[90m<lgl>\u001b[39m\u001b[23m TRUE, TRUE, TRUE, TRUE, TRUE, TRUE, TR…\n"
     ]
    }
   ],
   "source": [
    "glimpse(data)"
   ]
  },
  {
   "attachments": {},
   "cell_type": "markdown",
   "metadata": {},
   "source": [
    "Good to go!\n",
    "\n",
    "## Data Wrangling / Visualisation Section\n",
    "\n",
    "Questions I want to explore visually:\n",
    "1. Breakdowns by year broken down by borough:\n",
    "    - 2020 was a good year for breakdowns, though that is not due to the drivers or companies (the mean C word)"
   ]
  },
  {
   "cell_type": "code",
   "execution_count": 28,
   "metadata": {
    "vscode": {
     "languageId": "r"
    }
   },
   "outputs": [
    {
     "data": {
      "image/png": "[encoded data removed]",
      "text/plain": [
       "plot without title"
      ]
     },
     "metadata": {
      "image/png": {
       "height": 180,
       "width": 360
      }
     },
     "output_type": "display_data"
    }
   ],
   "source": [
    "options(repr.plot.width=6, repr.plot.height=3)\n",
    "\n",
    "data %>%\n",
    "    drop_na(school_year, boro) %>% \n",
    "    count(school_year, boro) %>%\n",
    "    # Normalise the occurence among boroughs\n",
    "    group_by(boro) %>% \n",
    "    mutate(n = n/sum(n)) %>% \n",
    "    ggplot(aes(x = school_year,\n",
    "               y = n, \n",
    "               colour = boro)) +\n",
    "    geom_line() +\n",
    "    labs(title = \"Breakdowns (normalised) for each borough by year\",\n",
    "         y = NULL, x = NULL, colour = NULL)\n"
   ]
  },
  {
   "attachments": {},
   "cell_type": "markdown",
   "metadata": {},
   "source": [
    "2. Breakdowns by year broken down by company:\n",
    "    - Here, need to filter down the number of companies, let's pick top 10 most frequent ones.\n",
    "    - Impact of Covid shows the same pattern, otherwise no discernible trend over time"
   ]
  },
  {
   "cell_type": "code",
   "execution_count": 8,
   "metadata": {
    "vscode": {
     "languageId": "r"
    }
   },
   "outputs": [
    {
     "data": {
      "text/html": [
       "<style>\n",
       ".list-inline {list-style: none; margin:0; padding: 0}\n",
       ".list-inline>li {display: inline-block}\n",
       ".list-inline>li:not(:last-child)::after {content: \"\\00b7\"; padding: 0 .5ex}\n",
       "</style>\n",
       "<ol class=list-inline><li>'LEESEL TRANSPORTATION CORP (B2192)'</li><li>'PIONEER TRANSPORTATION CORP'</li><li>'G.V.C., LTD.'</li><li>'BORO TRANSIT, INC.'</li><li>'RELIANT TRANSPORTATION, INC (B2321)'</li><li>'VAN TRANS LLC (B2192)'</li><li>'HOYT TRANSPORTATION CORP.'</li><li>'ALLIED TRANSIT CORP.'</li><li>'PRIDE TRANSPORTATION (SCH AGE)'</li><li>'L &amp; M BUS CORP.'</li></ol>\n"
      ],
      "text/latex": [
       "\\begin{enumerate*}\n",
       "\\item 'LEESEL TRANSPORTATION CORP (B2192)'\n",
       "\\item 'PIONEER TRANSPORTATION CORP'\n",
       "\\item 'G.V.C., LTD.'\n",
       "\\item 'BORO TRANSIT, INC.'\n",
       "\\item 'RELIANT TRANSPORTATION, INC (B2321)'\n",
       "\\item 'VAN TRANS LLC (B2192)'\n",
       "\\item 'HOYT TRANSPORTATION CORP.'\n",
       "\\item 'ALLIED TRANSIT CORP.'\n",
       "\\item 'PRIDE TRANSPORTATION (SCH AGE)'\n",
       "\\item 'L \\& M BUS CORP.'\n",
       "\\end{enumerate*}\n"
      ],
      "text/markdown": [
       "1. 'LEESEL TRANSPORTATION CORP (B2192)'\n",
       "2. 'PIONEER TRANSPORTATION CORP'\n",
       "3. 'G.V.C., LTD.'\n",
       "4. 'BORO TRANSIT, INC.'\n",
       "5. 'RELIANT TRANSPORTATION, INC (B2321)'\n",
       "6. 'VAN TRANS LLC (B2192)'\n",
       "7. 'HOYT TRANSPORTATION CORP.'\n",
       "8. 'ALLIED TRANSIT CORP.'\n",
       "9. 'PRIDE TRANSPORTATION (SCH AGE)'\n",
       "10. 'L &amp; M BUS CORP.'\n",
       "\n",
       "\n"
      ],
      "text/plain": [
       " [1] \"LEESEL TRANSPORTATION CORP (B2192)\"  \"PIONEER TRANSPORTATION CORP\"        \n",
       " [3] \"G.V.C., LTD.\"                        \"BORO TRANSIT, INC.\"                 \n",
       " [5] \"RELIANT TRANSPORTATION, INC (B2321)\" \"VAN TRANS LLC (B2192)\"              \n",
       " [7] \"HOYT TRANSPORTATION CORP.\"           \"ALLIED TRANSIT CORP.\"               \n",
       " [9] \"PRIDE TRANSPORTATION (SCH AGE)\"      \"L & M BUS CORP.\"                    "
      ]
     },
     "metadata": {},
     "output_type": "display_data"
    }
   ],
   "source": [
    "data %>% count(bus_company_name, sort = T) %>% head(10) %>% pull(bus_company_name)"
   ]
  },
  {
   "cell_type": "code",
   "execution_count": 9,
   "metadata": {
    "vscode": {
     "languageId": "r"
    }
   },
   "outputs": [
    {
     "data": {
      "image/png": "[encoded data removed]",
      "text/plain": [
       "plot without title"
      ]
     },
     "metadata": {
      "image/png": {
       "height": 180,
       "width": 480
      }
     },
     "output_type": "display_data"
    }
   ],
   "source": [
    "data %>% \n",
    "    filter(bus_company_name %in% (data %>% count(bus_company_name, sort = T) %>% head(10) %>% pull(bus_company_name))) %>% \n",
    "    count(school_year, bus_company_name) %>% \n",
    "    group_by(bus_company_name) %>% \n",
    "    mutate(n = n/sum(n)) %>% \n",
    "    ggplot(aes(x = school_year,\n",
    "               y = n, \n",
    "               colour = bus_company_name)) +\n",
    "    geom_line() +\n",
    "    labs(title = \"Breakdowns (normalised) for each of the top 10 companies by year\",\n",
    "         y = NULL, x = NULL, colour = NULL)"
   ]
  },
  {
   "attachments": {},
   "cell_type": "markdown",
   "metadata": {},
   "source": [
    "3. How long the buses are delayed \n",
    "    - over time\n",
    "    - by company/borough"
   ]
  },
  {
   "cell_type": "code",
   "execution_count": 29,
   "metadata": {
    "vscode": {
     "languageId": "r"
    }
   },
   "outputs": [
    {
     "data": {
      "text/html": [
       "<table class=\"dataframe\">\n",
       "<caption>A tibble: 8 × 2</caption>\n",
       "<thead>\n",
       "\t<tr><th scope=col>school_year</th><th scope=col>mean_delay</th></tr>\n",
       "\t<tr><th scope=col>&lt;dbl&gt;</th><th scope=col>&lt;dbl&gt;</th></tr>\n",
       "</thead>\n",
       "<tbody>\n",
       "\t<tr><td>2015</td><td>24.48067</td></tr>\n",
       "\t<tr><td>2016</td><td>25.53875</td></tr>\n",
       "\t<tr><td>2017</td><td>24.35765</td></tr>\n",
       "\t<tr><td>2018</td><td>29.63687</td></tr>\n",
       "\t<tr><td>2019</td><td>26.66601</td></tr>\n",
       "\t<tr><td>2020</td><td>27.90419</td></tr>\n",
       "\t<tr><td>2021</td><td>27.41205</td></tr>\n",
       "\t<tr><td>2022</td><td>33.24335</td></tr>\n",
       "</tbody>\n",
       "</table>\n"
      ],
      "text/latex": [
       "A tibble: 8 × 2\n",
       "\\begin{tabular}{ll}\n",
       " school\\_year & mean\\_delay\\\\\n",
       " <dbl> & <dbl>\\\\\n",
       "\\hline\n",
       "\t 2015 & 24.48067\\\\\n",
       "\t 2016 & 25.53875\\\\\n",
       "\t 2017 & 24.35765\\\\\n",
       "\t 2018 & 29.63687\\\\\n",
       "\t 2019 & 26.66601\\\\\n",
       "\t 2020 & 27.90419\\\\\n",
       "\t 2021 & 27.41205\\\\\n",
       "\t 2022 & 33.24335\\\\\n",
       "\\end{tabular}\n"
      ],
      "text/markdown": [
       "\n",
       "A tibble: 8 × 2\n",
       "\n",
       "| school_year &lt;dbl&gt; | mean_delay &lt;dbl&gt; |\n",
       "|---|---|\n",
       "| 2015 | 24.48067 |\n",
       "| 2016 | 25.53875 |\n",
       "| 2017 | 24.35765 |\n",
       "| 2018 | 29.63687 |\n",
       "| 2019 | 26.66601 |\n",
       "| 2020 | 27.90419 |\n",
       "| 2021 | 27.41205 |\n",
       "| 2022 | 33.24335 |\n",
       "\n"
      ],
      "text/plain": [
       "  school_year mean_delay\n",
       "1 2015        24.48067  \n",
       "2 2016        25.53875  \n",
       "3 2017        24.35765  \n",
       "4 2018        29.63687  \n",
       "5 2019        26.66601  \n",
       "6 2020        27.90419  \n",
       "7 2021        27.41205  \n",
       "8 2022        33.24335  "
      ]
     },
     "metadata": {},
     "output_type": "display_data"
    }
   ],
   "source": [
    "data %>% \n",
    "    group_by(school_year) %>% \n",
    "    summarise(mean_delay = mean(how_long_delayed, na.rm = T))"
   ]
  },
  {
   "attachments": {},
   "cell_type": "markdown",
   "metadata": {},
   "source": [
    "Looks like average delays have not changed in recent years. Let's see the development by borough:"
   ]
  },
  {
   "cell_type": "code",
   "execution_count": 12,
   "metadata": {
    "vscode": {
     "languageId": "r"
    }
   },
   "outputs": [
    {
     "name": "stderr",
     "output_type": "stream",
     "text": [
      "\u001b[1m\u001b[22m`summarise()` has grouped output by 'school_year'. You can override using the\n",
      "`.groups` argument.\n"
     ]
    },
    {
     "data": {
      "image/png": "[encoded data removed]",
      "text/plain": [
       "plot without title"
      ]
     },
     "metadata": {
      "image/png": {
       "height": 180,
       "width": 480
      }
     },
     "output_type": "display_data"
    }
   ],
   "source": [
    "data %>%\n",
    "    drop_na(boro) %>% \n",
    "    group_by(school_year, boro) %>% \n",
    "    summarise(mean_delay = mean(how_long_delayed, na.rm = T)) %>% \n",
    "    ggplot(aes(x = school_year, y = mean_delay, colour = boro)) +\n",
    "    geom_line() +\n",
    "    labs(title = \"Average Delay Time by Borough\", y = \"Minutes\", x = NULL, colour = NULL)"
   ]
  },
  {
   "attachments": {},
   "cell_type": "markdown",
   "metadata": {},
   "source": [
    "It looks like Manhatten has been increasing steadily:"
   ]
  },
  {
   "cell_type": "code",
   "execution_count": 13,
   "metadata": {
    "vscode": {
     "languageId": "r"
    }
   },
   "outputs": [
    {
     "name": "stderr",
     "output_type": "stream",
     "text": [
      "\u001b[1m\u001b[22m`summarise()` has grouped output by 'school_year'. You can override using the\n",
      "`.groups` argument.\n"
     ]
    },
    {
     "data": {
      "image/png": "[encoded data removed]",
      "text/plain": [
       "plot without title"
      ]
     },
     "metadata": {
      "image/png": {
       "height": 180,
       "width": 480
      }
     },
     "output_type": "display_data"
    }
   ],
   "source": [
    "data %>%\n",
    "    drop_na(boro) %>% \n",
    "    group_by(school_year, boro) %>% \n",
    "    summarise(mean_delay = mean(how_long_delayed, na.rm = T)) %>% \n",
    "    ungroup() %>% \n",
    "    mutate(col = ifelse(boro == \"Manhattan\", \"firebrick\", \"grey75\")) %>% \n",
    "    ggplot(aes(x = school_year, y = mean_delay, colour = I(col), group = boro)) +\n",
    "    geom_line() +\n",
    "    labs(title = \"Average Delay Time of Manhattan\", y = \"Minutes\", x = NULL, colour = NULL)"
   ]
  },
  {
   "attachments": {},
   "cell_type": "markdown",
   "metadata": {},
   "source": [
    "4. How many students are affected\n",
    "    - by company\n",
    "    - by borough"
   ]
  },
  {
   "cell_type": "code",
   "execution_count": 14,
   "metadata": {
    "vscode": {
     "languageId": "r"
    }
   },
   "outputs": [
    {
     "name": "stderr",
     "output_type": "stream",
     "text": [
      "\u001b[1m\u001b[22m`summarise()` has grouped output by 'boro'. You can override using the\n",
      "`.groups` argument.\n"
     ]
    },
    {
     "data": {
      "image/png": "[encoded data removed]",
      "text/plain": [
       "plot without title"
      ]
     },
     "metadata": {
      "image/png": {
       "height": 180,
       "width": 480
      }
     },
     "output_type": "display_data"
    }
   ],
   "source": [
    "data %>% \n",
    "    drop_na(boro) %>% \n",
    "    group_by(boro) %>% \n",
    "    summarise(value = quantile(number_of_students_on_the_bus, prob=c(0.1, 0.9)),\n",
    "              quantile = c(\"10th percentile\", \"90th percentile\")) %>% \n",
    "    ggplot(aes(x = value, y = boro %>% reorder(value), colour = quantile)) +\n",
    "    geom_point() +\n",
    "    labs(title = \"Breakdowns in the Bronx affect more students than elsewhere\",\n",
    "         y = NULL, x = \"Students affected\", colour = \"Quantile\")\n",
    "    "
   ]
  },
  {
   "cell_type": "code",
   "execution_count": 36,
   "metadata": {
    "vscode": {
     "languageId": "r"
    }
   },
   "outputs": [
    {
     "data": {
      "text/html": [
       "<table class=\"dataframe\">\n",
       "<caption>A tibble: 12 × 2</caption>\n",
       "<thead>\n",
       "\t<tr><th scope=col>boro</th><th scope=col>mean_affected</th></tr>\n",
       "\t<tr><th scope=col>&lt;chr&gt;</th><th scope=col>&lt;dbl&gt;</th></tr>\n",
       "</thead>\n",
       "<tbody>\n",
       "\t<tr><td>New Jersey     </td><td>5.9640411</td></tr>\n",
       "\t<tr><td>Rockland County</td><td>5.3813084</td></tr>\n",
       "\t<tr><td>Bronx          </td><td>4.7846758</td></tr>\n",
       "\t<tr><td>Queens         </td><td>3.9113918</td></tr>\n",
       "\t<tr><td>NA             </td><td>3.5941099</td></tr>\n",
       "\t<tr><td>Brooklyn       </td><td>3.5629279</td></tr>\n",
       "\t<tr><td>Nassau County  </td><td>3.3624759</td></tr>\n",
       "\t<tr><td>Westchester    </td><td>2.5821086</td></tr>\n",
       "\t<tr><td>All Boroughs   </td><td>1.8289992</td></tr>\n",
       "\t<tr><td>Manhattan      </td><td>1.5225093</td></tr>\n",
       "\t<tr><td>Staten Island  </td><td>1.1305653</td></tr>\n",
       "\t<tr><td>Connecticut    </td><td>0.8918919</td></tr>\n",
       "</tbody>\n",
       "</table>\n"
      ],
      "text/latex": [
       "A tibble: 12 × 2\n",
       "\\begin{tabular}{ll}\n",
       " boro & mean\\_affected\\\\\n",
       " <chr> & <dbl>\\\\\n",
       "\\hline\n",
       "\t New Jersey      & 5.9640411\\\\\n",
       "\t Rockland County & 5.3813084\\\\\n",
       "\t Bronx           & 4.7846758\\\\\n",
       "\t Queens          & 3.9113918\\\\\n",
       "\t NA              & 3.5941099\\\\\n",
       "\t Brooklyn        & 3.5629279\\\\\n",
       "\t Nassau County   & 3.3624759\\\\\n",
       "\t Westchester     & 2.5821086\\\\\n",
       "\t All Boroughs    & 1.8289992\\\\\n",
       "\t Manhattan       & 1.5225093\\\\\n",
       "\t Staten Island   & 1.1305653\\\\\n",
       "\t Connecticut     & 0.8918919\\\\\n",
       "\\end{tabular}\n"
      ],
      "text/markdown": [
       "\n",
       "A tibble: 12 × 2\n",
       "\n",
       "| boro &lt;chr&gt; | mean_affected &lt;dbl&gt; |\n",
       "|---|---|\n",
       "| New Jersey      | 5.9640411 |\n",
       "| Rockland County | 5.3813084 |\n",
       "| Bronx           | 4.7846758 |\n",
       "| Queens          | 3.9113918 |\n",
       "| NA              | 3.5941099 |\n",
       "| Brooklyn        | 3.5629279 |\n",
       "| Nassau County   | 3.3624759 |\n",
       "| Westchester     | 2.5821086 |\n",
       "| All Boroughs    | 1.8289992 |\n",
       "| Manhattan       | 1.5225093 |\n",
       "| Staten Island   | 1.1305653 |\n",
       "| Connecticut     | 0.8918919 |\n",
       "\n"
      ],
      "text/plain": [
       "   boro            mean_affected\n",
       "1  New Jersey      5.9640411    \n",
       "2  Rockland County 5.3813084    \n",
       "3  Bronx           4.7846758    \n",
       "4  Queens          3.9113918    \n",
       "5  NA              3.5941099    \n",
       "6  Brooklyn        3.5629279    \n",
       "7  Nassau County   3.3624759    \n",
       "8  Westchester     2.5821086    \n",
       "9  All Boroughs    1.8289992    \n",
       "10 Manhattan       1.5225093    \n",
       "11 Staten Island   1.1305653    \n",
       "12 Connecticut     0.8918919    "
      ]
     },
     "metadata": {},
     "output_type": "display_data"
    }
   ],
   "source": [
    "data %>% \n",
    "    group_by(boro) %>% \n",
    "    summarise(mean_affected = mean(number_of_students_on_the_bus, na.rm = T)) %>% \n",
    "    arrange(-mean_affected)"
   ]
  },
  {
   "attachments": {},
   "cell_type": "markdown",
   "metadata": {},
   "source": [
    "5. Which reasons occur most frequently at which times in\n",
    "    - the week\n",
    "    - a day"
   ]
  },
  {
   "cell_type": "code",
   "execution_count": 39,
   "metadata": {
    "vscode": {
     "languageId": "r"
    }
   },
   "outputs": [
    {
     "data": {
      "image/png": "[encoded data removed]",
      "text/plain": [
       "plot without title"
      ]
     },
     "metadata": {
      "image/png": {
       "height": 240,
       "width": 480
      }
     },
     "output_type": "display_data"
    }
   ],
   "source": [
    "options(repr.plot.width=8, repr.plot.height=4)\n",
    "\n",
    "data %>% \n",
    "  transmute(hour = hour(occurred_on), reason) %>% \n",
    "  ggplot(aes(x = hour, fill = reason)) +\n",
    "  geom_histogram(binwidth = 1, colour = \"white\") +\n",
    "  labs(title = \"Delay Reasons by Hour within the Day\", x = \"Hour within Day (0-23)\") +\n",
    "  facet_wrap(~ reason, scales = \"free_y\") +\n",
    "  theme(legend.position = \"none\")"
   ]
  },
  {
   "cell_type": "code",
   "execution_count": 40,
   "metadata": {
    "vscode": {
     "languageId": "r"
    }
   },
   "outputs": [
    {
     "data": {
      "image/png": "[encoded data removed]",
      "text/plain": [
       "plot without title"
      ]
     },
     "metadata": {
      "image/png": {
       "height": 240,
       "width": 480
      }
     },
     "output_type": "display_data"
    }
   ],
   "source": [
    "data %>% \n",
    "  transmute(doy = yday(occurred_on), reason) %>% \n",
    "  ggplot(aes(x = doy, fill = reason)) +\n",
    "  geom_histogram(bins = 52) +\n",
    "  facet_wrap(~ reason, scales = \"free_y\") +\n",
    "  labs(title = \"Breakdown Reason by Day in Year\", x = \"Day in Year (1-365)\") +\n",
    "  theme(legend.position = \"none\")"
   ]
  },
  {
   "attachments": {},
   "cell_type": "markdown",
   "metadata": {},
   "source": [
    "6. Average delay by reason of delay"
   ]
  },
  {
   "cell_type": "code",
   "execution_count": 26,
   "metadata": {
    "vscode": {
     "languageId": "r"
    }
   },
   "outputs": [
    {
     "data": {
      "image/png": "[encoded data removed]",
      "text/plain": [
       "plot without title"
      ]
     },
     "metadata": {
      "image/png": {
       "height": 180,
       "width": 420
      }
     },
     "output_type": "display_data"
    }
   ],
   "source": [
    "options(repr.plot.width=7, repr.plot.height=3)\n",
    "\n",
    "data %>% \n",
    "  group_by(reason) %>% \n",
    "  summarise(mean_delay = mean(how_long_delayed, na.rm = T)) %>% \n",
    "  ggplot(aes(mean_delay, \n",
    "             reason %>% reorder(mean_delay))) +\n",
    "  geom_col(fill = \"midnightblue\", alpha = 0.6) +\n",
    "  labs(title = \"Accidents are terrible news for arriving on time...\\nWho could have guessed?\",\n",
    "       y = NULL, x = \"Average Delay\") +\n",
    "  scale_x_continuous(labels = number_format(suffix = \"min\"))"
   ]
  }
 ],
 "metadata": {
  "kernelspec": {
   "display_name": "R",
   "language": "R",
   "name": "ir"
  },
  "language_info": {
   "codemirror_mode": "r",
   "file_extension": ".r",
   "mimetype": "text/x-r-source",
   "name": "R",
   "pygments_lexer": "r",
   "version": "4.2.1"
  },
  "orig_nbformat": 4,
  "vscode": {
   "interpreter": {
    "hash": "607db476e417971f05b607c2dd14e77ee8262c2c4c20dea422522c60605a222a"
   }
  }
 },
 "nbformat": 4,
 "nbformat_minor": 2
}
