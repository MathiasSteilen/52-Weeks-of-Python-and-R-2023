{
 "cells": [
  {
   "attachments": {},
   "cell_type": "markdown",
   "metadata": {},
   "source": [
    "# LightGBM in `sklearn`"
   ]
  },
  {
   "cell_type": "code",
   "execution_count": 168,
   "metadata": {},
   "outputs": [
    {
     "data": {
      "text/plain": [
       "<contextlib._GeneratorContextManager at 0x23cddc59d20>"
      ]
     },
     "execution_count": 168,
     "metadata": {},
     "output_type": "execute_result"
    }
   ],
   "source": [
    "# Import packages\n",
    "import pandas as pd\n",
    "import numpy as np\n",
    "import matplotlib.pyplot as plt\n",
    "import os as os\n",
    "from plotnine import *\n",
    "\n",
    "from lightgbm import LGBMRegressor\n",
    "from xgboost import XGBRegressor\n",
    "from sklearn.model_selection import train_test_split, GridSearchCV\n",
    "from sklearn.impute import SimpleImputer\n",
    "from sklearn.experimental import enable_iterative_imputer\n",
    "from sklearn.impute import IterativeImputer, KNNImputer\n",
    "from sklearn.pipeline import FeatureUnion, make_pipeline, Pipeline\n",
    "from sklearn.compose import ColumnTransformer\n",
    "from sklearn.preprocessing import LabelEncoder, StandardScaler, OneHotEncoder\n",
    "from sklearn.metrics import r2_score, mean_absolute_error, mean_absolute_percentage_error\n",
    "from sklearn import config_context\n",
    "\n",
    "config_context(transform_output=\"pandas\")"
   ]
  },
  {
   "cell_type": "code",
   "execution_count": 156,
   "metadata": {},
   "outputs": [
    {
     "data": {
      "text/html": [
       "<div>\n",
       "<style scoped>\n",
       "    .dataframe tbody tr th:only-of-type {\n",
       "        vertical-align: middle;\n",
       "    }\n",
       "\n",
       "    .dataframe tbody tr th {\n",
       "        vertical-align: top;\n",
       "    }\n",
       "\n",
       "    .dataframe thead th {\n",
       "        text-align: right;\n",
       "    }\n",
       "</style>\n",
       "<table border=\"1\" class=\"dataframe\">\n",
       "  <thead>\n",
       "    <tr style=\"text-align: right;\">\n",
       "      <th></th>\n",
       "      <th>age</th>\n",
       "      <th>sex</th>\n",
       "      <th>bmi</th>\n",
       "      <th>children</th>\n",
       "      <th>smoker</th>\n",
       "      <th>region</th>\n",
       "      <th>charges</th>\n",
       "    </tr>\n",
       "  </thead>\n",
       "  <tbody>\n",
       "    <tr>\n",
       "      <th>0</th>\n",
       "      <td>61</td>\n",
       "      <td>female</td>\n",
       "      <td>25.08</td>\n",
       "      <td>0</td>\n",
       "      <td>no</td>\n",
       "      <td>southeast</td>\n",
       "      <td>24513.09126</td>\n",
       "    </tr>\n",
       "    <tr>\n",
       "      <th>1</th>\n",
       "      <td>41</td>\n",
       "      <td>male</td>\n",
       "      <td>29.64</td>\n",
       "      <td>5</td>\n",
       "      <td>no</td>\n",
       "      <td>northeast</td>\n",
       "      <td>9222.40260</td>\n",
       "    </tr>\n",
       "    <tr>\n",
       "      <th>2</th>\n",
       "      <td>25</td>\n",
       "      <td>male</td>\n",
       "      <td>26.22</td>\n",
       "      <td>0</td>\n",
       "      <td>no</td>\n",
       "      <td>northeast</td>\n",
       "      <td>2721.32080</td>\n",
       "    </tr>\n",
       "  </tbody>\n",
       "</table>\n",
       "</div>"
      ],
      "text/plain": [
       "   age     sex    bmi children smoker     region      charges\n",
       "0   61  female  25.08        0     no  southeast  24513.09126\n",
       "1   41    male  29.64        5     no  northeast   9222.40260\n",
       "2   25    male  26.22        0     no  northeast   2721.32080"
      ]
     },
     "execution_count": 156,
     "metadata": {},
     "output_type": "execute_result"
    }
   ],
   "source": [
    "# import data\n",
    "dt_train = pd.read_csv(\"train.csv\").astype({\"children\":\"category\"})\n",
    "dt_test = pd.read_csv(\"test.csv\").astype({\"children\":\"category\"})\n",
    "\n",
    "dt_train.head(3)"
   ]
  },
  {
   "cell_type": "code",
   "execution_count": 17,
   "metadata": {},
   "outputs": [],
   "source": [
    "X_train, y_train = dt_train.drop(\"charges\", axis=1), dt_train[\"charges\"]\n",
    "X_test, y_test = dt_test.drop(\"charges\", axis=1), dt_test[\"charges\"]"
   ]
  },
  {
   "cell_type": "code",
   "execution_count": 157,
   "metadata": {},
   "outputs": [],
   "source": [
    "# Convert objects to categories\n",
    "for dataset in [X_train, X_test]:\n",
    "    for col in dataset.select_dtypes(include=\"object\").columns:\n",
    "        dataset[col] = dataset[col].astype(\"category\")"
   ]
  },
  {
   "cell_type": "code",
   "execution_count": 158,
   "metadata": {},
   "outputs": [
    {
     "name": "stdout",
     "output_type": "stream",
     "text": [
      "age            int64\n",
      "sex         category\n",
      "bmi          float64\n",
      "children    category\n",
      "smoker      category\n",
      "region      category\n",
      "dtype: object\n",
      "------------------------------\n",
      "age            int64\n",
      "sex         category\n",
      "bmi          float64\n",
      "children    category\n",
      "smoker      category\n",
      "region      category\n",
      "dtype: object\n",
      "------------------------------\n"
     ]
    }
   ],
   "source": [
    "# Check if it has worked:\n",
    "for dataset in [X_train, X_test]:\n",
    "    print(dataset.dtypes)\n",
    "    print(\"------------------------------\")"
   ]
  },
  {
   "attachments": {},
   "cell_type": "markdown",
   "metadata": {},
   "source": [
    "### Pipeline:"
   ]
  },
  {
   "cell_type": "code",
   "execution_count": 159,
   "metadata": {},
   "outputs": [],
   "source": [
    "# Specify numerical and categorical columns for preprocessing:\n",
    "num_cols = X_train.select_dtypes(include=[np.number]).columns\n",
    "cat_cols = [x for x in X_train.columns if x not in num_cols]"
   ]
  },
  {
   "attachments": {},
   "cell_type": "markdown",
   "metadata": {},
   "source": [
    "No missing values, only need to scale and onehot encode:"
   ]
  },
  {
   "cell_type": "code",
   "execution_count": 170,
   "metadata": {},
   "outputs": [],
   "source": [
    "# Making pipelines for column transformer\n",
    "numeric_transformer = Pipeline(steps=[\n",
    "    (\"scaler\", StandardScaler()),\n",
    "])\n",
    "\n",
    "categorical_transformer = Pipeline(steps=[\n",
    "    (\"encoder\", OneHotEncoder()),\n",
    "])\n",
    "\n",
    "# Making column transformer\n",
    "preprocessor = ColumnTransformer(\n",
    "    transformers=[(\"numeric\", numeric_transformer, num_cols),\n",
    "                  (\"categorical\", categorical_transformer, cat_cols)]\n",
    ")\n",
    "\n",
    "# Making model pipeline for lightgbm\n",
    "lgbm_pipeline = Pipeline(steps=[\n",
    "    (\"preprocessing\", preprocessor),\n",
    "    (\"LGBMmodel\", LGBMRegressor())\n",
    "])\n",
    "\n",
    "xg_pipeline = Pipeline(steps=[\n",
    "    (\"preprocessing\", preprocessor),\n",
    "    (\"XGmodel\", XGBRegressor())\n",
    "])\n"
   ]
  },
  {
   "attachments": {},
   "cell_type": "markdown",
   "metadata": {},
   "source": [
    "See transformed dataset:"
   ]
  },
  {
   "cell_type": "code",
   "execution_count": 172,
   "metadata": {},
   "outputs": [
    {
     "data": {
      "text/html": [
       "<div>\n",
       "<style scoped>\n",
       "    .dataframe tbody tr th:only-of-type {\n",
       "        vertical-align: middle;\n",
       "    }\n",
       "\n",
       "    .dataframe tbody tr th {\n",
       "        vertical-align: top;\n",
       "    }\n",
       "\n",
       "    .dataframe thead th {\n",
       "        text-align: right;\n",
       "    }\n",
       "</style>\n",
       "<table border=\"1\" class=\"dataframe\">\n",
       "  <thead>\n",
       "    <tr style=\"text-align: right;\">\n",
       "      <th></th>\n",
       "      <th>numeric__age</th>\n",
       "      <th>numeric__bmi</th>\n",
       "      <th>categorical__sex_female</th>\n",
       "      <th>categorical__sex_male</th>\n",
       "      <th>categorical__children_0</th>\n",
       "      <th>categorical__children_1</th>\n",
       "      <th>categorical__children_2</th>\n",
       "      <th>categorical__children_3</th>\n",
       "      <th>categorical__children_4</th>\n",
       "      <th>categorical__children_5</th>\n",
       "      <th>categorical__smoker_no</th>\n",
       "      <th>categorical__smoker_yes</th>\n",
       "      <th>categorical__region_northeast</th>\n",
       "      <th>categorical__region_northwest</th>\n",
       "      <th>categorical__region_southeast</th>\n",
       "      <th>categorical__region_southwest</th>\n",
       "    </tr>\n",
       "  </thead>\n",
       "  <tbody>\n",
       "    <tr>\n",
       "      <th>0</th>\n",
       "      <td>1.563678</td>\n",
       "      <td>-0.919141</td>\n",
       "      <td>1.0</td>\n",
       "      <td>0.0</td>\n",
       "      <td>1.0</td>\n",
       "      <td>0.0</td>\n",
       "      <td>0.0</td>\n",
       "      <td>0.0</td>\n",
       "      <td>0.0</td>\n",
       "      <td>0.0</td>\n",
       "      <td>1.0</td>\n",
       "      <td>0.0</td>\n",
       "      <td>0.0</td>\n",
       "      <td>0.0</td>\n",
       "      <td>1.0</td>\n",
       "      <td>0.0</td>\n",
       "    </tr>\n",
       "    <tr>\n",
       "      <th>1</th>\n",
       "      <td>0.137564</td>\n",
       "      <td>-0.167432</td>\n",
       "      <td>0.0</td>\n",
       "      <td>1.0</td>\n",
       "      <td>0.0</td>\n",
       "      <td>0.0</td>\n",
       "      <td>0.0</td>\n",
       "      <td>0.0</td>\n",
       "      <td>0.0</td>\n",
       "      <td>1.0</td>\n",
       "      <td>1.0</td>\n",
       "      <td>0.0</td>\n",
       "      <td>1.0</td>\n",
       "      <td>0.0</td>\n",
       "      <td>0.0</td>\n",
       "      <td>0.0</td>\n",
       "    </tr>\n",
       "    <tr>\n",
       "      <th>2</th>\n",
       "      <td>-1.003328</td>\n",
       "      <td>-0.731214</td>\n",
       "      <td>0.0</td>\n",
       "      <td>1.0</td>\n",
       "      <td>1.0</td>\n",
       "      <td>0.0</td>\n",
       "      <td>0.0</td>\n",
       "      <td>0.0</td>\n",
       "      <td>0.0</td>\n",
       "      <td>0.0</td>\n",
       "      <td>1.0</td>\n",
       "      <td>0.0</td>\n",
       "      <td>1.0</td>\n",
       "      <td>0.0</td>\n",
       "      <td>0.0</td>\n",
       "      <td>0.0</td>\n",
       "    </tr>\n",
       "    <tr>\n",
       "      <th>3</th>\n",
       "      <td>-1.288551</td>\n",
       "      <td>-0.543287</td>\n",
       "      <td>0.0</td>\n",
       "      <td>1.0</td>\n",
       "      <td>1.0</td>\n",
       "      <td>0.0</td>\n",
       "      <td>0.0</td>\n",
       "      <td>0.0</td>\n",
       "      <td>0.0</td>\n",
       "      <td>0.0</td>\n",
       "      <td>1.0</td>\n",
       "      <td>0.0</td>\n",
       "      <td>1.0</td>\n",
       "      <td>0.0</td>\n",
       "      <td>0.0</td>\n",
       "      <td>0.0</td>\n",
       "    </tr>\n",
       "    <tr>\n",
       "      <th>4</th>\n",
       "      <td>0.208870</td>\n",
       "      <td>-0.619117</td>\n",
       "      <td>0.0</td>\n",
       "      <td>1.0</td>\n",
       "      <td>1.0</td>\n",
       "      <td>0.0</td>\n",
       "      <td>0.0</td>\n",
       "      <td>0.0</td>\n",
       "      <td>0.0</td>\n",
       "      <td>0.0</td>\n",
       "      <td>1.0</td>\n",
       "      <td>0.0</td>\n",
       "      <td>0.0</td>\n",
       "      <td>0.0</td>\n",
       "      <td>0.0</td>\n",
       "      <td>1.0</td>\n",
       "    </tr>\n",
       "    <tr>\n",
       "      <th>...</th>\n",
       "      <td>...</td>\n",
       "      <td>...</td>\n",
       "      <td>...</td>\n",
       "      <td>...</td>\n",
       "      <td>...</td>\n",
       "      <td>...</td>\n",
       "      <td>...</td>\n",
       "      <td>...</td>\n",
       "      <td>...</td>\n",
       "      <td>...</td>\n",
       "      <td>...</td>\n",
       "      <td>...</td>\n",
       "      <td>...</td>\n",
       "      <td>...</td>\n",
       "      <td>...</td>\n",
       "      <td>...</td>\n",
       "    </tr>\n",
       "    <tr>\n",
       "      <th>998</th>\n",
       "      <td>1.278455</td>\n",
       "      <td>1.601392</td>\n",
       "      <td>0.0</td>\n",
       "      <td>1.0</td>\n",
       "      <td>1.0</td>\n",
       "      <td>0.0</td>\n",
       "      <td>0.0</td>\n",
       "      <td>0.0</td>\n",
       "      <td>0.0</td>\n",
       "      <td>0.0</td>\n",
       "      <td>1.0</td>\n",
       "      <td>0.0</td>\n",
       "      <td>0.0</td>\n",
       "      <td>0.0</td>\n",
       "      <td>1.0</td>\n",
       "      <td>0.0</td>\n",
       "    </tr>\n",
       "    <tr>\n",
       "      <th>999</th>\n",
       "      <td>-1.359856</td>\n",
       "      <td>-1.426874</td>\n",
       "      <td>0.0</td>\n",
       "      <td>1.0</td>\n",
       "      <td>0.0</td>\n",
       "      <td>1.0</td>\n",
       "      <td>0.0</td>\n",
       "      <td>0.0</td>\n",
       "      <td>0.0</td>\n",
       "      <td>0.0</td>\n",
       "      <td>1.0</td>\n",
       "      <td>0.0</td>\n",
       "      <td>0.0</td>\n",
       "      <td>0.0</td>\n",
       "      <td>0.0</td>\n",
       "      <td>1.0</td>\n",
       "    </tr>\n",
       "    <tr>\n",
       "      <th>1000</th>\n",
       "      <td>-1.502468</td>\n",
       "      <td>-1.626341</td>\n",
       "      <td>1.0</td>\n",
       "      <td>0.0</td>\n",
       "      <td>1.0</td>\n",
       "      <td>0.0</td>\n",
       "      <td>0.0</td>\n",
       "      <td>0.0</td>\n",
       "      <td>0.0</td>\n",
       "      <td>0.0</td>\n",
       "      <td>1.0</td>\n",
       "      <td>0.0</td>\n",
       "      <td>0.0</td>\n",
       "      <td>0.0</td>\n",
       "      <td>1.0</td>\n",
       "      <td>0.0</td>\n",
       "    </tr>\n",
       "    <tr>\n",
       "      <th>1001</th>\n",
       "      <td>0.280175</td>\n",
       "      <td>-0.621590</td>\n",
       "      <td>1.0</td>\n",
       "      <td>0.0</td>\n",
       "      <td>1.0</td>\n",
       "      <td>0.0</td>\n",
       "      <td>0.0</td>\n",
       "      <td>0.0</td>\n",
       "      <td>0.0</td>\n",
       "      <td>0.0</td>\n",
       "      <td>0.0</td>\n",
       "      <td>1.0</td>\n",
       "      <td>0.0</td>\n",
       "      <td>1.0</td>\n",
       "      <td>0.0</td>\n",
       "      <td>0.0</td>\n",
       "    </tr>\n",
       "    <tr>\n",
       "      <th>1002</th>\n",
       "      <td>1.349761</td>\n",
       "      <td>0.693901</td>\n",
       "      <td>0.0</td>\n",
       "      <td>1.0</td>\n",
       "      <td>1.0</td>\n",
       "      <td>0.0</td>\n",
       "      <td>0.0</td>\n",
       "      <td>0.0</td>\n",
       "      <td>0.0</td>\n",
       "      <td>0.0</td>\n",
       "      <td>1.0</td>\n",
       "      <td>0.0</td>\n",
       "      <td>1.0</td>\n",
       "      <td>0.0</td>\n",
       "      <td>0.0</td>\n",
       "      <td>0.0</td>\n",
       "    </tr>\n",
       "  </tbody>\n",
       "</table>\n",
       "<p>1003 rows × 16 columns</p>\n",
       "</div>"
      ],
      "text/plain": [
       "      numeric__age  numeric__bmi  categorical__sex_female  \\\n",
       "0         1.563678     -0.919141                      1.0   \n",
       "1         0.137564     -0.167432                      0.0   \n",
       "2        -1.003328     -0.731214                      0.0   \n",
       "3        -1.288551     -0.543287                      0.0   \n",
       "4         0.208870     -0.619117                      0.0   \n",
       "...            ...           ...                      ...   \n",
       "998       1.278455      1.601392                      0.0   \n",
       "999      -1.359856     -1.426874                      0.0   \n",
       "1000     -1.502468     -1.626341                      1.0   \n",
       "1001      0.280175     -0.621590                      1.0   \n",
       "1002      1.349761      0.693901                      0.0   \n",
       "\n",
       "      categorical__sex_male  categorical__children_0  categorical__children_1  \\\n",
       "0                       0.0                      1.0                      0.0   \n",
       "1                       1.0                      0.0                      0.0   \n",
       "2                       1.0                      1.0                      0.0   \n",
       "3                       1.0                      1.0                      0.0   \n",
       "4                       1.0                      1.0                      0.0   \n",
       "...                     ...                      ...                      ...   \n",
       "998                     1.0                      1.0                      0.0   \n",
       "999                     1.0                      0.0                      1.0   \n",
       "1000                    0.0                      1.0                      0.0   \n",
       "1001                    0.0                      1.0                      0.0   \n",
       "1002                    1.0                      1.0                      0.0   \n",
       "\n",
       "      categorical__children_2  categorical__children_3  \\\n",
       "0                         0.0                      0.0   \n",
       "1                         0.0                      0.0   \n",
       "2                         0.0                      0.0   \n",
       "3                         0.0                      0.0   \n",
       "4                         0.0                      0.0   \n",
       "...                       ...                      ...   \n",
       "998                       0.0                      0.0   \n",
       "999                       0.0                      0.0   \n",
       "1000                      0.0                      0.0   \n",
       "1001                      0.0                      0.0   \n",
       "1002                      0.0                      0.0   \n",
       "\n",
       "      categorical__children_4  categorical__children_5  \\\n",
       "0                         0.0                      0.0   \n",
       "1                         0.0                      1.0   \n",
       "2                         0.0                      0.0   \n",
       "3                         0.0                      0.0   \n",
       "4                         0.0                      0.0   \n",
       "...                       ...                      ...   \n",
       "998                       0.0                      0.0   \n",
       "999                       0.0                      0.0   \n",
       "1000                      0.0                      0.0   \n",
       "1001                      0.0                      0.0   \n",
       "1002                      0.0                      0.0   \n",
       "\n",
       "      categorical__smoker_no  categorical__smoker_yes  \\\n",
       "0                        1.0                      0.0   \n",
       "1                        1.0                      0.0   \n",
       "2                        1.0                      0.0   \n",
       "3                        1.0                      0.0   \n",
       "4                        1.0                      0.0   \n",
       "...                      ...                      ...   \n",
       "998                      1.0                      0.0   \n",
       "999                      1.0                      0.0   \n",
       "1000                     1.0                      0.0   \n",
       "1001                     0.0                      1.0   \n",
       "1002                     1.0                      0.0   \n",
       "\n",
       "      categorical__region_northeast  categorical__region_northwest  \\\n",
       "0                               0.0                            0.0   \n",
       "1                               1.0                            0.0   \n",
       "2                               1.0                            0.0   \n",
       "3                               1.0                            0.0   \n",
       "4                               0.0                            0.0   \n",
       "...                             ...                            ...   \n",
       "998                             0.0                            0.0   \n",
       "999                             0.0                            0.0   \n",
       "1000                            0.0                            0.0   \n",
       "1001                            0.0                            1.0   \n",
       "1002                            1.0                            0.0   \n",
       "\n",
       "      categorical__region_southeast  categorical__region_southwest  \n",
       "0                               1.0                            0.0  \n",
       "1                               0.0                            0.0  \n",
       "2                               0.0                            0.0  \n",
       "3                               0.0                            0.0  \n",
       "4                               0.0                            1.0  \n",
       "...                             ...                            ...  \n",
       "998                             1.0                            0.0  \n",
       "999                             0.0                            1.0  \n",
       "1000                            1.0                            0.0  \n",
       "1001                            0.0                            0.0  \n",
       "1002                            0.0                            0.0  \n",
       "\n",
       "[1003 rows x 16 columns]"
      ]
     },
     "execution_count": 172,
     "metadata": {},
     "output_type": "execute_result"
    }
   ],
   "source": [
    "pd.DataFrame(preprocessor.fit_transform(X_train, y_train),\n",
    "             columns=xg_pipeline[:-1].get_feature_names_out())\n"
   ]
  },
  {
   "attachments": {},
   "cell_type": "markdown",
   "metadata": {},
   "source": [
    "Skip hyperparameter tuning, just fit like XGBoost:"
   ]
  },
  {
   "cell_type": "code",
   "execution_count": 173,
   "metadata": {},
   "outputs": [],
   "source": [
    "lgbm_fit = lgbm_pipeline.fit(X_train, y_train) "
   ]
  },
  {
   "cell_type": "code",
   "execution_count": 174,
   "metadata": {},
   "outputs": [],
   "source": [
    "xg_fit = xg_pipeline.fit(X_train, y_train) "
   ]
  },
  {
   "cell_type": "code",
   "execution_count": 176,
   "metadata": {},
   "outputs": [
    {
     "name": "stdout",
     "output_type": "stream",
     "text": [
      "R-Squared: 0.865443414932083\n",
      "MAE: 2555.8266870148336\n",
      "MAPE: 0.3251270993504258\n"
     ]
    }
   ],
   "source": [
    "# Print the metrics for LGBM\n",
    "print(f\"R-Squared: {r2_score(y_pred=lgbm_fit.predict(X_test), y_true=y_test)}\")\n",
    "print(f\"MAE: {mean_absolute_error(y_pred=lgbm_fit.predict(X_test), y_true=y_test)}\")\n",
    "print(f\"MAPE: {mean_absolute_percentage_error(y_pred=lgbm_fit.predict(X_test), y_true=y_test)}\")"
   ]
  },
  {
   "cell_type": "code",
   "execution_count": 175,
   "metadata": {},
   "outputs": [
    {
     "name": "stdout",
     "output_type": "stream",
     "text": [
      "R-Squared: 0.8334400636802267\n",
      "MAE: 2975.6526215350104\n",
      "MAPE: 0.3859308347476868\n"
     ]
    }
   ],
   "source": [
    "# Print the metrics for XGB\n",
    "print(f\"R-Squared: {r2_score(y_pred=xg_fit.predict(X_test), y_true=y_test)}\")\n",
    "print(f\"MAE: {mean_absolute_error(y_pred=xg_fit.predict(X_test), y_true=y_test)}\")\n",
    "print(f\"MAPE: {mean_absolute_percentage_error(y_pred=xg_fit.predict(X_test), y_true=y_test)}\")"
   ]
  },
  {
   "cell_type": "code",
   "execution_count": 177,
   "metadata": {},
   "outputs": [
    {
     "data": {
      "image/png": "[encoded data removed]",
      "text/plain": [
       "<Figure size 500x300 with 1 Axes>"
      ]
     },
     "metadata": {},
     "output_type": "display_data"
    },
    {
     "data": {
      "text/plain": [
       "<ggplot: (153774047169)>"
      ]
     },
     "execution_count": 177,
     "metadata": {},
     "output_type": "execute_result"
    }
   ],
   "source": [
    "predictions = pd.DataFrame(\n",
    "    {\"predictions\": xg_fit.predict(X_test), \"truth\": y_test})\n",
    "\n",
    "p = (ggplot(data=predictions, mapping=aes(x=\"truth\", y=\"predictions\")) +\n",
    "    geom_point(colour=\"#4584b6\", alpha=0.5) +\n",
    "    geom_abline() +\n",
    "    labs(title=\"XGBoost: Predicted vs. Actual Values\",\n",
    "         y=\"Predictions\", x=\"Actuals\") +\n",
    "    theme_bw() +\n",
    "    theme(figure_size=[5, 3])\n",
    ")\n",
    "\n",
    "p"
   ]
  },
  {
   "cell_type": "code",
   "execution_count": 179,
   "metadata": {},
   "outputs": [
    {
     "data": {
      "image/png": "[encoded data removed]",
      "text/plain": [
       "<Figure size 500x300 with 1 Axes>"
      ]
     },
     "metadata": {},
     "output_type": "display_data"
    },
    {
     "data": {
      "text/plain": [
       "<ggplot: (153777658304)>"
      ]
     },
     "execution_count": 179,
     "metadata": {},
     "output_type": "execute_result"
    }
   ],
   "source": [
    "predictions = pd.DataFrame(\n",
    "    {\"predictions\": lgbm_fit.predict(X_test), \"truth\": y_test})\n",
    "\n",
    "p = (ggplot(data=predictions, mapping=aes(x=\"truth\", y=\"predictions\")) +\n",
    "    geom_point(colour=\"#4584b6\", alpha=0.5) +\n",
    "    geom_abline() +\n",
    "    labs(title=\"LGBM: Predicted vs. Actual Values\",\n",
    "         y=\"Predictions\", x=\"Actuals\") +\n",
    "    theme_bw() +\n",
    "    theme(figure_size=[5, 3])\n",
    ")\n",
    "\n",
    "p"
   ]
  }
 ],
 "metadata": {
  "kernelspec": {
   "display_name": "Python 3",
   "language": "python",
   "name": "python3"
  },
  "language_info": {
   "codemirror_mode": {
    "name": "ipython",
    "version": 3
   },
   "file_extension": ".py",
   "mimetype": "text/x-python",
   "name": "python",
   "nbconvert_exporter": "python",
   "pygments_lexer": "ipython3",
   "version": "3.10.5 (tags/v3.10.5:f377153, Jun  6 2022, 16:14:13) [MSC v.1929 64 bit (AMD64)]"
  },
  "orig_nbformat": 4,
  "vscode": {
   "interpreter": {
    "hash": "607db476e417971f05b607c2dd14e77ee8262c2c4c20dea422522c60605a222a"
   }
  }
 },
 "nbformat": 4,
 "nbformat_minor": 2
}
