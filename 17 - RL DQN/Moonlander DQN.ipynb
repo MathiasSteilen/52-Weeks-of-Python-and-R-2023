{
 "cells": [
  {
   "attachments": {},
   "cell_type": "markdown",
   "metadata": {},
   "source": [
    "### Solving Moonlander with DQN"
   ]
  },
  {
   "cell_type": "code",
   "execution_count": 44,
   "metadata": {},
   "outputs": [],
   "source": [
    "import numpy as np\n",
    "import pandas as pd\n",
    "from plotnine import *\n",
    "import matplotlib.pyplot as plt\n",
    "from mizani.formatters import percent_format, comma_format\n",
    "from IPython.display import clear_output, display\n",
    "\n",
    "import collections\n",
    "# import time\n",
    "\n",
    "import gym\n",
    "import torch\n",
    "import torch.nn as nn\n",
    "import torch.optim as optim\n",
    "\n",
    "pd.set_option('display.max.columns', 500)\n",
    "plt.rcParams['figure.figsize'] = [4, 4]"
   ]
  },
  {
   "attachments": {},
   "cell_type": "markdown",
   "metadata": {},
   "source": [
    "### Note for Installation:\n",
    "\n",
    "Had to additionally install C++ Build tools to make the environment work with `gym[Box2D]`. See [here](https://visualstudio.microsoft.com/visual-cpp-build-tools/)."
   ]
  },
  {
   "attachments": {},
   "cell_type": "markdown",
   "metadata": {},
   "source": [
    "### The Game:\n",
    "\n",
    "<img src='Images/lunar_lander.gif' width=300 style='float:left; margin:0px 10px 0px 0px'/>\n",
    "\n",
    "This environment is a classic rocket trajectory optimization problem. According to Pontryagin’s maximum principle, it is optimal to fire the engine at full throttle or turn it off. This is the reason why this environment has discrete actions: engine on or off. The lander starts at the top center of the viewport with a random initial force applied to its center of mass.\n",
    "\n",
    "The landing pad is always at coordinates (0,0). The coordinates are the first two numbers in the state vector. Landing outside of the landing pad is possible. Fuel is infinite, so an agent can learn to fly and then land on its first attempt."
   ]
  },
  {
   "cell_type": "code",
   "execution_count": 45,
   "metadata": {},
   "outputs": [],
   "source": [
    "env = gym.make(\"LunarLander-v2\", render_mode='rgb_array')"
   ]
  },
  {
   "cell_type": "code",
   "execution_count": 46,
   "metadata": {},
   "outputs": [
    {
     "data": {
      "text/plain": [
       "<matplotlib.image.AxesImage at 0x234d1381ff0>"
      ]
     },
     "execution_count": 46,
     "metadata": {},
     "output_type": "execute_result"
    },
    {
     "data": {
      "image/png": "[encoded data removed]",
      "text/plain": [
       "<Figure size 400x400 with 1 Axes>"
      ]
     },
     "metadata": {},
     "output_type": "display_data"
    }
   ],
   "source": [
    "env.reset()\n",
    "plt.imshow(env.render())"
   ]
  },
  {
   "attachments": {},
   "cell_type": "markdown",
   "metadata": {},
   "source": [
    "### The Observation Space\n",
    "\n",
    "The state is an 8-dimensional vector:\n",
    "- the coordinates of the lander in x & y, \n",
    "- its linear velocities in x & y, \n",
    "- its angle, \n",
    "- its angular velocity, and\n",
    "- two booleans that represent whether each leg is in contact with the ground or not."
   ]
  },
  {
   "cell_type": "code",
   "execution_count": 47,
   "metadata": {},
   "outputs": [
    {
     "data": {
      "text/plain": [
       "array([ 0.00656691,  1.4087325 ,  0.6651418 , -0.09724461, -0.00760264,\n",
       "       -0.1506646 ,  0.        ,  0.        ], dtype=float32)"
      ]
     },
     "execution_count": 47,
     "metadata": {},
     "output_type": "execute_result"
    }
   ],
   "source": [
    "obs, _ = env.reset()\n",
    "obs"
   ]
  },
  {
   "cell_type": "code",
   "execution_count": 48,
   "metadata": {},
   "outputs": [
    {
     "data": {
      "text/plain": [
       "[-1.5, -1.5, -5.0, -5.0, -3.1415927, -5.0, -0.0, -0.0]"
      ]
     },
     "execution_count": 48,
     "metadata": {},
     "output_type": "execute_result"
    }
   ],
   "source": [
    "list(env.observation_space.low)"
   ]
  },
  {
   "cell_type": "code",
   "execution_count": 49,
   "metadata": {},
   "outputs": [
    {
     "data": {
      "text/plain": [
       "[1.5, 1.5, 5.0, 5.0, 3.1415927, 5.0, 1.0, 1.0]"
      ]
     },
     "execution_count": 49,
     "metadata": {},
     "output_type": "execute_result"
    }
   ],
   "source": [
    "list(env.observation_space.high)"
   ]
  },
  {
   "attachments": {},
   "cell_type": "markdown",
   "metadata": {},
   "source": [
    "Here, you can see the low array and the high array in list form for both measurements respectively."
   ]
  },
  {
   "attachments": {},
   "cell_type": "markdown",
   "metadata": {},
   "source": [
    "### The Action Space\n",
    "\n",
    "There are four discrete actions available: do nothing, fire left orientation engine, fire main engine, fire right orientation engine.\n",
    "\n",
    "|Number|Action|\n",
    "|:-|:-|\n",
    "|0|Nothing|\n",
    "|1|Left fire|\n",
    "|2|Main fire|\n",
    "|3|Right fire|"
   ]
  },
  {
   "cell_type": "code",
   "execution_count": 50,
   "metadata": {},
   "outputs": [
    {
     "data": {
      "text/plain": [
       "Discrete(4)"
      ]
     },
     "execution_count": 50,
     "metadata": {},
     "output_type": "execute_result"
    }
   ],
   "source": [
    "env.action_space"
   ]
  },
  {
   "attachments": {},
   "cell_type": "markdown",
   "metadata": {},
   "source": [
    "### The Reward Structure\n",
    "\n",
    "Reward for moving from the top of the screen to the landing pad and coming to rest is about 100-140 points. If the lander moves away from the landing pad, it loses reward. If the lander crashes, it receives an additional -100 points. If it comes to rest, it receives an additional +100 points. Each leg with ground contact is +10 points. Firing the main engine is -0.3 points each frame. Firing the side engine is -0.03 points each frame. Solved is 200 points."
   ]
  },
  {
   "attachments": {},
   "cell_type": "markdown",
   "metadata": {},
   "source": [
    "### Episode End\n",
    "\n",
    "The episode finishes if:\n",
    "\n",
    "- the lander crashes (the lander body gets in contact with the moon);\n",
    "- the lander gets outside of the viewport (x coordinate is greater than 1);\n",
    "- the lander is not awake. From the Box2D docs, a body which is not awake is a body which doesn’t move and doesn’t collide with any other body:"
   ]
  },
  {
   "attachments": {},
   "cell_type": "markdown",
   "metadata": {},
   "source": [
    "### Letting a random agent play"
   ]
  },
  {
   "cell_type": "code",
   "execution_count": 51,
   "metadata": {},
   "outputs": [
    {
     "data": {
      "image/png": "[encoded data removed]",
      "text/plain": [
       "<Figure size 400x400 with 1 Axes>"
      ]
     },
     "metadata": {},
     "output_type": "display_data"
    },
    {
     "name": "stdout",
     "output_type": "stream",
     "text": [
      "Episode reward: -191.12 | Terminated: True | Truncated: False\n"
     ]
    }
   ],
   "source": [
    "def render_env():\n",
    "    clear_output(wait=True)\n",
    "    plt.imshow(env.render())\n",
    "    plt.show()\n",
    "    print(f\"Episode reward: {total_reward:.2f} | Terminated: {terminated} | Truncated: {truncated}\")\n",
    "\n",
    "for _ in range(1):\n",
    "    obs, _ = env.reset()\n",
    "    total_reward = 0.0\n",
    "    step_no = 0\n",
    "\n",
    "    while True:\n",
    "        step_no += 1\n",
    "        reward = None\n",
    "\n",
    "        action = env.action_space.sample()\n",
    "        new_obs, reward, terminated, truncated, _ = env.step(action)\n",
    "        total_reward += reward\n",
    "\n",
    "        if step_no % 6 == 0:\n",
    "            render_env()\n",
    "\n",
    "        if terminated or truncated:\n",
    "            render_env()\n",
    "            break"
   ]
  },
  {
   "attachments": {},
   "cell_type": "markdown",
   "metadata": {},
   "source": [
    "### The DQN Model\n",
    "\n",
    "<img src=\"Images/Difference Table and NN.png\" width=500>\n",
    "\n",
    "The output of the model is Q-values for every action available in the environment, without nonlinearity applied (as Q-values can have any value). The approach of having all Q-values calculated with one pass through the network helps us to increase speed significantly in comparison to treating $Q(s,a)$ literally and feeding observations and actions to the network to obtain the value of the action"
   ]
  },
  {
   "cell_type": "code",
   "execution_count": 52,
   "metadata": {},
   "outputs": [],
   "source": [
    "class DQN(nn.Module):\n",
    "    def __init__(self, input_shape, n_actions):\n",
    "        super(DQN, self).__init__()\n",
    "\n",
    "        self.layers = nn.Sequential(\n",
    "            nn.Linear(input_shape, 64),\n",
    "            nn.ReLU(),\n",
    "            nn.Linear(64, 64),\n",
    "            nn.ReLU(),\n",
    "            nn.Linear(64, n_actions)\n",
    "        )\n",
    "\n",
    "    def forward(self, x):\n",
    "        return self.layers(x)"
   ]
  },
  {
   "cell_type": "markdown",
   "metadata": {},
   "source": [
    "### The Agent"
   ]
  },
  {
   "cell_type": "code",
   "execution_count": 53,
   "metadata": {},
   "outputs": [],
   "source": [
    "# Defining hyperparameters:\n",
    "DEFAULT_ENV_NAME = \"LunarLander-v2\"\n",
    "MEAN_REWARD_BOUND = 200 # when to stop training\n",
    "\n",
    "GAMMA = 0.99 # Discount factor for value of future state\n",
    "TAU = 0.01\n",
    "LEARNING_RATE = 0.0005 # Learning rate for NN\n",
    "REPLAY_SIZE = 10_000 # Buffer size (memory)\n",
    "# breaks the correlation between episodes\n",
    "BATCH_SIZE = 32 # Batch size sampled from replay buffer\n",
    "REPLAY_START_SIZE = BATCH_SIZE # How long to wait before training from buffer\n",
    "UPDATE_EVERY = 4 # Interval to transfer weights to target network (in episodes)\n",
    "\n",
    "EPSILON_START = 1.0 # Only random actions at beginning\n",
    "EPSILON_FINAL = 0.02 # Fraction of random actions at end\n",
    "DECAY_EPISODES =  2_000 # Over how many episodes to decay epsilon\n",
    "EPSILON_DECAY = (EPSILON_START - EPSILON_FINAL) / DECAY_EPISODES\n",
    "\n",
    "device = \"cpu\""
   ]
  },
  {
   "cell_type": "code",
   "execution_count": 54,
   "metadata": {},
   "outputs": [
    {
     "data": {
      "image/png": "[encoded data removed]",
      "text/plain": [
       "<Figure size 500x200 with 1 Axes>"
      ]
     },
     "metadata": {},
     "output_type": "display_data"
    },
    {
     "data": {
      "text/plain": [
       "<ggplot: (151615743130)>"
      ]
     },
     "execution_count": 54,
     "metadata": {},
     "output_type": "execute_result"
    }
   ],
   "source": [
    "(\n",
    "    ggplot(data=(pd.DataFrame({'episode_no': np.arange(1, 2000)})\n",
    "                 .assign(epsilon=lambda x: x.episode_no.apply(lambda i: max(EPSILON_FINAL, EPSILON_START - i*EPSILON_DECAY)))\n",
    "                 ),\n",
    "           mapping=aes(x='episode_no', y='epsilon')) +\n",
    "    geom_line() +\n",
    "    labs(title='How Epsilon is Decayed') +\n",
    "    theme_bw() +\n",
    "    theme(figure_size=[5,2])\n",
    ")"
   ]
  },
  {
   "cell_type": "code",
   "execution_count": 55,
   "metadata": {},
   "outputs": [],
   "source": [
    "Experience = collections.namedtuple('Experience', field_names=['state', 'action',\n",
    "                                                               'reward', 'terminated', \n",
    "                                                               'truncated', 'new_state'])\n",
    "\n",
    "class ExperienceBuffer:\n",
    "    def __init__(self, capacity):\n",
    "        self.buffer = collections.deque(maxlen=capacity)\n",
    "\n",
    "    def __len__(self):\n",
    "        return len(self.buffer)\n",
    "\n",
    "    def append(self, experience):\n",
    "        self.buffer.append(experience)\n",
    "\n",
    "    def sample(self, batch_size):\n",
    "        indices = np.random.choice(len(self.buffer), batch_size, replace=False)\n",
    "        states, actions, rewards, terminateds, truncateds, next_states = zip(*[self.buffer[idx] for idx in indices])\n",
    "        return np.array(states), \\\n",
    "               np.array(actions), \\\n",
    "               np.array(rewards, dtype=np.float32), \\\n",
    "               np.array(terminateds, dtype=bool), \\\n",
    "               np.array(truncateds, dtype=bool), \\\n",
    "               np.array(next_states)\n"
   ]
  },
  {
   "cell_type": "markdown",
   "metadata": {},
   "source": [
    "The asterisk operator in the list comprehension in combination with the zip() packs the contents of the defaultdict in tuples, so we can get all the necessary information from the batch. See below:"
   ]
  },
  {
   "cell_type": "code",
   "execution_count": 56,
   "metadata": {},
   "outputs": [
    {
     "data": {
      "text/plain": [
       "[Experience(state=0, action=1, reward=0.5, terminated=False, truncated=False, new_state=2),\n",
       " Experience(state=1, action=0, reward=-0.5, terminated=True, truncated=True, new_state=3),\n",
       " Experience(state=2, action=1, reward=1.0, terminated=False, truncated=False, new_state=4)]"
      ]
     },
     "execution_count": 56,
     "metadata": {},
     "output_type": "execute_result"
    }
   ],
   "source": [
    "list = [\n",
    "  Experience(state=0, action=1, reward=0.5, terminated=False, truncated=False, new_state=2),\n",
    "  Experience(state=1, action=0, reward=-0.5, terminated=True, truncated=True, new_state=3),\n",
    "  Experience(state=2, action=1, reward=1.0, terminated=False, truncated=False, new_state=4)\n",
    "]\n",
    "list"
   ]
  },
  {
   "cell_type": "code",
   "execution_count": 61,
   "metadata": {},
   "outputs": [
    {
     "name": "stdout",
     "output_type": "stream",
     "text": [
      "[0 1 2]\n",
      "[1 0 1]\n",
      "[ 0.5 -0.5  1. ]\n",
      "[False  True False]\n",
      "[False  True False]\n",
      "[2 3 4]\n"
     ]
    }
   ],
   "source": [
    "# Get all the information from the batch in tuples\n",
    "states, actions, rewards, terminateds, truncateds, next_states = zip(*list)\n",
    "\n",
    "# Convert the data types of the information from the batch\n",
    "print(np.array(states))\n",
    "print(np.array(actions))\n",
    "print(np.array(rewards, dtype=np.float32))\n",
    "print(np.array(terminateds, dtype=bool))\n",
    "print(np.array(truncateds, dtype=bool))\n",
    "print(np.array(next_states))"
   ]
  },
  {
   "cell_type": "markdown",
   "metadata": {},
   "source": [
    "Returning the reward at the end of an episode is not suitable anymore for Mountain Car, as -1 is incurred for each time step that is outside of the goal area. Therefore, I need to return both the reward for each time step and at the end of an episode, to\n",
    "1. train the policy network\n",
    "2. monitor the average reward for the stopping criterion"
   ]
  },
  {
   "cell_type": "code",
   "execution_count": null,
   "metadata": {},
   "outputs": [],
   "source": [
    "class Agent():\n",
    "    def __init__(self, env, exp_buffer):\n",
    "        self.env = env\n",
    "        self.exp_buffer = exp_buffer\n",
    "        self._reset()\n",
    "\n",
    "    def _reset(self):\n",
    "        self.state, _ = self.env.reset()\n",
    "        self.total_reward = 0.0\n",
    "\n",
    "    def play_step(self, net, epsilon=0.0, device=\"cpu\"):\n",
    "        step_reward = 0.0\n",
    "        done_reward = None\n",
    "        \n",
    "        if np.random.random() < epsilon:\n",
    "            action = self.env.action_space.sample()\n",
    "        else:\n",
    "            state_a = np.array([self.state], copy=False)\n",
    "            state_v = torch.tensor(state_a).to(device)\n",
    "            q_vals_v = net(state_v)\n",
    "            _, act_v = torch.max(q_vals_v, dim=1)\n",
    "            action = int(act_v.item())\n",
    "\n",
    "        # do step in env\n",
    "        new_state, step_reward, is_done, is_truncated, _ = self.env.step(action)\n",
    "        self.total_reward += step_reward\n",
    "        \n",
    "        # Push experience buffer\n",
    "        exp = Experience(self.state, action, step_reward, is_done, is_truncated, new_state)\n",
    "        self.exp_buffer.append(exp)\n",
    "        self.state = new_state\n",
    "        \n",
    "        if is_done or is_truncated:\n",
    "            done_reward = self.total_reward\n",
    "            self._reset()\n",
    "        return step_reward, done_reward"
   ]
  },
  {
   "cell_type": "code",
   "execution_count": 15,
   "metadata": {},
   "outputs": [],
   "source": [
    "def calc_loss(batch, net, tgt_net, device=\"cpu\"):\n",
    "    # get memory from batch (sampled from buffer)\n",
    "    states, actions, rewards, terminateds, truncateds, next_states = batch\n",
    "    # convert all values to tensors for PyTorch\n",
    "    states_v = torch.tensor(states).to(device)\n",
    "    next_states_v = torch.tensor(next_states).to(device)\n",
    "    actions_v = torch.tensor(actions).to(device)\n",
    "    rewards_v = torch.tensor(rewards).to(device)\n",
    "    terminated_mask = torch.BoolTensor(terminateds).to(device)\n",
    "    truncateds_mask = torch.BoolTensor(truncateds).to(device)\n",
    "\n",
    "    # Get predictions of the policy network given past observed states\n",
    "    # needed to fix dtype issue\n",
    "    state_action_values = (net(states_v)\n",
    "                           .gather(1, actions_v.unsqueeze(-1).to(dtype=torch.int64))\n",
    "                           .squeeze(-1))\n",
    "    # Use target network for next steps (historical)\n",
    "    next_state_values = tgt_net(next_states_v).max(1)[0]\n",
    "    next_state_values[terminated_mask] = 0.0\n",
    "    next_state_values[truncateds_mask] = 0.0\n",
    "    next_state_values = next_state_values.detach() # prevent gradients from\n",
    "    # flowing into target network's graph\n",
    "    # Calculate the target values for updating the policy network as:\n",
    "    # reward received (immediate) and discounted max Q-Value of next state\n",
    "    expected_state_action_values = rewards_v + GAMMA * next_state_values\n",
    "    return nn.MSELoss()(state_action_values, expected_state_action_values)"
   ]
  },
  {
   "cell_type": "markdown",
   "metadata": {},
   "source": [
    "The reason for using a separate target network to make predictions for the values of the next state is to improve the stability and convergence of the DQN algorithm.\n",
    "\n",
    "The DQN algorithm is trained using a batch of transitions sampled from the replay buffer, where each transition consists of a state, an action, a reward, and the next state. In each iteration of the training loop, the policy network is used to make predictions for the current state and the target network is used to make predictions for the next state.\n",
    "\n",
    "The policy network is used to make predictions on the already observed states because it is the network that is being trained to approximate the optimal Q-function. By minimizing the difference between the predicted Q-values and the target Q-values, the policy network learns to improve its predictions for future actions.\n",
    "\n",
    "However, if we were to use the same network to make predictions for the values of the next state, it can result in instability in the learning process. This is because the policy network is constantly changing as it is being trained, and the predicted Q-values for the next state can also change rapidly with each update.\n",
    "\n",
    "Using a separate target network to make predictions for the values of the next state helps to stabilize the learning process by providing a fixed set of predictions for the next state that can be used as targets for training the policy network. The target network is updated less frequently than the policy network, typically after a fixed number of iterations, which helps to maintain a stable set of predictions over time.\n",
    "\n",
    "In the given code, the policy network (net) is used to make predictions for the current state, and the target network (tgt_net) is used to make predictions for the next state."
   ]
  },
  {
   "cell_type": "markdown",
   "metadata": {},
   "source": [
    "### Training the Agent"
   ]
  },
  {
   "cell_type": "code",
   "execution_count": 17,
   "metadata": {},
   "outputs": [
    {
     "name": "stdout",
     "output_type": "stream",
     "text": [
      "Episode 100 Step 8717: Mean Reward: -154.60 Epsilon: 0.9510\n",
      "Episode 200 Step 17998: Mean Reward: -135.03 Epsilon: 0.9020\n",
      "Episode 300 Step 27659: Mean Reward: -120.12 Epsilon: 0.8530\n",
      "Episode 400 Step 37140: Mean Reward: -104.32 Epsilon: 0.8040\n",
      "Episode 500 Step 46938: Mean Reward: -101.91 Epsilon: 0.7550\n",
      "Episode 600 Step 57353: Mean Reward: -86.56 Epsilon: 0.7060\n",
      "Episode 700 Step 67967: Mean Reward: -81.46 Epsilon: 0.6570\n",
      "Episode 800 Step 80322: Mean Reward: -62.37 Epsilon: 0.6080\n",
      "Episode 900 Step 95081: Mean Reward: -49.39 Epsilon: 0.5590\n",
      "Episode 1000 Step 110639: Mean Reward: -36.21 Epsilon: 0.5100\n",
      "Episode 1100 Step 129751: Mean Reward: -26.93 Epsilon: 0.4610\n",
      "Episode 1200 Step 158147: Mean Reward: -3.14 Epsilon: 0.4120\n",
      "Episode 1300 Step 197310: Mean Reward: 16.93 Epsilon: 0.3630\n",
      "Episode 1400 Step 245426: Mean Reward: 18.39 Epsilon: 0.3140\n",
      "Episode 1500 Step 303365: Mean Reward: 34.20 Epsilon: 0.2650\n",
      "Episode 1600 Step 362013: Mean Reward: 122.14 Epsilon: 0.2160\n",
      "Episode 1700 Step 421829: Mean Reward: 133.56 Epsilon: 0.1670\n",
      "Episode 1800 Step 464231: Mean Reward: 161.87 Epsilon: 0.1180\n",
      "Solved in 483047 iterations!\n"
     ]
    }
   ],
   "source": [
    "env = gym.make(DEFAULT_ENV_NAME, render_mode='rgb_array')\n",
    "net = DQN(input_shape=env.observation_space.shape[0],\n",
    "          n_actions=env.action_space.n).to(device)\n",
    "tgt_net = DQN(input_shape=env.observation_space.shape[0],\n",
    "              n_actions=env.action_space.n).to(device)\n",
    "\n",
    "buffer = ExperienceBuffer(REPLAY_SIZE)\n",
    "agent = Agent(env, buffer)\n",
    "epsilon = EPSILON_START\n",
    "\n",
    "optimizer = optim.Adam(net.parameters(), lr=LEARNING_RATE)\n",
    "total_rewards = []\n",
    "iter_no = 0\n",
    " \n",
    "best_mean_reward = None\n",
    "\n",
    "while True:\n",
    "    iter_no += 1\n",
    "    reward, episode_reward = agent.play_step(net, epsilon, device=device)\n",
    "    \n",
    "    # At the end of every episode\n",
    "    if episode_reward is not None:\n",
    "        total_rewards.append(episode_reward)\n",
    "        episode_no = len(total_rewards)\n",
    "        epsilon = max(EPSILON_FINAL, EPSILON_START - episode_no*EPSILON_DECAY)\n",
    "        mean_reward = np.mean(total_rewards[-100:])\n",
    "\n",
    "        if episode_no % 100 == 0:\n",
    "            print(f\"Episode {episode_no} Step {iter_no:}: Mean Reward: {mean_reward:.2f} Epsilon: {epsilon:.4f}\")\n",
    "\n",
    "        # if it's the first step or if best reward improved:\n",
    "        if best_mean_reward is None or best_mean_reward < mean_reward:\n",
    "            if best_mean_reward is not None:\n",
    "                print(f\"Step {iter_no}, Episode {episode_no}: Best mean reward updated: {best_mean_reward} -> {mean_reward}\")\n",
    "                best_mean_reward = mean_reward\n",
    "\n",
    "        # if reward bound is high enough to be considered solved\n",
    "        if mean_reward > MEAN_REWARD_BOUND:\n",
    "            print(f\"Solved in {iter_no} iterations!\")\n",
    "            break\n",
    "\n",
    "    # If not enough observations in buffer, then don't\n",
    "    # start training the policy net yet\n",
    "    if len(buffer) < REPLAY_START_SIZE:\n",
    "        continue\n",
    "\n",
    "    # every N TIME steps, adjust target net weights\n",
    "    if iter_no % UPDATE_EVERY == 0:\n",
    "        # tgt_net.load_state_dict(net.state_dict())\n",
    "        # try soft update instead (weighted average of policy and target network (preserves most of target)):\n",
    "        for target_param, policy_param in zip(tgt_net.parameters(), net.parameters()):\n",
    "            target_param.data.copy_(\n",
    "                TAU * policy_param.data + (1.0 - TAU) * target_param.data)\n",
    "\n",
    "    # train the policy network (every step)\n",
    "    optimizer.zero_grad()\n",
    "    batch = buffer.sample(BATCH_SIZE)\n",
    "    loss_t = calc_loss(batch, net, tgt_net, device=device)\n",
    "    loss_t.backward()\n",
    "    optimizer.step()"
   ]
  },
  {
   "attachments": {},
   "cell_type": "markdown",
   "metadata": {},
   "source": [
    "In case the training loop output gets overwritten (took about 40 minutes):\n",
    "\n",
    "<img src='Images/Training Process.png' width=500>\n",
    "\n",
    "At first, the learning rate was too high (shown by erratic movement of average reward) and the batch size too big. Lowering the learning rate helped stabilise the training a little more and lowering the batch size helped speed up training. Of course, both are a tradeoff. Alternative options could have been:\n",
    "\n",
    "- decreasing complexity of the neural networks\n",
    "- decreasing TAU (soft update from policy to target network)"
   ]
  },
  {
   "cell_type": "code",
   "execution_count": 18,
   "metadata": {},
   "outputs": [
    {
     "name": "stderr",
     "output_type": "stream",
     "text": [
      "c:\\Users\\STEIM\\AppData\\Local\\anaconda3\\lib\\site-packages\\plotnine\\geoms\\geom_path.py:75: PlotnineWarning: geom_path: Removed 99 rows containing missing values.\n"
     ]
    },
    {
     "data": {
      "image/png": "[encoded data removed]",
      "text/plain": [
       "<Figure size 800x400 with 1 Axes>"
      ]
     },
     "metadata": {},
     "output_type": "display_data"
    },
    {
     "data": {
      "text/plain": [
       "<ggplot: (104399536843)>"
      ]
     },
     "execution_count": 18,
     "metadata": {},
     "output_type": "execute_result"
    }
   ],
   "source": [
    "(\n",
    "    ggplot(data=(pd.DataFrame({'Episodes': np.arange(1, episode_no + 1),\n",
    "                               'Rewards': total_rewards})\n",
    "                 .assign(Rewards=lambda x: x['Rewards'].rolling(100).mean())),\n",
    "           mapping=aes(x='Episodes', y='Rewards')) +\n",
    "    geom_line() +\n",
    "    labs(title='Training Process (Rolling Mean over 100 Episodes)',\n",
    "         y='Mean Reward (-100:)') +\n",
    "    theme_bw() +\n",
    "    theme(figure_size=[8, 4])\n",
    ")\n"
   ]
  },
  {
   "attachments": {},
   "cell_type": "markdown",
   "metadata": {},
   "source": [
    "### Saving the Models"
   ]
  },
  {
   "cell_type": "code",
   "execution_count": 20,
   "metadata": {},
   "outputs": [],
   "source": [
    "torch.save(net.state_dict(), f='policy_net.pt')\n",
    "torch.save(tgt_net.state_dict(), f='target_net.pt')"
   ]
  },
  {
   "attachments": {},
   "cell_type": "markdown",
   "metadata": {},
   "source": [
    "### Letting the Trained Agent Play"
   ]
  },
  {
   "cell_type": "code",
   "execution_count": 16,
   "metadata": {},
   "outputs": [
    {
     "data": {
      "text/plain": [
       "DQN(\n",
       "  (layers): Sequential(\n",
       "    (0): Linear(in_features=8, out_features=64, bias=True)\n",
       "    (1): ReLU()\n",
       "    (2): Linear(in_features=64, out_features=64, bias=True)\n",
       "    (3): ReLU()\n",
       "    (4): Linear(in_features=64, out_features=4, bias=True)\n",
       "  )\n",
       ")"
      ]
     },
     "execution_count": 16,
     "metadata": {},
     "output_type": "execute_result"
    }
   ],
   "source": [
    "# Defining the environment\n",
    "device = \"cpu\"\n",
    "env = gym.make('LunarLander-v2', render_mode='rgb_array')\n",
    "obs_size = env.observation_space.shape[0] # define sizes for NN\n",
    "n_actions = env.action_space.n\n",
    "\n",
    "# Loading the model\n",
    "net = DQN(obs_size, n_actions) # instance of model\n",
    "net.load_state_dict(torch.load(\"policy_net.pt\"))\n",
    "net.eval()"
   ]
  },
  {
   "cell_type": "code",
   "execution_count": 17,
   "metadata": {},
   "outputs": [],
   "source": [
    "def play_game(env, net, num_episodes):\n",
    "    for episode in range(num_episodes):\n",
    "        state, _ = env.reset()\n",
    "        iter_no = 0\n",
    "        epsilon = 0.0\n",
    "        total_reward = 0.0\n",
    "        \n",
    "        while True:\n",
    "            iter_no += 1\n",
    "        \n",
    "            if np.random.random() < epsilon:\n",
    "                action = env.action_space.sample()\n",
    "            else:\n",
    "                state_a = np.array([state], copy=False)\n",
    "                state_v = torch.tensor(state_a).to(device)\n",
    "                q_vals_v = net(state_v)\n",
    "                _, act_v = torch.max(q_vals_v, dim=1)\n",
    "                action = int(act_v.item())\n",
    "\n",
    "            # do step in env\n",
    "            new_state, step_reward, is_done, is_truncated, _ = env.step(action)\n",
    "            total_reward += step_reward\n",
    "            state = new_state\n",
    "\n",
    "            if iter_no % 5 == 0:\n",
    "                clear_output(wait=True)\n",
    "                plt.imshow(env.render())\n",
    "                plt.show()\n",
    "                \n",
    "            if is_done or is_truncated:\n",
    "                print(f\"Reward: {total_reward:.2f}\")\n",
    "                state, _ = env.reset()\n",
    "                break"
   ]
  },
  {
   "cell_type": "code",
   "execution_count": 18,
   "metadata": {},
   "outputs": [
    {
     "data": {
      "image/png": "[encoded data removed]",
      "text/plain": [
       "<Figure size 400x400 with 1 Axes>"
      ]
     },
     "metadata": {},
     "output_type": "display_data"
    },
    {
     "name": "stdout",
     "output_type": "stream",
     "text": [
      "Reward: 281.45\n"
     ]
    }
   ],
   "source": [
    "# call the animation function\n",
    "play_game(env, net, 1)"
   ]
  },
  {
   "attachments": {},
   "cell_type": "markdown",
   "metadata": {},
   "source": [
    "It sure can land, but doesn't always land in between the flags. I should maybe continue training a little longer."
   ]
  },
  {
   "attachments": {},
   "cell_type": "markdown",
   "metadata": {},
   "source": [
    "### Train the Agent even longer"
   ]
  },
  {
   "cell_type": "code",
   "execution_count": 75,
   "metadata": {},
   "outputs": [
    {
     "name": "stdout",
     "output_type": "stream",
     "text": [
      "Episode 100 Step 45045: Mean Reward: 143.96 Epsilon: 0.0909\n",
      "Episode 200 Step 81320: Mean Reward: 206.73 Epsilon: 0.0550\n",
      "Episode 300 Step 114074: Mean Reward: 229.52 Epsilon: 0.0333\n",
      "Episode 400 Step 142943: Mean Reward: 202.57 Epsilon: 0.0202\n",
      "Episode 500 Step 186781: Mean Reward: 163.30 Epsilon: 0.0200\n",
      "Episode 600 Step 215728: Mean Reward: 189.75 Epsilon: 0.0200\n",
      "Episode 700 Step 248103: Mean Reward: 184.89 Epsilon: 0.0200\n",
      "Episode 800 Step 277590: Mean Reward: 238.19 Epsilon: 0.0200\n",
      "Solved in 304003 iterations!\n"
     ]
    }
   ],
   "source": [
    "device = \"cpu\"\n",
    "\n",
    "# Loading the models\n",
    "net = DQN(obs_size, n_actions) # instance of model\n",
    "tgt_net = DQN(obs_size, n_actions)\n",
    "\n",
    "net.load_state_dict(torch.load(\"policy_net.pt\"))\n",
    "tgt_net.load_state_dict(torch.load(\"target_net.pt\"))\n",
    "\n",
    "net.train()\n",
    "tgt_net.train()\n",
    "\n",
    "buffer = ExperienceBuffer(REPLAY_SIZE)\n",
    "agent = Agent(env, buffer)\n",
    "EPSILON_DECAY = 0.995\n",
    "epsilon = 0.15\n",
    "\n",
    "optimizer = optim.Adam(net.parameters(), lr=LEARNING_RATE)\n",
    "total_rewards = []\n",
    "iter_no = 0\n",
    " \n",
    "best_mean_reward = None\n",
    "\n",
    "while True:\n",
    "    iter_no += 1\n",
    "    reward, episode_reward = agent.play_step(net, epsilon, device=device)\n",
    "    \n",
    "    # At the end of every episode\n",
    "    if episode_reward is not None:\n",
    "        total_rewards.append(episode_reward)\n",
    "        episode_no = len(total_rewards)\n",
    "        epsilon = max(EPSILON_FINAL, epsilon * EPSILON_DECAY)\n",
    "        mean_reward = np.mean(total_rewards[-100:])\n",
    "\n",
    "        if episode_no % 100 == 0:\n",
    "            print(f\"Episode {episode_no} Step {iter_no:}: Mean Reward: {mean_reward:.2f} Epsilon: {epsilon:.4f}\")\n",
    "\n",
    "        # if it's the first step or if best reward improved:\n",
    "        if best_mean_reward is None or best_mean_reward < mean_reward:\n",
    "            if best_mean_reward is not None:\n",
    "                print(f\"Step {iter_no}, Episode {episode_no}: Best mean reward updated: {best_mean_reward} -> {mean_reward}\")\n",
    "                best_mean_reward = mean_reward\n",
    "\n",
    "        # if reward bound is high enough to be considered solved\n",
    "        if mean_reward >= 250:\n",
    "            print(f\"Solved in {iter_no} iterations!\")\n",
    "            break\n",
    "\n",
    "    # If not enough observations in buffer, then don't\n",
    "    # start training the policy net yet\n",
    "    if len(buffer) < REPLAY_START_SIZE:\n",
    "        continue\n",
    "\n",
    "    # every N TIME steps, adjust target net weights\n",
    "    if iter_no % UPDATE_EVERY == 0:\n",
    "        # tgt_net.load_state_dict(net.state_dict())\n",
    "        # try soft update instead (weighted average of policy and target network (preserves most of target)):\n",
    "        for target_param, policy_param in zip(tgt_net.parameters(), net.parameters()):\n",
    "            target_param.data.copy_(\n",
    "                TAU * policy_param.data + (1.0 - TAU) * target_param.data)\n",
    "\n",
    "    # train the policy network (every step)\n",
    "    optimizer.zero_grad()\n",
    "    batch = buffer.sample(BATCH_SIZE)\n",
    "    loss_t = calc_loss(batch, net, tgt_net, device=device)\n",
    "    loss_t.backward()\n",
    "    optimizer.step()"
   ]
  },
  {
   "cell_type": "code",
   "execution_count": 114,
   "metadata": {},
   "outputs": [
    {
     "data": {
      "image/png": "[encoded data removed]",
      "text/plain": [
       "<Figure size 800x400 with 1 Axes>"
      ]
     },
     "metadata": {},
     "output_type": "display_data"
    },
    {
     "data": {
      "text/plain": [
       "<ggplot: (104405771703)>"
      ]
     },
     "execution_count": 114,
     "metadata": {},
     "output_type": "execute_result"
    }
   ],
   "source": [
    "(\n",
    "    ggplot(data=(pd.DataFrame({'Episodes': np.arange(1, episode_no + 1),\n",
    "                               'Rewards': total_rewards})\n",
    "                 .assign(Rewards=lambda x: x['Rewards'].rolling(1).mean())),\n",
    "           mapping=aes(x='Episodes', y='Rewards')) +\n",
    "    geom_line() +\n",
    "    labs(title='Training Process',\n",
    "         y='Mean Reward') +\n",
    "    theme_bw() +\n",
    "    theme(figure_size=[8, 4])\n",
    ")\n"
   ]
  },
  {
   "cell_type": "code",
   "execution_count": 85,
   "metadata": {},
   "outputs": [],
   "source": [
    "torch.save(net.state_dict(), f='policy_net_trained_more.pt')\n",
    "torch.save(tgt_net.state_dict(), f='target_net_trained_more.pt')"
   ]
  },
  {
   "attachments": {},
   "cell_type": "markdown",
   "metadata": {},
   "source": [
    "### Letting the Longer Trained Agent Play"
   ]
  },
  {
   "cell_type": "code",
   "execution_count": 20,
   "metadata": {},
   "outputs": [
    {
     "data": {
      "text/plain": [
       "DQN(\n",
       "  (layers): Sequential(\n",
       "    (0): Linear(in_features=8, out_features=64, bias=True)\n",
       "    (1): ReLU()\n",
       "    (2): Linear(in_features=64, out_features=64, bias=True)\n",
       "    (3): ReLU()\n",
       "    (4): Linear(in_features=64, out_features=4, bias=True)\n",
       "  )\n",
       ")"
      ]
     },
     "execution_count": 20,
     "metadata": {},
     "output_type": "execute_result"
    }
   ],
   "source": [
    "# Defining the environment\n",
    "device = 'cpu'\n",
    "env = gym.make('LunarLander-v2', render_mode='rgb_array')\n",
    "obs_size = env.observation_space.shape[0] # define sizes for NN\n",
    "n_actions = env.action_space.n\n",
    "\n",
    "# Loading the model\n",
    "net = DQN(obs_size, n_actions) # instance of model\n",
    "net.load_state_dict(torch.load(\"policy_net_trained_more.pt\"))\n",
    "net.eval()"
   ]
  },
  {
   "cell_type": "code",
   "execution_count": 21,
   "metadata": {},
   "outputs": [
    {
     "data": {
      "image/png": "[encoded data removed]",
      "text/plain": [
       "<Figure size 400x400 with 1 Axes>"
      ]
     },
     "metadata": {},
     "output_type": "display_data"
    },
    {
     "name": "stdout",
     "output_type": "stream",
     "text": [
      "Reward: 137.55\n"
     ]
    }
   ],
   "source": [
    "# call the animation function\n",
    "play_game(env, net, 1)"
   ]
  },
  {
   "attachments": {},
   "cell_type": "markdown",
   "metadata": {},
   "source": [
    "It seems that the agent that was trained a little longer does indeed do a better job. Begs the question: How long should you train?"
   ]
  },
  {
   "attachments": {},
   "cell_type": "markdown",
   "metadata": {},
   "source": [
    "### Different Soft Update Schedule\n",
    "\n",
    "Try updating every step (soft update) instead of every couple of episodes (soft update)"
   ]
  },
  {
   "cell_type": "code",
   "execution_count": 48,
   "metadata": {},
   "outputs": [],
   "source": [
    "# Defining hyperparameters:\n",
    "DEFAULT_ENV_NAME = \"LunarLander-v2\"\n",
    "MEAN_REWARD_BOUND = 200 # when to stop training\n",
    "\n",
    "GAMMA = 0.99 # Discount factor for value of future state\n",
    "TAU = 0.01 # soft update parameter\n",
    "LEARNING_RATE = 0.0005 # Learning rate for NN\n",
    "REPLAY_SIZE = 10_000 # Buffer size (memory)\n",
    "# breaks the correlation between episodes\n",
    "BATCH_SIZE = 32 # Batch size sampled from replay buffer\n",
    "REPLAY_START_SIZE = BATCH_SIZE # How long to wait before training from buffer\n",
    "UPDATE_EVERY = 1 # Interval to transfer weights to target network (in episodes)\n",
    "\n",
    "EPSILON_START = 1.0 # Only random actions at beginning\n",
    "EPSILON_FINAL = 0.02 # Fraction of random actions at end\n",
    "DECAY_EPISODES =  2_000 # Over how many episodes to decay epsilon\n",
    "EPSILON_DECAY = (EPSILON_START - EPSILON_FINAL) / DECAY_EPISODES\n",
    "\n",
    "device = \"cpu\""
   ]
  },
  {
   "cell_type": "code",
   "execution_count": 50,
   "metadata": {},
   "outputs": [
    {
     "name": "stdout",
     "output_type": "stream",
     "text": [
      "Episode 100 Step 9296: Mean Reward: -169.66 Epsilon: 0.9510\n",
      "Episode 200 Step 18606: Mean Reward: -142.78 Epsilon: 0.9020\n",
      "Episode 300 Step 29078: Mean Reward: -125.29 Epsilon: 0.8530\n",
      "Episode 400 Step 38705: Mean Reward: -105.15 Epsilon: 0.8040\n",
      "Episode 500 Step 48502: Mean Reward: -88.65 Epsilon: 0.7550\n",
      "Episode 600 Step 60235: Mean Reward: -78.72 Epsilon: 0.7060\n",
      "Episode 700 Step 71830: Mean Reward: -70.58 Epsilon: 0.6570\n",
      "Episode 800 Step 84152: Mean Reward: -54.36 Epsilon: 0.6080\n",
      "Episode 900 Step 98518: Mean Reward: -46.26 Epsilon: 0.5590\n",
      "Episode 1000 Step 112192: Mean Reward: -38.55 Epsilon: 0.5100\n",
      "Episode 1100 Step 127925: Mean Reward: -23.88 Epsilon: 0.4610\n",
      "Episode 1200 Step 156872: Mean Reward: -20.54 Epsilon: 0.4120\n",
      "Episode 1300 Step 197178: Mean Reward: -10.49 Epsilon: 0.3630\n",
      "Episode 1400 Step 254739: Mean Reward: 8.06 Epsilon: 0.3140\n",
      "Episode 1500 Step 303105: Mean Reward: 8.49 Epsilon: 0.2650\n",
      "Episode 1600 Step 364973: Mean Reward: 66.73 Epsilon: 0.2160\n",
      "Episode 1700 Step 423186: Mean Reward: 153.74 Epsilon: 0.1670\n",
      "Episode 1800 Step 467550: Mean Reward: 175.30 Epsilon: 0.1180\n",
      "Episode 1900 Step 507384: Mean Reward: 168.96 Epsilon: 0.0690\n",
      "Solved in 533241 iterations!\n"
     ]
    }
   ],
   "source": [
    "env = gym.make(DEFAULT_ENV_NAME, render_mode='rgb_array')\n",
    "net = DQN(input_shape=env.observation_space.shape[0],\n",
    "          n_actions=env.action_space.n).to(device)\n",
    "tgt_net = DQN(input_shape=env.observation_space.shape[0],\n",
    "              n_actions=env.action_space.n).to(device)\n",
    "\n",
    "buffer = ExperienceBuffer(REPLAY_SIZE)\n",
    "agent = Agent(env, buffer)\n",
    "epsilon = EPSILON_START\n",
    "\n",
    "optimizer = optim.Adam(net.parameters(), lr=LEARNING_RATE)\n",
    "total_rewards = []\n",
    "iter_no = 0\n",
    " \n",
    "best_mean_reward = None\n",
    "\n",
    "while True:\n",
    "    iter_no += 1\n",
    "    reward, episode_reward = agent.play_step(net, epsilon, device=device)\n",
    "    \n",
    "    # At the end of every episode\n",
    "    if episode_reward is not None:\n",
    "        total_rewards.append(episode_reward)\n",
    "        episode_no = len(total_rewards)\n",
    "        epsilon = max(EPSILON_FINAL, EPSILON_START - episode_no*EPSILON_DECAY)\n",
    "        mean_reward = np.mean(total_rewards[-100:])\n",
    "\n",
    "        if episode_no % 100 == 0:\n",
    "            print(f\"Episode {episode_no} Step {iter_no:}: Mean Reward: {mean_reward:.2f} Epsilon: {epsilon:.4f}\")\n",
    "\n",
    "        # if it's the first step or if best reward improved:\n",
    "        if best_mean_reward is None or best_mean_reward < mean_reward:\n",
    "            if best_mean_reward is not None:\n",
    "                print(f\"Step {iter_no}, Episode {episode_no}: Best mean reward updated: {best_mean_reward} -> {mean_reward}\")\n",
    "                best_mean_reward = mean_reward\n",
    "\n",
    "        # if reward bound is high enough to be considered solved\n",
    "        if mean_reward > MEAN_REWARD_BOUND:\n",
    "            print(f\"Solved in {iter_no} iterations!\")\n",
    "            break\n",
    "\n",
    "    # If not enough observations in buffer, then don't\n",
    "    # start training the policy net yet\n",
    "    if len(buffer) < REPLAY_START_SIZE:\n",
    "        continue\n",
    "\n",
    "    # every N TIME steps, adjust target net weights\n",
    "    if iter_no % UPDATE_EVERY == 0:\n",
    "        # tgt_net.load_state_dict(net.state_dict())\n",
    "        # try soft update instead (weighted average of policy and target network (preserves most of target)):\n",
    "        for target_param, policy_param in zip(tgt_net.parameters(), net.parameters()):\n",
    "            target_param.data.copy_(\n",
    "                TAU * policy_param.data + (1.0 - TAU) * target_param.data)\n",
    "\n",
    "    # train the policy network (every step)\n",
    "    optimizer.zero_grad()\n",
    "    batch = buffer.sample(BATCH_SIZE)\n",
    "    loss_t = calc_loss(batch, net, tgt_net, device=device)\n",
    "    loss_t.backward()\n",
    "    optimizer.step()"
   ]
  },
  {
   "cell_type": "code",
   "execution_count": 52,
   "metadata": {},
   "outputs": [
    {
     "data": {
      "text/plain": [
       "1983"
      ]
     },
     "execution_count": 52,
     "metadata": {},
     "output_type": "execute_result"
    }
   ],
   "source": [
    "episode_no"
   ]
  },
  {
   "cell_type": "code",
   "execution_count": 65,
   "metadata": {},
   "outputs": [
    {
     "name": "stderr",
     "output_type": "stream",
     "text": [
      "c:\\Users\\STEIM\\AppData\\Local\\anaconda3\\lib\\site-packages\\plotnine\\geoms\\geom_path.py:75: PlotnineWarning: geom_path: Removed 99 rows containing missing values.\n"
     ]
    },
    {
     "data": {
      "image/png": "[encoded data removed]",
      "text/plain": [
       "<Figure size 800x400 with 1 Axes>"
      ]
     },
     "metadata": {},
     "output_type": "display_data"
    },
    {
     "data": {
      "text/plain": [
       "<ggplot: (157016926926)>"
      ]
     },
     "execution_count": 65,
     "metadata": {},
     "output_type": "execute_result"
    }
   ],
   "source": [
    "(\n",
    "    ggplot(data=(pd.DataFrame({'Episodes': np.arange(1, episode_no + 1),\n",
    "                               'Rewards': total_rewards})\n",
    "                 .assign(Rewards=lambda x: x['Rewards'].rolling(100).mean())),\n",
    "           mapping=aes(x='Episodes', y='Rewards')) +\n",
    "    geom_line() +\n",
    "    labs(title='Training Process (Rolling Mean 100 Episodes)',\n",
    "         y='Mean Reward') +\n",
    "    theme_bw() +\n",
    "    theme(figure_size=[8, 4])\n",
    ")\n"
   ]
  },
  {
   "attachments": {},
   "cell_type": "markdown",
   "metadata": {},
   "source": [
    "Training seems to be slightly more well behaved with the soft updates every step but keeping TAU low."
   ]
  },
  {
   "attachments": {},
   "cell_type": "markdown",
   "metadata": {},
   "source": [
    "Could also try an exponential epsilon decay instead of linear, but not necessary anymore."
   ]
  },
  {
   "attachments": {},
   "cell_type": "markdown",
   "metadata": {},
   "source": [
    "### Custom Terrain?"
   ]
  },
  {
   "attachments": {},
   "cell_type": "markdown",
   "metadata": {},
   "source": [
    "### RayTune?"
   ]
  }
 ],
 "metadata": {
  "kernelspec": {
   "display_name": "base",
   "language": "python",
   "name": "python3"
  },
  "language_info": {
   "codemirror_mode": {
    "name": "ipython",
    "version": 3
   },
   "file_extension": ".py",
   "mimetype": "text/x-python",
   "name": "python",
   "nbconvert_exporter": "python",
   "pygments_lexer": "ipython3",
   "version": "3.10.9"
  },
  "orig_nbformat": 4
 },
 "nbformat": 4,
 "nbformat_minor": 2
}
