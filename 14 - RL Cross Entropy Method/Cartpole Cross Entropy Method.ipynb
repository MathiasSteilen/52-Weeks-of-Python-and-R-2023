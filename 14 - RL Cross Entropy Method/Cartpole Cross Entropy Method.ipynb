{
 "cells": [
  {
   "attachments": {},
   "cell_type": "markdown",
   "metadata": {},
   "source": [
    "### Implementing Cross-Entropy Method for CartPole Example\n",
    "\n",
    "Importing necessary dependencies:"
   ]
  },
  {
   "cell_type": "code",
   "execution_count": 5,
   "metadata": {},
   "outputs": [],
   "source": [
    "import random\n",
    "from collections import namedtuple\n",
    "\n",
    "import numpy as np\n",
    "import pandas as pd\n",
    "from plotnine import *\n",
    "from mizani.formatters import comma_format\n",
    "import time\n",
    "import matplotlib.pyplot as plt\n",
    "from IPython.display import clear_output\n",
    "\n",
    "import gym\n",
    "import torch\n",
    "import torch.nn as nn\n",
    "import torch.optim as optim\n",
    "# from tensorboardX import SummaryWriter"
   ]
  },
  {
   "attachments": {},
   "cell_type": "markdown",
   "metadata": {},
   "source": [
    "### The Game 🎮"
   ]
  },
  {
   "cell_type": "code",
   "execution_count": 6,
   "metadata": {},
   "outputs": [
    {
     "name": "stderr",
     "output_type": "stream",
     "text": [
      "C:\\Users\\mathi\\AppData\\Roaming\\Python\\Python310\\site-packages\\gym\\envs\\registration.py:555: UserWarning: \u001b[33mWARN: The environment CartPole-v0 is out of date. You should consider upgrading to version `v1`.\u001b[0m\n"
     ]
    }
   ],
   "source": [
    "env = gym.make('CartPole-v0', render_mode='rgb_array')"
   ]
  },
  {
   "cell_type": "code",
   "execution_count": 7,
   "metadata": {},
   "outputs": [
    {
     "data": {
      "text/plain": [
       "Box([-4.8000002e+00 -3.4028235e+38 -4.1887903e-01 -3.4028235e+38], [4.8000002e+00 3.4028235e+38 4.1887903e-01 3.4028235e+38], (4,), float32)"
      ]
     },
     "execution_count": 7,
     "metadata": {},
     "output_type": "execute_result"
    }
   ],
   "source": [
    "env.observation_space"
   ]
  },
  {
   "cell_type": "code",
   "execution_count": null,
   "metadata": {},
   "outputs": [],
   "source": []
  },
  {
   "attachments": {},
   "cell_type": "markdown",
   "metadata": {},
   "source": [
    "Observation space is four continuous measurements."
   ]
  },
  {
   "cell_type": "code",
   "execution_count": 8,
   "metadata": {},
   "outputs": [
    {
     "data": {
      "text/plain": [
       "Discrete(2)"
      ]
     },
     "execution_count": 8,
     "metadata": {},
     "output_type": "execute_result"
    }
   ],
   "source": [
    "env.action_space"
   ]
  },
  {
   "attachments": {},
   "cell_type": "markdown",
   "metadata": {},
   "source": [
    "Action space is discrete range from 0 to 1, i.e. left and right."
   ]
  },
  {
   "cell_type": "code",
   "execution_count": 9,
   "metadata": {},
   "outputs": [
    {
     "data": {
      "text/plain": [
       "(array([ 0.01840862, -0.02947938, -0.0427751 ,  0.0463868 ], dtype=float32),\n",
       " {})"
      ]
     },
     "execution_count": 9,
     "metadata": {},
     "output_type": "execute_result"
    }
   ],
   "source": [
    "env.reset()"
   ]
  },
  {
   "cell_type": "code",
   "execution_count": 10,
   "metadata": {},
   "outputs": [
    {
     "data": {
      "text/plain": [
       "<matplotlib.image.AxesImage at 0x1ff9cd39840>"
      ]
     },
     "execution_count": 10,
     "metadata": {},
     "output_type": "execute_result"
    },
    {
     "data": {
      "image/png": "[encoded data removed]",
      "text/plain": [
       "<Figure size 640x480 with 1 Axes>"
      ]
     },
     "metadata": {},
     "output_type": "display_data"
    }
   ],
   "source": [
    "plt.imshow(env.render())"
   ]
  },
  {
   "attachments": {},
   "cell_type": "markdown",
   "metadata": {},
   "source": [
    "### Training the Agent"
   ]
  },
  {
   "attachments": {},
   "cell_type": "markdown",
   "metadata": {},
   "source": [
    "Defining hyperparameters for the neural network:"
   ]
  },
  {
   "cell_type": "code",
   "execution_count": 11,
   "metadata": {},
   "outputs": [],
   "source": [
    "HIDDEN_SIZE = 128\n",
    "BATCH_SIZE = 16\n",
    "PERCENTILE = 70"
   ]
  },
  {
   "attachments": {},
   "cell_type": "markdown",
   "metadata": {},
   "source": [
    "Then, defining the neural network:"
   ]
  },
  {
   "cell_type": "code",
   "execution_count": 12,
   "metadata": {},
   "outputs": [],
   "source": [
    "class ANN(nn.Module):\n",
    "    def __init__(self, obs_size, hidden_size, n_actions):\n",
    "        super(ANN, self).__init__()\n",
    "        self.layers = nn.Sequential(\n",
    "            # input size is observation space\n",
    "            nn.Linear(obs_size, hidden_size),\n",
    "            nn.ReLU(),\n",
    "            nn.Linear(hidden_size, n_actions)\n",
    "            # output size is the action space\n",
    "        )\n",
    "\n",
    "    def forward(self, x):\n",
    "        return self.layers(x)"
   ]
  },
  {
   "attachments": {},
   "cell_type": "markdown",
   "metadata": {},
   "source": [
    "Rather than calculating softmax (which uses exponentiation) and then calculating cross-entropy loss (which uses a logarithm of probabilities), we can use the PyTorch class `nn.CrossEntropyLoss`, which combines both softmax and cross-entropy in a single, more numerically stable expression. `CrossEntropyLoss` requires raw, unnormalized values from the NN (also called logits). The downside of this is that we need to remember to apply softmax every time we need to get probabilities from our NN's output."
   ]
  },
  {
   "cell_type": "code",
   "execution_count": 13,
   "metadata": {},
   "outputs": [],
   "source": [
    "Episode = namedtuple('Episode', field_names=['reward', 'steps'])\n",
    "EpisodeStep = namedtuple('EpisodeStep', field_names=['observation', 'action'])"
   ]
  },
  {
   "attachments": {},
   "cell_type": "markdown",
   "metadata": {},
   "source": [
    "- _Episode_: This is a single episode stored as total undiscounted reward and a collection of EpisodeStep.\n",
    "- _EpisodeStep_: This will be used to represent one single step that our agent made in the episode, and it stores the observation from the environment and what action the agent completed. We will use episode steps from \"elite\" episodes as training data."
   ]
  },
  {
   "cell_type": "code",
   "execution_count": 14,
   "metadata": {},
   "outputs": [
    {
     "data": {
      "text/plain": [
       "array([0.564, 0.436], dtype=float32)"
      ]
     },
     "execution_count": 14,
     "metadata": {},
     "output_type": "execute_result"
    }
   ],
   "source": [
    "torch.tensor([[0.5640, 0.4360]]).data.numpy()[0]"
   ]
  },
  {
   "cell_type": "code",
   "execution_count": 15,
   "metadata": {},
   "outputs": [],
   "source": [
    "def iterate_batches(env, net, batch_size):\n",
    "    batch = []\n",
    "    episode_reward = 0.0\n",
    "    episode_steps = []\n",
    "    # had to fix this, because new version of gym does not only return the observation\n",
    "    # but also an empty dictionary in second position of the tuple\n",
    "    obs, _ = env.reset() # initial observation\n",
    "    sm = nn.Softmax(dim=1)\n",
    "    \n",
    "    while True:\n",
    "        # Convert the numpy array to a tensor\n",
    "        obs_v = torch.FloatTensor([obs])\n",
    "        # pass the observation space to the neural net, which returns action probabilities\n",
    "        act_probs_v = sm(net(obs_v)) # look like this: tensor([[0.5640, 0.4360]], grad_fn=<SoftmaxBackward0>)\n",
    "        act_probs = act_probs_v.data.numpy()[0] # converts tensor to this: array([0.564, 0.436], dtype=float32)\n",
    "        action = np.random.choice(len(act_probs), p=act_probs) # sample from the actions according to output of net\n",
    "        next_obs, reward, is_done, is_truncated, _ = env.step(action) # take step, get new information\n",
    "        episode_reward += reward # Add current reward to total reward of episode\n",
    "        episode_steps.append(EpisodeStep(observation=obs, action=action)) # tuple gets appended to list to store\n",
    "        # the training data for the neural network later, but still has to be filtered\n",
    "\n",
    "        # If episode is done (fail or max steps reached -> 200)\n",
    "        if is_done or is_truncated:\n",
    "            batch.append(Episode(reward=episode_reward, steps=episode_steps)) # at end of episode, append reward and steps\n",
    "            episode_reward = 0.0 # reinitialise the environment \n",
    "            episode_steps = []\n",
    "            next_obs, _ = env.reset()\n",
    "            if len(batch) == batch_size:\n",
    "                yield batch\n",
    "                batch = []\n",
    "        obs = next_obs"
   ]
  },
  {
   "attachments": {},
   "cell_type": "markdown",
   "metadata": {},
   "source": [
    "Each time the `yield` statement is executed, the current state of the function is saved, and the generator object is returned to the caller along with the current value of batch. When the next batch is requested by the caller (by iterating over the generator object), the function resumes execution from where it left off, with the previous state restored, and continues until the next yield statement is encountered. This process repeats until there are no more batches to yield, at which point the generator object is exhausted and the loop terminates.\n",
    "\n",
    "Next, write the function that filters the past batches according to the >70th percentile rule:"
   ]
  },
  {
   "cell_type": "code",
   "execution_count": 16,
   "metadata": {},
   "outputs": [],
   "source": [
    "def filter_batch(batch, percentile):\n",
    "    rewards = list(map(lambda s: s.reward, batch)) # make a list from all rewards\n",
    "    reward_bound = np.percentile(rewards, percentile) # get the percentile from the rewards\n",
    "    reward_mean = float(np.mean(rewards)) # get mean of rewards\n",
    "\n",
    "    train_obs = [] # initialising empty list for each batch means discarding the data each batch\n",
    "    train_act = [] # i.e. retraining the neural net only on the data from the latest available batch\n",
    "    for example in batch: # each element in batch is a tuple (episode_reward, episode_steps)\n",
    "        if example.reward < reward_bound:\n",
    "            continue # skip the episodes that are below the 70th percentile\n",
    "        # for each episode above the 70th percentile, add ALL observations and \n",
    "        # action pairs from the episode (n=number of steps in episode) to the lists\n",
    "        train_obs.extend(map(lambda step: step.observation, example.steps))\n",
    "        train_act.extend(map(lambda step: step.action, example.steps))\n",
    "\n",
    "    # historical lists are then returned as tensors for the model to learn from\n",
    "    train_obs_v = torch.FloatTensor(train_obs)\n",
    "    train_act_v = torch.LongTensor(train_act)\n",
    "    return train_obs_v, train_act_v, reward_bound, reward_mean"
   ]
  },
  {
   "attachments": {},
   "cell_type": "markdown",
   "metadata": {},
   "source": [
    "Since `iterate_batches` is a generator function, each call to it returns a new batch, and the enumerate function provides a count for each iteration, which can be used for keeping track of the number of batches processed so far. The enumerate function automatically starts counting at 0 and increments by 1 with each iteration of the loop. This allows the code to keep track of how many batches have been processed and print out the current iteration number as well as other metrics like the loss, mean reward, and reward bound."
   ]
  },
  {
   "cell_type": "code",
   "execution_count": 17,
   "metadata": {},
   "outputs": [
    {
     "name": "stderr",
     "output_type": "stream",
     "text": [
      "C:\\Users\\mathi\\AppData\\Local\\Temp\\ipykernel_24012\\1470026040.py:12: UserWarning: Creating a tensor from a list of numpy.ndarrays is extremely slow. Please consider converting the list to a single numpy.ndarray with numpy.array() before converting to a tensor. (Triggered internally at ..\\torch\\csrc\\utils\\tensor_new.cpp:248.)\n"
     ]
    },
    {
     "name": "stdout",
     "output_type": "stream",
     "text": [
      "Batch No 0: loss=0.6856364607810974, reward_mean=22.0625, reward_bound=28.5\n",
      "Batch No 10: loss=0.5838582515716553, reward_mean=48.125, reward_bound=53.5\n",
      "Batch No 20: loss=0.5515851378440857, reward_mean=128.375, reward_bound=149.5\n",
      "Batch No 30: loss=0.5363014936447144, reward_mean=181.75, reward_bound=200.0\n",
      "Batch No 40: loss=0.5224011540412903, reward_mean=199.625, reward_bound=200.0\n",
      "Batch No 50: loss=0.5243006944656372, reward_mean=200.0, reward_bound=200.0\n",
      "Solved!\n"
     ]
    }
   ],
   "source": [
    "env = gym.make('CartPole-v0') # initialise environment\n",
    "obs_size = env.observation_space.shape[0] # define sizes for NN\n",
    "n_actions = env.action_space.n\n",
    "\n",
    "net = ANN(obs_size, HIDDEN_SIZE, n_actions) # Instantiate model\n",
    "objective = nn.CrossEntropyLoss() # define loss function\n",
    "optimizer = optim.Adam(net.parameters(), lr=0.01) # define optimizer and learn rate\n",
    "\n",
    "loss_history = [] # some lists for storage of the performance metrics\n",
    "reward_m_history = []\n",
    "reward_b_history = []\n",
    "\n",
    "# enumerate works, because it's a generator function, see text above\n",
    "for iter_no, batch in enumerate(iterate_batches(env, net, BATCH_SIZE)):\n",
    "    '''\n",
    "    Main loop that trains the agent (neural network) with data from each batch\n",
    "    '''\n",
    "    obs_v, acts_v, reward_b, reward_m = filter_batch(batch, PERCENTILE) # get training data from each batch in the top 30%\n",
    "    optimizer.zero_grad()\n",
    "    action_scores_v = net(obs_v) # get probabilities (linear output of net)\n",
    "    loss_v = objective(action_scores_v, acts_v) # calculate loss function as the cross entropy \n",
    "    # of the probabilities from the net and the actions from the top 30% that were taken\n",
    "    loss_v.backward() # gradients\n",
    "    optimizer.step()\n",
    "\n",
    "    if iter_no % 10 == 0:\n",
    "        print(f\"Batch No {iter_no}: loss={loss_v.item()}, reward_mean={reward_m}, reward_bound={reward_b}\")\n",
    "    \n",
    "    # Store the values for chart\n",
    "    loss_history.append(loss_v.item())\n",
    "    reward_m_history.append(reward_m)\n",
    "    reward_b_history.append(reward_b)\n",
    "\n",
    "    # train until the mean of the past 10 batches is about 200\n",
    "    # 200 is the level defined by OpenAI, as the max episodes for CartPole\n",
    "    if int(np.mean(reward_m_history[-5:])) == 200: \n",
    "        print('Solved!')\n",
    "        break"
   ]
  },
  {
   "attachments": {},
   "cell_type": "markdown",
   "metadata": {},
   "source": [
    "Explanation why the use of the cross-entropy loss with the action probabilities and the actual actions taken makes sense:\n",
    "\n",
    "Cross entropy loss is often used in reinforcement learning to train a policy network to take actions that maximize the expected future reward. The network takes as input the current state of the environment and outputs a probability distribution over possible actions. The loss function compares the predicted action probabilities with the actual actions taken in the environment and updates the network's parameters to increase the probability of good actions.\n",
    "\n",
    "The reason this works is that the objective of the network is to maximize the expected future reward. By assigning higher probabilities to good actions, the network is more likely to take those actions and receive a higher reward in the future. In contrast, assigning lower probabilities to bad actions reduces the chance of the network taking those actions and receiving a lower reward.\n",
    "\n",
    "Cross entropy loss is a commonly used loss function for classification tasks. It measures the difference between the predicted probabilities and the actual target probabilities. **In reinforcement learning, the actual target probabilities correspond to the actions taken in the environment, while the predicted probabilities correspond to the probabilities assigned by the policy network.**\n",
    "\n",
    "By minimizing the cross-entropy loss, the network learns to assign higher probabilities to good actions and lower probabilities to bad actions. This, in turn, leads to the network learning a policy that maximizes the expected future reward."
   ]
  },
  {
   "cell_type": "code",
   "execution_count": 19,
   "metadata": {},
   "outputs": [
    {
     "data": {
      "image/png": "[encoded data removed]",
      "text/plain": [
       "<Figure size 1000x200 with 3 Axes>"
      ]
     },
     "metadata": {},
     "output_type": "display_data"
    },
    {
     "data": {
      "text/plain": [
       "<ggplot: (137340568024)>"
      ]
     },
     "execution_count": 19,
     "metadata": {},
     "output_type": "execute_result"
    }
   ],
   "source": [
    "training_history = (pd.DataFrame({'loss': loss_history,\n",
    "                                  'mean_reward': reward_m_history,\n",
    "                                  'reward_bound': reward_b_history})\n",
    "                    .assign(batch_num=lambda x: range(1, len(x) + 1))\n",
    "                    .melt(id_vars='batch_num'))\n",
    "\n",
    "p = (\n",
    "    ggplot(data=(training_history),\n",
    "           mapping=aes(x='batch_num', y='value')) +\n",
    "    geom_line() +\n",
    "    facet_wrap('~ variable', scales='free_y') +\n",
    "    labs(title='Training History of Cross-Entropy Example',\n",
    "         x='Batches', y=None) +\n",
    "    theme_linedraw() +\n",
    "    theme(figure_size=[10, 2], \n",
    "          subplots_adjust={'wspace': 0.25})\n",
    ")\n",
    "\n",
    "p"
   ]
  },
  {
   "cell_type": "code",
   "execution_count": 21,
   "metadata": {},
   "outputs": [
    {
     "name": "stderr",
     "output_type": "stream",
     "text": [
      "C:\\Users\\mathi\\AppData\\Roaming\\Python\\Python310\\site-packages\\plotnine\\ggplot.py:718: PlotnineWarning: Saving 8 x 2 in image.\n",
      "C:\\Users\\mathi\\AppData\\Roaming\\Python\\Python310\\site-packages\\plotnine\\ggplot.py:719: PlotnineWarning: Filename: python.png\n"
     ]
    }
   ],
   "source": [
    "p.save(dpi=300, height=2, width=8, filename=\"python.png\")"
   ]
  },
  {
   "attachments": {},
   "cell_type": "markdown",
   "metadata": {},
   "source": [
    "Saving the model for later use (Note: This only saves the weights and biases, not the hyperparameters, so this saving mode is for inference only):"
   ]
  },
  {
   "cell_type": "code",
   "execution_count": 22,
   "metadata": {},
   "outputs": [],
   "source": [
    "torch.save(net.state_dict(), f='trained_model.pt')"
   ]
  },
  {
   "attachments": {},
   "cell_type": "markdown",
   "metadata": {},
   "source": [
    "### Loading the Trained Agent and Playing Cartpole"
   ]
  },
  {
   "cell_type": "code",
   "execution_count": 23,
   "metadata": {},
   "outputs": [
    {
     "name": "stderr",
     "output_type": "stream",
     "text": [
      "C:\\Users\\mathi\\AppData\\Roaming\\Python\\Python310\\site-packages\\gym\\envs\\registration.py:555: UserWarning: \u001b[33mWARN: The environment CartPole-v0 is out of date. You should consider upgrading to version `v1`.\u001b[0m\n"
     ]
    },
    {
     "data": {
      "text/plain": [
       "ANN(\n",
       "  (layers): Sequential(\n",
       "    (0): Linear(in_features=4, out_features=128, bias=True)\n",
       "    (1): ReLU()\n",
       "    (2): Linear(in_features=128, out_features=2, bias=True)\n",
       "  )\n",
       ")"
      ]
     },
     "execution_count": 23,
     "metadata": {},
     "output_type": "execute_result"
    }
   ],
   "source": [
    "# Defining the environment\n",
    "env = gym.make('CartPole-v0', render_mode='rgb_array')\n",
    "obs_size = env.observation_space.shape[0] # define sizes for NN\n",
    "n_actions = env.action_space.n\n",
    "\n",
    "\n",
    "# Loading the model\n",
    "net = ANN(obs_size, HIDDEN_SIZE, n_actions) # instance of model\n",
    "net.load_state_dict(torch.load(\"trained_model.pt\"))\n",
    "net.eval()"
   ]
  },
  {
   "cell_type": "code",
   "execution_count": 24,
   "metadata": {},
   "outputs": [],
   "source": [
    "def play_cartpole(env, net, num_episodes):\n",
    "    for episode in range(num_episodes):\n",
    "        episode_reward = 0.0\n",
    "        steps = 0\n",
    "        reward = 0.0\n",
    "        obs, _ = env.reset()\n",
    "        is_done = False\n",
    "        is_truncated = False\n",
    "        \n",
    "        while not is_done and not is_truncated:\n",
    "            # convert the numpy array to a tensor\n",
    "            obs_v = torch.FloatTensor([obs])\n",
    "\n",
    "            with torch.no_grad():\n",
    "                # pass the observation space to the neural net, which returns action probabilities\n",
    "                act_probs_v = nn.Softmax(dim=1)(net(obs_v))\n",
    "            \n",
    "            act_probs = act_probs_v.data.numpy()[0]\n",
    "            action = np.random.choice(len(act_probs), p=act_probs)\n",
    "\n",
    "            # take a step\n",
    "            next_obs, reward, is_done, is_truncated, _ = env.step(action)\n",
    "            steps += 1\n",
    "\n",
    "            episode_reward += reward\n",
    "            obs = next_obs\n",
    "\n",
    "            if steps % 15 == 0:\n",
    "                clear_output(wait=True)\n",
    "                plt.imshow(env.render())\n",
    "                plt.show()\n",
    "\n",
    "        print(f\"Episode {episode + 1}: {episode_reward} reward\")\n",
    "        if episode_reward < 200:\n",
    "            print(\"FAIL\")\n",
    "        else:\n",
    "            print(\"SUCCESS\")\n",
    "\n",
    "        time.sleep(1)"
   ]
  },
  {
   "cell_type": "code",
   "execution_count": 25,
   "metadata": {},
   "outputs": [
    {
     "data": {
      "image/png": "[encoded data removed]",
      "text/plain": [
       "<Figure size 640x480 with 1 Axes>"
      ]
     },
     "metadata": {},
     "output_type": "display_data"
    },
    {
     "name": "stdout",
     "output_type": "stream",
     "text": [
      "Episode 10: 200.0 reward\n",
      "SUCCESS\n"
     ]
    }
   ],
   "source": [
    "# call the animation function\n",
    "play_cartpole(env, net, 10)"
   ]
  },
  {
   "attachments": {},
   "cell_type": "markdown",
   "metadata": {},
   "source": [
    "Compare this to playing with an untrained agent:"
   ]
  },
  {
   "cell_type": "code",
   "execution_count": 26,
   "metadata": {},
   "outputs": [
    {
     "data": {
      "image/png": "[encoded data removed]",
      "text/plain": [
       "<Figure size 640x480 with 1 Axes>"
      ]
     },
     "metadata": {},
     "output_type": "display_data"
    },
    {
     "name": "stdout",
     "output_type": "stream",
     "text": [
      "Episode 5: 37.0 reward\n",
      "FAIL\n"
     ]
    }
   ],
   "source": [
    "play_cartpole(env, ANN(obs_size, HIDDEN_SIZE, n_actions), 5)"
   ]
  },
  {
   "attachments": {},
   "cell_type": "markdown",
   "metadata": {},
   "source": [
    "### My Takeaway from this practical example\n",
    "\n",
    "The Cross Entropy Method uses an ANN like in a classification setting. Inputs are observations and outputs are the probabilities of certain actions given the inputs. The actions are then sampled according to the probabilities of the ANN, which enables exploration vs. exploitation. After a batch, i.e. a certain number of episodes, all episodes with a reward smaller than some percentile are discarded. In other words, the episodes from the batch that worked out best for the agent are kept and the data (input observations made, output subsequent actions taken) are used as a batch to compute a loss and optimise the ANN's weights. Iteratively, for a number of batches (which each contain a number of episodes which each contain a number of steps, observations, actions and rewards), the model is trained on the top percentiles of the batches, in turn getting better and better at mapping observations to a desirable policy."
   ]
  }
 ],
 "metadata": {
  "kernelspec": {
   "display_name": "base",
   "language": "python",
   "name": "python3"
  },
  "language_info": {
   "codemirror_mode": {
    "name": "ipython",
    "version": 3
   },
   "file_extension": ".py",
   "mimetype": "text/x-python",
   "name": "python",
   "nbconvert_exporter": "python",
   "pygments_lexer": "ipython3",
   "version": "3.10.5"
  },
  "orig_nbformat": 4
 },
 "nbformat": 4,
 "nbformat_minor": 2
}
