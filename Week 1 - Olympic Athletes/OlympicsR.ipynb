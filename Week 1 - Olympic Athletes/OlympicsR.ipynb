{
 "cells": [
  {
   "cell_type": "code",
   "execution_count": 2,
   "metadata": {
    "vscode": {
     "languageId": "r"
    }
   },
   "outputs": [],
   "source": [
    "lintr::use_lintr(type = \"tidyverse\")"
   ]
  },
  {
   "cell_type": "code",
   "execution_count": 3,
   "metadata": {
    "vscode": {
     "languageId": "r"
    }
   },
   "outputs": [
    {
     "name": "stderr",
     "output_type": "stream",
     "text": [
      "── \u001b[1mAttaching packages\u001b[22m ─────────────────────────────────────── tidyverse 1.3.2 ──\n",
      "\u001b[32m✔\u001b[39m \u001b[34mggplot2\u001b[39m 3.3.6      \u001b[32m✔\u001b[39m \u001b[34mpurrr  \u001b[39m 0.3.5 \n",
      "\u001b[32m✔\u001b[39m \u001b[34mtibble \u001b[39m 3.1.8      \u001b[32m✔\u001b[39m \u001b[34mdplyr  \u001b[39m 1.0.10\n",
      "\u001b[32m✔\u001b[39m \u001b[34mtidyr  \u001b[39m 1.2.1      \u001b[32m✔\u001b[39m \u001b[34mstringr\u001b[39m 1.4.1 \n",
      "\u001b[32m✔\u001b[39m \u001b[34mreadr  \u001b[39m 2.1.3      \u001b[32m✔\u001b[39m \u001b[34mforcats\u001b[39m 0.5.2 \n",
      "── \u001b[1mConflicts\u001b[22m ────────────────────────────────────────── tidyverse_conflicts() ──\n",
      "\u001b[31m✖\u001b[39m \u001b[34mdplyr\u001b[39m::\u001b[32mfilter()\u001b[39m masks \u001b[34mstats\u001b[39m::filter()\n",
      "\u001b[31m✖\u001b[39m \u001b[34mdplyr\u001b[39m::\u001b[32mlag()\u001b[39m    masks \u001b[34mstats\u001b[39m::lag()\n",
      "── \u001b[1mAttaching packages\u001b[22m ────────────────────────────────────── tidymodels 1.0.0 ──\n",
      "\n",
      "\u001b[32m✔\u001b[39m \u001b[34mbroom       \u001b[39m 1.0.1     \u001b[32m✔\u001b[39m \u001b[34mrsample     \u001b[39m 1.1.0\n",
      "\u001b[32m✔\u001b[39m \u001b[34mdials       \u001b[39m 1.0.0     \u001b[32m✔\u001b[39m \u001b[34mtune        \u001b[39m 1.0.1\n",
      "\u001b[32m✔\u001b[39m \u001b[34minfer       \u001b[39m 1.0.3     \u001b[32m✔\u001b[39m \u001b[34mworkflows   \u001b[39m 1.1.0\n",
      "\u001b[32m✔\u001b[39m \u001b[34mmodeldata   \u001b[39m 1.0.1     \u001b[32m✔\u001b[39m \u001b[34mworkflowsets\u001b[39m 1.0.0\n",
      "\u001b[32m✔\u001b[39m \u001b[34mparsnip     \u001b[39m 1.0.2     \u001b[32m✔\u001b[39m \u001b[34myardstick   \u001b[39m 1.1.0\n",
      "\u001b[32m✔\u001b[39m \u001b[34mrecipes     \u001b[39m 1.0.1     \n",
      "\n",
      "── \u001b[1mConflicts\u001b[22m ───────────────────────────────────────── tidymodels_conflicts() ──\n",
      "\u001b[31m✖\u001b[39m \u001b[34mscales\u001b[39m::\u001b[32mdiscard()\u001b[39m masks \u001b[34mpurrr\u001b[39m::discard()\n",
      "\u001b[31m✖\u001b[39m \u001b[34mdplyr\u001b[39m::\u001b[32mfilter()\u001b[39m   masks \u001b[34mstats\u001b[39m::filter()\n",
      "\u001b[31m✖\u001b[39m \u001b[34mrecipes\u001b[39m::\u001b[32mfixed()\u001b[39m  masks \u001b[34mstringr\u001b[39m::fixed()\n",
      "\u001b[31m✖\u001b[39m \u001b[34mdplyr\u001b[39m::\u001b[32mlag()\u001b[39m      masks \u001b[34mstats\u001b[39m::lag()\n",
      "\u001b[31m✖\u001b[39m \u001b[34myardstick\u001b[39m::\u001b[32mspec()\u001b[39m masks \u001b[34mreadr\u001b[39m::spec()\n",
      "\u001b[31m✖\u001b[39m \u001b[34mrecipes\u001b[39m::\u001b[32mstep()\u001b[39m   masks \u001b[34mstats\u001b[39m::step()\n",
      "\u001b[34m•\u001b[39m Search for functions across packages at \u001b[32mhttps://www.tidymodels.org/find/\u001b[39m\n",
      "\n",
      "Loading required package: foreach\n",
      "\n",
      "\n",
      "Attaching package: 'foreach'\n",
      "\n",
      "\n",
      "The following objects are masked from 'package:purrr':\n",
      "\n",
      "    accumulate, when\n",
      "\n",
      "\n",
      "Loading required package: iterators\n",
      "\n",
      "Loading required package: parallel\n",
      "\n",
      "\n",
      "Attaching package: 'vip'\n",
      "\n",
      "\n",
      "The following object is masked from 'package:utils':\n",
      "\n",
      "    vi\n",
      "\n",
      "\n",
      "\n",
      "Attaching package: 'lubridate'\n",
      "\n",
      "\n",
      "The following objects are masked from 'package:base':\n",
      "\n",
      "    date, intersect, setdiff, union\n",
      "\n",
      "\n",
      "\u001b[1m\u001b[22mNew names:\n",
      "\u001b[36m•\u001b[39m `` -> `...1`\n",
      "\u001b[1mRows: \u001b[22m\u001b[34m271116\u001b[39m \u001b[1mColumns: \u001b[22m\u001b[34m16\u001b[39m\n",
      "\u001b[36m──\u001b[39m \u001b[1mColumn specification\u001b[22m \u001b[36m────────────────────────────────────────────────────────\u001b[39m\n",
      "\u001b[1mDelimiter:\u001b[22m \",\"\n",
      "\u001b[31mchr\u001b[39m (10): name, sex, team, noc, games, season, city, sport, event, medal\n",
      "\u001b[32mdbl\u001b[39m  (6): ...1, id, age, height, weight, year\n",
      "\n",
      "\u001b[36mℹ\u001b[39m Use `spec()` to retrieve the full column specification for this data.\n",
      "\u001b[36mℹ\u001b[39m Specify the column types or set `show_col_types = FALSE` to quiet this message.\n"
     ]
    }
   ],
   "source": [
    "# Libraries\n",
    "library(tidyverse)\n",
    "library(tidymodels)\n",
    "library(tidytext)\n",
    "library(doParallel)\n",
    "library(vip)\n",
    "library(lubridate)\n",
    "library(broom)\n",
    "library(scales)\n",
    "\n",
    "# Chart Theme\n",
    "theme_set(theme_bw() +\n",
    "            theme(plot.title = element_text(size = 14, face = \"bold\"),\n",
    "                  plot.subtitle = element_text(size = 10, face = \"italic\",\n",
    "                                               colour = \"grey50\")))\n",
    "\n",
    "# Loading Data\n",
    "data <- read_csv(\"olympics.csv\") %>%\n",
    "      janitor::clean_names() %>%\n",
    "      select(-x1)"
   ]
  },
  {
   "cell_type": "code",
   "execution_count": 4,
   "metadata": {
    "vscode": {
     "languageId": "r"
    }
   },
   "outputs": [
    {
     "name": "stdout",
     "output_type": "stream",
     "text": [
      "Rows: 271,116\n",
      "Columns: 15\n",
      "$ id     \u001b[3m\u001b[90m<dbl>\u001b[39m\u001b[23m 1, 2, 3, 4, 5, 5, 5, 5, 5, 5, 6, 6, 6, 6, 6, 6, 6, 6, 7, 7, 7, …\n",
      "$ name   \u001b[3m\u001b[90m<chr>\u001b[39m\u001b[23m \"A Dijiang\", \"A Lamusi\", \"Gunnar Nielsen Aaby\", \"Edgar Lindenau…\n",
      "$ sex    \u001b[3m\u001b[90m<chr>\u001b[39m\u001b[23m \"M\", \"M\", \"M\", \"M\", \"F\", \"F\", \"F\", \"F\", \"F\", \"F\", \"M\", \"M\", \"M\"…\n",
      "$ age    \u001b[3m\u001b[90m<dbl>\u001b[39m\u001b[23m 24, 23, 24, 34, 21, 21, 25, 25, 27, 27, 31, 31, 31, 31, 33, 33,…\n",
      "$ height \u001b[3m\u001b[90m<dbl>\u001b[39m\u001b[23m 180, 170, NA, NA, 185, 185, 185, 185, 185, 185, 188, 188, 188, …\n",
      "$ weight \u001b[3m\u001b[90m<dbl>\u001b[39m\u001b[23m 80, 60, NA, NA, 82, 82, 82, 82, 82, 82, 75, 75, 75, 75, 75, 75,…\n",
      "$ team   \u001b[3m\u001b[90m<chr>\u001b[39m\u001b[23m \"China\", \"China\", \"Denmark\", \"Denmark/Sweden\", \"Netherlands\", \"…\n",
      "$ noc    \u001b[3m\u001b[90m<chr>\u001b[39m\u001b[23m \"CHN\", \"CHN\", \"DEN\", \"DEN\", \"NED\", \"NED\", \"NED\", \"NED\", \"NED\", …\n",
      "$ games  \u001b[3m\u001b[90m<chr>\u001b[39m\u001b[23m \"1992 Summer\", \"2012 Summer\", \"1920 Summer\", \"1900 Summer\", \"19…\n",
      "$ year   \u001b[3m\u001b[90m<dbl>\u001b[39m\u001b[23m 1992, 2012, 1920, 1900, 1988, 1988, 1992, 1992, 1994, 1994, 199…\n",
      "$ season \u001b[3m\u001b[90m<chr>\u001b[39m\u001b[23m \"Summer\", \"Summer\", \"Summer\", \"Summer\", \"Winter\", \"Winter\", \"Wi…\n",
      "$ city   \u001b[3m\u001b[90m<chr>\u001b[39m\u001b[23m \"Barcelona\", \"London\", \"Antwerpen\", \"Paris\", \"Calgary\", \"Calgar…\n",
      "$ sport  \u001b[3m\u001b[90m<chr>\u001b[39m\u001b[23m \"Basketball\", \"Judo\", \"Football\", \"Tug-Of-War\", \"Speed Skating\"…\n",
      "$ event  \u001b[3m\u001b[90m<chr>\u001b[39m\u001b[23m \"Basketball Men's Basketball\", \"Judo Men's Extra-Lightweight\", …\n",
      "$ medal  \u001b[3m\u001b[90m<chr>\u001b[39m\u001b[23m NA, NA, NA, \"Gold\", NA, NA, NA, NA, NA, NA, NA, NA, NA, NA, NA,…\n"
     ]
    }
   ],
   "source": [
    "data %>% glimpse()"
   ]
  },
  {
   "attachments": {},
   "cell_type": "markdown",
   "metadata": {},
   "source": [
    "### Total Gold Medals by Country"
   ]
  },
  {
   "cell_type": "code",
   "execution_count": 5,
   "metadata": {
    "vscode": {
     "languageId": "r"
    }
   },
   "outputs": [
    {
     "data": {
      "text/html": [
       "<table class=\"dataframe\">\n",
       "<caption>A tibble: 10 × 3</caption>\n",
       "<thead>\n",
       "\t<tr><th scope=col>team</th><th scope=col>medal</th><th scope=col>n</th></tr>\n",
       "\t<tr><th scope=col>&lt;chr&gt;</th><th scope=col>&lt;chr&gt;</th><th scope=col>&lt;int&gt;</th></tr>\n",
       "</thead>\n",
       "<tbody>\n",
       "\t<tr><td>United States</td><td>Gold</td><td>2474</td></tr>\n",
       "\t<tr><td>Soviet Union </td><td>Gold</td><td>1058</td></tr>\n",
       "\t<tr><td>Germany      </td><td>Gold</td><td> 679</td></tr>\n",
       "\t<tr><td>Italy        </td><td>Gold</td><td> 535</td></tr>\n",
       "\t<tr><td>Great Britain</td><td>Gold</td><td> 519</td></tr>\n",
       "\t<tr><td>France       </td><td>Gold</td><td> 455</td></tr>\n",
       "\t<tr><td>Sweden       </td><td>Gold</td><td> 451</td></tr>\n",
       "\t<tr><td>Hungary      </td><td>Gold</td><td> 432</td></tr>\n",
       "\t<tr><td>Canada       </td><td>Gold</td><td> 422</td></tr>\n",
       "\t<tr><td>East Germany </td><td>Gold</td><td> 369</td></tr>\n",
       "</tbody>\n",
       "</table>\n"
      ],
      "text/latex": [
       "A tibble: 10 × 3\n",
       "\\begin{tabular}{lll}\n",
       " team & medal & n\\\\\n",
       " <chr> & <chr> & <int>\\\\\n",
       "\\hline\n",
       "\t United States & Gold & 2474\\\\\n",
       "\t Soviet Union  & Gold & 1058\\\\\n",
       "\t Germany       & Gold &  679\\\\\n",
       "\t Italy         & Gold &  535\\\\\n",
       "\t Great Britain & Gold &  519\\\\\n",
       "\t France        & Gold &  455\\\\\n",
       "\t Sweden        & Gold &  451\\\\\n",
       "\t Hungary       & Gold &  432\\\\\n",
       "\t Canada        & Gold &  422\\\\\n",
       "\t East Germany  & Gold &  369\\\\\n",
       "\\end{tabular}\n"
      ],
      "text/markdown": [
       "\n",
       "A tibble: 10 × 3\n",
       "\n",
       "| team &lt;chr&gt; | medal &lt;chr&gt; | n &lt;int&gt; |\n",
       "|---|---|---|\n",
       "| United States | Gold | 2474 |\n",
       "| Soviet Union  | Gold | 1058 |\n",
       "| Germany       | Gold |  679 |\n",
       "| Italy         | Gold |  535 |\n",
       "| Great Britain | Gold |  519 |\n",
       "| France        | Gold |  455 |\n",
       "| Sweden        | Gold |  451 |\n",
       "| Hungary       | Gold |  432 |\n",
       "| Canada        | Gold |  422 |\n",
       "| East Germany  | Gold |  369 |\n",
       "\n"
      ],
      "text/plain": [
       "   team          medal n   \n",
       "1  United States Gold  2474\n",
       "2  Soviet Union  Gold  1058\n",
       "3  Germany       Gold   679\n",
       "4  Italy         Gold   535\n",
       "5  Great Britain Gold   519\n",
       "6  France        Gold   455\n",
       "7  Sweden        Gold   451\n",
       "8  Hungary       Gold   432\n",
       "9  Canada        Gold   422\n",
       "10 East Germany  Gold   369"
      ]
     },
     "metadata": {},
     "output_type": "display_data"
    }
   ],
   "source": [
    "data %>%\n",
    "    mutate(medal = ifelse(is.na(medal), \"None\", medal)) %>%\n",
    "    group_by(team) %>%\n",
    "    count(medal) %>%\n",
    "    ungroup() %>%\n",
    "    filter(medal == \"Gold\") %>%\n",
    "    slice_max(order_by = n, n = 10)"
   ]
  },
  {
   "attachments": {},
   "cell_type": "markdown",
   "metadata": {},
   "source": [
    "### Average Age by Sport and Sex"
   ]
  },
  {
   "cell_type": "code",
   "execution_count": 6,
   "metadata": {
    "vscode": {
     "languageId": "r"
    }
   },
   "outputs": [
    {
     "name": "stderr",
     "output_type": "stream",
     "text": [
      "\u001b[1m\u001b[22m`summarise()` has grouped output by 'sex'. You can override using the `.groups`\n",
      "argument.\n"
     ]
    },
    {
     "data": {
      "text/html": [
       "<table class=\"dataframe\">\n",
       "<caption>A tibble: 47 × 4</caption>\n",
       "<thead>\n",
       "\t<tr><th scope=col>sport</th><th scope=col>F</th><th scope=col>M</th><th scope=col>delta</th></tr>\n",
       "\t<tr><th scope=col>&lt;chr&gt;</th><th scope=col>&lt;dbl&gt;</th><th scope=col>&lt;dbl&gt;</th><th scope=col>&lt;dbl&gt;</th></tr>\n",
       "</thead>\n",
       "<tbody>\n",
       "\t<tr><td>Gymnastics               </td><td>19.23275</td><td>24.65348</td><td> 5.4207312</td></tr>\n",
       "\t<tr><td>Shooting                 </td><td>29.11905</td><td>34.25435</td><td> 5.1353039</td></tr>\n",
       "\t<tr><td>Sailing                  </td><td>26.69838</td><td>30.90662</td><td> 4.2082436</td></tr>\n",
       "\t<tr><td>Skeleton                 </td><td>27.56061</td><td>30.97710</td><td> 3.4164932</td></tr>\n",
       "\t<tr><td>Golf                     </td><td>27.33824</td><td>30.25150</td><td> 2.9132617</td></tr>\n",
       "\t<tr><td>Figure Skating           </td><td>20.81255</td><td>23.71827</td><td> 2.9057181</td></tr>\n",
       "\t<tr><td>Curling                  </td><td>29.97297</td><td>32.73859</td><td> 2.7656162</td></tr>\n",
       "\t<tr><td>Fencing                  </td><td>26.34110</td><td>29.07767</td><td> 2.7365638</td></tr>\n",
       "\t<tr><td>Archery                  </td><td>26.50846</td><td>29.08327</td><td> 2.5748089</td></tr>\n",
       "\t<tr><td>Ski Jumping              </td><td>21.26667</td><td>23.37378</td><td> 2.1071136</td></tr>\n",
       "\t<tr><td>Ice Hockey               </td><td>24.05570</td><td>26.11430</td><td> 2.0586009</td></tr>\n",
       "\t<tr><td>Swimming                 </td><td>19.48745</td><td>21.38288</td><td> 1.8954314</td></tr>\n",
       "\t<tr><td>Tennis                   </td><td>24.77546</td><td>26.62933</td><td> 1.8538697</td></tr>\n",
       "\t<tr><td>Diving                   </td><td>21.51768</td><td>23.22831</td><td> 1.7106337</td></tr>\n",
       "\t<tr><td>Weightlifting            </td><td>24.02808</td><td>25.71083</td><td> 1.6827546</td></tr>\n",
       "\t<tr><td>Art Competitions         </td><td>44.41196</td><td>46.06282</td><td> 1.6508558</td></tr>\n",
       "\t<tr><td>Beach Volleyball         </td><td>28.31522</td><td>29.89583</td><td> 1.5806159</td></tr>\n",
       "\t<tr><td>Table Tennis             </td><td>25.66596</td><td>27.21922</td><td> 1.5532550</td></tr>\n",
       "\t<tr><td>Alpine Skiing            </td><td>22.33461</td><td>23.75827</td><td> 1.4236578</td></tr>\n",
       "\t<tr><td>Volleyball               </td><td>24.43163</td><td>25.81048</td><td> 1.3788485</td></tr>\n",
       "\t<tr><td>Bobsleigh                </td><td>27.83217</td><td>29.17446</td><td> 1.3422958</td></tr>\n",
       "\t<tr><td>Luge                     </td><td>23.64987</td><td>24.96091</td><td> 1.3110417</td></tr>\n",
       "\t<tr><td>Taekwondo                </td><td>23.40803</td><td>24.68730</td><td> 1.2792697</td></tr>\n",
       "\t<tr><td>Badminton                </td><td>25.04730</td><td>26.31520</td><td> 1.2679049</td></tr>\n",
       "\t<tr><td>Biathlon                 </td><td>25.79925</td><td>26.98415</td><td> 1.1849047</td></tr>\n",
       "\t<tr><td>Modern Pentathlon        </td><td>25.52439</td><td>26.48562</td><td> 0.9612262</td></tr>\n",
       "\t<tr><td>Speed Skating            </td><td>23.74628</td><td>24.63365</td><td> 0.8873706</td></tr>\n",
       "\t<tr><td>Handball                 </td><td>25.88392</td><td>26.56990</td><td> 0.6859799</td></tr>\n",
       "\t<tr><td>Short Track Speed Skating</td><td>22.46255</td><td>23.14101</td><td> 0.6784598</td></tr>\n",
       "\t<tr><td>Water Polo               </td><td>25.16189</td><td>25.73654</td><td> 0.5746569</td></tr>\n",
       "\t<tr><td>Cross Country Skiing     </td><td>25.65524</td><td>26.21407</td><td> 0.5588294</td></tr>\n",
       "\t<tr><td>Hockey                   </td><td>25.33242</td><td>25.86628</td><td> 0.5338565</td></tr>\n",
       "\t<tr><td>Wrestling                </td><td>25.30592</td><td>25.82183</td><td> 0.5159063</td></tr>\n",
       "\t<tr><td>Athletics                </td><td>24.93357</td><td>25.26343</td><td> 0.3298602</td></tr>\n",
       "\t<tr><td>Judo                     </td><td>25.16377</td><td>25.39738</td><td> 0.2336088</td></tr>\n",
       "\t<tr><td>Equestrianism            </td><td>34.21785</td><td>34.43469</td><td> 0.2168395</td></tr>\n",
       "\t<tr><td>Canoeing                 </td><td>25.33745</td><td>25.55275</td><td> 0.2153077</td></tr>\n",
       "\t<tr><td>Snowboarding             </td><td>24.72356</td><td>24.90769</td><td> 0.1841346</td></tr>\n",
       "\t<tr><td>Freestyle Skiing         </td><td>24.33025</td><td>24.50992</td><td> 0.1796666</td></tr>\n",
       "\t<tr><td>Triathlon                </td><td>27.92395</td><td>27.81955</td><td>-0.1044055</td></tr>\n",
       "\t<tr><td>Rugby Sevens             </td><td>26.11486</td><td>25.98013</td><td>-0.1347324</td></tr>\n",
       "\t<tr><td>Rowing                   </td><td>25.40264</td><td>25.24111</td><td>-0.1615325</td></tr>\n",
       "\t<tr><td>Basketball               </td><td>25.51752</td><td>25.24628</td><td>-0.2712328</td></tr>\n",
       "\t<tr><td>Trampolining             </td><td>25.53947</td><td>24.73684</td><td>-0.8026316</td></tr>\n",
       "\t<tr><td>Football                 </td><td>24.90909</td><td>23.46361</td><td>-1.4454851</td></tr>\n",
       "\t<tr><td>Cycling                  </td><td>26.89957</td><td>24.43678</td><td>-2.4627880</td></tr>\n",
       "\t<tr><td>Boxing                   </td><td>26.63889</td><td>23.00919</td><td>-3.6296967</td></tr>\n",
       "</tbody>\n",
       "</table>\n"
      ],
      "text/latex": [
       "A tibble: 47 × 4\n",
       "\\begin{tabular}{llll}\n",
       " sport & F & M & delta\\\\\n",
       " <chr> & <dbl> & <dbl> & <dbl>\\\\\n",
       "\\hline\n",
       "\t Gymnastics                & 19.23275 & 24.65348 &  5.4207312\\\\\n",
       "\t Shooting                  & 29.11905 & 34.25435 &  5.1353039\\\\\n",
       "\t Sailing                   & 26.69838 & 30.90662 &  4.2082436\\\\\n",
       "\t Skeleton                  & 27.56061 & 30.97710 &  3.4164932\\\\\n",
       "\t Golf                      & 27.33824 & 30.25150 &  2.9132617\\\\\n",
       "\t Figure Skating            & 20.81255 & 23.71827 &  2.9057181\\\\\n",
       "\t Curling                   & 29.97297 & 32.73859 &  2.7656162\\\\\n",
       "\t Fencing                   & 26.34110 & 29.07767 &  2.7365638\\\\\n",
       "\t Archery                   & 26.50846 & 29.08327 &  2.5748089\\\\\n",
       "\t Ski Jumping               & 21.26667 & 23.37378 &  2.1071136\\\\\n",
       "\t Ice Hockey                & 24.05570 & 26.11430 &  2.0586009\\\\\n",
       "\t Swimming                  & 19.48745 & 21.38288 &  1.8954314\\\\\n",
       "\t Tennis                    & 24.77546 & 26.62933 &  1.8538697\\\\\n",
       "\t Diving                    & 21.51768 & 23.22831 &  1.7106337\\\\\n",
       "\t Weightlifting             & 24.02808 & 25.71083 &  1.6827546\\\\\n",
       "\t Art Competitions          & 44.41196 & 46.06282 &  1.6508558\\\\\n",
       "\t Beach Volleyball          & 28.31522 & 29.89583 &  1.5806159\\\\\n",
       "\t Table Tennis              & 25.66596 & 27.21922 &  1.5532550\\\\\n",
       "\t Alpine Skiing             & 22.33461 & 23.75827 &  1.4236578\\\\\n",
       "\t Volleyball                & 24.43163 & 25.81048 &  1.3788485\\\\\n",
       "\t Bobsleigh                 & 27.83217 & 29.17446 &  1.3422958\\\\\n",
       "\t Luge                      & 23.64987 & 24.96091 &  1.3110417\\\\\n",
       "\t Taekwondo                 & 23.40803 & 24.68730 &  1.2792697\\\\\n",
       "\t Badminton                 & 25.04730 & 26.31520 &  1.2679049\\\\\n",
       "\t Biathlon                  & 25.79925 & 26.98415 &  1.1849047\\\\\n",
       "\t Modern Pentathlon         & 25.52439 & 26.48562 &  0.9612262\\\\\n",
       "\t Speed Skating             & 23.74628 & 24.63365 &  0.8873706\\\\\n",
       "\t Handball                  & 25.88392 & 26.56990 &  0.6859799\\\\\n",
       "\t Short Track Speed Skating & 22.46255 & 23.14101 &  0.6784598\\\\\n",
       "\t Water Polo                & 25.16189 & 25.73654 &  0.5746569\\\\\n",
       "\t Cross Country Skiing      & 25.65524 & 26.21407 &  0.5588294\\\\\n",
       "\t Hockey                    & 25.33242 & 25.86628 &  0.5338565\\\\\n",
       "\t Wrestling                 & 25.30592 & 25.82183 &  0.5159063\\\\\n",
       "\t Athletics                 & 24.93357 & 25.26343 &  0.3298602\\\\\n",
       "\t Judo                      & 25.16377 & 25.39738 &  0.2336088\\\\\n",
       "\t Equestrianism             & 34.21785 & 34.43469 &  0.2168395\\\\\n",
       "\t Canoeing                  & 25.33745 & 25.55275 &  0.2153077\\\\\n",
       "\t Snowboarding              & 24.72356 & 24.90769 &  0.1841346\\\\\n",
       "\t Freestyle Skiing          & 24.33025 & 24.50992 &  0.1796666\\\\\n",
       "\t Triathlon                 & 27.92395 & 27.81955 & -0.1044055\\\\\n",
       "\t Rugby Sevens              & 26.11486 & 25.98013 & -0.1347324\\\\\n",
       "\t Rowing                    & 25.40264 & 25.24111 & -0.1615325\\\\\n",
       "\t Basketball                & 25.51752 & 25.24628 & -0.2712328\\\\\n",
       "\t Trampolining              & 25.53947 & 24.73684 & -0.8026316\\\\\n",
       "\t Football                  & 24.90909 & 23.46361 & -1.4454851\\\\\n",
       "\t Cycling                   & 26.89957 & 24.43678 & -2.4627880\\\\\n",
       "\t Boxing                    & 26.63889 & 23.00919 & -3.6296967\\\\\n",
       "\\end{tabular}\n"
      ],
      "text/markdown": [
       "\n",
       "A tibble: 47 × 4\n",
       "\n",
       "| sport &lt;chr&gt; | F &lt;dbl&gt; | M &lt;dbl&gt; | delta &lt;dbl&gt; |\n",
       "|---|---|---|---|\n",
       "| Gymnastics                | 19.23275 | 24.65348 |  5.4207312 |\n",
       "| Shooting                  | 29.11905 | 34.25435 |  5.1353039 |\n",
       "| Sailing                   | 26.69838 | 30.90662 |  4.2082436 |\n",
       "| Skeleton                  | 27.56061 | 30.97710 |  3.4164932 |\n",
       "| Golf                      | 27.33824 | 30.25150 |  2.9132617 |\n",
       "| Figure Skating            | 20.81255 | 23.71827 |  2.9057181 |\n",
       "| Curling                   | 29.97297 | 32.73859 |  2.7656162 |\n",
       "| Fencing                   | 26.34110 | 29.07767 |  2.7365638 |\n",
       "| Archery                   | 26.50846 | 29.08327 |  2.5748089 |\n",
       "| Ski Jumping               | 21.26667 | 23.37378 |  2.1071136 |\n",
       "| Ice Hockey                | 24.05570 | 26.11430 |  2.0586009 |\n",
       "| Swimming                  | 19.48745 | 21.38288 |  1.8954314 |\n",
       "| Tennis                    | 24.77546 | 26.62933 |  1.8538697 |\n",
       "| Diving                    | 21.51768 | 23.22831 |  1.7106337 |\n",
       "| Weightlifting             | 24.02808 | 25.71083 |  1.6827546 |\n",
       "| Art Competitions          | 44.41196 | 46.06282 |  1.6508558 |\n",
       "| Beach Volleyball          | 28.31522 | 29.89583 |  1.5806159 |\n",
       "| Table Tennis              | 25.66596 | 27.21922 |  1.5532550 |\n",
       "| Alpine Skiing             | 22.33461 | 23.75827 |  1.4236578 |\n",
       "| Volleyball                | 24.43163 | 25.81048 |  1.3788485 |\n",
       "| Bobsleigh                 | 27.83217 | 29.17446 |  1.3422958 |\n",
       "| Luge                      | 23.64987 | 24.96091 |  1.3110417 |\n",
       "| Taekwondo                 | 23.40803 | 24.68730 |  1.2792697 |\n",
       "| Badminton                 | 25.04730 | 26.31520 |  1.2679049 |\n",
       "| Biathlon                  | 25.79925 | 26.98415 |  1.1849047 |\n",
       "| Modern Pentathlon         | 25.52439 | 26.48562 |  0.9612262 |\n",
       "| Speed Skating             | 23.74628 | 24.63365 |  0.8873706 |\n",
       "| Handball                  | 25.88392 | 26.56990 |  0.6859799 |\n",
       "| Short Track Speed Skating | 22.46255 | 23.14101 |  0.6784598 |\n",
       "| Water Polo                | 25.16189 | 25.73654 |  0.5746569 |\n",
       "| Cross Country Skiing      | 25.65524 | 26.21407 |  0.5588294 |\n",
       "| Hockey                    | 25.33242 | 25.86628 |  0.5338565 |\n",
       "| Wrestling                 | 25.30592 | 25.82183 |  0.5159063 |\n",
       "| Athletics                 | 24.93357 | 25.26343 |  0.3298602 |\n",
       "| Judo                      | 25.16377 | 25.39738 |  0.2336088 |\n",
       "| Equestrianism             | 34.21785 | 34.43469 |  0.2168395 |\n",
       "| Canoeing                  | 25.33745 | 25.55275 |  0.2153077 |\n",
       "| Snowboarding              | 24.72356 | 24.90769 |  0.1841346 |\n",
       "| Freestyle Skiing          | 24.33025 | 24.50992 |  0.1796666 |\n",
       "| Triathlon                 | 27.92395 | 27.81955 | -0.1044055 |\n",
       "| Rugby Sevens              | 26.11486 | 25.98013 | -0.1347324 |\n",
       "| Rowing                    | 25.40264 | 25.24111 | -0.1615325 |\n",
       "| Basketball                | 25.51752 | 25.24628 | -0.2712328 |\n",
       "| Trampolining              | 25.53947 | 24.73684 | -0.8026316 |\n",
       "| Football                  | 24.90909 | 23.46361 | -1.4454851 |\n",
       "| Cycling                   | 26.89957 | 24.43678 | -2.4627880 |\n",
       "| Boxing                    | 26.63889 | 23.00919 | -3.6296967 |\n",
       "\n"
      ],
      "text/plain": [
       "   sport                     F        M        delta     \n",
       "1  Gymnastics                19.23275 24.65348  5.4207312\n",
       "2  Shooting                  29.11905 34.25435  5.1353039\n",
       "3  Sailing                   26.69838 30.90662  4.2082436\n",
       "4  Skeleton                  27.56061 30.97710  3.4164932\n",
       "5  Golf                      27.33824 30.25150  2.9132617\n",
       "6  Figure Skating            20.81255 23.71827  2.9057181\n",
       "7  Curling                   29.97297 32.73859  2.7656162\n",
       "8  Fencing                   26.34110 29.07767  2.7365638\n",
       "9  Archery                   26.50846 29.08327  2.5748089\n",
       "10 Ski Jumping               21.26667 23.37378  2.1071136\n",
       "11 Ice Hockey                24.05570 26.11430  2.0586009\n",
       "12 Swimming                  19.48745 21.38288  1.8954314\n",
       "13 Tennis                    24.77546 26.62933  1.8538697\n",
       "14 Diving                    21.51768 23.22831  1.7106337\n",
       "15 Weightlifting             24.02808 25.71083  1.6827546\n",
       "16 Art Competitions          44.41196 46.06282  1.6508558\n",
       "17 Beach Volleyball          28.31522 29.89583  1.5806159\n",
       "18 Table Tennis              25.66596 27.21922  1.5532550\n",
       "19 Alpine Skiing             22.33461 23.75827  1.4236578\n",
       "20 Volleyball                24.43163 25.81048  1.3788485\n",
       "21 Bobsleigh                 27.83217 29.17446  1.3422958\n",
       "22 Luge                      23.64987 24.96091  1.3110417\n",
       "23 Taekwondo                 23.40803 24.68730  1.2792697\n",
       "24 Badminton                 25.04730 26.31520  1.2679049\n",
       "25 Biathlon                  25.79925 26.98415  1.1849047\n",
       "26 Modern Pentathlon         25.52439 26.48562  0.9612262\n",
       "27 Speed Skating             23.74628 24.63365  0.8873706\n",
       "28 Handball                  25.88392 26.56990  0.6859799\n",
       "29 Short Track Speed Skating 22.46255 23.14101  0.6784598\n",
       "30 Water Polo                25.16189 25.73654  0.5746569\n",
       "31 Cross Country Skiing      25.65524 26.21407  0.5588294\n",
       "32 Hockey                    25.33242 25.86628  0.5338565\n",
       "33 Wrestling                 25.30592 25.82183  0.5159063\n",
       "34 Athletics                 24.93357 25.26343  0.3298602\n",
       "35 Judo                      25.16377 25.39738  0.2336088\n",
       "36 Equestrianism             34.21785 34.43469  0.2168395\n",
       "37 Canoeing                  25.33745 25.55275  0.2153077\n",
       "38 Snowboarding              24.72356 24.90769  0.1841346\n",
       "39 Freestyle Skiing          24.33025 24.50992  0.1796666\n",
       "40 Triathlon                 27.92395 27.81955 -0.1044055\n",
       "41 Rugby Sevens              26.11486 25.98013 -0.1347324\n",
       "42 Rowing                    25.40264 25.24111 -0.1615325\n",
       "43 Basketball                25.51752 25.24628 -0.2712328\n",
       "44 Trampolining              25.53947 24.73684 -0.8026316\n",
       "45 Football                  24.90909 23.46361 -1.4454851\n",
       "46 Cycling                   26.89957 24.43678 -2.4627880\n",
       "47 Boxing                    26.63889 23.00919 -3.6296967"
      ]
     },
     "metadata": {},
     "output_type": "display_data"
    }
   ],
   "source": [
    "data %>%\n",
    "    add_count(sport) %>%\n",
    "    filter(n > 100) %>%\n",
    "    group_by(sex, sport) %>%\n",
    "    summarise(age = mean(age, na.rm = T)) %>%\n",
    "    ungroup() %>%\n",
    "    pivot_wider(names_from = sex, values_from = age) %>%\n",
    "    drop_na() %>%\n",
    "    mutate(delta = M - F) %>%\n",
    "    arrange(-delta)"
   ]
  },
  {
   "attachments": {},
   "cell_type": "markdown",
   "metadata": {},
   "source": [
    "### Average Weight by Sport and Sex"
   ]
  },
  {
   "cell_type": "code",
   "execution_count": 7,
   "metadata": {
    "vscode": {
     "languageId": "r"
    }
   },
   "outputs": [
    {
     "name": "stderr",
     "output_type": "stream",
     "text": [
      "\u001b[1m\u001b[22m`summarise()` has grouped output by 'sport'. You can override using the\n",
      "`.groups` argument.\n"
     ]
    },
    {
     "data": {
      "text/html": [
       "<table class=\"dataframe\">\n",
       "<caption>A grouped_df: 45 × 4</caption>\n",
       "<thead>\n",
       "\t<tr><th scope=col>sport</th><th scope=col>F</th><th scope=col>M</th><th scope=col>delta</th></tr>\n",
       "\t<tr><th scope=col>&lt;chr&gt;</th><th scope=col>&lt;dbl&gt;</th><th scope=col>&lt;dbl&gt;</th><th scope=col>&lt;dbl&gt;</th></tr>\n",
       "</thead>\n",
       "<tbody>\n",
       "\t<tr><td>Rugby Sevens             </td><td>66.62838</td><td>91.00662</td><td>24.378244</td></tr>\n",
       "\t<tr><td>Beach Volleyball         </td><td>68.35094</td><td>89.51282</td><td>21.161877</td></tr>\n",
       "\t<tr><td>Skeleton                 </td><td>61.00000</td><td>82.01835</td><td>21.018349</td></tr>\n",
       "\t<tr><td>Handball                 </td><td>68.87685</td><td>89.38791</td><td>20.511063</td></tr>\n",
       "\t<tr><td>Figure Skating           </td><td>49.86104</td><td>69.59164</td><td>19.730605</td></tr>\n",
       "\t<tr><td>Curling                  </td><td>62.88835</td><td>81.46569</td><td>18.577337</td></tr>\n",
       "\t<tr><td>Ice Hockey               </td><td>65.71286</td><td>83.77559</td><td>18.062728</td></tr>\n",
       "\t<tr><td>Basketball               </td><td>73.68517</td><td>91.68353</td><td>17.998359</td></tr>\n",
       "\t<tr><td>Volleyball               </td><td>69.33378</td><td>86.92593</td><td>17.592147</td></tr>\n",
       "\t<tr><td>Bobsleigh                </td><td>72.80420</td><td>90.38739</td><td>17.583189</td></tr>\n",
       "\t<tr><td>Water Polo               </td><td>70.18033</td><td>87.70617</td><td>17.525844</td></tr>\n",
       "\t<tr><td>Tennis                   </td><td>62.09440</td><td>78.84291</td><td>16.748514</td></tr>\n",
       "\t<tr><td>Shooting                 </td><td>61.14324</td><td>77.83496</td><td>16.691717</td></tr>\n",
       "\t<tr><td>Swimming                 </td><td>61.48275</td><td>78.04057</td><td>16.557818</td></tr>\n",
       "\t<tr><td>Judo                     </td><td>67.06716</td><td>83.57395</td><td>16.506781</td></tr>\n",
       "\t<tr><td>Snowboarding             </td><td>60.44417</td><td>76.86160</td><td>16.417424</td></tr>\n",
       "\t<tr><td>Freestyle Skiing         </td><td>58.35246</td><td>74.64815</td><td>16.295689</td></tr>\n",
       "\t<tr><td>Sailing                  </td><td>62.77727</td><td>78.84971</td><td>16.072445</td></tr>\n",
       "\t<tr><td>Alpine Skiing            </td><td>62.64031</td><td>78.62603</td><td>15.985728</td></tr>\n",
       "\t<tr><td>Wrestling                </td><td>60.55446</td><td>76.40064</td><td>15.846184</td></tr>\n",
       "\t<tr><td>Golf                     </td><td>63.43636</td><td>79.24528</td><td>15.808919</td></tr>\n",
       "\t<tr><td>Gymnastics               </td><td>47.79128</td><td>63.34360</td><td>15.552329</td></tr>\n",
       "\t<tr><td>Biathlon                 </td><td>57.30659</td><td>72.63212</td><td>15.325537</td></tr>\n",
       "\t<tr><td>Canoeing                 </td><td>64.87891</td><td>79.97238</td><td>15.093472</td></tr>\n",
       "\t<tr><td>Archery                  </td><td>62.01357</td><td>77.06687</td><td>15.053292</td></tr>\n",
       "\t<tr><td>Fencing                  </td><td>60.65614</td><td>75.38198</td><td>14.725832</td></tr>\n",
       "\t<tr><td>Speed Skating            </td><td>62.01005</td><td>76.30040</td><td>14.290357</td></tr>\n",
       "\t<tr><td>Short Track Speed Skating</td><td>57.12314</td><td>71.40187</td><td>14.278730</td></tr>\n",
       "\t<tr><td>Cross Country Skiing     </td><td>57.48802</td><td>71.70083</td><td>14.212814</td></tr>\n",
       "\t<tr><td>Triathlon                </td><td>54.72414</td><td>68.80377</td><td>14.079636</td></tr>\n",
       "\t<tr><td>Luge                     </td><td>66.90883</td><td>80.80331</td><td>13.894479</td></tr>\n",
       "\t<tr><td>Modern Pentathlon        </td><td>58.31098</td><td>72.06882</td><td>13.757848</td></tr>\n",
       "\t<tr><td>Athletics                </td><td>60.23980</td><td>73.83913</td><td>13.599330</td></tr>\n",
       "\t<tr><td>Rowing                   </td><td>70.10221</td><td>83.66566</td><td>13.563449</td></tr>\n",
       "\t<tr><td>Taekwondo                </td><td>61.13682</td><td>74.65359</td><td>13.516770</td></tr>\n",
       "\t<tr><td>Diving                   </td><td>53.56656</td><td>67.06938</td><td>13.502815</td></tr>\n",
       "\t<tr><td>Table Tennis             </td><td>58.02778</td><td>71.41424</td><td>13.386462</td></tr>\n",
       "\t<tr><td>Trampolining             </td><td>52.89333</td><td>65.83784</td><td>12.944505</td></tr>\n",
       "\t<tr><td>Hockey                   </td><td>60.53094</td><td>73.34376</td><td>12.812826</td></tr>\n",
       "\t<tr><td>Badminton                </td><td>61.58636</td><td>74.36254</td><td>12.776172</td></tr>\n",
       "\t<tr><td>Weightlifting            </td><td>67.72462</td><td>80.25180</td><td>12.527174</td></tr>\n",
       "\t<tr><td>Cycling                  </td><td>59.77055</td><td>72.19023</td><td>12.419681</td></tr>\n",
       "\t<tr><td>Equestrianism            </td><td>58.60191</td><td>70.92456</td><td>12.322651</td></tr>\n",
       "\t<tr><td>Football                 </td><td>60.92581</td><td>73.08664</td><td>12.160831</td></tr>\n",
       "\t<tr><td>Boxing                   </td><td>61.83607</td><td>65.29628</td><td> 3.460214</td></tr>\n",
       "</tbody>\n",
       "</table>\n"
      ],
      "text/latex": [
       "A grouped\\_df: 45 × 4\n",
       "\\begin{tabular}{llll}\n",
       " sport & F & M & delta\\\\\n",
       " <chr> & <dbl> & <dbl> & <dbl>\\\\\n",
       "\\hline\n",
       "\t Rugby Sevens              & 66.62838 & 91.00662 & 24.378244\\\\\n",
       "\t Beach Volleyball          & 68.35094 & 89.51282 & 21.161877\\\\\n",
       "\t Skeleton                  & 61.00000 & 82.01835 & 21.018349\\\\\n",
       "\t Handball                  & 68.87685 & 89.38791 & 20.511063\\\\\n",
       "\t Figure Skating            & 49.86104 & 69.59164 & 19.730605\\\\\n",
       "\t Curling                   & 62.88835 & 81.46569 & 18.577337\\\\\n",
       "\t Ice Hockey                & 65.71286 & 83.77559 & 18.062728\\\\\n",
       "\t Basketball                & 73.68517 & 91.68353 & 17.998359\\\\\n",
       "\t Volleyball                & 69.33378 & 86.92593 & 17.592147\\\\\n",
       "\t Bobsleigh                 & 72.80420 & 90.38739 & 17.583189\\\\\n",
       "\t Water Polo                & 70.18033 & 87.70617 & 17.525844\\\\\n",
       "\t Tennis                    & 62.09440 & 78.84291 & 16.748514\\\\\n",
       "\t Shooting                  & 61.14324 & 77.83496 & 16.691717\\\\\n",
       "\t Swimming                  & 61.48275 & 78.04057 & 16.557818\\\\\n",
       "\t Judo                      & 67.06716 & 83.57395 & 16.506781\\\\\n",
       "\t Snowboarding              & 60.44417 & 76.86160 & 16.417424\\\\\n",
       "\t Freestyle Skiing          & 58.35246 & 74.64815 & 16.295689\\\\\n",
       "\t Sailing                   & 62.77727 & 78.84971 & 16.072445\\\\\n",
       "\t Alpine Skiing             & 62.64031 & 78.62603 & 15.985728\\\\\n",
       "\t Wrestling                 & 60.55446 & 76.40064 & 15.846184\\\\\n",
       "\t Golf                      & 63.43636 & 79.24528 & 15.808919\\\\\n",
       "\t Gymnastics                & 47.79128 & 63.34360 & 15.552329\\\\\n",
       "\t Biathlon                  & 57.30659 & 72.63212 & 15.325537\\\\\n",
       "\t Canoeing                  & 64.87891 & 79.97238 & 15.093472\\\\\n",
       "\t Archery                   & 62.01357 & 77.06687 & 15.053292\\\\\n",
       "\t Fencing                   & 60.65614 & 75.38198 & 14.725832\\\\\n",
       "\t Speed Skating             & 62.01005 & 76.30040 & 14.290357\\\\\n",
       "\t Short Track Speed Skating & 57.12314 & 71.40187 & 14.278730\\\\\n",
       "\t Cross Country Skiing      & 57.48802 & 71.70083 & 14.212814\\\\\n",
       "\t Triathlon                 & 54.72414 & 68.80377 & 14.079636\\\\\n",
       "\t Luge                      & 66.90883 & 80.80331 & 13.894479\\\\\n",
       "\t Modern Pentathlon         & 58.31098 & 72.06882 & 13.757848\\\\\n",
       "\t Athletics                 & 60.23980 & 73.83913 & 13.599330\\\\\n",
       "\t Rowing                    & 70.10221 & 83.66566 & 13.563449\\\\\n",
       "\t Taekwondo                 & 61.13682 & 74.65359 & 13.516770\\\\\n",
       "\t Diving                    & 53.56656 & 67.06938 & 13.502815\\\\\n",
       "\t Table Tennis              & 58.02778 & 71.41424 & 13.386462\\\\\n",
       "\t Trampolining              & 52.89333 & 65.83784 & 12.944505\\\\\n",
       "\t Hockey                    & 60.53094 & 73.34376 & 12.812826\\\\\n",
       "\t Badminton                 & 61.58636 & 74.36254 & 12.776172\\\\\n",
       "\t Weightlifting             & 67.72462 & 80.25180 & 12.527174\\\\\n",
       "\t Cycling                   & 59.77055 & 72.19023 & 12.419681\\\\\n",
       "\t Equestrianism             & 58.60191 & 70.92456 & 12.322651\\\\\n",
       "\t Football                  & 60.92581 & 73.08664 & 12.160831\\\\\n",
       "\t Boxing                    & 61.83607 & 65.29628 &  3.460214\\\\\n",
       "\\end{tabular}\n"
      ],
      "text/markdown": [
       "\n",
       "A grouped_df: 45 × 4\n",
       "\n",
       "| sport &lt;chr&gt; | F &lt;dbl&gt; | M &lt;dbl&gt; | delta &lt;dbl&gt; |\n",
       "|---|---|---|---|\n",
       "| Rugby Sevens              | 66.62838 | 91.00662 | 24.378244 |\n",
       "| Beach Volleyball          | 68.35094 | 89.51282 | 21.161877 |\n",
       "| Skeleton                  | 61.00000 | 82.01835 | 21.018349 |\n",
       "| Handball                  | 68.87685 | 89.38791 | 20.511063 |\n",
       "| Figure Skating            | 49.86104 | 69.59164 | 19.730605 |\n",
       "| Curling                   | 62.88835 | 81.46569 | 18.577337 |\n",
       "| Ice Hockey                | 65.71286 | 83.77559 | 18.062728 |\n",
       "| Basketball                | 73.68517 | 91.68353 | 17.998359 |\n",
       "| Volleyball                | 69.33378 | 86.92593 | 17.592147 |\n",
       "| Bobsleigh                 | 72.80420 | 90.38739 | 17.583189 |\n",
       "| Water Polo                | 70.18033 | 87.70617 | 17.525844 |\n",
       "| Tennis                    | 62.09440 | 78.84291 | 16.748514 |\n",
       "| Shooting                  | 61.14324 | 77.83496 | 16.691717 |\n",
       "| Swimming                  | 61.48275 | 78.04057 | 16.557818 |\n",
       "| Judo                      | 67.06716 | 83.57395 | 16.506781 |\n",
       "| Snowboarding              | 60.44417 | 76.86160 | 16.417424 |\n",
       "| Freestyle Skiing          | 58.35246 | 74.64815 | 16.295689 |\n",
       "| Sailing                   | 62.77727 | 78.84971 | 16.072445 |\n",
       "| Alpine Skiing             | 62.64031 | 78.62603 | 15.985728 |\n",
       "| Wrestling                 | 60.55446 | 76.40064 | 15.846184 |\n",
       "| Golf                      | 63.43636 | 79.24528 | 15.808919 |\n",
       "| Gymnastics                | 47.79128 | 63.34360 | 15.552329 |\n",
       "| Biathlon                  | 57.30659 | 72.63212 | 15.325537 |\n",
       "| Canoeing                  | 64.87891 | 79.97238 | 15.093472 |\n",
       "| Archery                   | 62.01357 | 77.06687 | 15.053292 |\n",
       "| Fencing                   | 60.65614 | 75.38198 | 14.725832 |\n",
       "| Speed Skating             | 62.01005 | 76.30040 | 14.290357 |\n",
       "| Short Track Speed Skating | 57.12314 | 71.40187 | 14.278730 |\n",
       "| Cross Country Skiing      | 57.48802 | 71.70083 | 14.212814 |\n",
       "| Triathlon                 | 54.72414 | 68.80377 | 14.079636 |\n",
       "| Luge                      | 66.90883 | 80.80331 | 13.894479 |\n",
       "| Modern Pentathlon         | 58.31098 | 72.06882 | 13.757848 |\n",
       "| Athletics                 | 60.23980 | 73.83913 | 13.599330 |\n",
       "| Rowing                    | 70.10221 | 83.66566 | 13.563449 |\n",
       "| Taekwondo                 | 61.13682 | 74.65359 | 13.516770 |\n",
       "| Diving                    | 53.56656 | 67.06938 | 13.502815 |\n",
       "| Table Tennis              | 58.02778 | 71.41424 | 13.386462 |\n",
       "| Trampolining              | 52.89333 | 65.83784 | 12.944505 |\n",
       "| Hockey                    | 60.53094 | 73.34376 | 12.812826 |\n",
       "| Badminton                 | 61.58636 | 74.36254 | 12.776172 |\n",
       "| Weightlifting             | 67.72462 | 80.25180 | 12.527174 |\n",
       "| Cycling                   | 59.77055 | 72.19023 | 12.419681 |\n",
       "| Equestrianism             | 58.60191 | 70.92456 | 12.322651 |\n",
       "| Football                  | 60.92581 | 73.08664 | 12.160831 |\n",
       "| Boxing                    | 61.83607 | 65.29628 |  3.460214 |\n",
       "\n"
      ],
      "text/plain": [
       "   sport                     F        M        delta    \n",
       "1  Rugby Sevens              66.62838 91.00662 24.378244\n",
       "2  Beach Volleyball          68.35094 89.51282 21.161877\n",
       "3  Skeleton                  61.00000 82.01835 21.018349\n",
       "4  Handball                  68.87685 89.38791 20.511063\n",
       "5  Figure Skating            49.86104 69.59164 19.730605\n",
       "6  Curling                   62.88835 81.46569 18.577337\n",
       "7  Ice Hockey                65.71286 83.77559 18.062728\n",
       "8  Basketball                73.68517 91.68353 17.998359\n",
       "9  Volleyball                69.33378 86.92593 17.592147\n",
       "10 Bobsleigh                 72.80420 90.38739 17.583189\n",
       "11 Water Polo                70.18033 87.70617 17.525844\n",
       "12 Tennis                    62.09440 78.84291 16.748514\n",
       "13 Shooting                  61.14324 77.83496 16.691717\n",
       "14 Swimming                  61.48275 78.04057 16.557818\n",
       "15 Judo                      67.06716 83.57395 16.506781\n",
       "16 Snowboarding              60.44417 76.86160 16.417424\n",
       "17 Freestyle Skiing          58.35246 74.64815 16.295689\n",
       "18 Sailing                   62.77727 78.84971 16.072445\n",
       "19 Alpine Skiing             62.64031 78.62603 15.985728\n",
       "20 Wrestling                 60.55446 76.40064 15.846184\n",
       "21 Golf                      63.43636 79.24528 15.808919\n",
       "22 Gymnastics                47.79128 63.34360 15.552329\n",
       "23 Biathlon                  57.30659 72.63212 15.325537\n",
       "24 Canoeing                  64.87891 79.97238 15.093472\n",
       "25 Archery                   62.01357 77.06687 15.053292\n",
       "26 Fencing                   60.65614 75.38198 14.725832\n",
       "27 Speed Skating             62.01005 76.30040 14.290357\n",
       "28 Short Track Speed Skating 57.12314 71.40187 14.278730\n",
       "29 Cross Country Skiing      57.48802 71.70083 14.212814\n",
       "30 Triathlon                 54.72414 68.80377 14.079636\n",
       "31 Luge                      66.90883 80.80331 13.894479\n",
       "32 Modern Pentathlon         58.31098 72.06882 13.757848\n",
       "33 Athletics                 60.23980 73.83913 13.599330\n",
       "34 Rowing                    70.10221 83.66566 13.563449\n",
       "35 Taekwondo                 61.13682 74.65359 13.516770\n",
       "36 Diving                    53.56656 67.06938 13.502815\n",
       "37 Table Tennis              58.02778 71.41424 13.386462\n",
       "38 Trampolining              52.89333 65.83784 12.944505\n",
       "39 Hockey                    60.53094 73.34376 12.812826\n",
       "40 Badminton                 61.58636 74.36254 12.776172\n",
       "41 Weightlifting             67.72462 80.25180 12.527174\n",
       "42 Cycling                   59.77055 72.19023 12.419681\n",
       "43 Equestrianism             58.60191 70.92456 12.322651\n",
       "44 Football                  60.92581 73.08664 12.160831\n",
       "45 Boxing                    61.83607 65.29628  3.460214"
      ]
     },
     "metadata": {},
     "output_type": "display_data"
    }
   ],
   "source": [
    "data %>% \n",
    "  group_by(sport, sex) %>% \n",
    "  summarise(weight = mean(weight, na.rm = T),\n",
    "            n = n()) %>% \n",
    "  filter(n > 30) %>% \n",
    "  select(-n) %>% \n",
    "  pivot_wider(names_from = sex, values_from = weight) %>% \n",
    "  drop_na() %>% \n",
    "  mutate(delta = M - `F`) %>% \n",
    "  arrange(desc(delta))"
   ]
  },
  {
   "attachments": {},
   "cell_type": "markdown",
   "metadata": {},
   "source": [
    "### Building a Random Forest Model with Tidymodels"
   ]
  },
  {
   "cell_type": "code",
   "execution_count": 8,
   "metadata": {
    "vscode": {
     "languageId": "r"
    }
   },
   "outputs": [],
   "source": [
    "# Making splits and folds\n",
    "dt_split <- data %>%\n",
    "    select(sex, age, height, weight, sport, medal, year) %>%\n",
    "    filter(year >= 2010) %>%\n",
    "    select(-year) %>%\n",
    "    drop_na(weight) %>%\n",
    "    mutate(medal = ifelse(is.na(medal), \"No Medal\", medal)) %>%\n",
    "    initial_split(prop = 0.75)\n",
    "\n",
    "dt_train <- training(dt_split)\n",
    "dt_test <- testing(dt_split)\n",
    "\n",
    "folds <- vfold_cv(dt_train, v = 3)"
   ]
  },
  {
   "cell_type": "code",
   "execution_count": 9,
   "metadata": {
    "vscode": {
     "languageId": "r"
    }
   },
   "outputs": [
    {
     "name": "stdout",
     "output_type": "stream",
     "text": [
      "Rows: 26,307\n",
      "Columns: 58\n",
      "$ age                             \u001b[3m\u001b[90m<dbl>\u001b[39m\u001b[23m 0.15630191, 0.33997255, 1.07465508, 0.…\n",
      "$ height                          \u001b[3m\u001b[90m<dbl>\u001b[39m\u001b[23m 1.39068978, 1.75865766, 1.02272190, 2.…\n",
      "$ weight                          \u001b[3m\u001b[90m<dbl>\u001b[39m\u001b[23m 117, 91, 133, 102, 90, 59, 120, 68, 81…\n",
      "$ sex_F                           \u001b[3m\u001b[90m<dbl>\u001b[39m\u001b[23m 0, 0, 0, 0, 0, 1, 0, 0, 0, 0, 1, 1, 0,…\n",
      "$ sex_M                           \u001b[3m\u001b[90m<dbl>\u001b[39m\u001b[23m 1, 1, 1, 1, 1, 0, 1, 1, 1, 1, 0, 0, 1,…\n",
      "$ sport_Alpine.Skiing             \u001b[3m\u001b[90m<dbl>\u001b[39m\u001b[23m 0, 0, 0, 0, 0, 0, 0, 0, 0, 0, 0, 0, 0,…\n",
      "$ sport_Archery                   \u001b[3m\u001b[90m<dbl>\u001b[39m\u001b[23m 0, 0, 0, 0, 0, 0, 0, 0, 0, 0, 0, 0, 0,…\n",
      "$ sport_Athletics                 \u001b[3m\u001b[90m<dbl>\u001b[39m\u001b[23m 0, 0, 0, 0, 0, 0, 0, 1, 0, 0, 0, 0, 0,…\n",
      "$ sport_Badminton                 \u001b[3m\u001b[90m<dbl>\u001b[39m\u001b[23m 0, 0, 0, 0, 0, 0, 0, 0, 0, 0, 0, 0, 0,…\n",
      "$ sport_Basketball                \u001b[3m\u001b[90m<dbl>\u001b[39m\u001b[23m 0, 0, 0, 0, 0, 0, 0, 0, 0, 0, 0, 0, 0,…\n",
      "$ sport_Beach.Volleyball          \u001b[3m\u001b[90m<dbl>\u001b[39m\u001b[23m 0, 0, 0, 0, 0, 0, 0, 0, 0, 0, 0, 0, 0,…\n",
      "$ sport_Biathlon                  \u001b[3m\u001b[90m<dbl>\u001b[39m\u001b[23m 0, 0, 0, 0, 0, 1, 0, 0, 0, 0, 0, 0, 0,…\n",
      "$ sport_Bobsleigh                 \u001b[3m\u001b[90m<dbl>\u001b[39m\u001b[23m 0, 0, 0, 0, 0, 0, 0, 0, 0, 0, 0, 0, 0,…\n",
      "$ sport_Boxing                    \u001b[3m\u001b[90m<dbl>\u001b[39m\u001b[23m 0, 0, 0, 0, 0, 0, 0, 0, 0, 0, 0, 0, 0,…\n",
      "$ sport_Canoeing                  \u001b[3m\u001b[90m<dbl>\u001b[39m\u001b[23m 0, 0, 0, 0, 0, 0, 0, 0, 0, 1, 1, 0, 0,…\n",
      "$ sport_Cross.Country.Skiing      \u001b[3m\u001b[90m<dbl>\u001b[39m\u001b[23m 0, 0, 0, 0, 0, 0, 0, 0, 0, 0, 0, 0, 0,…\n",
      "$ sport_Curling                   \u001b[3m\u001b[90m<dbl>\u001b[39m\u001b[23m 0, 0, 0, 0, 0, 0, 0, 0, 0, 0, 0, 0, 0,…\n",
      "$ sport_Cycling                   \u001b[3m\u001b[90m<dbl>\u001b[39m\u001b[23m 0, 0, 0, 0, 0, 0, 0, 0, 0, 0, 0, 0, 0,…\n",
      "$ sport_Diving                    \u001b[3m\u001b[90m<dbl>\u001b[39m\u001b[23m 0, 0, 0, 0, 0, 0, 0, 0, 0, 0, 0, 0, 0,…\n",
      "$ sport_Equestrianism             \u001b[3m\u001b[90m<dbl>\u001b[39m\u001b[23m 0, 0, 0, 0, 0, 0, 0, 0, 0, 0, 0, 0, 0,…\n",
      "$ sport_Fencing                   \u001b[3m\u001b[90m<dbl>\u001b[39m\u001b[23m 0, 0, 0, 0, 0, 0, 0, 0, 0, 0, 0, 0, 0,…\n",
      "$ sport_Figure.Skating            \u001b[3m\u001b[90m<dbl>\u001b[39m\u001b[23m 0, 0, 0, 0, 0, 0, 0, 0, 0, 0, 0, 0, 0,…\n",
      "$ sport_Football                  \u001b[3m\u001b[90m<dbl>\u001b[39m\u001b[23m 0, 0, 0, 0, 0, 0, 0, 0, 0, 0, 0, 0, 0,…\n",
      "$ sport_Freestyle.Skiing          \u001b[3m\u001b[90m<dbl>\u001b[39m\u001b[23m 0, 0, 0, 0, 0, 0, 0, 0, 0, 0, 0, 0, 0,…\n",
      "$ sport_Golf                      \u001b[3m\u001b[90m<dbl>\u001b[39m\u001b[23m 0, 0, 0, 0, 0, 0, 0, 0, 0, 0, 0, 0, 0,…\n",
      "$ sport_Gymnastics                \u001b[3m\u001b[90m<dbl>\u001b[39m\u001b[23m 0, 0, 0, 0, 0, 0, 0, 0, 0, 0, 0, 0, 0,…\n",
      "$ sport_Handball                  \u001b[3m\u001b[90m<dbl>\u001b[39m\u001b[23m 0, 0, 0, 0, 0, 0, 0, 0, 0, 0, 0, 0, 0,…\n",
      "$ sport_Hockey                    \u001b[3m\u001b[90m<dbl>\u001b[39m\u001b[23m 0, 0, 0, 0, 0, 0, 0, 0, 0, 0, 0, 0, 0,…\n",
      "$ sport_Ice.Hockey                \u001b[3m\u001b[90m<dbl>\u001b[39m\u001b[23m 0, 0, 0, 0, 1, 0, 0, 0, 0, 0, 0, 0, 0,…\n",
      "$ sport_Judo                      \u001b[3m\u001b[90m<dbl>\u001b[39m\u001b[23m 0, 0, 0, 0, 0, 0, 0, 0, 0, 0, 0, 1, 0,…\n",
      "$ sport_Luge                      \u001b[3m\u001b[90m<dbl>\u001b[39m\u001b[23m 0, 0, 0, 0, 0, 0, 0, 0, 0, 0, 0, 0, 0,…\n",
      "$ sport_Modern.Pentathlon         \u001b[3m\u001b[90m<dbl>\u001b[39m\u001b[23m 0, 0, 0, 0, 0, 0, 0, 0, 0, 0, 0, 0, 0,…\n",
      "$ sport_Nordic.Combined           \u001b[3m\u001b[90m<dbl>\u001b[39m\u001b[23m 0, 0, 0, 0, 0, 0, 0, 0, 0, 0, 0, 0, 0,…\n",
      "$ sport_Rhythmic.Gymnastics       \u001b[3m\u001b[90m<dbl>\u001b[39m\u001b[23m 0, 0, 0, 0, 0, 0, 0, 0, 0, 0, 0, 0, 0,…\n",
      "$ sport_Rowing                    \u001b[3m\u001b[90m<dbl>\u001b[39m\u001b[23m 0, 0, 0, 1, 0, 0, 0, 0, 0, 0, 0, 0, 0,…\n",
      "$ sport_Rugby.Sevens              \u001b[3m\u001b[90m<dbl>\u001b[39m\u001b[23m 0, 0, 0, 0, 0, 0, 0, 0, 0, 0, 0, 0, 0,…\n",
      "$ sport_Sailing                   \u001b[3m\u001b[90m<dbl>\u001b[39m\u001b[23m 0, 0, 0, 0, 0, 0, 0, 0, 0, 0, 0, 0, 0,…\n",
      "$ sport_Shooting                  \u001b[3m\u001b[90m<dbl>\u001b[39m\u001b[23m 0, 0, 0, 0, 0, 0, 0, 0, 0, 0, 0, 0, 0,…\n",
      "$ sport_Short.Track.Speed.Skating \u001b[3m\u001b[90m<dbl>\u001b[39m\u001b[23m 0, 0, 0, 0, 0, 0, 0, 0, 0, 0, 0, 0, 0,…\n",
      "$ sport_Skeleton                  \u001b[3m\u001b[90m<dbl>\u001b[39m\u001b[23m 0, 0, 0, 0, 0, 0, 0, 0, 0, 0, 0, 0, 0,…\n",
      "$ sport_Ski.Jumping               \u001b[3m\u001b[90m<dbl>\u001b[39m\u001b[23m 0, 0, 0, 0, 0, 0, 0, 0, 0, 0, 0, 0, 0,…\n",
      "$ sport_Snowboarding              \u001b[3m\u001b[90m<dbl>\u001b[39m\u001b[23m 0, 0, 0, 0, 0, 0, 0, 0, 0, 0, 0, 0, 0,…\n",
      "$ sport_Speed.Skating             \u001b[3m\u001b[90m<dbl>\u001b[39m\u001b[23m 0, 0, 0, 0, 0, 0, 0, 0, 0, 0, 0, 0, 0,…\n",
      "$ sport_Swimming                  \u001b[3m\u001b[90m<dbl>\u001b[39m\u001b[23m 0, 0, 0, 0, 0, 0, 0, 0, 0, 0, 0, 0, 1,…\n",
      "$ sport_Synchronized.Swimming     \u001b[3m\u001b[90m<dbl>\u001b[39m\u001b[23m 0, 0, 0, 0, 0, 0, 0, 0, 0, 0, 0, 0, 0,…\n",
      "$ sport_Table.Tennis              \u001b[3m\u001b[90m<dbl>\u001b[39m\u001b[23m 0, 0, 0, 0, 0, 0, 0, 0, 0, 0, 0, 0, 0,…\n",
      "$ sport_Taekwondo                 \u001b[3m\u001b[90m<dbl>\u001b[39m\u001b[23m 0, 0, 0, 0, 0, 0, 0, 0, 0, 0, 0, 0, 0,…\n",
      "$ sport_Tennis                    \u001b[3m\u001b[90m<dbl>\u001b[39m\u001b[23m 0, 0, 0, 0, 0, 0, 0, 0, 0, 0, 0, 0, 0,…\n",
      "$ sport_Trampolining              \u001b[3m\u001b[90m<dbl>\u001b[39m\u001b[23m 0, 0, 0, 0, 0, 0, 0, 0, 0, 0, 0, 0, 0,…\n",
      "$ sport_Triathlon                 \u001b[3m\u001b[90m<dbl>\u001b[39m\u001b[23m 0, 0, 0, 0, 0, 0, 0, 0, 0, 0, 0, 0, 0,…\n",
      "$ sport_Volleyball                \u001b[3m\u001b[90m<dbl>\u001b[39m\u001b[23m 0, 0, 0, 0, 0, 0, 0, 0, 1, 0, 0, 0, 0,…\n",
      "$ sport_Water.Polo                \u001b[3m\u001b[90m<dbl>\u001b[39m\u001b[23m 0, 1, 0, 0, 0, 0, 0, 0, 0, 0, 0, 0, 0,…\n",
      "$ sport_Weightlifting             \u001b[3m\u001b[90m<dbl>\u001b[39m\u001b[23m 0, 0, 1, 0, 0, 0, 0, 0, 0, 0, 0, 0, 0,…\n",
      "$ sport_Wrestling                 \u001b[3m\u001b[90m<dbl>\u001b[39m\u001b[23m 1, 0, 0, 0, 0, 0, 1, 0, 0, 0, 0, 0, 0,…\n",
      "$ medal_Bronze                    \u001b[3m\u001b[90m<dbl>\u001b[39m\u001b[23m 0, 0, 0, 0, 0, 0, 0, 0, 0, 0, 0, 0, 0,…\n",
      "$ medal_Gold                      \u001b[3m\u001b[90m<dbl>\u001b[39m\u001b[23m 0, 1, 0, 0, 0, 0, 0, 0, 0, 0, 0, 1, 0,…\n",
      "$ medal_No.Medal                  \u001b[3m\u001b[90m<dbl>\u001b[39m\u001b[23m 1, 0, 1, 1, 1, 1, 1, 1, 1, 1, 1, 0, 1,…\n",
      "$ medal_Silver                    \u001b[3m\u001b[90m<dbl>\u001b[39m\u001b[23m 0, 0, 0, 0, 0, 0, 0, 0, 0, 0, 0, 0, 0,…\n"
     ]
    }
   ],
   "source": [
    "# Recipe\n",
    "en_rec <- recipe(weight ~ ., data = dt_train) %>% \n",
    "  step_impute_median %>% \n",
    "  step_impute_mode(all_nominal_predictors()) %>% \n",
    "  step_impute_mean(all_numeric_predictors()) %>% \n",
    "  step_normalize(all_numeric_predictors()) %>% \n",
    "  step_dummy(all_nominal_predictors(), one_hot = TRUE)\n",
    "\n",
    "en_rec %>% prep() %>% juice() %>% glimpse()"
   ]
  },
  {
   "cell_type": "code",
   "execution_count": 10,
   "metadata": {
    "vscode": {
     "languageId": "r"
    }
   },
   "outputs": [
    {
     "data": {
      "text/plain": [
       "══ Workflow ════════════════════════════════════════════════════════════════════\n",
       "\u001b[3mPreprocessor:\u001b[23m Recipe\n",
       "\u001b[3mModel:\u001b[23m linear_reg()\n",
       "\n",
       "── Preprocessor ────────────────────────────────────────────────────────────────\n",
       "5 Recipe Steps\n",
       "\n",
       "• step_impute_median()\n",
       "• step_impute_mode()\n",
       "• step_impute_mean()\n",
       "• step_normalize()\n",
       "• step_dummy()\n",
       "\n",
       "── Model ───────────────────────────────────────────────────────────────────────\n",
       "Linear Regression Model Specification (regression)\n",
       "\n",
       "Main Arguments:\n",
       "  penalty = tune()\n",
       "  mixture = tune()\n",
       "\n",
       "Computational engine: glmnet \n"
      ]
     },
     "metadata": {},
     "output_type": "display_data"
    }
   ],
   "source": [
    "# Workflow\n",
    "en_wflow <- workflow() %>% \n",
    "  add_model(\n",
    "    linear_reg(mixture = tune(), penalty = tune()) %>% \n",
    "      set_engine(\"glmnet\") %>% \n",
    "      set_mode(\"regression\")\n",
    "  ) %>% \n",
    "  add_recipe(en_rec)\n",
    "\n",
    "en_wflow"
   ]
  },
  {
   "attachments": {},
   "cell_type": "markdown",
   "metadata": {},
   "source": [
    "Hyperparameter tuning: Took ages somehow (3 min in sklearn vs >1h in Tidymodels, what is wrong?)"
   ]
  },
  {
   "cell_type": "code",
   "execution_count": 12,
   "metadata": {
    "vscode": {
     "languageId": "r"
    }
   },
   "outputs": [
    {
     "data": {
      "text/plain": [
       "Time difference of 20.53171 secs"
      ]
     },
     "metadata": {},
     "output_type": "display_data"
    }
   ],
   "source": [
    "start_time <- Sys.time()\n",
    "\n",
    "unregister_dopar <- function() {\n",
    "    env <- foreach:::.foreachGlobals\n",
    "    rm(list = ls(name = env), pos = env)\n",
    "}\n",
    "\n",
    "cl <- makePSOCKcluster(7)\n",
    "registerDoParallel(cl)\n",
    "\n",
    "en_tune <- tune_grid(en_wflow,\n",
    "    resamples = folds,\n",
    "    grid = crossing(\n",
    "        mixture = seq(0, 1, length.out = 5),\n",
    "        penalty = c(1e-5, 1e-4, 1e-3, 1e-2, 1e-1, seq(1, 100, length.out = 10))\n",
    "    )\n",
    ")\n",
    "\n",
    "stopCluster(cl)\n",
    "unregister_dopar()\n",
    "\n",
    "end_time <- Sys.time()\n",
    "end_time - start_time"
   ]
  },
  {
   "cell_type": "code",
   "execution_count": 14,
   "metadata": {
    "vscode": {
     "languageId": "r"
    }
   },
   "outputs": [
    {
     "data": {
      "text/html": [
       "<table class=\"dataframe\">\n",
       "<caption>A tibble: 5 × 8</caption>\n",
       "<thead>\n",
       "\t<tr><th scope=col>penalty</th><th scope=col>mixture</th><th scope=col>.metric</th><th scope=col>.estimator</th><th scope=col>mean</th><th scope=col>n</th><th scope=col>std_err</th><th scope=col>.config</th></tr>\n",
       "\t<tr><th scope=col>&lt;dbl&gt;</th><th scope=col>&lt;dbl&gt;</th><th scope=col>&lt;chr&gt;</th><th scope=col>&lt;chr&gt;</th><th scope=col>&lt;dbl&gt;</th><th scope=col>&lt;int&gt;</th><th scope=col>&lt;dbl&gt;</th><th scope=col>&lt;chr&gt;</th></tr>\n",
       "</thead>\n",
       "<tbody>\n",
       "\t<tr><td>1e-05</td><td>0.50</td><td>rsq</td><td>standard</td><td>0.7369669</td><td>3</td><td>0.002221140</td><td>Preprocessor1_Model31</td></tr>\n",
       "\t<tr><td>1e-04</td><td>0.50</td><td>rsq</td><td>standard</td><td>0.7369669</td><td>3</td><td>0.002221140</td><td>Preprocessor1_Model32</td></tr>\n",
       "\t<tr><td>1e-03</td><td>0.50</td><td>rsq</td><td>standard</td><td>0.7369669</td><td>3</td><td>0.002221140</td><td>Preprocessor1_Model33</td></tr>\n",
       "\t<tr><td>1e-02</td><td>0.50</td><td>rsq</td><td>standard</td><td>0.7369669</td><td>3</td><td>0.002221140</td><td>Preprocessor1_Model34</td></tr>\n",
       "\t<tr><td>1e-05</td><td>0.25</td><td>rsq</td><td>standard</td><td>0.7369666</td><td>3</td><td>0.002232603</td><td>Preprocessor1_Model16</td></tr>\n",
       "</tbody>\n",
       "</table>\n"
      ],
      "text/latex": [
       "A tibble: 5 × 8\n",
       "\\begin{tabular}{llllllll}\n",
       " penalty & mixture & .metric & .estimator & mean & n & std\\_err & .config\\\\\n",
       " <dbl> & <dbl> & <chr> & <chr> & <dbl> & <int> & <dbl> & <chr>\\\\\n",
       "\\hline\n",
       "\t 1e-05 & 0.50 & rsq & standard & 0.7369669 & 3 & 0.002221140 & Preprocessor1\\_Model31\\\\\n",
       "\t 1e-04 & 0.50 & rsq & standard & 0.7369669 & 3 & 0.002221140 & Preprocessor1\\_Model32\\\\\n",
       "\t 1e-03 & 0.50 & rsq & standard & 0.7369669 & 3 & 0.002221140 & Preprocessor1\\_Model33\\\\\n",
       "\t 1e-02 & 0.50 & rsq & standard & 0.7369669 & 3 & 0.002221140 & Preprocessor1\\_Model34\\\\\n",
       "\t 1e-05 & 0.25 & rsq & standard & 0.7369666 & 3 & 0.002232603 & Preprocessor1\\_Model16\\\\\n",
       "\\end{tabular}\n"
      ],
      "text/markdown": [
       "\n",
       "A tibble: 5 × 8\n",
       "\n",
       "| penalty &lt;dbl&gt; | mixture &lt;dbl&gt; | .metric &lt;chr&gt; | .estimator &lt;chr&gt; | mean &lt;dbl&gt; | n &lt;int&gt; | std_err &lt;dbl&gt; | .config &lt;chr&gt; |\n",
       "|---|---|---|---|---|---|---|---|\n",
       "| 1e-05 | 0.50 | rsq | standard | 0.7369669 | 3 | 0.002221140 | Preprocessor1_Model31 |\n",
       "| 1e-04 | 0.50 | rsq | standard | 0.7369669 | 3 | 0.002221140 | Preprocessor1_Model32 |\n",
       "| 1e-03 | 0.50 | rsq | standard | 0.7369669 | 3 | 0.002221140 | Preprocessor1_Model33 |\n",
       "| 1e-02 | 0.50 | rsq | standard | 0.7369669 | 3 | 0.002221140 | Preprocessor1_Model34 |\n",
       "| 1e-05 | 0.25 | rsq | standard | 0.7369666 | 3 | 0.002232603 | Preprocessor1_Model16 |\n",
       "\n"
      ],
      "text/plain": [
       "  penalty mixture .metric .estimator mean      n std_err    \n",
       "1 1e-05   0.50    rsq     standard   0.7369669 3 0.002221140\n",
       "2 1e-04   0.50    rsq     standard   0.7369669 3 0.002221140\n",
       "3 1e-03   0.50    rsq     standard   0.7369669 3 0.002221140\n",
       "4 1e-02   0.50    rsq     standard   0.7369669 3 0.002221140\n",
       "5 1e-05   0.25    rsq     standard   0.7369666 3 0.002232603\n",
       "  .config              \n",
       "1 Preprocessor1_Model31\n",
       "2 Preprocessor1_Model32\n",
       "3 Preprocessor1_Model33\n",
       "4 Preprocessor1_Model34\n",
       "5 Preprocessor1_Model16"
      ]
     },
     "metadata": {},
     "output_type": "display_data"
    }
   ],
   "source": [
    "en_tune %>% show_best(metric = \"rsq\")"
   ]
  },
  {
   "attachments": {},
   "cell_type": "markdown",
   "metadata": {},
   "source": [
    "Looking slightly better than Python, and tuning times are a lot faster."
   ]
  },
  {
   "cell_type": "code",
   "execution_count": 15,
   "metadata": {
    "vscode": {
     "languageId": "r"
    }
   },
   "outputs": [],
   "source": [
    "en_final_fit <- en_wflow %>%\n",
    "    finalize_workflow(select_best(en_tune, metric = \"rsq\")) %>%\n",
    "    last_fit(dt_split)"
   ]
  },
  {
   "cell_type": "code",
   "execution_count": 16,
   "metadata": {
    "vscode": {
     "languageId": "r"
    }
   },
   "outputs": [
    {
     "data": {
      "text/html": [
       "<table class=\"dataframe\">\n",
       "<caption>A tibble: 3 × 3</caption>\n",
       "<thead>\n",
       "\t<tr><th scope=col>.metric</th><th scope=col>.estimator</th><th scope=col>.estimate</th></tr>\n",
       "\t<tr><th scope=col>&lt;chr&gt;</th><th scope=col>&lt;chr&gt;</th><th scope=col>&lt;dbl&gt;</th></tr>\n",
       "</thead>\n",
       "<tbody>\n",
       "\t<tr><td>rsq </td><td>standard</td><td>0.7350223</td></tr>\n",
       "\t<tr><td>mae </td><td>standard</td><td>5.3154487</td></tr>\n",
       "\t<tr><td>mape</td><td>standard</td><td>7.4493843</td></tr>\n",
       "</tbody>\n",
       "</table>\n"
      ],
      "text/latex": [
       "A tibble: 3 × 3\n",
       "\\begin{tabular}{lll}\n",
       " .metric & .estimator & .estimate\\\\\n",
       " <chr> & <chr> & <dbl>\\\\\n",
       "\\hline\n",
       "\t rsq  & standard & 0.7350223\\\\\n",
       "\t mae  & standard & 5.3154487\\\\\n",
       "\t mape & standard & 7.4493843\\\\\n",
       "\\end{tabular}\n"
      ],
      "text/markdown": [
       "\n",
       "A tibble: 3 × 3\n",
       "\n",
       "| .metric &lt;chr&gt; | .estimator &lt;chr&gt; | .estimate &lt;dbl&gt; |\n",
       "|---|---|---|\n",
       "| rsq  | standard | 0.7350223 |\n",
       "| mae  | standard | 5.3154487 |\n",
       "| mape | standard | 7.4493843 |\n",
       "\n"
      ],
      "text/plain": [
       "  .metric .estimator .estimate\n",
       "1 rsq     standard   0.7350223\n",
       "2 mae     standard   5.3154487\n",
       "3 mape    standard   7.4493843"
      ]
     },
     "metadata": {},
     "output_type": "display_data"
    }
   ],
   "source": [
    "# Model metrics\n",
    "eval_metrics <- metric_set(rsq, mae, mape)\n",
    "\n",
    "en_final_fit %>% \n",
    "  collect_predictions() %>% \n",
    "  eval_metrics(truth = weight, estimate = .pred)"
   ]
  },
  {
   "attachments": {},
   "cell_type": "markdown",
   "metadata": {},
   "source": [
    "Actually slightly worse metrics than in Python's `sklearn`, might be due to the split and be statistically insignificant. Lastly, make a visualisation:"
   ]
  },
  {
   "cell_type": "code",
   "execution_count": 26,
   "metadata": {
    "vscode": {
     "languageId": "r"
    }
   },
   "outputs": [
    {
     "data": {
      "image/png": "[encoded data removed]",
      "text/plain": [
       "plot without title"
      ]
     },
     "metadata": {
      "image/png": {
       "height": 240,
       "width": 480
      }
     },
     "output_type": "display_data"
    }
   ],
   "source": [
    "options(repr.plot.width=8, repr.plot.height=4)\n",
    "\n",
    "p = en_final_fit %>% \n",
    "  collect_predictions() %>% \n",
    "  ggplot(aes(x = weight, y = .pred)) +\n",
    "  geom_point(colour = \"midnightblue\", alpha = 0.5) +\n",
    "  geom_abline(colour = \"firebrick\", lty = \"dotted\", size = 1) +\n",
    "  labs(title = \"R: Predicted vs. Actual Values\",\n",
    "       y = \"Predictions\",\n",
    "       x = \"Actuals\")\n",
    "\n",
    "p"
   ]
  },
  {
   "cell_type": "code",
   "execution_count": 27,
   "metadata": {
    "vscode": {
     "languageId": "r"
    }
   },
   "outputs": [],
   "source": [
    "ggsave(p, file=\"r.png\", dpi = 350, height = 4, width = 4)"
   ]
  }
 ],
 "metadata": {
  "kernelspec": {
   "display_name": "R",
   "language": "R",
   "name": "ir"
  },
  "language_info": {
   "codemirror_mode": "r",
   "file_extension": ".r",
   "mimetype": "text/x-r-source",
   "name": "R",
   "pygments_lexer": "r",
   "version": "4.2.1"
  },
  "orig_nbformat": 4,
  "vscode": {
   "interpreter": {
    "hash": "a401f25d14e4726c47ec3d51a0ef0f076129e7cc070ddb98f69a4ab74ec023d7"
   }
  }
 },
 "nbformat": 4,
 "nbformat_minor": 2
}
