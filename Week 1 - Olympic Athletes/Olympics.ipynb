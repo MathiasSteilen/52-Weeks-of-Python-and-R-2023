{
 "cells": [
  {
   "cell_type": "code",
   "execution_count": 3,
   "metadata": {},
   "outputs": [],
   "source": [
    "import numpy as np\n",
    "import pandas as pd\n",
    "from plotnine import *\n",
    "import os as os\n",
    "import matplotlib.pyplot as plt"
   ]
  },
  {
   "cell_type": "code",
   "execution_count": 4,
   "metadata": {},
   "outputs": [
    {
     "data": {
      "text/plain": [
       "'c:\\\\Users\\\\mathi\\\\OneDrive\\\\Python\\\\52-Weeks-of-Python-and-R-2023\\\\Week 1 - Olympic Athletes'"
      ]
     },
     "execution_count": 4,
     "metadata": {},
     "output_type": "execute_result"
    }
   ],
   "source": [
    "os.getcwd()"
   ]
  },
  {
   "cell_type": "code",
   "execution_count": 5,
   "metadata": {},
   "outputs": [],
   "source": [
    "data = pd.read_csv(\"olympics.csv\")"
   ]
  },
  {
   "cell_type": "code",
   "execution_count": 7,
   "metadata": {},
   "outputs": [
    {
     "data": {
      "text/html": [
       "<div>\n",
       "<style scoped>\n",
       "    .dataframe tbody tr th:only-of-type {\n",
       "        vertical-align: middle;\n",
       "    }\n",
       "\n",
       "    .dataframe tbody tr th {\n",
       "        vertical-align: top;\n",
       "    }\n",
       "\n",
       "    .dataframe thead th {\n",
       "        text-align: right;\n",
       "    }\n",
       "</style>\n",
       "<table border=\"1\" class=\"dataframe\">\n",
       "  <thead>\n",
       "    <tr style=\"text-align: right;\">\n",
       "      <th></th>\n",
       "      <th>Unnamed: 0</th>\n",
       "      <th>id</th>\n",
       "      <th>name</th>\n",
       "      <th>sex</th>\n",
       "      <th>age</th>\n",
       "      <th>height</th>\n",
       "      <th>weight</th>\n",
       "      <th>team</th>\n",
       "      <th>noc</th>\n",
       "      <th>games</th>\n",
       "      <th>year</th>\n",
       "      <th>season</th>\n",
       "      <th>city</th>\n",
       "      <th>sport</th>\n",
       "      <th>event</th>\n",
       "      <th>medal</th>\n",
       "    </tr>\n",
       "  </thead>\n",
       "  <tbody>\n",
       "    <tr>\n",
       "      <th>0</th>\n",
       "      <td>1</td>\n",
       "      <td>1.0</td>\n",
       "      <td>A Dijiang</td>\n",
       "      <td>M</td>\n",
       "      <td>24.0</td>\n",
       "      <td>180.0</td>\n",
       "      <td>80.0</td>\n",
       "      <td>China</td>\n",
       "      <td>CHN</td>\n",
       "      <td>1992 Summer</td>\n",
       "      <td>1992</td>\n",
       "      <td>Summer</td>\n",
       "      <td>Barcelona</td>\n",
       "      <td>Basketball</td>\n",
       "      <td>Basketball Men's Basketball</td>\n",
       "      <td>NaN</td>\n",
       "    </tr>\n",
       "    <tr>\n",
       "      <th>1</th>\n",
       "      <td>2</td>\n",
       "      <td>2.0</td>\n",
       "      <td>A Lamusi</td>\n",
       "      <td>M</td>\n",
       "      <td>23.0</td>\n",
       "      <td>170.0</td>\n",
       "      <td>60.0</td>\n",
       "      <td>China</td>\n",
       "      <td>CHN</td>\n",
       "      <td>2012 Summer</td>\n",
       "      <td>2012</td>\n",
       "      <td>Summer</td>\n",
       "      <td>London</td>\n",
       "      <td>Judo</td>\n",
       "      <td>Judo Men's Extra-Lightweight</td>\n",
       "      <td>NaN</td>\n",
       "    </tr>\n",
       "    <tr>\n",
       "      <th>2</th>\n",
       "      <td>3</td>\n",
       "      <td>3.0</td>\n",
       "      <td>Gunnar Nielsen Aaby</td>\n",
       "      <td>M</td>\n",
       "      <td>24.0</td>\n",
       "      <td>NaN</td>\n",
       "      <td>NaN</td>\n",
       "      <td>Denmark</td>\n",
       "      <td>DEN</td>\n",
       "      <td>1920 Summer</td>\n",
       "      <td>1920</td>\n",
       "      <td>Summer</td>\n",
       "      <td>Antwerpen</td>\n",
       "      <td>Football</td>\n",
       "      <td>Football Men's Football</td>\n",
       "      <td>NaN</td>\n",
       "    </tr>\n",
       "    <tr>\n",
       "      <th>3</th>\n",
       "      <td>4</td>\n",
       "      <td>4.0</td>\n",
       "      <td>Edgar Lindenau Aabye</td>\n",
       "      <td>M</td>\n",
       "      <td>34.0</td>\n",
       "      <td>NaN</td>\n",
       "      <td>NaN</td>\n",
       "      <td>Denmark/Sweden</td>\n",
       "      <td>DEN</td>\n",
       "      <td>1900 Summer</td>\n",
       "      <td>1900</td>\n",
       "      <td>Summer</td>\n",
       "      <td>Paris</td>\n",
       "      <td>Tug-Of-War</td>\n",
       "      <td>Tug-Of-War Men's Tug-Of-War</td>\n",
       "      <td>Gold</td>\n",
       "    </tr>\n",
       "    <tr>\n",
       "      <th>4</th>\n",
       "      <td>5</td>\n",
       "      <td>5.0</td>\n",
       "      <td>Christine Jacoba Aaftink</td>\n",
       "      <td>F</td>\n",
       "      <td>21.0</td>\n",
       "      <td>185.0</td>\n",
       "      <td>82.0</td>\n",
       "      <td>Netherlands</td>\n",
       "      <td>NED</td>\n",
       "      <td>1988 Winter</td>\n",
       "      <td>1988</td>\n",
       "      <td>Winter</td>\n",
       "      <td>Calgary</td>\n",
       "      <td>Speed Skating</td>\n",
       "      <td>Speed Skating Women's 500 metres</td>\n",
       "      <td>NaN</td>\n",
       "    </tr>\n",
       "  </tbody>\n",
       "</table>\n",
       "</div>"
      ],
      "text/plain": [
       "   Unnamed: 0   id                      name sex   age  height  weight  \\\n",
       "0           1  1.0                 A Dijiang   M  24.0   180.0    80.0   \n",
       "1           2  2.0                  A Lamusi   M  23.0   170.0    60.0   \n",
       "2           3  3.0       Gunnar Nielsen Aaby   M  24.0     NaN     NaN   \n",
       "3           4  4.0      Edgar Lindenau Aabye   M  34.0     NaN     NaN   \n",
       "4           5  5.0  Christine Jacoba Aaftink   F  21.0   185.0    82.0   \n",
       "\n",
       "             team  noc        games  year  season       city          sport  \\\n",
       "0           China  CHN  1992 Summer  1992  Summer  Barcelona     Basketball   \n",
       "1           China  CHN  2012 Summer  2012  Summer     London           Judo   \n",
       "2         Denmark  DEN  1920 Summer  1920  Summer  Antwerpen       Football   \n",
       "3  Denmark/Sweden  DEN  1900 Summer  1900  Summer      Paris     Tug-Of-War   \n",
       "4     Netherlands  NED  1988 Winter  1988  Winter    Calgary  Speed Skating   \n",
       "\n",
       "                              event medal  \n",
       "0       Basketball Men's Basketball   NaN  \n",
       "1      Judo Men's Extra-Lightweight   NaN  \n",
       "2           Football Men's Football   NaN  \n",
       "3       Tug-Of-War Men's Tug-Of-War  Gold  \n",
       "4  Speed Skating Women's 500 metres   NaN  "
      ]
     },
     "execution_count": 7,
     "metadata": {},
     "output_type": "execute_result"
    }
   ],
   "source": [
    "data.head()"
   ]
  },
  {
   "attachments": {},
   "cell_type": "markdown",
   "metadata": {},
   "source": [
    "### Total Gold Medals by Country"
   ]
  },
  {
   "attachments": {},
   "cell_type": "markdown",
   "metadata": {},
   "source": [
    "Add helper column with 1 if the team won a gold medal:"
   ]
  },
  {
   "cell_type": "code",
   "execution_count": 9,
   "metadata": {},
   "outputs": [],
   "source": [
    "data[\"gold_medal\"] = [1 if row == \"Gold\" else 0 for row in data[\"medal\"]]"
   ]
  },
  {
   "attachments": {},
   "cell_type": "markdown",
   "metadata": {},
   "source": [
    "Teams with the most gold medals:"
   ]
  },
  {
   "cell_type": "code",
   "execution_count": 20,
   "metadata": {},
   "outputs": [
    {
     "data": {
      "text/html": [
       "<style type=\"text/css\">\n",
       "#T_92b95_row0_col2 {\n",
       "  width: 10em;\n",
       "  background: linear-gradient(90deg, #d65f5f 100.0%, transparent 100.0%);\n",
       "}\n",
       "#T_92b95_row1_col2 {\n",
       "  width: 10em;\n",
       "  background: linear-gradient(90deg, #d65f5f 42.8%, transparent 42.8%);\n",
       "}\n",
       "#T_92b95_row2_col2 {\n",
       "  width: 10em;\n",
       "  background: linear-gradient(90deg, #d65f5f 27.4%, transparent 27.4%);\n",
       "}\n",
       "#T_92b95_row3_col2 {\n",
       "  width: 10em;\n",
       "  background: linear-gradient(90deg, #d65f5f 21.6%, transparent 21.6%);\n",
       "}\n",
       "#T_92b95_row4_col2 {\n",
       "  width: 10em;\n",
       "  background: linear-gradient(90deg, #d65f5f 21.0%, transparent 21.0%);\n",
       "}\n",
       "#T_92b95_row5_col2 {\n",
       "  width: 10em;\n",
       "  background: linear-gradient(90deg, #d65f5f 18.4%, transparent 18.4%);\n",
       "}\n",
       "#T_92b95_row6_col2 {\n",
       "  width: 10em;\n",
       "  background: linear-gradient(90deg, #d65f5f 18.2%, transparent 18.2%);\n",
       "}\n",
       "#T_92b95_row7_col2 {\n",
       "  width: 10em;\n",
       "  background: linear-gradient(90deg, #d65f5f 17.5%, transparent 17.5%);\n",
       "}\n",
       "#T_92b95_row8_col2 {\n",
       "  width: 10em;\n",
       "  background: linear-gradient(90deg, #d65f5f 17.1%, transparent 17.1%);\n",
       "}\n",
       "#T_92b95_row9_col2 {\n",
       "  width: 10em;\n",
       "  background: linear-gradient(90deg, #d65f5f 14.9%, transparent 14.9%);\n",
       "}\n",
       "</style>\n",
       "<table id=\"T_92b95\">\n",
       "  <thead>\n",
       "    <tr>\n",
       "      <th class=\"blank level0\" >&nbsp;</th>\n",
       "      <th id=\"T_92b95_level0_col0\" class=\"col_heading level0 col0\" >index</th>\n",
       "      <th id=\"T_92b95_level0_col1\" class=\"col_heading level0 col1\" >team</th>\n",
       "      <th id=\"T_92b95_level0_col2\" class=\"col_heading level0 col2\" >gold_medals</th>\n",
       "    </tr>\n",
       "  </thead>\n",
       "  <tbody>\n",
       "    <tr>\n",
       "      <th id=\"T_92b95_level0_row0\" class=\"row_heading level0 row0\" >0</th>\n",
       "      <td id=\"T_92b95_row0_col0\" class=\"data row0 col0\" >1095</td>\n",
       "      <td id=\"T_92b95_row0_col1\" class=\"data row0 col1\" >United States</td>\n",
       "      <td id=\"T_92b95_row0_col2\" class=\"data row0 col2\" >2474</td>\n",
       "    </tr>\n",
       "    <tr>\n",
       "      <th id=\"T_92b95_level0_row1\" class=\"row_heading level0 row1\" >1</th>\n",
       "      <td id=\"T_92b95_row1_col0\" class=\"data row1 col0\" >976</td>\n",
       "      <td id=\"T_92b95_row1_col1\" class=\"data row1 col1\" >Soviet Union</td>\n",
       "      <td id=\"T_92b95_row1_col2\" class=\"data row1 col2\" >1058</td>\n",
       "    </tr>\n",
       "    <tr>\n",
       "      <th id=\"T_92b95_level0_row2\" class=\"row_heading level0 row2\" >2</th>\n",
       "      <td id=\"T_92b95_row2_col0\" class=\"data row2 col0\" >398</td>\n",
       "      <td id=\"T_92b95_row2_col1\" class=\"data row2 col1\" >Germany</td>\n",
       "      <td id=\"T_92b95_row2_col2\" class=\"data row2 col2\" >679</td>\n",
       "    </tr>\n",
       "    <tr>\n",
       "      <th id=\"T_92b95_level0_row3\" class=\"row_heading level0 row3\" >3</th>\n",
       "      <td id=\"T_92b95_row3_col0\" class=\"data row3 col0\" >506</td>\n",
       "      <td id=\"T_92b95_row3_col1\" class=\"data row3 col1\" >Italy</td>\n",
       "      <td id=\"T_92b95_row3_col2\" class=\"data row3 col2\" >535</td>\n",
       "    </tr>\n",
       "    <tr>\n",
       "      <th id=\"T_92b95_level0_row4\" class=\"row_heading level0 row4\" >4</th>\n",
       "      <td id=\"T_92b95_row4_col0\" class=\"data row4 col0\" >412</td>\n",
       "      <td id=\"T_92b95_row4_col1\" class=\"data row4 col1\" >Great Britain</td>\n",
       "      <td id=\"T_92b95_row4_col2\" class=\"data row4 col2\" >519</td>\n",
       "    </tr>\n",
       "    <tr>\n",
       "      <th id=\"T_92b95_level0_row5\" class=\"row_heading level0 row5\" >5</th>\n",
       "      <td id=\"T_92b95_row5_col0\" class=\"data row5 col0\" >361</td>\n",
       "      <td id=\"T_92b95_row5_col1\" class=\"data row5 col1\" >France</td>\n",
       "      <td id=\"T_92b95_row5_col2\" class=\"data row5 col2\" >455</td>\n",
       "    </tr>\n",
       "    <tr>\n",
       "      <th id=\"T_92b95_level0_row6\" class=\"row_heading level0 row6\" >6</th>\n",
       "      <td id=\"T_92b95_row6_col0\" class=\"data row6 col0\" >1010</td>\n",
       "      <td id=\"T_92b95_row6_col1\" class=\"data row6 col1\" >Sweden</td>\n",
       "      <td id=\"T_92b95_row6_col2\" class=\"data row6 col2\" >451</td>\n",
       "    </tr>\n",
       "    <tr>\n",
       "      <th id=\"T_92b95_level0_row7\" class=\"row_heading level0 row7\" >7</th>\n",
       "      <td id=\"T_92b95_row7_col0\" class=\"data row7 col0\" >476</td>\n",
       "      <td id=\"T_92b95_row7_col1\" class=\"data row7 col1\" >Hungary</td>\n",
       "      <td id=\"T_92b95_row7_col2\" class=\"data row7 col2\" >432</td>\n",
       "    </tr>\n",
       "    <tr>\n",
       "      <th id=\"T_92b95_level0_row8\" class=\"row_heading level0 row8\" >8</th>\n",
       "      <td id=\"T_92b95_row8_col0\" class=\"data row8 col0\" >173</td>\n",
       "      <td id=\"T_92b95_row8_col1\" class=\"data row8 col1\" >Canada</td>\n",
       "      <td id=\"T_92b95_row8_col2\" class=\"data row8 col2\" >422</td>\n",
       "    </tr>\n",
       "    <tr>\n",
       "      <th id=\"T_92b95_level0_row9\" class=\"row_heading level0 row9\" >9</th>\n",
       "      <td id=\"T_92b95_row9_col0\" class=\"data row9 col0\" >301</td>\n",
       "      <td id=\"T_92b95_row9_col1\" class=\"data row9 col1\" >East Germany</td>\n",
       "      <td id=\"T_92b95_row9_col2\" class=\"data row9 col2\" >369</td>\n",
       "    </tr>\n",
       "  </tbody>\n",
       "</table>\n"
      ],
      "text/plain": [
       "<pandas.io.formats.style.Styler at 0x14d84040550>"
      ]
     },
     "execution_count": 20,
     "metadata": {},
     "output_type": "execute_result"
    }
   ],
   "source": [
    "(data\n",
    "    .groupby(\"team\")[\"gold_medal\"]\n",
    "    .sum()\n",
    "    .reset_index(name=\"gold_medals\")\n",
    "    .nlargest(columns=\"gold_medals\", n=10)\n",
    "    .reset_index()\n",
    "    .style.bar(subset=\"gold_medals\")\n",
    ")"
   ]
  },
  {
   "attachments": {},
   "cell_type": "markdown",
   "metadata": {},
   "source": [
    "### Average Age by Sport and Sex"
   ]
  },
  {
   "cell_type": "code",
   "execution_count": 32,
   "metadata": {},
   "outputs": [
    {
     "data": {
      "text/html": [
       "<style type=\"text/css\">\n",
       "#T_e37cf_row0_col3 {\n",
       "  background-color: #52b365;\n",
       "  color: #f1f1f1;\n",
       "}\n",
       "#T_e37cf_row1_col3, #T_e37cf_row16_col3 {\n",
       "  background-color: #90d18d;\n",
       "  color: #000000;\n",
       "}\n",
       "#T_e37cf_row2_col3 {\n",
       "  background-color: #004e1f;\n",
       "  color: #f1f1f1;\n",
       "}\n",
       "#T_e37cf_row3_col3 {\n",
       "  background-color: #026f2e;\n",
       "  color: #f1f1f1;\n",
       "}\n",
       "#T_e37cf_row4_col3 {\n",
       "  background-color: #60ba6c;\n",
       "  color: #f1f1f1;\n",
       "}\n",
       "#T_e37cf_row5_col3 {\n",
       "  background-color: #2e964d;\n",
       "  color: #f1f1f1;\n",
       "}\n",
       "#T_e37cf_row6_col3 {\n",
       "  background-color: #66bd6f;\n",
       "  color: #f1f1f1;\n",
       "}\n",
       "#T_e37cf_row7_col3 {\n",
       "  background-color: #48ae60;\n",
       "  color: #f1f1f1;\n",
       "}\n",
       "#T_e37cf_row8_col3 {\n",
       "  background-color: #7cc87c;\n",
       "  color: #000000;\n",
       "}\n",
       "#T_e37cf_row9_col3, #T_e37cf_row14_col3 {\n",
       "  background-color: #81ca81;\n",
       "  color: #000000;\n",
       "}\n",
       "#T_e37cf_row10_col3 {\n",
       "  background-color: #40aa5d;\n",
       "  color: #f1f1f1;\n",
       "}\n",
       "#T_e37cf_row11_col3, #T_e37cf_row12_col3 {\n",
       "  background-color: #83cb82;\n",
       "  color: #000000;\n",
       "}\n",
       "#T_e37cf_row13_col3 {\n",
       "  background-color: #5eb96b;\n",
       "  color: #f1f1f1;\n",
       "}\n",
       "#T_e37cf_row15_col3 {\n",
       "  background-color: #50b264;\n",
       "  color: #f1f1f1;\n",
       "}\n",
       "#T_e37cf_row17_col3 {\n",
       "  background-color: #8ed08b;\n",
       "  color: #000000;\n",
       "}\n",
       "#T_e37cf_row18_col3 {\n",
       "  background-color: #8bcf89;\n",
       "  color: #000000;\n",
       "}\n",
       "#T_e37cf_row19_col3 {\n",
       "  background-color: #a3da9d;\n",
       "  color: #000000;\n",
       "}\n",
       "#T_e37cf_row20_col3 {\n",
       "  background-color: #9ed798;\n",
       "  color: #000000;\n",
       "}\n",
       "#T_e37cf_row21_col3 {\n",
       "  background-color: #00441b;\n",
       "  color: #f1f1f1;\n",
       "}\n",
       "#T_e37cf_row22_col3 {\n",
       "  background-color: #75c477;\n",
       "  color: #000000;\n",
       "}\n",
       "#T_e37cf_row23_col3 {\n",
       "  background-color: #e4f5df;\n",
       "  color: #000000;\n",
       "}\n",
       "#T_e37cf_row24_col3 {\n",
       "  background-color: #5db96b;\n",
       "  color: #f1f1f1;\n",
       "}\n",
       "#T_e37cf_row25_col3 {\n",
       "  background-color: #caeac3;\n",
       "  color: #000000;\n",
       "}\n",
       "#T_e37cf_row26_col3 {\n",
       "  background-color: #3fa85b;\n",
       "  color: #f1f1f1;\n",
       "}\n",
       "#T_e37cf_row27_col3 {\n",
       "  background-color: #4eb264;\n",
       "  color: #f1f1f1;\n",
       "}\n",
       "#T_e37cf_row28_col3 {\n",
       "  background-color: #f7fcf5;\n",
       "  color: #000000;\n",
       "}\n",
       "#T_e37cf_row29_col3 {\n",
       "  background-color: #46ae60;\n",
       "  color: #f1f1f1;\n",
       "}\n",
       "</style>\n",
       "<table id=\"T_e37cf\">\n",
       "  <thead>\n",
       "    <tr>\n",
       "      <th class=\"blank level0\" >&nbsp;</th>\n",
       "      <th id=\"T_e37cf_level0_col0\" class=\"col_heading level0 col0\" >sport</th>\n",
       "      <th id=\"T_e37cf_level0_col1\" class=\"col_heading level0 col1\" >F</th>\n",
       "      <th id=\"T_e37cf_level0_col2\" class=\"col_heading level0 col2\" >M</th>\n",
       "      <th id=\"T_e37cf_level0_col3\" class=\"col_heading level0 col3\" >delta</th>\n",
       "    </tr>\n",
       "  </thead>\n",
       "  <tbody>\n",
       "    <tr>\n",
       "      <th id=\"T_e37cf_level0_row0\" class=\"row_heading level0 row0\" >1</th>\n",
       "      <td id=\"T_e37cf_row0_col0\" class=\"data row0 col0\" >Art Competitions</td>\n",
       "      <td id=\"T_e37cf_row0_col1\" class=\"data row0 col1\" >44.411960</td>\n",
       "      <td id=\"T_e37cf_row0_col2\" class=\"data row0 col2\" >46.062816</td>\n",
       "      <td id=\"T_e37cf_row0_col3\" class=\"data row0 col3\" >1.650856</td>\n",
       "    </tr>\n",
       "    <tr>\n",
       "      <th id=\"T_e37cf_level0_row1\" class=\"row_heading level0 row1\" >11</th>\n",
       "      <td id=\"T_e37cf_row1_col0\" class=\"data row1 col0\" >Equestrianism</td>\n",
       "      <td id=\"T_e37cf_row1_col1\" class=\"data row1 col1\" >34.217846</td>\n",
       "      <td id=\"T_e37cf_row1_col2\" class=\"data row1 col2\" >34.434685</td>\n",
       "      <td id=\"T_e37cf_row1_col3\" class=\"data row1 col3\" >0.216839</td>\n",
       "    </tr>\n",
       "    <tr>\n",
       "      <th id=\"T_e37cf_level0_row2\" class=\"row_heading level0 row2\" >21</th>\n",
       "      <td id=\"T_e37cf_row2_col0\" class=\"data row2 col0\" >Shooting</td>\n",
       "      <td id=\"T_e37cf_row2_col1\" class=\"data row2 col1\" >29.119048</td>\n",
       "      <td id=\"T_e37cf_row2_col2\" class=\"data row2 col2\" >34.254351</td>\n",
       "      <td id=\"T_e37cf_row2_col3\" class=\"data row2 col3\" >5.135304</td>\n",
       "    </tr>\n",
       "    <tr>\n",
       "      <th id=\"T_e37cf_level0_row3\" class=\"row_heading level0 row3\" >20</th>\n",
       "      <td id=\"T_e37cf_row3_col0\" class=\"data row3 col0\" >Sailing</td>\n",
       "      <td id=\"T_e37cf_row3_col1\" class=\"data row3 col1\" >26.698378</td>\n",
       "      <td id=\"T_e37cf_row3_col2\" class=\"data row3 col2\" >30.906622</td>\n",
       "      <td id=\"T_e37cf_row3_col3\" class=\"data row3 col3\" >4.208244</td>\n",
       "    </tr>\n",
       "    <tr>\n",
       "      <th id=\"T_e37cf_level0_row4\" class=\"row_heading level0 row4\" >5</th>\n",
       "      <td id=\"T_e37cf_row4_col0\" class=\"data row4 col0\" >Bobsleigh</td>\n",
       "      <td id=\"T_e37cf_row4_col1\" class=\"data row4 col1\" >27.832168</td>\n",
       "      <td id=\"T_e37cf_row4_col2\" class=\"data row4 col2\" >29.174464</td>\n",
       "      <td id=\"T_e37cf_row4_col3\" class=\"data row4 col3\" >1.342296</td>\n",
       "    </tr>\n",
       "    <tr>\n",
       "      <th id=\"T_e37cf_level0_row5\" class=\"row_heading level0 row5\" >12</th>\n",
       "      <td id=\"T_e37cf_row5_col0\" class=\"data row5 col0\" >Fencing</td>\n",
       "      <td id=\"T_e37cf_row5_col1\" class=\"data row5 col1\" >26.341105</td>\n",
       "      <td id=\"T_e37cf_row5_col2\" class=\"data row5 col2\" >29.077669</td>\n",
       "      <td id=\"T_e37cf_row5_col3\" class=\"data row5 col3\" >2.736564</td>\n",
       "    </tr>\n",
       "    <tr>\n",
       "      <th id=\"T_e37cf_level0_row6\" class=\"row_heading level0 row6\" >4</th>\n",
       "      <td id=\"T_e37cf_row6_col0\" class=\"data row6 col0\" >Biathlon</td>\n",
       "      <td id=\"T_e37cf_row6_col1\" class=\"data row6 col1\" >25.799249</td>\n",
       "      <td id=\"T_e37cf_row6_col2\" class=\"data row6 col2\" >26.984153</td>\n",
       "      <td id=\"T_e37cf_row6_col3\" class=\"data row6 col3\" >1.184905</td>\n",
       "    </tr>\n",
       "    <tr>\n",
       "      <th id=\"T_e37cf_level0_row7\" class=\"row_heading level0 row7\" >25</th>\n",
       "      <td id=\"T_e37cf_row7_col0\" class=\"data row7 col0\" >Tennis</td>\n",
       "      <td id=\"T_e37cf_row7_col1\" class=\"data row7 col1\" >24.775457</td>\n",
       "      <td id=\"T_e37cf_row7_col2\" class=\"data row7 col2\" >26.629327</td>\n",
       "      <td id=\"T_e37cf_row7_col3\" class=\"data row7 col3\" >1.853870</td>\n",
       "    </tr>\n",
       "    <tr>\n",
       "      <th id=\"T_e37cf_level0_row8\" class=\"row_heading level0 row8\" >15</th>\n",
       "      <td id=\"T_e37cf_row8_col0\" class=\"data row8 col0\" >Handball</td>\n",
       "      <td id=\"T_e37cf_row8_col1\" class=\"data row8 col1\" >25.883922</td>\n",
       "      <td id=\"T_e37cf_row8_col2\" class=\"data row8 col2\" >26.569902</td>\n",
       "      <td id=\"T_e37cf_row8_col3\" class=\"data row8 col3\" >0.685980</td>\n",
       "    </tr>\n",
       "    <tr>\n",
       "      <th id=\"T_e37cf_level0_row9\" class=\"row_heading level0 row9\" >8</th>\n",
       "      <td id=\"T_e37cf_row9_col0\" class=\"data row9 col0\" >Cross Country Skiing</td>\n",
       "      <td id=\"T_e37cf_row9_col1\" class=\"data row9 col1\" >25.655244</td>\n",
       "      <td id=\"T_e37cf_row9_col2\" class=\"data row9 col2\" >26.214073</td>\n",
       "      <td id=\"T_e37cf_row9_col3\" class=\"data row9 col3\" >0.558829</td>\n",
       "    </tr>\n",
       "    <tr>\n",
       "      <th id=\"T_e37cf_level0_row10\" class=\"row_heading level0 row10\" >17</th>\n",
       "      <td id=\"T_e37cf_row10_col0\" class=\"data row10 col0\" >Ice Hockey</td>\n",
       "      <td id=\"T_e37cf_row10_col1\" class=\"data row10 col1\" >24.055703</td>\n",
       "      <td id=\"T_e37cf_row10_col2\" class=\"data row10 col2\" >26.114304</td>\n",
       "      <td id=\"T_e37cf_row10_col3\" class=\"data row10 col3\" >2.058601</td>\n",
       "    </tr>\n",
       "    <tr>\n",
       "      <th id=\"T_e37cf_level0_row11\" class=\"row_heading level0 row11\" >16</th>\n",
       "      <td id=\"T_e37cf_row11_col0\" class=\"data row11 col0\" >Hockey</td>\n",
       "      <td id=\"T_e37cf_row11_col1\" class=\"data row11 col1\" >25.332419</td>\n",
       "      <td id=\"T_e37cf_row11_col2\" class=\"data row11 col2\" >25.866276</td>\n",
       "      <td id=\"T_e37cf_row11_col3\" class=\"data row11 col3\" >0.533857</td>\n",
       "    </tr>\n",
       "    <tr>\n",
       "      <th id=\"T_e37cf_level0_row12\" class=\"row_heading level0 row12\" >29</th>\n",
       "      <td id=\"T_e37cf_row12_col0\" class=\"data row12 col0\" >Wrestling</td>\n",
       "      <td id=\"T_e37cf_row12_col1\" class=\"data row12 col1\" >25.305921</td>\n",
       "      <td id=\"T_e37cf_row12_col2\" class=\"data row12 col2\" >25.821827</td>\n",
       "      <td id=\"T_e37cf_row12_col3\" class=\"data row12 col3\" >0.515906</td>\n",
       "    </tr>\n",
       "    <tr>\n",
       "      <th id=\"T_e37cf_level0_row13\" class=\"row_heading level0 row13\" >26</th>\n",
       "      <td id=\"T_e37cf_row13_col0\" class=\"data row13 col0\" >Volleyball</td>\n",
       "      <td id=\"T_e37cf_row13_col1\" class=\"data row13 col1\" >24.431627</td>\n",
       "      <td id=\"T_e37cf_row13_col2\" class=\"data row13 col2\" >25.810475</td>\n",
       "      <td id=\"T_e37cf_row13_col3\" class=\"data row13 col3\" >1.378848</td>\n",
       "    </tr>\n",
       "    <tr>\n",
       "      <th id=\"T_e37cf_level0_row14\" class=\"row_heading level0 row14\" >27</th>\n",
       "      <td id=\"T_e37cf_row14_col0\" class=\"data row14 col0\" >Water Polo</td>\n",
       "      <td id=\"T_e37cf_row14_col1\" class=\"data row14 col1\" >25.161885</td>\n",
       "      <td id=\"T_e37cf_row14_col2\" class=\"data row14 col2\" >25.736542</td>\n",
       "      <td id=\"T_e37cf_row14_col3\" class=\"data row14 col3\" >0.574657</td>\n",
       "    </tr>\n",
       "    <tr>\n",
       "      <th id=\"T_e37cf_level0_row15\" class=\"row_heading level0 row15\" >28</th>\n",
       "      <td id=\"T_e37cf_row15_col0\" class=\"data row15 col0\" >Weightlifting</td>\n",
       "      <td id=\"T_e37cf_row15_col1\" class=\"data row15 col1\" >24.028078</td>\n",
       "      <td id=\"T_e37cf_row15_col2\" class=\"data row15 col2\" >25.710832</td>\n",
       "      <td id=\"T_e37cf_row15_col3\" class=\"data row15 col3\" >1.682755</td>\n",
       "    </tr>\n",
       "    <tr>\n",
       "      <th id=\"T_e37cf_level0_row16\" class=\"row_heading level0 row16\" >7</th>\n",
       "      <td id=\"T_e37cf_row16_col0\" class=\"data row16 col0\" >Canoeing</td>\n",
       "      <td id=\"T_e37cf_row16_col1\" class=\"data row16 col1\" >25.337446</td>\n",
       "      <td id=\"T_e37cf_row16_col2\" class=\"data row16 col2\" >25.552753</td>\n",
       "      <td id=\"T_e37cf_row16_col3\" class=\"data row16 col3\" >0.215308</td>\n",
       "    </tr>\n",
       "    <tr>\n",
       "      <th id=\"T_e37cf_level0_row17\" class=\"row_heading level0 row17\" >18</th>\n",
       "      <td id=\"T_e37cf_row17_col0\" class=\"data row17 col0\" >Judo</td>\n",
       "      <td id=\"T_e37cf_row17_col1\" class=\"data row17 col1\" >25.163769</td>\n",
       "      <td id=\"T_e37cf_row17_col2\" class=\"data row17 col2\" >25.397378</td>\n",
       "      <td id=\"T_e37cf_row17_col3\" class=\"data row17 col3\" >0.233609</td>\n",
       "    </tr>\n",
       "    <tr>\n",
       "      <th id=\"T_e37cf_level0_row18\" class=\"row_heading level0 row18\" >2</th>\n",
       "      <td id=\"T_e37cf_row18_col0\" class=\"data row18 col0\" >Athletics</td>\n",
       "      <td id=\"T_e37cf_row18_col1\" class=\"data row18 col1\" >24.933574</td>\n",
       "      <td id=\"T_e37cf_row18_col2\" class=\"data row18 col2\" >25.263434</td>\n",
       "      <td id=\"T_e37cf_row18_col3\" class=\"data row18 col3\" >0.329860</td>\n",
       "    </tr>\n",
       "    <tr>\n",
       "      <th id=\"T_e37cf_level0_row19\" class=\"row_heading level0 row19\" >3</th>\n",
       "      <td id=\"T_e37cf_row19_col0\" class=\"data row19 col0\" >Basketball</td>\n",
       "      <td id=\"T_e37cf_row19_col1\" class=\"data row19 col1\" >25.517516</td>\n",
       "      <td id=\"T_e37cf_row19_col2\" class=\"data row19 col2\" >25.246283</td>\n",
       "      <td id=\"T_e37cf_row19_col3\" class=\"data row19 col3\" >-0.271233</td>\n",
       "    </tr>\n",
       "    <tr>\n",
       "      <th id=\"T_e37cf_level0_row20\" class=\"row_heading level0 row20\" >19</th>\n",
       "      <td id=\"T_e37cf_row20_col0\" class=\"data row20 col0\" >Rowing</td>\n",
       "      <td id=\"T_e37cf_row20_col1\" class=\"data row20 col1\" >25.402645</td>\n",
       "      <td id=\"T_e37cf_row20_col2\" class=\"data row20 col2\" >25.241112</td>\n",
       "      <td id=\"T_e37cf_row20_col3\" class=\"data row20 col3\" >-0.161533</td>\n",
       "    </tr>\n",
       "    <tr>\n",
       "      <th id=\"T_e37cf_level0_row21\" class=\"row_heading level0 row21\" >14</th>\n",
       "      <td id=\"T_e37cf_row21_col0\" class=\"data row21 col0\" >Gymnastics</td>\n",
       "      <td id=\"T_e37cf_row21_col1\" class=\"data row21 col1\" >19.232751</td>\n",
       "      <td id=\"T_e37cf_row21_col2\" class=\"data row21 col2\" >24.653482</td>\n",
       "      <td id=\"T_e37cf_row21_col3\" class=\"data row21 col3\" >5.420731</td>\n",
       "    </tr>\n",
       "    <tr>\n",
       "      <th id=\"T_e37cf_level0_row22\" class=\"row_heading level0 row22\" >23</th>\n",
       "      <td id=\"T_e37cf_row22_col0\" class=\"data row22 col0\" >Speed Skating</td>\n",
       "      <td id=\"T_e37cf_row22_col1\" class=\"data row22 col1\" >23.746276</td>\n",
       "      <td id=\"T_e37cf_row22_col2\" class=\"data row22 col2\" >24.633646</td>\n",
       "      <td id=\"T_e37cf_row22_col3\" class=\"data row22 col3\" >0.887371</td>\n",
       "    </tr>\n",
       "    <tr>\n",
       "      <th id=\"T_e37cf_level0_row23\" class=\"row_heading level0 row23\" >9</th>\n",
       "      <td id=\"T_e37cf_row23_col0\" class=\"data row23 col0\" >Cycling</td>\n",
       "      <td id=\"T_e37cf_row23_col1\" class=\"data row23 col1\" >26.899570</td>\n",
       "      <td id=\"T_e37cf_row23_col2\" class=\"data row23 col2\" >24.436782</td>\n",
       "      <td id=\"T_e37cf_row23_col3\" class=\"data row23 col3\" >-2.462788</td>\n",
       "    </tr>\n",
       "    <tr>\n",
       "      <th id=\"T_e37cf_level0_row24\" class=\"row_heading level0 row24\" >0</th>\n",
       "      <td id=\"T_e37cf_row24_col0\" class=\"data row24 col0\" >Alpine Skiing</td>\n",
       "      <td id=\"T_e37cf_row24_col1\" class=\"data row24 col1\" >22.334609</td>\n",
       "      <td id=\"T_e37cf_row24_col2\" class=\"data row24 col2\" >23.758266</td>\n",
       "      <td id=\"T_e37cf_row24_col3\" class=\"data row24 col3\" >1.423658</td>\n",
       "    </tr>\n",
       "    <tr>\n",
       "      <th id=\"T_e37cf_level0_row25\" class=\"row_heading level0 row25\" >13</th>\n",
       "      <td id=\"T_e37cf_row25_col0\" class=\"data row25 col0\" >Football</td>\n",
       "      <td id=\"T_e37cf_row25_col1\" class=\"data row25 col1\" >24.909091</td>\n",
       "      <td id=\"T_e37cf_row25_col2\" class=\"data row25 col2\" >23.463606</td>\n",
       "      <td id=\"T_e37cf_row25_col3\" class=\"data row25 col3\" >-1.445485</td>\n",
       "    </tr>\n",
       "    <tr>\n",
       "      <th id=\"T_e37cf_level0_row26\" class=\"row_heading level0 row26\" >22</th>\n",
       "      <td id=\"T_e37cf_row26_col0\" class=\"data row26 col0\" >Ski Jumping</td>\n",
       "      <td id=\"T_e37cf_row26_col1\" class=\"data row26 col1\" >21.266667</td>\n",
       "      <td id=\"T_e37cf_row26_col2\" class=\"data row26 col2\" >23.373780</td>\n",
       "      <td id=\"T_e37cf_row26_col3\" class=\"data row26 col3\" >2.107114</td>\n",
       "    </tr>\n",
       "    <tr>\n",
       "      <th id=\"T_e37cf_level0_row27\" class=\"row_heading level0 row27\" >10</th>\n",
       "      <td id=\"T_e37cf_row27_col0\" class=\"data row27 col0\" >Diving</td>\n",
       "      <td id=\"T_e37cf_row27_col1\" class=\"data row27 col1\" >21.517677</td>\n",
       "      <td id=\"T_e37cf_row27_col2\" class=\"data row27 col2\" >23.228311</td>\n",
       "      <td id=\"T_e37cf_row27_col3\" class=\"data row27 col3\" >1.710634</td>\n",
       "    </tr>\n",
       "    <tr>\n",
       "      <th id=\"T_e37cf_level0_row28\" class=\"row_heading level0 row28\" >6</th>\n",
       "      <td id=\"T_e37cf_row28_col0\" class=\"data row28 col0\" >Boxing</td>\n",
       "      <td id=\"T_e37cf_row28_col1\" class=\"data row28 col1\" >26.638889</td>\n",
       "      <td id=\"T_e37cf_row28_col2\" class=\"data row28 col2\" >23.009192</td>\n",
       "      <td id=\"T_e37cf_row28_col3\" class=\"data row28 col3\" >-3.629697</td>\n",
       "    </tr>\n",
       "    <tr>\n",
       "      <th id=\"T_e37cf_level0_row29\" class=\"row_heading level0 row29\" >24</th>\n",
       "      <td id=\"T_e37cf_row29_col0\" class=\"data row29 col0\" >Swimming</td>\n",
       "      <td id=\"T_e37cf_row29_col1\" class=\"data row29 col1\" >19.487450</td>\n",
       "      <td id=\"T_e37cf_row29_col2\" class=\"data row29 col2\" >21.382881</td>\n",
       "      <td id=\"T_e37cf_row29_col3\" class=\"data row29 col3\" >1.895431</td>\n",
       "    </tr>\n",
       "  </tbody>\n",
       "</table>\n"
      ],
      "text/plain": [
       "<pandas.io.formats.style.Styler at 0x14d8d41a410>"
      ]
     },
     "execution_count": 32,
     "metadata": {},
     "output_type": "execute_result"
    }
   ],
   "source": [
    "(data\n",
    "    .groupby([\"sport\", \"sex\"])\n",
    "    .agg({\n",
    "        \"age\": \"mean\",\n",
    "    })\n",
    "    .reset_index()\n",
    "    .merge(data.value_counts(\"sport\").reset_index(name=\"count\"))\n",
    "    .nlargest(columns=\"count\", n=60)\n",
    "    .reset_index(drop=True)\n",
    "    .pivot(index=\"sport\", columns=\"sex\", values=\"age\")\n",
    "    .reset_index()\n",
    "    .rename_axis(None, axis=1)\n",
    "    .sort_values(\"M\", ascending=False)\n",
    "    .assign(delta = lambda df: df.M - df.F)\n",
    "    .style.background_gradient(subset=\"delta\", cmap=\"Greens\")\n",
    ")"
   ]
  },
  {
   "attachments": {},
   "cell_type": "markdown",
   "metadata": {},
   "source": [
    "### Average Weight by Sport and Sex"
   ]
  },
  {
   "attachments": {},
   "cell_type": "markdown",
   "metadata": {},
   "source": [
    "First method: Get frequency of each sport:"
   ]
  },
  {
   "cell_type": "code",
   "execution_count": 37,
   "metadata": {},
   "outputs": [
    {
     "data": {
      "text/html": [
       "<div>\n",
       "<style scoped>\n",
       "    .dataframe tbody tr th:only-of-type {\n",
       "        vertical-align: middle;\n",
       "    }\n",
       "\n",
       "    .dataframe tbody tr th {\n",
       "        vertical-align: top;\n",
       "    }\n",
       "\n",
       "    .dataframe thead th {\n",
       "        text-align: right;\n",
       "    }\n",
       "</style>\n",
       "<table border=\"1\" class=\"dataframe\">\n",
       "  <thead>\n",
       "    <tr style=\"text-align: right;\">\n",
       "      <th></th>\n",
       "      <th>sport</th>\n",
       "      <th>count</th>\n",
       "    </tr>\n",
       "  </thead>\n",
       "  <tbody>\n",
       "    <tr>\n",
       "      <th>0</th>\n",
       "      <td>Athletics</td>\n",
       "      <td>38624</td>\n",
       "    </tr>\n",
       "    <tr>\n",
       "      <th>1</th>\n",
       "      <td>Gymnastics</td>\n",
       "      <td>26707</td>\n",
       "    </tr>\n",
       "    <tr>\n",
       "      <th>2</th>\n",
       "      <td>Swimming</td>\n",
       "      <td>23195</td>\n",
       "    </tr>\n",
       "    <tr>\n",
       "      <th>3</th>\n",
       "      <td>Shooting</td>\n",
       "      <td>11448</td>\n",
       "    </tr>\n",
       "    <tr>\n",
       "      <th>4</th>\n",
       "      <td>Cycling</td>\n",
       "      <td>10859</td>\n",
       "    </tr>\n",
       "    <tr>\n",
       "      <th>...</th>\n",
       "      <td>...</td>\n",
       "      <td>...</td>\n",
       "    </tr>\n",
       "    <tr>\n",
       "      <th>61</th>\n",
       "      <td>Racquets</td>\n",
       "      <td>12</td>\n",
       "    </tr>\n",
       "    <tr>\n",
       "      <th>62</th>\n",
       "      <td>Jeu De Paume</td>\n",
       "      <td>11</td>\n",
       "    </tr>\n",
       "    <tr>\n",
       "      <th>63</th>\n",
       "      <td>Roque</td>\n",
       "      <td>4</td>\n",
       "    </tr>\n",
       "    <tr>\n",
       "      <th>64</th>\n",
       "      <td>Basque Pelota</td>\n",
       "      <td>2</td>\n",
       "    </tr>\n",
       "    <tr>\n",
       "      <th>65</th>\n",
       "      <td>Aeronautics</td>\n",
       "      <td>1</td>\n",
       "    </tr>\n",
       "  </tbody>\n",
       "</table>\n",
       "<p>66 rows × 2 columns</p>\n",
       "</div>"
      ],
      "text/plain": [
       "            sport  count\n",
       "0       Athletics  38624\n",
       "1      Gymnastics  26707\n",
       "2        Swimming  23195\n",
       "3        Shooting  11448\n",
       "4         Cycling  10859\n",
       "..            ...    ...\n",
       "61       Racquets     12\n",
       "62   Jeu De Paume     11\n",
       "63          Roque      4\n",
       "64  Basque Pelota      2\n",
       "65    Aeronautics      1\n",
       "\n",
       "[66 rows x 2 columns]"
      ]
     },
     "execution_count": 37,
     "metadata": {},
     "output_type": "execute_result"
    }
   ],
   "source": [
    "data.value_counts(\"sport\").reset_index(name=\"count\")"
   ]
  },
  {
   "attachments": {},
   "cell_type": "markdown",
   "metadata": {},
   "source": [
    "Aggregate weight by sport and sex and filter by frequency of sport, which was left-merged onto data frame:"
   ]
  },
  {
   "cell_type": "code",
   "execution_count": 48,
   "metadata": {},
   "outputs": [
    {
     "data": {
      "text/html": [
       "<style type=\"text/css\">\n",
       "#T_2535e_row0_col2 {\n",
       "  width: 10em;\n",
       "  background: linear-gradient(90deg, #d65f5f 97.5%, transparent 97.5%);\n",
       "}\n",
       "#T_2535e_row1_col2 {\n",
       "  width: 10em;\n",
       "  background: linear-gradient(90deg, #d65f5f 91.4%, transparent 91.4%);\n",
       "}\n",
       "#T_2535e_row2_col2 {\n",
       "  width: 10em;\n",
       "  background: linear-gradient(90deg, #d65f5f 100.0%, transparent 100.0%);\n",
       "}\n",
       "#T_2535e_row3_col2 {\n",
       "  width: 10em;\n",
       "  background: linear-gradient(90deg, #d65f5f 95.7%, transparent 95.7%);\n",
       "}\n",
       "#T_2535e_row4_col2 {\n",
       "  width: 10em;\n",
       "  background: linear-gradient(90deg, #d65f5f 84.9%, transparent 84.9%);\n",
       "}\n",
       "#T_2535e_row5_col2 {\n",
       "  width: 10em;\n",
       "  background: linear-gradient(90deg, #d65f5f 85.1%, transparent 85.1%);\n",
       "}\n",
       "#T_2535e_row6_col2 {\n",
       "  width: 10em;\n",
       "  background: linear-gradient(90deg, #d65f5f 91.2%, transparent 91.2%);\n",
       "}\n",
       "#T_2535e_row7_col2 {\n",
       "  width: 10em;\n",
       "  background: linear-gradient(90deg, #d65f5f 86.0%, transparent 86.0%);\n",
       "}\n",
       "#T_2535e_row8_col2 {\n",
       "  width: 10em;\n",
       "  background: linear-gradient(90deg, #d65f5f 85.8%, transparent 85.8%);\n",
       "}\n",
       "#T_2535e_row9_col2 {\n",
       "  width: 10em;\n",
       "  background: linear-gradient(90deg, #d65f5f 83.3%, transparent 83.3%);\n",
       "}\n",
       "#T_2535e_row10_col2 {\n",
       "  width: 10em;\n",
       "  background: linear-gradient(90deg, #d65f5f 69.1%, transparent 69.1%);\n",
       "}\n",
       "#T_2535e_row11_col2 {\n",
       "  width: 10em;\n",
       "  background: linear-gradient(90deg, #d65f5f 79.2%, transparent 79.2%);\n",
       "}\n",
       "#T_2535e_row12_col2 {\n",
       "  width: 10em;\n",
       "  background: linear-gradient(90deg, #d65f5f 87.2%, transparent 87.2%);\n",
       "}\n",
       "#T_2535e_row13_col2 {\n",
       "  width: 10em;\n",
       "  background: linear-gradient(90deg, #d65f5f 82.2%, transparent 82.2%);\n",
       "}\n",
       "#T_2535e_row14_col2 {\n",
       "  width: 10em;\n",
       "  background: linear-gradient(90deg, #d65f5f 83.2%, transparent 83.2%);\n",
       "}\n",
       "#T_2535e_row15_col2 {\n",
       "  width: 10em;\n",
       "  background: linear-gradient(90deg, #d65f5f 78.2%, transparent 78.2%);\n",
       "}\n",
       "#T_2535e_row16_col2 {\n",
       "  width: 10em;\n",
       "  background: linear-gradient(90deg, #d65f5f 80.5%, transparent 80.5%);\n",
       "}\n",
       "#T_2535e_row17_col2 {\n",
       "  width: 10em;\n",
       "  background: linear-gradient(90deg, #d65f5f 91.3%, transparent 91.3%);\n",
       "}\n",
       "#T_2535e_row18_col2 {\n",
       "  width: 10em;\n",
       "  background: linear-gradient(90deg, #d65f5f 80.0%, transparent 80.0%);\n",
       "}\n",
       "#T_2535e_row19_col2 {\n",
       "  width: 10em;\n",
       "  background: linear-gradient(90deg, #d65f5f 87.5%, transparent 87.5%);\n",
       "}\n",
       "#T_2535e_row20_col2 {\n",
       "  width: 10em;\n",
       "  background: linear-gradient(90deg, #d65f5f 78.7%, transparent 78.7%);\n",
       "}\n",
       "#T_2535e_row21_col2 {\n",
       "  width: 10em;\n",
       "  background: linear-gradient(90deg, #d65f5f 77.4%, transparent 77.4%);\n",
       "}\n",
       "#T_2535e_row22_col2 {\n",
       "  width: 10em;\n",
       "  background: linear-gradient(90deg, #d65f5f 79.7%, transparent 79.7%);\n",
       "}\n",
       "#T_2535e_row23_col2 {\n",
       "  width: 10em;\n",
       "  background: linear-gradient(90deg, #d65f5f 71.2%, transparent 71.2%);\n",
       "}\n",
       "</style>\n",
       "<table id=\"T_2535e\">\n",
       "  <thead>\n",
       "    <tr>\n",
       "      <th class=\"blank level0\" >&nbsp;</th>\n",
       "      <th id=\"T_2535e_level0_col0\" class=\"col_heading level0 col0\" >sport</th>\n",
       "      <th id=\"T_2535e_level0_col1\" class=\"col_heading level0 col1\" >F</th>\n",
       "      <th id=\"T_2535e_level0_col2\" class=\"col_heading level0 col2\" >M</th>\n",
       "      <th id=\"T_2535e_level0_col3\" class=\"col_heading level0 col3\" >delta</th>\n",
       "    </tr>\n",
       "  </thead>\n",
       "  <tbody>\n",
       "    <tr>\n",
       "      <th id=\"T_2535e_level0_row0\" class=\"row_heading level0 row0\" >0</th>\n",
       "      <td id=\"T_2535e_row0_col0\" class=\"data row0 col0\" >Handball</td>\n",
       "      <td id=\"T_2535e_row0_col1\" class=\"data row0 col1\" >68.876851</td>\n",
       "      <td id=\"T_2535e_row0_col2\" class=\"data row0 col2\" >89.387914</td>\n",
       "      <td id=\"T_2535e_row0_col3\" class=\"data row0 col3\" >20.511063</td>\n",
       "    </tr>\n",
       "    <tr>\n",
       "      <th id=\"T_2535e_level0_row1\" class=\"row_heading level0 row1\" >1</th>\n",
       "      <td id=\"T_2535e_row1_col0\" class=\"data row1 col0\" >Ice Hockey</td>\n",
       "      <td id=\"T_2535e_row1_col1\" class=\"data row1 col1\" >65.712865</td>\n",
       "      <td id=\"T_2535e_row1_col2\" class=\"data row1 col2\" >83.775593</td>\n",
       "      <td id=\"T_2535e_row1_col3\" class=\"data row1 col3\" >18.062728</td>\n",
       "    </tr>\n",
       "    <tr>\n",
       "      <th id=\"T_2535e_level0_row2\" class=\"row_heading level0 row2\" >2</th>\n",
       "      <td id=\"T_2535e_row2_col0\" class=\"data row2 col0\" >Basketball</td>\n",
       "      <td id=\"T_2535e_row2_col1\" class=\"data row2 col1\" >73.685170</td>\n",
       "      <td id=\"T_2535e_row2_col2\" class=\"data row2 col2\" >91.683529</td>\n",
       "      <td id=\"T_2535e_row2_col3\" class=\"data row2 col3\" >17.998359</td>\n",
       "    </tr>\n",
       "    <tr>\n",
       "      <th id=\"T_2535e_level0_row3\" class=\"row_heading level0 row3\" >3</th>\n",
       "      <td id=\"T_2535e_row3_col0\" class=\"data row3 col0\" >Water Polo</td>\n",
       "      <td id=\"T_2535e_row3_col1\" class=\"data row3 col1\" >70.180328</td>\n",
       "      <td id=\"T_2535e_row3_col2\" class=\"data row3 col2\" >87.706172</td>\n",
       "      <td id=\"T_2535e_row3_col3\" class=\"data row3 col3\" >17.525844</td>\n",
       "    </tr>\n",
       "    <tr>\n",
       "      <th id=\"T_2535e_level0_row4\" class=\"row_heading level0 row4\" >4</th>\n",
       "      <td id=\"T_2535e_row4_col0\" class=\"data row4 col0\" >Shooting</td>\n",
       "      <td id=\"T_2535e_row4_col1\" class=\"data row4 col1\" >61.143243</td>\n",
       "      <td id=\"T_2535e_row4_col2\" class=\"data row4 col2\" >77.834960</td>\n",
       "      <td id=\"T_2535e_row4_col3\" class=\"data row4 col3\" >16.691717</td>\n",
       "    </tr>\n",
       "    <tr>\n",
       "      <th id=\"T_2535e_level0_row5\" class=\"row_heading level0 row5\" >5</th>\n",
       "      <td id=\"T_2535e_row5_col0\" class=\"data row5 col0\" >Swimming</td>\n",
       "      <td id=\"T_2535e_row5_col1\" class=\"data row5 col1\" >61.482748</td>\n",
       "      <td id=\"T_2535e_row5_col2\" class=\"data row5 col2\" >78.040567</td>\n",
       "      <td id=\"T_2535e_row5_col3\" class=\"data row5 col3\" >16.557818</td>\n",
       "    </tr>\n",
       "    <tr>\n",
       "      <th id=\"T_2535e_level0_row6\" class=\"row_heading level0 row6\" >6</th>\n",
       "      <td id=\"T_2535e_row6_col0\" class=\"data row6 col0\" >Judo</td>\n",
       "      <td id=\"T_2535e_row6_col1\" class=\"data row6 col1\" >67.067164</td>\n",
       "      <td id=\"T_2535e_row6_col2\" class=\"data row6 col2\" >83.573945</td>\n",
       "      <td id=\"T_2535e_row6_col3\" class=\"data row6 col3\" >16.506781</td>\n",
       "    </tr>\n",
       "    <tr>\n",
       "      <th id=\"T_2535e_level0_row7\" class=\"row_heading level0 row7\" >7</th>\n",
       "      <td id=\"T_2535e_row7_col0\" class=\"data row7 col0\" >Sailing</td>\n",
       "      <td id=\"T_2535e_row7_col1\" class=\"data row7 col1\" >62.777268</td>\n",
       "      <td id=\"T_2535e_row7_col2\" class=\"data row7 col2\" >78.849712</td>\n",
       "      <td id=\"T_2535e_row7_col3\" class=\"data row7 col3\" >16.072445</td>\n",
       "    </tr>\n",
       "    <tr>\n",
       "      <th id=\"T_2535e_level0_row8\" class=\"row_heading level0 row8\" >8</th>\n",
       "      <td id=\"T_2535e_row8_col0\" class=\"data row8 col0\" >Alpine Skiing</td>\n",
       "      <td id=\"T_2535e_row8_col1\" class=\"data row8 col1\" >62.640307</td>\n",
       "      <td id=\"T_2535e_row8_col2\" class=\"data row8 col2\" >78.626035</td>\n",
       "      <td id=\"T_2535e_row8_col3\" class=\"data row8 col3\" >15.985728</td>\n",
       "    </tr>\n",
       "    <tr>\n",
       "      <th id=\"T_2535e_level0_row9\" class=\"row_heading level0 row9\" >9</th>\n",
       "      <td id=\"T_2535e_row9_col0\" class=\"data row9 col0\" >Wrestling</td>\n",
       "      <td id=\"T_2535e_row9_col1\" class=\"data row9 col1\" >60.554455</td>\n",
       "      <td id=\"T_2535e_row9_col2\" class=\"data row9 col2\" >76.400640</td>\n",
       "      <td id=\"T_2535e_row9_col3\" class=\"data row9 col3\" >15.846184</td>\n",
       "    </tr>\n",
       "    <tr>\n",
       "      <th id=\"T_2535e_level0_row10\" class=\"row_heading level0 row10\" >10</th>\n",
       "      <td id=\"T_2535e_row10_col0\" class=\"data row10 col0\" >Gymnastics</td>\n",
       "      <td id=\"T_2535e_row10_col1\" class=\"data row10 col1\" >47.791276</td>\n",
       "      <td id=\"T_2535e_row10_col2\" class=\"data row10 col2\" >63.343605</td>\n",
       "      <td id=\"T_2535e_row10_col3\" class=\"data row10 col3\" >15.552329</td>\n",
       "    </tr>\n",
       "    <tr>\n",
       "      <th id=\"T_2535e_level0_row11\" class=\"row_heading level0 row11\" >11</th>\n",
       "      <td id=\"T_2535e_row11_col0\" class=\"data row11 col0\" >Biathlon</td>\n",
       "      <td id=\"T_2535e_row11_col1\" class=\"data row11 col1\" >57.306586</td>\n",
       "      <td id=\"T_2535e_row11_col2\" class=\"data row11 col2\" >72.632123</td>\n",
       "      <td id=\"T_2535e_row11_col3\" class=\"data row11 col3\" >15.325537</td>\n",
       "    </tr>\n",
       "    <tr>\n",
       "      <th id=\"T_2535e_level0_row12\" class=\"row_heading level0 row12\" >12</th>\n",
       "      <td id=\"T_2535e_row12_col0\" class=\"data row12 col0\" >Canoeing</td>\n",
       "      <td id=\"T_2535e_row12_col1\" class=\"data row12 col1\" >64.878906</td>\n",
       "      <td id=\"T_2535e_row12_col2\" class=\"data row12 col2\" >79.972378</td>\n",
       "      <td id=\"T_2535e_row12_col3\" class=\"data row12 col3\" >15.093472</td>\n",
       "    </tr>\n",
       "    <tr>\n",
       "      <th id=\"T_2535e_level0_row13\" class=\"row_heading level0 row13\" >13</th>\n",
       "      <td id=\"T_2535e_row13_col0\" class=\"data row13 col0\" >Fencing</td>\n",
       "      <td id=\"T_2535e_row13_col1\" class=\"data row13 col1\" >60.656144</td>\n",
       "      <td id=\"T_2535e_row13_col2\" class=\"data row13 col2\" >75.381977</td>\n",
       "      <td id=\"T_2535e_row13_col3\" class=\"data row13 col3\" >14.725832</td>\n",
       "    </tr>\n",
       "    <tr>\n",
       "      <th id=\"T_2535e_level0_row14\" class=\"row_heading level0 row14\" >14</th>\n",
       "      <td id=\"T_2535e_row14_col0\" class=\"data row14 col0\" >Speed Skating</td>\n",
       "      <td id=\"T_2535e_row14_col1\" class=\"data row14 col1\" >62.010046</td>\n",
       "      <td id=\"T_2535e_row14_col2\" class=\"data row14 col2\" >76.300403</td>\n",
       "      <td id=\"T_2535e_row14_col3\" class=\"data row14 col3\" >14.290357</td>\n",
       "    </tr>\n",
       "    <tr>\n",
       "      <th id=\"T_2535e_level0_row15\" class=\"row_heading level0 row15\" >15</th>\n",
       "      <td id=\"T_2535e_row15_col0\" class=\"data row15 col0\" >Cross Country Skiing</td>\n",
       "      <td id=\"T_2535e_row15_col1\" class=\"data row15 col1\" >57.488018</td>\n",
       "      <td id=\"T_2535e_row15_col2\" class=\"data row15 col2\" >71.700832</td>\n",
       "      <td id=\"T_2535e_row15_col3\" class=\"data row15 col3\" >14.212814</td>\n",
       "    </tr>\n",
       "    <tr>\n",
       "      <th id=\"T_2535e_level0_row16\" class=\"row_heading level0 row16\" >16</th>\n",
       "      <td id=\"T_2535e_row16_col0\" class=\"data row16 col0\" >Athletics</td>\n",
       "      <td id=\"T_2535e_row16_col1\" class=\"data row16 col1\" >60.239798</td>\n",
       "      <td id=\"T_2535e_row16_col2\" class=\"data row16 col2\" >73.839129</td>\n",
       "      <td id=\"T_2535e_row16_col3\" class=\"data row16 col3\" >13.599330</td>\n",
       "    </tr>\n",
       "    <tr>\n",
       "      <th id=\"T_2535e_level0_row17\" class=\"row_heading level0 row17\" >17</th>\n",
       "      <td id=\"T_2535e_row17_col0\" class=\"data row17 col0\" >Rowing</td>\n",
       "      <td id=\"T_2535e_row17_col1\" class=\"data row17 col1\" >70.102214</td>\n",
       "      <td id=\"T_2535e_row17_col2\" class=\"data row17 col2\" >83.665663</td>\n",
       "      <td id=\"T_2535e_row17_col3\" class=\"data row17 col3\" >13.563449</td>\n",
       "    </tr>\n",
       "    <tr>\n",
       "      <th id=\"T_2535e_level0_row18\" class=\"row_heading level0 row18\" >18</th>\n",
       "      <td id=\"T_2535e_row18_col0\" class=\"data row18 col0\" >Hockey</td>\n",
       "      <td id=\"T_2535e_row18_col1\" class=\"data row18 col1\" >60.530935</td>\n",
       "      <td id=\"T_2535e_row18_col2\" class=\"data row18 col2\" >73.343761</td>\n",
       "      <td id=\"T_2535e_row18_col3\" class=\"data row18 col3\" >12.812826</td>\n",
       "    </tr>\n",
       "    <tr>\n",
       "      <th id=\"T_2535e_level0_row19\" class=\"row_heading level0 row19\" >19</th>\n",
       "      <td id=\"T_2535e_row19_col0\" class=\"data row19 col0\" >Weightlifting</td>\n",
       "      <td id=\"T_2535e_row19_col1\" class=\"data row19 col1\" >67.724622</td>\n",
       "      <td id=\"T_2535e_row19_col2\" class=\"data row19 col2\" >80.251796</td>\n",
       "      <td id=\"T_2535e_row19_col3\" class=\"data row19 col3\" >12.527174</td>\n",
       "    </tr>\n",
       "    <tr>\n",
       "      <th id=\"T_2535e_level0_row20\" class=\"row_heading level0 row20\" >20</th>\n",
       "      <td id=\"T_2535e_row20_col0\" class=\"data row20 col0\" >Cycling</td>\n",
       "      <td id=\"T_2535e_row20_col1\" class=\"data row20 col1\" >59.770553</td>\n",
       "      <td id=\"T_2535e_row20_col2\" class=\"data row20 col2\" >72.190234</td>\n",
       "      <td id=\"T_2535e_row20_col3\" class=\"data row20 col3\" >12.419681</td>\n",
       "    </tr>\n",
       "    <tr>\n",
       "      <th id=\"T_2535e_level0_row21\" class=\"row_heading level0 row21\" >21</th>\n",
       "      <td id=\"T_2535e_row21_col0\" class=\"data row21 col0\" >Equestrianism</td>\n",
       "      <td id=\"T_2535e_row21_col1\" class=\"data row21 col1\" >58.601908</td>\n",
       "      <td id=\"T_2535e_row21_col2\" class=\"data row21 col2\" >70.924559</td>\n",
       "      <td id=\"T_2535e_row21_col3\" class=\"data row21 col3\" >12.322651</td>\n",
       "    </tr>\n",
       "    <tr>\n",
       "      <th id=\"T_2535e_level0_row22\" class=\"row_heading level0 row22\" >22</th>\n",
       "      <td id=\"T_2535e_row22_col0\" class=\"data row22 col0\" >Football</td>\n",
       "      <td id=\"T_2535e_row22_col1\" class=\"data row22 col1\" >60.925813</td>\n",
       "      <td id=\"T_2535e_row22_col2\" class=\"data row22 col2\" >73.086644</td>\n",
       "      <td id=\"T_2535e_row22_col3\" class=\"data row22 col3\" >12.160831</td>\n",
       "    </tr>\n",
       "    <tr>\n",
       "      <th id=\"T_2535e_level0_row23\" class=\"row_heading level0 row23\" >23</th>\n",
       "      <td id=\"T_2535e_row23_col0\" class=\"data row23 col0\" >Boxing</td>\n",
       "      <td id=\"T_2535e_row23_col1\" class=\"data row23 col1\" >61.836066</td>\n",
       "      <td id=\"T_2535e_row23_col2\" class=\"data row23 col2\" >65.296280</td>\n",
       "      <td id=\"T_2535e_row23_col3\" class=\"data row23 col3\" >3.460214</td>\n",
       "    </tr>\n",
       "  </tbody>\n",
       "</table>\n"
      ],
      "text/plain": [
       "<pandas.io.formats.style.Styler at 0x14d8d41a470>"
      ]
     },
     "execution_count": 48,
     "metadata": {},
     "output_type": "execute_result"
    }
   ],
   "source": [
    "(data\n",
    "    .groupby([\"sport\", \"sex\"])\n",
    "    .agg({\"weight\":\"mean\"})\n",
    "    .reset_index()\n",
    "    .merge(data.value_counts(\"sport\").reset_index(name=\"count\"), how=\"left\")\n",
    "    .nlargest(columns=\"count\", n=50)\n",
    "    .pivot(index=\"sport\", columns=\"sex\", values=\"weight\")\n",
    "    .reset_index()\n",
    "    .rename_axis(None, axis=1)\n",
    "    .assign(delta = lambda df: df.M - df.F)\n",
    "    .dropna()\n",
    "    .sort_values(\"delta\", ascending=False)\n",
    "    .reset_index(drop=True)\n",
    "    .style.bar(subset=[\"M\"])\n",
    ")"
   ]
  },
  {
   "attachments": {},
   "cell_type": "markdown",
   "metadata": {},
   "source": [
    "Second method, add a column of the same size to the right side. Equivalent to `add_count()` in R. Then aggregate the unique value of that count using `list(set(x))` in a lambda function. From there, business as usual."
   ]
  },
  {
   "cell_type": "code",
   "execution_count": 49,
   "metadata": {},
   "outputs": [
    {
     "data": {
      "text/html": [
       "<div>\n",
       "<style scoped>\n",
       "    .dataframe tbody tr th:only-of-type {\n",
       "        vertical-align: middle;\n",
       "    }\n",
       "\n",
       "    .dataframe tbody tr th {\n",
       "        vertical-align: top;\n",
       "    }\n",
       "\n",
       "    .dataframe thead th {\n",
       "        text-align: right;\n",
       "    }\n",
       "</style>\n",
       "<table border=\"1\" class=\"dataframe\">\n",
       "  <thead>\n",
       "    <tr style=\"text-align: right;\">\n",
       "      <th></th>\n",
       "      <th>sport</th>\n",
       "      <th>F</th>\n",
       "      <th>M</th>\n",
       "      <th>sex_delta</th>\n",
       "    </tr>\n",
       "  </thead>\n",
       "  <tbody>\n",
       "    <tr>\n",
       "      <th>0</th>\n",
       "      <td>Handball</td>\n",
       "      <td>68.876851</td>\n",
       "      <td>89.387914</td>\n",
       "      <td>20.511063</td>\n",
       "    </tr>\n",
       "    <tr>\n",
       "      <th>1</th>\n",
       "      <td>Ice Hockey</td>\n",
       "      <td>65.712865</td>\n",
       "      <td>83.775593</td>\n",
       "      <td>18.062728</td>\n",
       "    </tr>\n",
       "    <tr>\n",
       "      <th>2</th>\n",
       "      <td>Basketball</td>\n",
       "      <td>73.685170</td>\n",
       "      <td>91.683529</td>\n",
       "      <td>17.998359</td>\n",
       "    </tr>\n",
       "    <tr>\n",
       "      <th>3</th>\n",
       "      <td>Water Polo</td>\n",
       "      <td>70.180328</td>\n",
       "      <td>87.706172</td>\n",
       "      <td>17.525844</td>\n",
       "    </tr>\n",
       "    <tr>\n",
       "      <th>4</th>\n",
       "      <td>Shooting</td>\n",
       "      <td>61.143243</td>\n",
       "      <td>77.834960</td>\n",
       "      <td>16.691717</td>\n",
       "    </tr>\n",
       "    <tr>\n",
       "      <th>5</th>\n",
       "      <td>Swimming</td>\n",
       "      <td>61.482748</td>\n",
       "      <td>78.040567</td>\n",
       "      <td>16.557818</td>\n",
       "    </tr>\n",
       "    <tr>\n",
       "      <th>6</th>\n",
       "      <td>Judo</td>\n",
       "      <td>67.067164</td>\n",
       "      <td>83.573945</td>\n",
       "      <td>16.506781</td>\n",
       "    </tr>\n",
       "    <tr>\n",
       "      <th>7</th>\n",
       "      <td>Sailing</td>\n",
       "      <td>62.777268</td>\n",
       "      <td>78.849712</td>\n",
       "      <td>16.072445</td>\n",
       "    </tr>\n",
       "    <tr>\n",
       "      <th>8</th>\n",
       "      <td>Alpine Skiing</td>\n",
       "      <td>62.640307</td>\n",
       "      <td>78.626035</td>\n",
       "      <td>15.985728</td>\n",
       "    </tr>\n",
       "    <tr>\n",
       "      <th>9</th>\n",
       "      <td>Wrestling</td>\n",
       "      <td>60.554455</td>\n",
       "      <td>76.400640</td>\n",
       "      <td>15.846184</td>\n",
       "    </tr>\n",
       "    <tr>\n",
       "      <th>10</th>\n",
       "      <td>Gymnastics</td>\n",
       "      <td>47.791276</td>\n",
       "      <td>63.343605</td>\n",
       "      <td>15.552329</td>\n",
       "    </tr>\n",
       "    <tr>\n",
       "      <th>11</th>\n",
       "      <td>Biathlon</td>\n",
       "      <td>57.306586</td>\n",
       "      <td>72.632123</td>\n",
       "      <td>15.325537</td>\n",
       "    </tr>\n",
       "    <tr>\n",
       "      <th>12</th>\n",
       "      <td>Canoeing</td>\n",
       "      <td>64.878906</td>\n",
       "      <td>79.972378</td>\n",
       "      <td>15.093472</td>\n",
       "    </tr>\n",
       "    <tr>\n",
       "      <th>13</th>\n",
       "      <td>Fencing</td>\n",
       "      <td>60.656144</td>\n",
       "      <td>75.381977</td>\n",
       "      <td>14.725832</td>\n",
       "    </tr>\n",
       "    <tr>\n",
       "      <th>14</th>\n",
       "      <td>Speed Skating</td>\n",
       "      <td>62.010046</td>\n",
       "      <td>76.300403</td>\n",
       "      <td>14.290357</td>\n",
       "    </tr>\n",
       "    <tr>\n",
       "      <th>15</th>\n",
       "      <td>Cross Country Skiing</td>\n",
       "      <td>57.488018</td>\n",
       "      <td>71.700832</td>\n",
       "      <td>14.212814</td>\n",
       "    </tr>\n",
       "    <tr>\n",
       "      <th>16</th>\n",
       "      <td>Athletics</td>\n",
       "      <td>60.239798</td>\n",
       "      <td>73.839129</td>\n",
       "      <td>13.599330</td>\n",
       "    </tr>\n",
       "    <tr>\n",
       "      <th>17</th>\n",
       "      <td>Rowing</td>\n",
       "      <td>70.102214</td>\n",
       "      <td>83.665663</td>\n",
       "      <td>13.563449</td>\n",
       "    </tr>\n",
       "    <tr>\n",
       "      <th>18</th>\n",
       "      <td>Hockey</td>\n",
       "      <td>60.530935</td>\n",
       "      <td>73.343761</td>\n",
       "      <td>12.812826</td>\n",
       "    </tr>\n",
       "    <tr>\n",
       "      <th>19</th>\n",
       "      <td>Weightlifting</td>\n",
       "      <td>67.724622</td>\n",
       "      <td>80.251796</td>\n",
       "      <td>12.527174</td>\n",
       "    </tr>\n",
       "    <tr>\n",
       "      <th>20</th>\n",
       "      <td>Cycling</td>\n",
       "      <td>59.770553</td>\n",
       "      <td>72.190234</td>\n",
       "      <td>12.419681</td>\n",
       "    </tr>\n",
       "    <tr>\n",
       "      <th>21</th>\n",
       "      <td>Equestrianism</td>\n",
       "      <td>58.601908</td>\n",
       "      <td>70.924559</td>\n",
       "      <td>12.322651</td>\n",
       "    </tr>\n",
       "    <tr>\n",
       "      <th>22</th>\n",
       "      <td>Football</td>\n",
       "      <td>60.925813</td>\n",
       "      <td>73.086644</td>\n",
       "      <td>12.160831</td>\n",
       "    </tr>\n",
       "    <tr>\n",
       "      <th>23</th>\n",
       "      <td>Boxing</td>\n",
       "      <td>61.836066</td>\n",
       "      <td>65.296280</td>\n",
       "      <td>3.460214</td>\n",
       "    </tr>\n",
       "  </tbody>\n",
       "</table>\n",
       "</div>"
      ],
      "text/plain": [
       "                   sport          F          M  sex_delta\n",
       "0               Handball  68.876851  89.387914  20.511063\n",
       "1             Ice Hockey  65.712865  83.775593  18.062728\n",
       "2             Basketball  73.685170  91.683529  17.998359\n",
       "3             Water Polo  70.180328  87.706172  17.525844\n",
       "4               Shooting  61.143243  77.834960  16.691717\n",
       "5               Swimming  61.482748  78.040567  16.557818\n",
       "6                   Judo  67.067164  83.573945  16.506781\n",
       "7                Sailing  62.777268  78.849712  16.072445\n",
       "8          Alpine Skiing  62.640307  78.626035  15.985728\n",
       "9              Wrestling  60.554455  76.400640  15.846184\n",
       "10            Gymnastics  47.791276  63.343605  15.552329\n",
       "11              Biathlon  57.306586  72.632123  15.325537\n",
       "12              Canoeing  64.878906  79.972378  15.093472\n",
       "13               Fencing  60.656144  75.381977  14.725832\n",
       "14         Speed Skating  62.010046  76.300403  14.290357\n",
       "15  Cross Country Skiing  57.488018  71.700832  14.212814\n",
       "16             Athletics  60.239798  73.839129  13.599330\n",
       "17                Rowing  70.102214  83.665663  13.563449\n",
       "18                Hockey  60.530935  73.343761  12.812826\n",
       "19         Weightlifting  67.724622  80.251796  12.527174\n",
       "20               Cycling  59.770553  72.190234  12.419681\n",
       "21         Equestrianism  58.601908  70.924559  12.322651\n",
       "22              Football  60.925813  73.086644  12.160831\n",
       "23                Boxing  61.836066  65.296280   3.460214"
      ]
     },
     "execution_count": 49,
     "metadata": {},
     "output_type": "execute_result"
    }
   ],
   "source": [
    "# Add a count column on sport\n",
    "data[\"sport_count\"] = data.groupby(\"sport\")[\"sport\"].transform(\"count\")\n",
    "\n",
    "# Aggregate average weight by sport and sex\n",
    "(data\n",
    "    .groupby([\"sport\", \"sex\"])\n",
    "    .agg(\n",
    "        mean_weight = (\"weight\", np.mean),\n",
    "        sport_count = (\"sport_count\", lambda x: list(set(x))[0]) # to aggregate the unique value\n",
    "    )\n",
    "    .reset_index()\n",
    "    .nlargest(columns=\"sport_count\", n=50)\n",
    "    .pivot(index=\"sport\", columns=\"sex\", values=\"mean_weight\")\n",
    "    .reset_index()\n",
    "    .rename_axis(None, axis=1)\n",
    "    .assign(sex_delta = lambda df: df.M - df.F)\n",
    "    .sort_values(\"sex_delta\", ascending=False)\n",
    "    .reset_index(drop=True)\n",
    "    .dropna()\n",
    ")"
   ]
  },
  {
   "attachments": {},
   "cell_type": "markdown",
   "metadata": {},
   "source": [
    "### Building a Random Forest Model to Predict Athlete Weight\n",
    "\n",
    "- Include cross validated hyperparameter tuning\n",
    "- Include data preprocessing like imputing in pipelines\n",
    "- Look at variable importance"
   ]
  },
  {
   "cell_type": "code",
   "execution_count": 144,
   "metadata": {},
   "outputs": [
    {
     "data": {
      "text/plain": [
       "<contextlib._GeneratorContextManager at 0x14e1b2a1cf0>"
      ]
     },
     "execution_count": 144,
     "metadata": {},
     "output_type": "execute_result"
    }
   ],
   "source": [
    "from sklearn.model_selection import train_test_split, GridSearchCV\n",
    "from sklearn.linear_model import ElasticNet\n",
    "from sklearn.impute import SimpleImputer\n",
    "from sklearn.experimental import enable_iterative_imputer\n",
    "from sklearn.impute import IterativeImputer, KNNImputer\n",
    "from sklearn.pipeline import FeatureUnion, make_pipeline, Pipeline\n",
    "from sklearn.compose import ColumnTransformer\n",
    "from sklearn.preprocessing import LabelEncoder, StandardScaler, OneHotEncoder\n",
    "from sklearn.metrics import r2_score, mean_absolute_error, mean_absolute_percentage_error\n",
    "from sklearn import config_context\n",
    "\n",
    "config_context(transform_output=\"pandas\")"
   ]
  },
  {
   "cell_type": "code",
   "execution_count": 145,
   "metadata": {},
   "outputs": [
    {
     "data": {
      "text/html": [
       "<div>\n",
       "<style scoped>\n",
       "    .dataframe tbody tr th:only-of-type {\n",
       "        vertical-align: middle;\n",
       "    }\n",
       "\n",
       "    .dataframe tbody tr th {\n",
       "        vertical-align: top;\n",
       "    }\n",
       "\n",
       "    .dataframe thead th {\n",
       "        text-align: right;\n",
       "    }\n",
       "</style>\n",
       "<table border=\"1\" class=\"dataframe\">\n",
       "  <thead>\n",
       "    <tr style=\"text-align: right;\">\n",
       "      <th></th>\n",
       "      <th>sex</th>\n",
       "      <th>age</th>\n",
       "      <th>height</th>\n",
       "      <th>weight</th>\n",
       "      <th>sport</th>\n",
       "      <th>medal</th>\n",
       "    </tr>\n",
       "  </thead>\n",
       "  <tbody>\n",
       "    <tr>\n",
       "      <th>0</th>\n",
       "      <td>M</td>\n",
       "      <td>23.0</td>\n",
       "      <td>170.0</td>\n",
       "      <td>60.0</td>\n",
       "      <td>Judo</td>\n",
       "      <td>No Medal</td>\n",
       "    </tr>\n",
       "    <tr>\n",
       "      <th>1</th>\n",
       "      <td>M</td>\n",
       "      <td>28.0</td>\n",
       "      <td>184.0</td>\n",
       "      <td>85.0</td>\n",
       "      <td>Ice Hockey</td>\n",
       "      <td>Bronze</td>\n",
       "    </tr>\n",
       "    <tr>\n",
       "      <th>2</th>\n",
       "      <td>F</td>\n",
       "      <td>22.0</td>\n",
       "      <td>170.0</td>\n",
       "      <td>125.0</td>\n",
       "      <td>Weightlifting</td>\n",
       "      <td>No Medal</td>\n",
       "    </tr>\n",
       "    <tr>\n",
       "      <th>3</th>\n",
       "      <td>M</td>\n",
       "      <td>30.0</td>\n",
       "      <td>187.0</td>\n",
       "      <td>76.0</td>\n",
       "      <td>Athletics</td>\n",
       "      <td>No Medal</td>\n",
       "    </tr>\n",
       "    <tr>\n",
       "      <th>4</th>\n",
       "      <td>M</td>\n",
       "      <td>24.0</td>\n",
       "      <td>NaN</td>\n",
       "      <td>64.0</td>\n",
       "      <td>Boxing</td>\n",
       "      <td>No Medal</td>\n",
       "    </tr>\n",
       "    <tr>\n",
       "      <th>...</th>\n",
       "      <td>...</td>\n",
       "      <td>...</td>\n",
       "      <td>...</td>\n",
       "      <td>...</td>\n",
       "      <td>...</td>\n",
       "      <td>...</td>\n",
       "    </tr>\n",
       "    <tr>\n",
       "      <th>35896</th>\n",
       "      <td>M</td>\n",
       "      <td>38.0</td>\n",
       "      <td>192.0</td>\n",
       "      <td>95.0</td>\n",
       "      <td>Sailing</td>\n",
       "      <td>No Medal</td>\n",
       "    </tr>\n",
       "    <tr>\n",
       "      <th>35897</th>\n",
       "      <td>M</td>\n",
       "      <td>32.0</td>\n",
       "      <td>200.0</td>\n",
       "      <td>89.0</td>\n",
       "      <td>Volleyball</td>\n",
       "      <td>No Medal</td>\n",
       "    </tr>\n",
       "    <tr>\n",
       "      <th>35898</th>\n",
       "      <td>F</td>\n",
       "      <td>33.0</td>\n",
       "      <td>171.0</td>\n",
       "      <td>69.0</td>\n",
       "      <td>Basketball</td>\n",
       "      <td>No Medal</td>\n",
       "    </tr>\n",
       "    <tr>\n",
       "      <th>35899</th>\n",
       "      <td>M</td>\n",
       "      <td>27.0</td>\n",
       "      <td>176.0</td>\n",
       "      <td>59.0</td>\n",
       "      <td>Ski Jumping</td>\n",
       "      <td>No Medal</td>\n",
       "    </tr>\n",
       "    <tr>\n",
       "      <th>35900</th>\n",
       "      <td>M</td>\n",
       "      <td>27.0</td>\n",
       "      <td>176.0</td>\n",
       "      <td>59.0</td>\n",
       "      <td>Ski Jumping</td>\n",
       "      <td>No Medal</td>\n",
       "    </tr>\n",
       "  </tbody>\n",
       "</table>\n",
       "<p>35076 rows × 6 columns</p>\n",
       "</div>"
      ],
      "text/plain": [
       "      sex   age  height  weight          sport     medal\n",
       "0       M  23.0   170.0    60.0           Judo  No Medal\n",
       "1       M  28.0   184.0    85.0     Ice Hockey    Bronze\n",
       "2       F  22.0   170.0   125.0  Weightlifting  No Medal\n",
       "3       M  30.0   187.0    76.0      Athletics  No Medal\n",
       "4       M  24.0     NaN    64.0         Boxing  No Medal\n",
       "...    ..   ...     ...     ...            ...       ...\n",
       "35896   M  38.0   192.0    95.0        Sailing  No Medal\n",
       "35897   M  32.0   200.0    89.0     Volleyball  No Medal\n",
       "35898   F  33.0   171.0    69.0     Basketball  No Medal\n",
       "35899   M  27.0   176.0    59.0    Ski Jumping  No Medal\n",
       "35900   M  27.0   176.0    59.0    Ski Jumping  No Medal\n",
       "\n",
       "[35076 rows x 6 columns]"
      ]
     },
     "execution_count": 145,
     "metadata": {},
     "output_type": "execute_result"
    }
   ],
   "source": [
    "# Select only recent data, drop year and drop NA values in target\n",
    "data_full = (data[['sex', 'age', 'height', 'weight', 'sport', 'medal', 'year']]\n",
    "                .query(\"year >= 2010\")\n",
    "                .drop(\"year\", axis=1)\n",
    "                .reset_index(drop=True)\n",
    "                .dropna(subset=\"weight\")\n",
    "            )\n",
    "\n",
    "# Replace missing values with \"No Medal\"\n",
    "data_full[\"medal\"] = data_full[\"medal\"].fillna(\"No Medal\")\n",
    "\n",
    "data_full\n"
   ]
  },
  {
   "cell_type": "code",
   "execution_count": 147,
   "metadata": {},
   "outputs": [
    {
     "data": {
      "text/plain": [
       "sex       category\n",
       "age        float64\n",
       "height     float64\n",
       "weight     float64\n",
       "sport     category\n",
       "medal     category\n",
       "dtype: object"
      ]
     },
     "execution_count": 147,
     "metadata": {},
     "output_type": "execute_result"
    }
   ],
   "source": [
    "# Convert objects to categories\n",
    "list_str_obj_cols = data_full.columns[data_full.dtypes == \"object\"].tolist()\n",
    "for str_obj_col in list_str_obj_cols:\n",
    "    data_full[str_obj_col] = data_full[str_obj_col].astype(\"category\")\n",
    "\n",
    "data_full.dtypes"
   ]
  },
  {
   "cell_type": "code",
   "execution_count": 148,
   "metadata": {},
   "outputs": [],
   "source": [
    "# Specify numerical and categorical columns for preprocessing:\n",
    "num_cols = data_full.drop(\"weight\", axis=1).select_dtypes(include=[np.number]).columns\n",
    "cat_cols = [x for x in data_full.drop(\"weight\", axis=1).columns if x not in num_cols]"
   ]
  },
  {
   "cell_type": "code",
   "execution_count": 149,
   "metadata": {},
   "outputs": [
    {
     "data": {
      "text/html": [
       "<div>\n",
       "<style scoped>\n",
       "    .dataframe tbody tr th:only-of-type {\n",
       "        vertical-align: middle;\n",
       "    }\n",
       "\n",
       "    .dataframe tbody tr th {\n",
       "        vertical-align: top;\n",
       "    }\n",
       "\n",
       "    .dataframe thead th {\n",
       "        text-align: right;\n",
       "    }\n",
       "</style>\n",
       "<table border=\"1\" class=\"dataframe\">\n",
       "  <thead>\n",
       "    <tr style=\"text-align: right;\">\n",
       "      <th></th>\n",
       "      <th>sex</th>\n",
       "      <th>age</th>\n",
       "      <th>height</th>\n",
       "      <th>sport</th>\n",
       "      <th>medal</th>\n",
       "    </tr>\n",
       "  </thead>\n",
       "  <tbody>\n",
       "    <tr>\n",
       "      <th>19712</th>\n",
       "      <td>M</td>\n",
       "      <td>34.0</td>\n",
       "      <td>182.0</td>\n",
       "      <td>Biathlon</td>\n",
       "      <td>No Medal</td>\n",
       "    </tr>\n",
       "    <tr>\n",
       "      <th>29735</th>\n",
       "      <td>F</td>\n",
       "      <td>22.0</td>\n",
       "      <td>165.0</td>\n",
       "      <td>Football</td>\n",
       "      <td>No Medal</td>\n",
       "    </tr>\n",
       "    <tr>\n",
       "      <th>25562</th>\n",
       "      <td>M</td>\n",
       "      <td>25.0</td>\n",
       "      <td>182.0</td>\n",
       "      <td>Cycling</td>\n",
       "      <td>No Medal</td>\n",
       "    </tr>\n",
       "    <tr>\n",
       "      <th>13022</th>\n",
       "      <td>M</td>\n",
       "      <td>28.0</td>\n",
       "      <td>168.0</td>\n",
       "      <td>Triathlon</td>\n",
       "      <td>No Medal</td>\n",
       "    </tr>\n",
       "    <tr>\n",
       "      <th>31925</th>\n",
       "      <td>F</td>\n",
       "      <td>22.0</td>\n",
       "      <td>175.0</td>\n",
       "      <td>Swimming</td>\n",
       "      <td>No Medal</td>\n",
       "    </tr>\n",
       "    <tr>\n",
       "      <th>...</th>\n",
       "      <td>...</td>\n",
       "      <td>...</td>\n",
       "      <td>...</td>\n",
       "      <td>...</td>\n",
       "      <td>...</td>\n",
       "    </tr>\n",
       "    <tr>\n",
       "      <th>21258</th>\n",
       "      <td>F</td>\n",
       "      <td>19.0</td>\n",
       "      <td>168.0</td>\n",
       "      <td>Gymnastics</td>\n",
       "      <td>No Medal</td>\n",
       "    </tr>\n",
       "    <tr>\n",
       "      <th>32888</th>\n",
       "      <td>F</td>\n",
       "      <td>28.0</td>\n",
       "      <td>167.0</td>\n",
       "      <td>Cycling</td>\n",
       "      <td>No Medal</td>\n",
       "    </tr>\n",
       "    <tr>\n",
       "      <th>31153</th>\n",
       "      <td>F</td>\n",
       "      <td>22.0</td>\n",
       "      <td>168.0</td>\n",
       "      <td>Biathlon</td>\n",
       "      <td>No Medal</td>\n",
       "    </tr>\n",
       "    <tr>\n",
       "      <th>21753</th>\n",
       "      <td>F</td>\n",
       "      <td>25.0</td>\n",
       "      <td>165.0</td>\n",
       "      <td>Biathlon</td>\n",
       "      <td>No Medal</td>\n",
       "    </tr>\n",
       "    <tr>\n",
       "      <th>2808</th>\n",
       "      <td>F</td>\n",
       "      <td>26.0</td>\n",
       "      <td>170.0</td>\n",
       "      <td>Biathlon</td>\n",
       "      <td>No Medal</td>\n",
       "    </tr>\n",
       "  </tbody>\n",
       "</table>\n",
       "<p>26307 rows × 5 columns</p>\n",
       "</div>"
      ],
      "text/plain": [
       "      sex   age  height       sport     medal\n",
       "19712   M  34.0   182.0    Biathlon  No Medal\n",
       "29735   F  22.0   165.0    Football  No Medal\n",
       "25562   M  25.0   182.0     Cycling  No Medal\n",
       "13022   M  28.0   168.0   Triathlon  No Medal\n",
       "31925   F  22.0   175.0    Swimming  No Medal\n",
       "...    ..   ...     ...         ...       ...\n",
       "21258   F  19.0   168.0  Gymnastics  No Medal\n",
       "32888   F  28.0   167.0     Cycling  No Medal\n",
       "31153   F  22.0   168.0    Biathlon  No Medal\n",
       "21753   F  25.0   165.0    Biathlon  No Medal\n",
       "2808    F  26.0   170.0    Biathlon  No Medal\n",
       "\n",
       "[26307 rows x 5 columns]"
      ]
     },
     "execution_count": 149,
     "metadata": {},
     "output_type": "execute_result"
    }
   ],
   "source": [
    "# Split into X and Y\n",
    "X, y = data_full.drop([\"weight\"], axis=1), data_full['weight']\n",
    "\n",
    "# Train and Test Splits\n",
    "X_train, X_test, y_train, y_test = train_test_split(X, y, random_state=0, test_size=0.25)\n",
    "\n",
    "X_train"
   ]
  },
  {
   "attachments": {},
   "cell_type": "markdown",
   "metadata": {},
   "source": [
    "Creating pipelines for the column transformers:"
   ]
  },
  {
   "cell_type": "code",
   "execution_count": 152,
   "metadata": {},
   "outputs": [],
   "source": [
    "# Creating pipelines for column transformer\n",
    "numeric_transformer = Pipeline(steps=[\n",
    "    (\"imputer\", KNNImputer(n_neighbors=5, weights=\"uniform\")),\n",
    "    (\"scaler\", StandardScaler())\n",
    "])\n",
    "\n",
    "categorical_transformer = Pipeline(steps=[\n",
    "    (\"imputer\", SimpleImputer(strategy=\"constant\", fill_value=\"unknown\")),\n",
    "    (\"encoder\", OneHotEncoder())\n",
    "])\n",
    "\n",
    "# Creating preprocessor for model\n",
    "preprocessor = ColumnTransformer(\n",
    "    transformers=[\n",
    "        (\"numeric\", numeric_transformer, num_cols),\n",
    "        (\"categorical\", categorical_transformer, cat_cols)\n",
    "    ]\n",
    ")\n",
    "\n",
    "# Create model pipeline and allow for 6 cores to be used\n",
    "model_pipeline = Pipeline(steps=[\n",
    "    (\"processing\", preprocessor),\n",
    "    (\"ElasticNet\", ElasticNet())\n",
    "]\n",
    ")"
   ]
  },
  {
   "attachments": {},
   "cell_type": "markdown",
   "metadata": {},
   "source": [
    "Get feature names out for the transformed data set:"
   ]
  },
  {
   "cell_type": "code",
   "execution_count": 151,
   "metadata": {},
   "outputs": [
    {
     "data": {
      "text/html": [
       "<div>\n",
       "<style scoped>\n",
       "    .dataframe tbody tr th:only-of-type {\n",
       "        vertical-align: middle;\n",
       "    }\n",
       "\n",
       "    .dataframe tbody tr th {\n",
       "        vertical-align: top;\n",
       "    }\n",
       "\n",
       "    .dataframe thead th {\n",
       "        text-align: right;\n",
       "    }\n",
       "</style>\n",
       "<table border=\"1\" class=\"dataframe\">\n",
       "  <thead>\n",
       "    <tr style=\"text-align: right;\">\n",
       "      <th></th>\n",
       "      <th>numeric__age</th>\n",
       "      <th>numeric__height</th>\n",
       "      <th>categorical__sex_F</th>\n",
       "      <th>categorical__sex_M</th>\n",
       "      <th>categorical__sport_Alpine Skiing</th>\n",
       "      <th>categorical__sport_Archery</th>\n",
       "      <th>categorical__sport_Athletics</th>\n",
       "      <th>categorical__sport_Badminton</th>\n",
       "      <th>categorical__sport_Basketball</th>\n",
       "      <th>categorical__sport_Beach Volleyball</th>\n",
       "      <th>...</th>\n",
       "      <th>categorical__sport_Trampolining</th>\n",
       "      <th>categorical__sport_Triathlon</th>\n",
       "      <th>categorical__sport_Volleyball</th>\n",
       "      <th>categorical__sport_Water Polo</th>\n",
       "      <th>categorical__sport_Weightlifting</th>\n",
       "      <th>categorical__sport_Wrestling</th>\n",
       "      <th>categorical__medal_Bronze</th>\n",
       "      <th>categorical__medal_Gold</th>\n",
       "      <th>categorical__medal_No Medal</th>\n",
       "      <th>categorical__medal_Silver</th>\n",
       "    </tr>\n",
       "  </thead>\n",
       "  <tbody>\n",
       "    <tr>\n",
       "      <th>0</th>\n",
       "      <td>1.438031</td>\n",
       "      <td>0.566075</td>\n",
       "      <td>0.0</td>\n",
       "      <td>1.0</td>\n",
       "      <td>0.0</td>\n",
       "      <td>0.0</td>\n",
       "      <td>0.0</td>\n",
       "      <td>0.0</td>\n",
       "      <td>0.0</td>\n",
       "      <td>0.0</td>\n",
       "      <td>...</td>\n",
       "      <td>0.0</td>\n",
       "      <td>0.0</td>\n",
       "      <td>0.0</td>\n",
       "      <td>0.0</td>\n",
       "      <td>0.0</td>\n",
       "      <td>0.0</td>\n",
       "      <td>0.0</td>\n",
       "      <td>0.0</td>\n",
       "      <td>1.0</td>\n",
       "      <td>0.0</td>\n",
       "    </tr>\n",
       "    <tr>\n",
       "      <th>1</th>\n",
       "      <td>-0.762950</td>\n",
       "      <td>-1.003965</td>\n",
       "      <td>1.0</td>\n",
       "      <td>0.0</td>\n",
       "      <td>0.0</td>\n",
       "      <td>0.0</td>\n",
       "      <td>0.0</td>\n",
       "      <td>0.0</td>\n",
       "      <td>0.0</td>\n",
       "      <td>0.0</td>\n",
       "      <td>...</td>\n",
       "      <td>0.0</td>\n",
       "      <td>0.0</td>\n",
       "      <td>0.0</td>\n",
       "      <td>0.0</td>\n",
       "      <td>0.0</td>\n",
       "      <td>0.0</td>\n",
       "      <td>0.0</td>\n",
       "      <td>0.0</td>\n",
       "      <td>1.0</td>\n",
       "      <td>0.0</td>\n",
       "    </tr>\n",
       "    <tr>\n",
       "      <th>2</th>\n",
       "      <td>-0.212705</td>\n",
       "      <td>0.566075</td>\n",
       "      <td>0.0</td>\n",
       "      <td>1.0</td>\n",
       "      <td>0.0</td>\n",
       "      <td>0.0</td>\n",
       "      <td>0.0</td>\n",
       "      <td>0.0</td>\n",
       "      <td>0.0</td>\n",
       "      <td>0.0</td>\n",
       "      <td>...</td>\n",
       "      <td>0.0</td>\n",
       "      <td>0.0</td>\n",
       "      <td>0.0</td>\n",
       "      <td>0.0</td>\n",
       "      <td>0.0</td>\n",
       "      <td>0.0</td>\n",
       "      <td>0.0</td>\n",
       "      <td>0.0</td>\n",
       "      <td>1.0</td>\n",
       "      <td>0.0</td>\n",
       "    </tr>\n",
       "    <tr>\n",
       "      <th>3</th>\n",
       "      <td>0.337540</td>\n",
       "      <td>-0.726899</td>\n",
       "      <td>0.0</td>\n",
       "      <td>1.0</td>\n",
       "      <td>0.0</td>\n",
       "      <td>0.0</td>\n",
       "      <td>0.0</td>\n",
       "      <td>0.0</td>\n",
       "      <td>0.0</td>\n",
       "      <td>0.0</td>\n",
       "      <td>...</td>\n",
       "      <td>0.0</td>\n",
       "      <td>1.0</td>\n",
       "      <td>0.0</td>\n",
       "      <td>0.0</td>\n",
       "      <td>0.0</td>\n",
       "      <td>0.0</td>\n",
       "      <td>0.0</td>\n",
       "      <td>0.0</td>\n",
       "      <td>1.0</td>\n",
       "      <td>0.0</td>\n",
       "    </tr>\n",
       "    <tr>\n",
       "      <th>4</th>\n",
       "      <td>-0.762950</td>\n",
       "      <td>-0.080412</td>\n",
       "      <td>1.0</td>\n",
       "      <td>0.0</td>\n",
       "      <td>0.0</td>\n",
       "      <td>0.0</td>\n",
       "      <td>0.0</td>\n",
       "      <td>0.0</td>\n",
       "      <td>0.0</td>\n",
       "      <td>0.0</td>\n",
       "      <td>...</td>\n",
       "      <td>0.0</td>\n",
       "      <td>0.0</td>\n",
       "      <td>0.0</td>\n",
       "      <td>0.0</td>\n",
       "      <td>0.0</td>\n",
       "      <td>0.0</td>\n",
       "      <td>0.0</td>\n",
       "      <td>0.0</td>\n",
       "      <td>1.0</td>\n",
       "      <td>0.0</td>\n",
       "    </tr>\n",
       "    <tr>\n",
       "      <th>...</th>\n",
       "      <td>...</td>\n",
       "      <td>...</td>\n",
       "      <td>...</td>\n",
       "      <td>...</td>\n",
       "      <td>...</td>\n",
       "      <td>...</td>\n",
       "      <td>...</td>\n",
       "      <td>...</td>\n",
       "      <td>...</td>\n",
       "      <td>...</td>\n",
       "      <td>...</td>\n",
       "      <td>...</td>\n",
       "      <td>...</td>\n",
       "      <td>...</td>\n",
       "      <td>...</td>\n",
       "      <td>...</td>\n",
       "      <td>...</td>\n",
       "      <td>...</td>\n",
       "      <td>...</td>\n",
       "      <td>...</td>\n",
       "      <td>...</td>\n",
       "    </tr>\n",
       "    <tr>\n",
       "      <th>26302</th>\n",
       "      <td>-1.313195</td>\n",
       "      <td>-0.726899</td>\n",
       "      <td>1.0</td>\n",
       "      <td>0.0</td>\n",
       "      <td>0.0</td>\n",
       "      <td>0.0</td>\n",
       "      <td>0.0</td>\n",
       "      <td>0.0</td>\n",
       "      <td>0.0</td>\n",
       "      <td>0.0</td>\n",
       "      <td>...</td>\n",
       "      <td>0.0</td>\n",
       "      <td>0.0</td>\n",
       "      <td>0.0</td>\n",
       "      <td>0.0</td>\n",
       "      <td>0.0</td>\n",
       "      <td>0.0</td>\n",
       "      <td>0.0</td>\n",
       "      <td>0.0</td>\n",
       "      <td>1.0</td>\n",
       "      <td>0.0</td>\n",
       "    </tr>\n",
       "    <tr>\n",
       "      <th>26303</th>\n",
       "      <td>0.337540</td>\n",
       "      <td>-0.819255</td>\n",
       "      <td>1.0</td>\n",
       "      <td>0.0</td>\n",
       "      <td>0.0</td>\n",
       "      <td>0.0</td>\n",
       "      <td>0.0</td>\n",
       "      <td>0.0</td>\n",
       "      <td>0.0</td>\n",
       "      <td>0.0</td>\n",
       "      <td>...</td>\n",
       "      <td>0.0</td>\n",
       "      <td>0.0</td>\n",
       "      <td>0.0</td>\n",
       "      <td>0.0</td>\n",
       "      <td>0.0</td>\n",
       "      <td>0.0</td>\n",
       "      <td>0.0</td>\n",
       "      <td>0.0</td>\n",
       "      <td>1.0</td>\n",
       "      <td>0.0</td>\n",
       "    </tr>\n",
       "    <tr>\n",
       "      <th>26304</th>\n",
       "      <td>-0.762950</td>\n",
       "      <td>-0.726899</td>\n",
       "      <td>1.0</td>\n",
       "      <td>0.0</td>\n",
       "      <td>0.0</td>\n",
       "      <td>0.0</td>\n",
       "      <td>0.0</td>\n",
       "      <td>0.0</td>\n",
       "      <td>0.0</td>\n",
       "      <td>0.0</td>\n",
       "      <td>...</td>\n",
       "      <td>0.0</td>\n",
       "      <td>0.0</td>\n",
       "      <td>0.0</td>\n",
       "      <td>0.0</td>\n",
       "      <td>0.0</td>\n",
       "      <td>0.0</td>\n",
       "      <td>0.0</td>\n",
       "      <td>0.0</td>\n",
       "      <td>1.0</td>\n",
       "      <td>0.0</td>\n",
       "    </tr>\n",
       "    <tr>\n",
       "      <th>26305</th>\n",
       "      <td>-0.212705</td>\n",
       "      <td>-1.003965</td>\n",
       "      <td>1.0</td>\n",
       "      <td>0.0</td>\n",
       "      <td>0.0</td>\n",
       "      <td>0.0</td>\n",
       "      <td>0.0</td>\n",
       "      <td>0.0</td>\n",
       "      <td>0.0</td>\n",
       "      <td>0.0</td>\n",
       "      <td>...</td>\n",
       "      <td>0.0</td>\n",
       "      <td>0.0</td>\n",
       "      <td>0.0</td>\n",
       "      <td>0.0</td>\n",
       "      <td>0.0</td>\n",
       "      <td>0.0</td>\n",
       "      <td>0.0</td>\n",
       "      <td>0.0</td>\n",
       "      <td>1.0</td>\n",
       "      <td>0.0</td>\n",
       "    </tr>\n",
       "    <tr>\n",
       "      <th>26306</th>\n",
       "      <td>-0.029290</td>\n",
       "      <td>-0.542189</td>\n",
       "      <td>1.0</td>\n",
       "      <td>0.0</td>\n",
       "      <td>0.0</td>\n",
       "      <td>0.0</td>\n",
       "      <td>0.0</td>\n",
       "      <td>0.0</td>\n",
       "      <td>0.0</td>\n",
       "      <td>0.0</td>\n",
       "      <td>...</td>\n",
       "      <td>0.0</td>\n",
       "      <td>0.0</td>\n",
       "      <td>0.0</td>\n",
       "      <td>0.0</td>\n",
       "      <td>0.0</td>\n",
       "      <td>0.0</td>\n",
       "      <td>0.0</td>\n",
       "      <td>0.0</td>\n",
       "      <td>1.0</td>\n",
       "      <td>0.0</td>\n",
       "    </tr>\n",
       "  </tbody>\n",
       "</table>\n",
       "<p>26307 rows × 57 columns</p>\n",
       "</div>"
      ],
      "text/plain": [
       "       numeric__age  numeric__height  categorical__sex_F  categorical__sex_M  \\\n",
       "0          1.438031         0.566075                 0.0                 1.0   \n",
       "1         -0.762950        -1.003965                 1.0                 0.0   \n",
       "2         -0.212705         0.566075                 0.0                 1.0   \n",
       "3          0.337540        -0.726899                 0.0                 1.0   \n",
       "4         -0.762950        -0.080412                 1.0                 0.0   \n",
       "...             ...              ...                 ...                 ...   \n",
       "26302     -1.313195        -0.726899                 1.0                 0.0   \n",
       "26303      0.337540        -0.819255                 1.0                 0.0   \n",
       "26304     -0.762950        -0.726899                 1.0                 0.0   \n",
       "26305     -0.212705        -1.003965                 1.0                 0.0   \n",
       "26306     -0.029290        -0.542189                 1.0                 0.0   \n",
       "\n",
       "       categorical__sport_Alpine Skiing  categorical__sport_Archery  \\\n",
       "0                                   0.0                         0.0   \n",
       "1                                   0.0                         0.0   \n",
       "2                                   0.0                         0.0   \n",
       "3                                   0.0                         0.0   \n",
       "4                                   0.0                         0.0   \n",
       "...                                 ...                         ...   \n",
       "26302                               0.0                         0.0   \n",
       "26303                               0.0                         0.0   \n",
       "26304                               0.0                         0.0   \n",
       "26305                               0.0                         0.0   \n",
       "26306                               0.0                         0.0   \n",
       "\n",
       "       categorical__sport_Athletics  categorical__sport_Badminton  \\\n",
       "0                               0.0                           0.0   \n",
       "1                               0.0                           0.0   \n",
       "2                               0.0                           0.0   \n",
       "3                               0.0                           0.0   \n",
       "4                               0.0                           0.0   \n",
       "...                             ...                           ...   \n",
       "26302                           0.0                           0.0   \n",
       "26303                           0.0                           0.0   \n",
       "26304                           0.0                           0.0   \n",
       "26305                           0.0                           0.0   \n",
       "26306                           0.0                           0.0   \n",
       "\n",
       "       categorical__sport_Basketball  categorical__sport_Beach Volleyball  \\\n",
       "0                                0.0                                  0.0   \n",
       "1                                0.0                                  0.0   \n",
       "2                                0.0                                  0.0   \n",
       "3                                0.0                                  0.0   \n",
       "4                                0.0                                  0.0   \n",
       "...                              ...                                  ...   \n",
       "26302                            0.0                                  0.0   \n",
       "26303                            0.0                                  0.0   \n",
       "26304                            0.0                                  0.0   \n",
       "26305                            0.0                                  0.0   \n",
       "26306                            0.0                                  0.0   \n",
       "\n",
       "       ...  categorical__sport_Trampolining  categorical__sport_Triathlon  \\\n",
       "0      ...                              0.0                           0.0   \n",
       "1      ...                              0.0                           0.0   \n",
       "2      ...                              0.0                           0.0   \n",
       "3      ...                              0.0                           1.0   \n",
       "4      ...                              0.0                           0.0   \n",
       "...    ...                              ...                           ...   \n",
       "26302  ...                              0.0                           0.0   \n",
       "26303  ...                              0.0                           0.0   \n",
       "26304  ...                              0.0                           0.0   \n",
       "26305  ...                              0.0                           0.0   \n",
       "26306  ...                              0.0                           0.0   \n",
       "\n",
       "       categorical__sport_Volleyball  categorical__sport_Water Polo  \\\n",
       "0                                0.0                            0.0   \n",
       "1                                0.0                            0.0   \n",
       "2                                0.0                            0.0   \n",
       "3                                0.0                            0.0   \n",
       "4                                0.0                            0.0   \n",
       "...                              ...                            ...   \n",
       "26302                            0.0                            0.0   \n",
       "26303                            0.0                            0.0   \n",
       "26304                            0.0                            0.0   \n",
       "26305                            0.0                            0.0   \n",
       "26306                            0.0                            0.0   \n",
       "\n",
       "       categorical__sport_Weightlifting  categorical__sport_Wrestling  \\\n",
       "0                                   0.0                           0.0   \n",
       "1                                   0.0                           0.0   \n",
       "2                                   0.0                           0.0   \n",
       "3                                   0.0                           0.0   \n",
       "4                                   0.0                           0.0   \n",
       "...                                 ...                           ...   \n",
       "26302                               0.0                           0.0   \n",
       "26303                               0.0                           0.0   \n",
       "26304                               0.0                           0.0   \n",
       "26305                               0.0                           0.0   \n",
       "26306                               0.0                           0.0   \n",
       "\n",
       "       categorical__medal_Bronze  categorical__medal_Gold  \\\n",
       "0                            0.0                      0.0   \n",
       "1                            0.0                      0.0   \n",
       "2                            0.0                      0.0   \n",
       "3                            0.0                      0.0   \n",
       "4                            0.0                      0.0   \n",
       "...                          ...                      ...   \n",
       "26302                        0.0                      0.0   \n",
       "26303                        0.0                      0.0   \n",
       "26304                        0.0                      0.0   \n",
       "26305                        0.0                      0.0   \n",
       "26306                        0.0                      0.0   \n",
       "\n",
       "       categorical__medal_No Medal  categorical__medal_Silver  \n",
       "0                              1.0                        0.0  \n",
       "1                              1.0                        0.0  \n",
       "2                              1.0                        0.0  \n",
       "3                              1.0                        0.0  \n",
       "4                              1.0                        0.0  \n",
       "...                            ...                        ...  \n",
       "26302                          1.0                        0.0  \n",
       "26303                          1.0                        0.0  \n",
       "26304                          1.0                        0.0  \n",
       "26305                          1.0                        0.0  \n",
       "26306                          1.0                        0.0  \n",
       "\n",
       "[26307 rows x 57 columns]"
      ]
     },
     "execution_count": 151,
     "metadata": {},
     "output_type": "execute_result"
    }
   ],
   "source": [
    "# Look at the transformed dataset, get feature names out!\n",
    "pd.DataFrame(preprocessor.fit_transform(X_train, y_train).toarray(),\n",
    "             columns=model_pipeline[:-1].get_feature_names_out())"
   ]
  },
  {
   "attachments": {},
   "cell_type": "markdown",
   "metadata": {},
   "source": [
    "Create Cross Validated Hyperparameter Search:"
   ]
  },
  {
   "cell_type": "code",
   "execution_count": 182,
   "metadata": {},
   "outputs": [
    {
     "data": {
      "text/plain": [
       "{'ElasticNet__l1_ratio': [0.0, 0.25, 0.5, 0.75, 1.0],\n",
       " 'ElasticNet__alpha': [1e-05,\n",
       "  0.0001,\n",
       "  0.001,\n",
       "  0.01,\n",
       "  0.1,\n",
       "  1.0,\n",
       "  12.0,\n",
       "  23.0,\n",
       "  34.0,\n",
       "  45.0,\n",
       "  56.0,\n",
       "  67.0,\n",
       "  78.0,\n",
       "  89.0,\n",
       "  100.0]}"
      ]
     },
     "execution_count": 182,
     "metadata": {},
     "output_type": "execute_result"
    }
   ],
   "source": [
    "# Mixture\n",
    "l1_ratio = [round(x, ndigits=5) for x in np.linspace(start=0, stop=1, num=5)]\n",
    "\n",
    "# Penalty\n",
    "alpha = [1e-5, 1e-4, 1e-3, 1e-2, 1e-1] + [round(x, ndigits=5) for x in np.linspace(start=1, stop=100, num=10)]\n",
    "\n",
    "# Create the random grid\n",
    "# Important: Put the Name of the model from the pipeline including two backspaces\n",
    "# before the parameter names in the dictionary\n",
    "grid = {'ElasticNet__l1_ratio':l1_ratio,\n",
    "        'ElasticNet__alpha':alpha}\n",
    "\n",
    "grid\n"
   ]
  },
  {
   "cell_type": "code",
   "execution_count": 184,
   "metadata": {},
   "outputs": [
    {
     "name": "stdout",
     "output_type": "stream",
     "text": [
      "Fitting 3 folds for each of 75 candidates, totalling 225 fits\n"
     ]
    },
    {
     "name": "stderr",
     "output_type": "stream",
     "text": [
      "C:\\Users\\mathi\\AppData\\Roaming\\Python\\Python310\\site-packages\\sklearn\\linear_model\\_coordinate_descent.py:593: ConvergenceWarning: Objective did not converge. You might want to increase the number of iterations. Duality gap: 522252.08721519395, tolerance: 397.6422871365036\n"
     ]
    },
    {
     "name": "stdout",
     "output_type": "stream",
     "text": [
      "[CV] END ..ElasticNet__alpha=1e-05, ElasticNet__l1_ratio=0.0; total time=   2.0s\n"
     ]
    },
    {
     "name": "stderr",
     "output_type": "stream",
     "text": [
      "C:\\Users\\mathi\\AppData\\Roaming\\Python\\Python310\\site-packages\\sklearn\\linear_model\\_coordinate_descent.py:593: ConvergenceWarning: Objective did not converge. You might want to increase the number of iterations. Duality gap: 544726.1682133899, tolerance: 403.24542653096137\n"
     ]
    },
    {
     "name": "stdout",
     "output_type": "stream",
     "text": [
      "[CV] END ..ElasticNet__alpha=1e-05, ElasticNet__l1_ratio=0.0; total time=   2.1s\n"
     ]
    },
    {
     "name": "stderr",
     "output_type": "stream",
     "text": [
      "C:\\Users\\mathi\\AppData\\Roaming\\Python\\Python310\\site-packages\\sklearn\\linear_model\\_coordinate_descent.py:593: ConvergenceWarning: Objective did not converge. You might want to increase the number of iterations. Duality gap: 532812.536517486, tolerance: 404.18541976850264\n"
     ]
    },
    {
     "name": "stdout",
     "output_type": "stream",
     "text": [
      "[CV] END ..ElasticNet__alpha=1e-05, ElasticNet__l1_ratio=0.0; total time=   2.0s\n"
     ]
    },
    {
     "name": "stderr",
     "output_type": "stream",
     "text": [
      "C:\\Users\\mathi\\AppData\\Roaming\\Python\\Python310\\site-packages\\sklearn\\linear_model\\_coordinate_descent.py:593: ConvergenceWarning: Objective did not converge. You might want to increase the number of iterations. Duality gap: 419356.5585762071, tolerance: 397.6422871365036\n"
     ]
    },
    {
     "name": "stdout",
     "output_type": "stream",
     "text": [
      "[CV] END .ElasticNet__alpha=1e-05, ElasticNet__l1_ratio=0.25; total time=   2.0s\n"
     ]
    },
    {
     "name": "stderr",
     "output_type": "stream",
     "text": [
      "C:\\Users\\mathi\\AppData\\Roaming\\Python\\Python310\\site-packages\\sklearn\\linear_model\\_coordinate_descent.py:593: ConvergenceWarning: Objective did not converge. You might want to increase the number of iterations. Duality gap: 435214.3268779825, tolerance: 403.24542653096137\n"
     ]
    },
    {
     "name": "stdout",
     "output_type": "stream",
     "text": [
      "[CV] END .ElasticNet__alpha=1e-05, ElasticNet__l1_ratio=0.25; total time=   2.0s\n"
     ]
    },
    {
     "name": "stderr",
     "output_type": "stream",
     "text": [
      "C:\\Users\\mathi\\AppData\\Roaming\\Python\\Python310\\site-packages\\sklearn\\linear_model\\_coordinate_descent.py:593: ConvergenceWarning: Objective did not converge. You might want to increase the number of iterations. Duality gap: 431563.84869213024, tolerance: 404.18541976850264\n"
     ]
    },
    {
     "name": "stdout",
     "output_type": "stream",
     "text": [
      "[CV] END .ElasticNet__alpha=1e-05, ElasticNet__l1_ratio=0.25; total time=   2.0s\n"
     ]
    },
    {
     "name": "stderr",
     "output_type": "stream",
     "text": [
      "C:\\Users\\mathi\\AppData\\Roaming\\Python\\Python310\\site-packages\\sklearn\\linear_model\\_coordinate_descent.py:593: ConvergenceWarning: Objective did not converge. You might want to increase the number of iterations. Duality gap: 199111.3833267028, tolerance: 397.6422871365036\n"
     ]
    },
    {
     "name": "stdout",
     "output_type": "stream",
     "text": [
      "[CV] END ..ElasticNet__alpha=1e-05, ElasticNet__l1_ratio=0.5; total time=   2.0s\n"
     ]
    },
    {
     "name": "stderr",
     "output_type": "stream",
     "text": [
      "C:\\Users\\mathi\\AppData\\Roaming\\Python\\Python310\\site-packages\\sklearn\\linear_model\\_coordinate_descent.py:593: ConvergenceWarning: Objective did not converge. You might want to increase the number of iterations. Duality gap: 200725.76777543325, tolerance: 403.24542653096137\n"
     ]
    },
    {
     "name": "stdout",
     "output_type": "stream",
     "text": [
      "[CV] END ..ElasticNet__alpha=1e-05, ElasticNet__l1_ratio=0.5; total time=   2.0s\n"
     ]
    },
    {
     "name": "stderr",
     "output_type": "stream",
     "text": [
      "C:\\Users\\mathi\\AppData\\Roaming\\Python\\Python310\\site-packages\\sklearn\\linear_model\\_coordinate_descent.py:593: ConvergenceWarning: Objective did not converge. You might want to increase the number of iterations. Duality gap: 215003.35408818285, tolerance: 404.18541976850264\n"
     ]
    },
    {
     "name": "stdout",
     "output_type": "stream",
     "text": [
      "[CV] END ..ElasticNet__alpha=1e-05, ElasticNet__l1_ratio=0.5; total time=   1.9s\n"
     ]
    },
    {
     "name": "stderr",
     "output_type": "stream",
     "text": [
      "C:\\Users\\mathi\\AppData\\Roaming\\Python\\Python310\\site-packages\\sklearn\\linear_model\\_coordinate_descent.py:593: ConvergenceWarning: Objective did not converge. You might want to increase the number of iterations. Duality gap: 105259.5434487391, tolerance: 397.6422871365036\n"
     ]
    },
    {
     "name": "stdout",
     "output_type": "stream",
     "text": [
      "[CV] END .ElasticNet__alpha=1e-05, ElasticNet__l1_ratio=0.75; total time=   2.0s\n"
     ]
    },
    {
     "name": "stderr",
     "output_type": "stream",
     "text": [
      "C:\\Users\\mathi\\AppData\\Roaming\\Python\\Python310\\site-packages\\sklearn\\linear_model\\_coordinate_descent.py:593: ConvergenceWarning: Objective did not converge. You might want to increase the number of iterations. Duality gap: 92196.87655228656, tolerance: 403.24542653096137\n"
     ]
    },
    {
     "name": "stdout",
     "output_type": "stream",
     "text": [
      "[CV] END .ElasticNet__alpha=1e-05, ElasticNet__l1_ratio=0.75; total time=   2.0s\n"
     ]
    },
    {
     "name": "stderr",
     "output_type": "stream",
     "text": [
      "C:\\Users\\mathi\\AppData\\Roaming\\Python\\Python310\\site-packages\\sklearn\\linear_model\\_coordinate_descent.py:593: ConvergenceWarning: Objective did not converge. You might want to increase the number of iterations. Duality gap: 105685.21659034735, tolerance: 404.18541976850264\n"
     ]
    },
    {
     "name": "stdout",
     "output_type": "stream",
     "text": [
      "[CV] END .ElasticNet__alpha=1e-05, ElasticNet__l1_ratio=0.75; total time=   2.0s\n"
     ]
    },
    {
     "name": "stderr",
     "output_type": "stream",
     "text": [
      "C:\\Users\\mathi\\AppData\\Roaming\\Python\\Python310\\site-packages\\sklearn\\linear_model\\_coordinate_descent.py:593: ConvergenceWarning: Objective did not converge. You might want to increase the number of iterations. Duality gap: 84446.53988171043, tolerance: 397.6422871365036\n"
     ]
    },
    {
     "name": "stdout",
     "output_type": "stream",
     "text": [
      "[CV] END ..ElasticNet__alpha=1e-05, ElasticNet__l1_ratio=1.0; total time=   2.0s\n"
     ]
    },
    {
     "name": "stderr",
     "output_type": "stream",
     "text": [
      "C:\\Users\\mathi\\AppData\\Roaming\\Python\\Python310\\site-packages\\sklearn\\linear_model\\_coordinate_descent.py:593: ConvergenceWarning: Objective did not converge. You might want to increase the number of iterations. Duality gap: 67767.62906702049, tolerance: 403.24542653096137\n"
     ]
    },
    {
     "name": "stdout",
     "output_type": "stream",
     "text": [
      "[CV] END ..ElasticNet__alpha=1e-05, ElasticNet__l1_ratio=1.0; total time=   2.1s\n"
     ]
    },
    {
     "name": "stderr",
     "output_type": "stream",
     "text": [
      "C:\\Users\\mathi\\AppData\\Roaming\\Python\\Python310\\site-packages\\sklearn\\linear_model\\_coordinate_descent.py:593: ConvergenceWarning: Objective did not converge. You might want to increase the number of iterations. Duality gap: 65874.07792732539, tolerance: 404.18541976850264\n"
     ]
    },
    {
     "name": "stdout",
     "output_type": "stream",
     "text": [
      "[CV] END ..ElasticNet__alpha=1e-05, ElasticNet__l1_ratio=1.0; total time=   2.0s\n"
     ]
    },
    {
     "name": "stderr",
     "output_type": "stream",
     "text": [
      "C:\\Users\\mathi\\AppData\\Roaming\\Python\\Python310\\site-packages\\sklearn\\linear_model\\_coordinate_descent.py:593: ConvergenceWarning: Objective did not converge. You might want to increase the number of iterations. Duality gap: 523550.6213480619, tolerance: 397.6422871365036\n"
     ]
    },
    {
     "name": "stdout",
     "output_type": "stream",
     "text": [
      "[CV] END .ElasticNet__alpha=0.0001, ElasticNet__l1_ratio=0.0; total time=   2.0s\n"
     ]
    },
    {
     "name": "stderr",
     "output_type": "stream",
     "text": [
      "C:\\Users\\mathi\\AppData\\Roaming\\Python\\Python310\\site-packages\\sklearn\\linear_model\\_coordinate_descent.py:593: ConvergenceWarning: Objective did not converge. You might want to increase the number of iterations. Duality gap: 546034.6691903253, tolerance: 403.24542653096137\n"
     ]
    },
    {
     "name": "stdout",
     "output_type": "stream",
     "text": [
      "[CV] END .ElasticNet__alpha=0.0001, ElasticNet__l1_ratio=0.0; total time=   2.0s\n"
     ]
    },
    {
     "name": "stderr",
     "output_type": "stream",
     "text": [
      "C:\\Users\\mathi\\AppData\\Roaming\\Python\\Python310\\site-packages\\sklearn\\linear_model\\_coordinate_descent.py:593: ConvergenceWarning: Objective did not converge. You might want to increase the number of iterations. Duality gap: 534148.1071564947, tolerance: 404.18541976850264\n"
     ]
    },
    {
     "name": "stdout",
     "output_type": "stream",
     "text": [
      "[CV] END .ElasticNet__alpha=0.0001, ElasticNet__l1_ratio=0.0; total time=   2.0s\n"
     ]
    },
    {
     "name": "stderr",
     "output_type": "stream",
     "text": [
      "C:\\Users\\mathi\\AppData\\Roaming\\Python\\Python310\\site-packages\\sklearn\\linear_model\\_coordinate_descent.py:593: ConvergenceWarning: Objective did not converge. You might want to increase the number of iterations. Duality gap: 339990.7649182224, tolerance: 397.6422871365036\n"
     ]
    },
    {
     "name": "stdout",
     "output_type": "stream",
     "text": [
      "[CV] END ElasticNet__alpha=0.0001, ElasticNet__l1_ratio=0.25; total time=   2.0s\n"
     ]
    },
    {
     "name": "stderr",
     "output_type": "stream",
     "text": [
      "C:\\Users\\mathi\\AppData\\Roaming\\Python\\Python310\\site-packages\\sklearn\\linear_model\\_coordinate_descent.py:593: ConvergenceWarning: Objective did not converge. You might want to increase the number of iterations. Duality gap: 350821.1224060323, tolerance: 403.24542653096137\n"
     ]
    },
    {
     "name": "stdout",
     "output_type": "stream",
     "text": [
      "[CV] END ElasticNet__alpha=0.0001, ElasticNet__l1_ratio=0.25; total time=   2.0s\n"
     ]
    },
    {
     "name": "stderr",
     "output_type": "stream",
     "text": [
      "C:\\Users\\mathi\\AppData\\Roaming\\Python\\Python310\\site-packages\\sklearn\\linear_model\\_coordinate_descent.py:593: ConvergenceWarning: Objective did not converge. You might want to increase the number of iterations. Duality gap: 353829.5284797326, tolerance: 404.18541976850264\n"
     ]
    },
    {
     "name": "stdout",
     "output_type": "stream",
     "text": [
      "[CV] END ElasticNet__alpha=0.0001, ElasticNet__l1_ratio=0.25; total time=   2.0s\n"
     ]
    },
    {
     "name": "stderr",
     "output_type": "stream",
     "text": [
      "C:\\Users\\mathi\\AppData\\Roaming\\Python\\Python310\\site-packages\\sklearn\\linear_model\\_coordinate_descent.py:593: ConvergenceWarning: Objective did not converge. You might want to increase the number of iterations. Duality gap: 59960.5240222672, tolerance: 397.6422871365036\n"
     ]
    },
    {
     "name": "stdout",
     "output_type": "stream",
     "text": [
      "[CV] END .ElasticNet__alpha=0.0001, ElasticNet__l1_ratio=0.5; total time=   2.0s\n"
     ]
    },
    {
     "name": "stderr",
     "output_type": "stream",
     "text": [
      "C:\\Users\\mathi\\AppData\\Roaming\\Python\\Python310\\site-packages\\sklearn\\linear_model\\_coordinate_descent.py:593: ConvergenceWarning: Objective did not converge. You might want to increase the number of iterations. Duality gap: 54992.486122567556, tolerance: 403.24542653096137\n"
     ]
    },
    {
     "name": "stdout",
     "output_type": "stream",
     "text": [
      "[CV] END .ElasticNet__alpha=0.0001, ElasticNet__l1_ratio=0.5; total time=   2.0s\n"
     ]
    },
    {
     "name": "stderr",
     "output_type": "stream",
     "text": [
      "C:\\Users\\mathi\\AppData\\Roaming\\Python\\Python310\\site-packages\\sklearn\\linear_model\\_coordinate_descent.py:593: ConvergenceWarning: Objective did not converge. You might want to increase the number of iterations. Duality gap: 75393.75283481088, tolerance: 404.18541976850264\n"
     ]
    },
    {
     "name": "stdout",
     "output_type": "stream",
     "text": [
      "[CV] END .ElasticNet__alpha=0.0001, ElasticNet__l1_ratio=0.5; total time=   2.0s\n",
      "[CV] END ElasticNet__alpha=0.0001, ElasticNet__l1_ratio=0.75; total time=   1.0s\n",
      "[CV] END ElasticNet__alpha=0.0001, ElasticNet__l1_ratio=0.75; total time=   2.0s\n",
      "[CV] END ElasticNet__alpha=0.0001, ElasticNet__l1_ratio=0.75; total time=   1.9s\n",
      "[CV] END .ElasticNet__alpha=0.0001, ElasticNet__l1_ratio=1.0; total time=   1.9s\n"
     ]
    },
    {
     "name": "stderr",
     "output_type": "stream",
     "text": [
      "C:\\Users\\mathi\\AppData\\Roaming\\Python\\Python310\\site-packages\\sklearn\\linear_model\\_coordinate_descent.py:593: ConvergenceWarning: Objective did not converge. You might want to increase the number of iterations. Duality gap: 2868.8823649171973, tolerance: 403.24542653096137\n"
     ]
    },
    {
     "name": "stdout",
     "output_type": "stream",
     "text": [
      "[CV] END .ElasticNet__alpha=0.0001, ElasticNet__l1_ratio=1.0; total time=   1.9s\n"
     ]
    },
    {
     "name": "stderr",
     "output_type": "stream",
     "text": [
      "C:\\Users\\mathi\\AppData\\Roaming\\Python\\Python310\\site-packages\\sklearn\\linear_model\\_coordinate_descent.py:593: ConvergenceWarning: Objective did not converge. You might want to increase the number of iterations. Duality gap: 2781.7581793587888, tolerance: 404.18541976850264\n"
     ]
    },
    {
     "name": "stdout",
     "output_type": "stream",
     "text": [
      "[CV] END .ElasticNet__alpha=0.0001, ElasticNet__l1_ratio=1.0; total time=   1.9s\n"
     ]
    },
    {
     "name": "stderr",
     "output_type": "stream",
     "text": [
      "C:\\Users\\mathi\\AppData\\Roaming\\Python\\Python310\\site-packages\\sklearn\\linear_model\\_coordinate_descent.py:593: ConvergenceWarning: Objective did not converge. You might want to increase the number of iterations. Duality gap: 535470.35476105, tolerance: 397.6422871365036\n"
     ]
    },
    {
     "name": "stdout",
     "output_type": "stream",
     "text": [
      "[CV] END ..ElasticNet__alpha=0.001, ElasticNet__l1_ratio=0.0; total time=   1.9s\n"
     ]
    },
    {
     "name": "stderr",
     "output_type": "stream",
     "text": [
      "C:\\Users\\mathi\\AppData\\Roaming\\Python\\Python310\\site-packages\\sklearn\\linear_model\\_coordinate_descent.py:593: ConvergenceWarning: Objective did not converge. You might want to increase the number of iterations. Duality gap: 557998.233849547, tolerance: 403.24542653096137\n"
     ]
    },
    {
     "name": "stdout",
     "output_type": "stream",
     "text": [
      "[CV] END ..ElasticNet__alpha=0.001, ElasticNet__l1_ratio=0.0; total time=   1.9s\n"
     ]
    },
    {
     "name": "stderr",
     "output_type": "stream",
     "text": [
      "C:\\Users\\mathi\\AppData\\Roaming\\Python\\Python310\\site-packages\\sklearn\\linear_model\\_coordinate_descent.py:593: ConvergenceWarning: Objective did not converge. You might want to increase the number of iterations. Duality gap: 546401.9344542983, tolerance: 404.18541976850264\n"
     ]
    },
    {
     "name": "stdout",
     "output_type": "stream",
     "text": [
      "[CV] END ..ElasticNet__alpha=0.001, ElasticNet__l1_ratio=0.0; total time=   1.8s\n",
      "[CV] END .ElasticNet__alpha=0.001, ElasticNet__l1_ratio=0.25; total time=   0.5s\n",
      "[CV] END .ElasticNet__alpha=0.001, ElasticNet__l1_ratio=0.25; total time=   0.5s\n",
      "[CV] END .ElasticNet__alpha=0.001, ElasticNet__l1_ratio=0.25; total time=   0.5s\n",
      "[CV] END ..ElasticNet__alpha=0.001, ElasticNet__l1_ratio=0.5; total time=   0.5s\n",
      "[CV] END ..ElasticNet__alpha=0.001, ElasticNet__l1_ratio=0.5; total time=   0.6s\n",
      "[CV] END ..ElasticNet__alpha=0.001, ElasticNet__l1_ratio=0.5; total time=   0.6s\n",
      "[CV] END .ElasticNet__alpha=0.001, ElasticNet__l1_ratio=0.75; total time=   0.5s\n",
      "[CV] END .ElasticNet__alpha=0.001, ElasticNet__l1_ratio=0.75; total time=   0.6s\n",
      "[CV] END .ElasticNet__alpha=0.001, ElasticNet__l1_ratio=0.75; total time=   0.6s\n",
      "[CV] END ..ElasticNet__alpha=0.001, ElasticNet__l1_ratio=1.0; total time=   0.1s\n",
      "[CV] END ..ElasticNet__alpha=0.001, ElasticNet__l1_ratio=1.0; total time=   0.4s\n",
      "[CV] END ..ElasticNet__alpha=0.001, ElasticNet__l1_ratio=1.0; total time=   0.2s\n"
     ]
    },
    {
     "name": "stderr",
     "output_type": "stream",
     "text": [
      "C:\\Users\\mathi\\AppData\\Roaming\\Python\\Python310\\site-packages\\sklearn\\linear_model\\_coordinate_descent.py:593: ConvergenceWarning: Objective did not converge. You might want to increase the number of iterations. Duality gap: 604962.4398632154, tolerance: 397.6422871365036\n"
     ]
    },
    {
     "name": "stdout",
     "output_type": "stream",
     "text": [
      "[CV] END ...ElasticNet__alpha=0.01, ElasticNet__l1_ratio=0.0; total time=   1.9s\n"
     ]
    },
    {
     "name": "stderr",
     "output_type": "stream",
     "text": [
      "C:\\Users\\mathi\\AppData\\Roaming\\Python\\Python310\\site-packages\\sklearn\\linear_model\\_coordinate_descent.py:593: ConvergenceWarning: Objective did not converge. You might want to increase the number of iterations. Duality gap: 626939.0274345591, tolerance: 403.24542653096137\n"
     ]
    },
    {
     "name": "stdout",
     "output_type": "stream",
     "text": [
      "[CV] END ...ElasticNet__alpha=0.01, ElasticNet__l1_ratio=0.0; total time=   1.9s\n"
     ]
    },
    {
     "name": "stderr",
     "output_type": "stream",
     "text": [
      "C:\\Users\\mathi\\AppData\\Roaming\\Python\\Python310\\site-packages\\sklearn\\linear_model\\_coordinate_descent.py:593: ConvergenceWarning: Objective did not converge. You might want to increase the number of iterations. Duality gap: 617194.6965962284, tolerance: 404.18541976850264\n"
     ]
    },
    {
     "name": "stdout",
     "output_type": "stream",
     "text": [
      "[CV] END ...ElasticNet__alpha=0.01, ElasticNet__l1_ratio=0.0; total time=   2.0s\n",
      "[CV] END ..ElasticNet__alpha=0.01, ElasticNet__l1_ratio=0.25; total time=   0.1s\n",
      "[CV] END ..ElasticNet__alpha=0.01, ElasticNet__l1_ratio=0.25; total time=   0.1s\n",
      "[CV] END ..ElasticNet__alpha=0.01, ElasticNet__l1_ratio=0.25; total time=   0.1s\n",
      "[CV] END ...ElasticNet__alpha=0.01, ElasticNet__l1_ratio=0.5; total time=   0.1s\n",
      "[CV] END ...ElasticNet__alpha=0.01, ElasticNet__l1_ratio=0.5; total time=   0.1s\n",
      "[CV] END ...ElasticNet__alpha=0.01, ElasticNet__l1_ratio=0.5; total time=   0.1s\n",
      "[CV] END ..ElasticNet__alpha=0.01, ElasticNet__l1_ratio=0.75; total time=   0.2s\n",
      "[CV] END ..ElasticNet__alpha=0.01, ElasticNet__l1_ratio=0.75; total time=   0.2s\n",
      "[CV] END ..ElasticNet__alpha=0.01, ElasticNet__l1_ratio=0.75; total time=   0.2s\n",
      "[CV] END ...ElasticNet__alpha=0.01, ElasticNet__l1_ratio=1.0; total time=   0.0s\n",
      "[CV] END ...ElasticNet__alpha=0.01, ElasticNet__l1_ratio=1.0; total time=   0.0s\n",
      "[CV] END ...ElasticNet__alpha=0.01, ElasticNet__l1_ratio=1.0; total time=   0.0s\n"
     ]
    },
    {
     "name": "stderr",
     "output_type": "stream",
     "text": [
      "C:\\Users\\mathi\\AppData\\Roaming\\Python\\Python310\\site-packages\\sklearn\\linear_model\\_coordinate_descent.py:593: ConvergenceWarning: Objective did not converge. You might want to increase the number of iterations. Duality gap: 777306.20115015, tolerance: 397.6422871365036\n"
     ]
    },
    {
     "name": "stdout",
     "output_type": "stream",
     "text": [
      "[CV] END ....ElasticNet__alpha=0.1, ElasticNet__l1_ratio=0.0; total time=   2.0s\n"
     ]
    },
    {
     "name": "stderr",
     "output_type": "stream",
     "text": [
      "C:\\Users\\mathi\\AppData\\Roaming\\Python\\Python310\\site-packages\\sklearn\\linear_model\\_coordinate_descent.py:593: ConvergenceWarning: Objective did not converge. You might want to increase the number of iterations. Duality gap: 798198.9330166724, tolerance: 403.24542653096137\n"
     ]
    },
    {
     "name": "stdout",
     "output_type": "stream",
     "text": [
      "[CV] END ....ElasticNet__alpha=0.1, ElasticNet__l1_ratio=0.0; total time=   1.9s\n"
     ]
    },
    {
     "name": "stderr",
     "output_type": "stream",
     "text": [
      "C:\\Users\\mathi\\AppData\\Roaming\\Python\\Python310\\site-packages\\sklearn\\linear_model\\_coordinate_descent.py:593: ConvergenceWarning: Objective did not converge. You might want to increase the number of iterations. Duality gap: 790971.5374112086, tolerance: 404.18541976850264\n"
     ]
    },
    {
     "name": "stdout",
     "output_type": "stream",
     "text": [
      "[CV] END ....ElasticNet__alpha=0.1, ElasticNet__l1_ratio=0.0; total time=   2.0s\n",
      "[CV] END ...ElasticNet__alpha=0.1, ElasticNet__l1_ratio=0.25; total time=   0.0s\n",
      "[CV] END ...ElasticNet__alpha=0.1, ElasticNet__l1_ratio=0.25; total time=   0.0s\n",
      "[CV] END ...ElasticNet__alpha=0.1, ElasticNet__l1_ratio=0.25; total time=   0.0s\n",
      "[CV] END ....ElasticNet__alpha=0.1, ElasticNet__l1_ratio=0.5; total time=   0.0s\n",
      "[CV] END ....ElasticNet__alpha=0.1, ElasticNet__l1_ratio=0.5; total time=   0.0s\n",
      "[CV] END ....ElasticNet__alpha=0.1, ElasticNet__l1_ratio=0.5; total time=   0.0s\n",
      "[CV] END ...ElasticNet__alpha=0.1, ElasticNet__l1_ratio=0.75; total time=   0.0s\n",
      "[CV] END ...ElasticNet__alpha=0.1, ElasticNet__l1_ratio=0.75; total time=   0.0s\n",
      "[CV] END ...ElasticNet__alpha=0.1, ElasticNet__l1_ratio=0.75; total time=   0.0s\n",
      "[CV] END ....ElasticNet__alpha=0.1, ElasticNet__l1_ratio=1.0; total time=   0.0s\n",
      "[CV] END ....ElasticNet__alpha=0.1, ElasticNet__l1_ratio=1.0; total time=   0.0s\n",
      "[CV] END ....ElasticNet__alpha=0.1, ElasticNet__l1_ratio=1.0; total time=   0.0s\n"
     ]
    },
    {
     "name": "stderr",
     "output_type": "stream",
     "text": [
      "C:\\Users\\mathi\\AppData\\Roaming\\Python\\Python310\\site-packages\\sklearn\\linear_model\\_coordinate_descent.py:593: ConvergenceWarning: Objective did not converge. You might want to increase the number of iterations. Duality gap: 1279057.336006545, tolerance: 397.6422871365036\n"
     ]
    },
    {
     "name": "stdout",
     "output_type": "stream",
     "text": [
      "[CV] END ....ElasticNet__alpha=1.0, ElasticNet__l1_ratio=0.0; total time=   1.9s\n"
     ]
    },
    {
     "name": "stderr",
     "output_type": "stream",
     "text": [
      "C:\\Users\\mathi\\AppData\\Roaming\\Python\\Python310\\site-packages\\sklearn\\linear_model\\_coordinate_descent.py:593: ConvergenceWarning: Objective did not converge. You might want to increase the number of iterations. Duality gap: 1302751.3857694145, tolerance: 403.24542653096137\n"
     ]
    },
    {
     "name": "stdout",
     "output_type": "stream",
     "text": [
      "[CV] END ....ElasticNet__alpha=1.0, ElasticNet__l1_ratio=0.0; total time=   2.0s\n"
     ]
    },
    {
     "name": "stderr",
     "output_type": "stream",
     "text": [
      "C:\\Users\\mathi\\AppData\\Roaming\\Python\\Python310\\site-packages\\sklearn\\linear_model\\_coordinate_descent.py:593: ConvergenceWarning: Objective did not converge. You might want to increase the number of iterations. Duality gap: 1300043.7253559637, tolerance: 404.18541976850264\n"
     ]
    },
    {
     "name": "stdout",
     "output_type": "stream",
     "text": [
      "[CV] END ....ElasticNet__alpha=1.0, ElasticNet__l1_ratio=0.0; total time=   2.0s\n",
      "[CV] END ...ElasticNet__alpha=1.0, ElasticNet__l1_ratio=0.25; total time=   0.0s\n",
      "[CV] END ...ElasticNet__alpha=1.0, ElasticNet__l1_ratio=0.25; total time=   0.0s\n",
      "[CV] END ...ElasticNet__alpha=1.0, ElasticNet__l1_ratio=0.25; total time=   0.0s\n",
      "[CV] END ....ElasticNet__alpha=1.0, ElasticNet__l1_ratio=0.5; total time=   0.0s\n",
      "[CV] END ....ElasticNet__alpha=1.0, ElasticNet__l1_ratio=0.5; total time=   0.0s\n",
      "[CV] END ....ElasticNet__alpha=1.0, ElasticNet__l1_ratio=0.5; total time=   0.0s\n",
      "[CV] END ...ElasticNet__alpha=1.0, ElasticNet__l1_ratio=0.75; total time=   0.0s\n",
      "[CV] END ...ElasticNet__alpha=1.0, ElasticNet__l1_ratio=0.75; total time=   0.0s\n",
      "[CV] END ...ElasticNet__alpha=1.0, ElasticNet__l1_ratio=0.75; total time=   0.0s\n",
      "[CV] END ....ElasticNet__alpha=1.0, ElasticNet__l1_ratio=1.0; total time=   0.0s\n",
      "[CV] END ....ElasticNet__alpha=1.0, ElasticNet__l1_ratio=1.0; total time=   0.0s\n",
      "[CV] END ....ElasticNet__alpha=1.0, ElasticNet__l1_ratio=1.0; total time=   0.0s\n"
     ]
    },
    {
     "name": "stderr",
     "output_type": "stream",
     "text": [
      "C:\\Users\\mathi\\AppData\\Roaming\\Python\\Python310\\site-packages\\sklearn\\linear_model\\_coordinate_descent.py:593: ConvergenceWarning: Objective did not converge. You might want to increase the number of iterations. Duality gap: 1867936.0869253466, tolerance: 397.6422871365036\n"
     ]
    },
    {
     "name": "stdout",
     "output_type": "stream",
     "text": [
      "[CV] END ...ElasticNet__alpha=12.0, ElasticNet__l1_ratio=0.0; total time=   1.8s\n"
     ]
    },
    {
     "name": "stderr",
     "output_type": "stream",
     "text": [
      "C:\\Users\\mathi\\AppData\\Roaming\\Python\\Python310\\site-packages\\sklearn\\linear_model\\_coordinate_descent.py:593: ConvergenceWarning: Objective did not converge. You might want to increase the number of iterations. Duality gap: 1895323.8608897286, tolerance: 403.24542653096137\n"
     ]
    },
    {
     "name": "stdout",
     "output_type": "stream",
     "text": [
      "[CV] END ...ElasticNet__alpha=12.0, ElasticNet__l1_ratio=0.0; total time=   1.9s\n"
     ]
    },
    {
     "name": "stderr",
     "output_type": "stream",
     "text": [
      "C:\\Users\\mathi\\AppData\\Roaming\\Python\\Python310\\site-packages\\sklearn\\linear_model\\_coordinate_descent.py:593: ConvergenceWarning: Objective did not converge. You might want to increase the number of iterations. Duality gap: 1898634.9285034577, tolerance: 404.18541976850264\n"
     ]
    },
    {
     "name": "stdout",
     "output_type": "stream",
     "text": [
      "[CV] END ...ElasticNet__alpha=12.0, ElasticNet__l1_ratio=0.0; total time=   1.9s\n",
      "[CV] END ..ElasticNet__alpha=12.0, ElasticNet__l1_ratio=0.25; total time=   0.0s\n",
      "[CV] END ..ElasticNet__alpha=12.0, ElasticNet__l1_ratio=0.25; total time=   0.0s\n",
      "[CV] END ..ElasticNet__alpha=12.0, ElasticNet__l1_ratio=0.25; total time=   0.0s\n",
      "[CV] END ...ElasticNet__alpha=12.0, ElasticNet__l1_ratio=0.5; total time=   0.0s\n",
      "[CV] END ...ElasticNet__alpha=12.0, ElasticNet__l1_ratio=0.5; total time=   0.0s\n",
      "[CV] END ...ElasticNet__alpha=12.0, ElasticNet__l1_ratio=0.5; total time=   0.0s\n",
      "[CV] END ..ElasticNet__alpha=12.0, ElasticNet__l1_ratio=0.75; total time=   0.0s\n",
      "[CV] END ..ElasticNet__alpha=12.0, ElasticNet__l1_ratio=0.75; total time=   0.0s\n",
      "[CV] END ..ElasticNet__alpha=12.0, ElasticNet__l1_ratio=0.75; total time=   0.0s\n",
      "[CV] END ...ElasticNet__alpha=12.0, ElasticNet__l1_ratio=1.0; total time=   0.0s\n",
      "[CV] END ...ElasticNet__alpha=12.0, ElasticNet__l1_ratio=1.0; total time=   0.0s\n",
      "[CV] END ...ElasticNet__alpha=12.0, ElasticNet__l1_ratio=1.0; total time=   0.0s\n"
     ]
    },
    {
     "name": "stderr",
     "output_type": "stream",
     "text": [
      "C:\\Users\\mathi\\AppData\\Roaming\\Python\\Python310\\site-packages\\sklearn\\linear_model\\_coordinate_descent.py:593: ConvergenceWarning: Objective did not converge. You might want to increase the number of iterations. Duality gap: 1922479.6334031073, tolerance: 397.6422871365036\n"
     ]
    },
    {
     "name": "stdout",
     "output_type": "stream",
     "text": [
      "[CV] END ...ElasticNet__alpha=23.0, ElasticNet__l1_ratio=0.0; total time=   2.0s\n"
     ]
    },
    {
     "name": "stderr",
     "output_type": "stream",
     "text": [
      "C:\\Users\\mathi\\AppData\\Roaming\\Python\\Python310\\site-packages\\sklearn\\linear_model\\_coordinate_descent.py:593: ConvergenceWarning: Objective did not converge. You might want to increase the number of iterations. Duality gap: 1950159.4568481215, tolerance: 403.24542653096137\n"
     ]
    },
    {
     "name": "stdout",
     "output_type": "stream",
     "text": [
      "[CV] END ...ElasticNet__alpha=23.0, ElasticNet__l1_ratio=0.0; total time=   2.0s\n"
     ]
    },
    {
     "name": "stderr",
     "output_type": "stream",
     "text": [
      "C:\\Users\\mathi\\AppData\\Roaming\\Python\\Python310\\site-packages\\sklearn\\linear_model\\_coordinate_descent.py:593: ConvergenceWarning: Objective did not converge. You might want to increase the number of iterations. Duality gap: 1954092.304799651, tolerance: 404.18541976850264\n"
     ]
    },
    {
     "name": "stdout",
     "output_type": "stream",
     "text": [
      "[CV] END ...ElasticNet__alpha=23.0, ElasticNet__l1_ratio=0.0; total time=   2.0s\n",
      "[CV] END ..ElasticNet__alpha=23.0, ElasticNet__l1_ratio=0.25; total time=   0.0s\n",
      "[CV] END ..ElasticNet__alpha=23.0, ElasticNet__l1_ratio=0.25; total time=   0.0s\n",
      "[CV] END ..ElasticNet__alpha=23.0, ElasticNet__l1_ratio=0.25; total time=   0.0s\n",
      "[CV] END ...ElasticNet__alpha=23.0, ElasticNet__l1_ratio=0.5; total time=   0.0s\n",
      "[CV] END ...ElasticNet__alpha=23.0, ElasticNet__l1_ratio=0.5; total time=   0.0s\n",
      "[CV] END ...ElasticNet__alpha=23.0, ElasticNet__l1_ratio=0.5; total time=   0.0s\n",
      "[CV] END ..ElasticNet__alpha=23.0, ElasticNet__l1_ratio=0.75; total time=   0.0s\n",
      "[CV] END ..ElasticNet__alpha=23.0, ElasticNet__l1_ratio=0.75; total time=   0.0s\n",
      "[CV] END ..ElasticNet__alpha=23.0, ElasticNet__l1_ratio=0.75; total time=   0.0s\n",
      "[CV] END ...ElasticNet__alpha=23.0, ElasticNet__l1_ratio=1.0; total time=   0.0s\n",
      "[CV] END ...ElasticNet__alpha=23.0, ElasticNet__l1_ratio=1.0; total time=   0.0s\n",
      "[CV] END ...ElasticNet__alpha=23.0, ElasticNet__l1_ratio=1.0; total time=   0.0s\n"
     ]
    },
    {
     "name": "stderr",
     "output_type": "stream",
     "text": [
      "C:\\Users\\mathi\\AppData\\Roaming\\Python\\Python310\\site-packages\\sklearn\\linear_model\\_coordinate_descent.py:593: ConvergenceWarning: Objective did not converge. You might want to increase the number of iterations. Duality gap: 1942987.5272872592, tolerance: 397.6422871365036\n"
     ]
    },
    {
     "name": "stdout",
     "output_type": "stream",
     "text": [
      "[CV] END ...ElasticNet__alpha=34.0, ElasticNet__l1_ratio=0.0; total time=   1.9s\n"
     ]
    },
    {
     "name": "stderr",
     "output_type": "stream",
     "text": [
      "C:\\Users\\mathi\\AppData\\Roaming\\Python\\Python310\\site-packages\\sklearn\\linear_model\\_coordinate_descent.py:593: ConvergenceWarning: Objective did not converge. You might want to increase the number of iterations. Duality gap: 1970774.0768319634, tolerance: 403.24542653096137\n"
     ]
    },
    {
     "name": "stdout",
     "output_type": "stream",
     "text": [
      "[CV] END ...ElasticNet__alpha=34.0, ElasticNet__l1_ratio=0.0; total time=   2.0s\n"
     ]
    },
    {
     "name": "stderr",
     "output_type": "stream",
     "text": [
      "C:\\Users\\mathi\\AppData\\Roaming\\Python\\Python310\\site-packages\\sklearn\\linear_model\\_coordinate_descent.py:593: ConvergenceWarning: Objective did not converge. You might want to increase the number of iterations. Duality gap: 1974944.1348687082, tolerance: 404.18541976850264\n"
     ]
    },
    {
     "name": "stdout",
     "output_type": "stream",
     "text": [
      "[CV] END ...ElasticNet__alpha=34.0, ElasticNet__l1_ratio=0.0; total time=   2.0s\n",
      "[CV] END ..ElasticNet__alpha=34.0, ElasticNet__l1_ratio=0.25; total time=   0.0s\n",
      "[CV] END ..ElasticNet__alpha=34.0, ElasticNet__l1_ratio=0.25; total time=   0.0s\n",
      "[CV] END ..ElasticNet__alpha=34.0, ElasticNet__l1_ratio=0.25; total time=   0.0s\n",
      "[CV] END ...ElasticNet__alpha=34.0, ElasticNet__l1_ratio=0.5; total time=   0.0s\n",
      "[CV] END ...ElasticNet__alpha=34.0, ElasticNet__l1_ratio=0.5; total time=   0.0s\n",
      "[CV] END ...ElasticNet__alpha=34.0, ElasticNet__l1_ratio=0.5; total time=   0.0s\n",
      "[CV] END ..ElasticNet__alpha=34.0, ElasticNet__l1_ratio=0.75; total time=   0.0s\n",
      "[CV] END ..ElasticNet__alpha=34.0, ElasticNet__l1_ratio=0.75; total time=   0.0s\n",
      "[CV] END ..ElasticNet__alpha=34.0, ElasticNet__l1_ratio=0.75; total time=   0.0s\n",
      "[CV] END ...ElasticNet__alpha=34.0, ElasticNet__l1_ratio=1.0; total time=   0.0s\n",
      "[CV] END ...ElasticNet__alpha=34.0, ElasticNet__l1_ratio=1.0; total time=   0.0s\n",
      "[CV] END ...ElasticNet__alpha=34.0, ElasticNet__l1_ratio=1.0; total time=   0.0s\n"
     ]
    },
    {
     "name": "stderr",
     "output_type": "stream",
     "text": [
      "C:\\Users\\mathi\\AppData\\Roaming\\Python\\Python310\\site-packages\\sklearn\\linear_model\\_coordinate_descent.py:593: ConvergenceWarning: Objective did not converge. You might want to increase the number of iterations. Duality gap: 1953741.750118487, tolerance: 397.6422871365036\n"
     ]
    },
    {
     "name": "stdout",
     "output_type": "stream",
     "text": [
      "[CV] END ...ElasticNet__alpha=45.0, ElasticNet__l1_ratio=0.0; total time=   2.1s\n"
     ]
    },
    {
     "name": "stderr",
     "output_type": "stream",
     "text": [
      "C:\\Users\\mathi\\AppData\\Roaming\\Python\\Python310\\site-packages\\sklearn\\linear_model\\_coordinate_descent.py:593: ConvergenceWarning: Objective did not converge. You might want to increase the number of iterations. Duality gap: 1981583.5725130136, tolerance: 403.24542653096137\n"
     ]
    },
    {
     "name": "stdout",
     "output_type": "stream",
     "text": [
      "[CV] END ...ElasticNet__alpha=45.0, ElasticNet__l1_ratio=0.0; total time=   2.0s\n"
     ]
    },
    {
     "name": "stderr",
     "output_type": "stream",
     "text": [
      "C:\\Users\\mathi\\AppData\\Roaming\\Python\\Python310\\site-packages\\sklearn\\linear_model\\_coordinate_descent.py:593: ConvergenceWarning: Objective did not converge. You might want to increase the number of iterations. Duality gap: 1985878.7864808557, tolerance: 404.18541976850264\n"
     ]
    },
    {
     "name": "stdout",
     "output_type": "stream",
     "text": [
      "[CV] END ...ElasticNet__alpha=45.0, ElasticNet__l1_ratio=0.0; total time=   2.0s\n",
      "[CV] END ..ElasticNet__alpha=45.0, ElasticNet__l1_ratio=0.25; total time=   0.0s\n",
      "[CV] END ..ElasticNet__alpha=45.0, ElasticNet__l1_ratio=0.25; total time=   0.0s\n",
      "[CV] END ..ElasticNet__alpha=45.0, ElasticNet__l1_ratio=0.25; total time=   0.0s\n",
      "[CV] END ...ElasticNet__alpha=45.0, ElasticNet__l1_ratio=0.5; total time=   0.0s\n",
      "[CV] END ...ElasticNet__alpha=45.0, ElasticNet__l1_ratio=0.5; total time=   0.0s\n",
      "[CV] END ...ElasticNet__alpha=45.0, ElasticNet__l1_ratio=0.5; total time=   0.0s\n",
      "[CV] END ..ElasticNet__alpha=45.0, ElasticNet__l1_ratio=0.75; total time=   0.0s\n",
      "[CV] END ..ElasticNet__alpha=45.0, ElasticNet__l1_ratio=0.75; total time=   0.0s\n",
      "[CV] END ..ElasticNet__alpha=45.0, ElasticNet__l1_ratio=0.75; total time=   0.0s\n",
      "[CV] END ...ElasticNet__alpha=45.0, ElasticNet__l1_ratio=1.0; total time=   0.0s\n",
      "[CV] END ...ElasticNet__alpha=45.0, ElasticNet__l1_ratio=1.0; total time=   0.0s\n",
      "[CV] END ...ElasticNet__alpha=45.0, ElasticNet__l1_ratio=1.0; total time=   0.0s\n"
     ]
    },
    {
     "name": "stderr",
     "output_type": "stream",
     "text": [
      "C:\\Users\\mathi\\AppData\\Roaming\\Python\\Python310\\site-packages\\sklearn\\linear_model\\_coordinate_descent.py:593: ConvergenceWarning: Objective did not converge. You might want to increase the number of iterations. Duality gap: 1960363.8644046802, tolerance: 397.6422871365036\n"
     ]
    },
    {
     "name": "stdout",
     "output_type": "stream",
     "text": [
      "[CV] END ...ElasticNet__alpha=56.0, ElasticNet__l1_ratio=0.0; total time=   2.0s\n"
     ]
    },
    {
     "name": "stderr",
     "output_type": "stream",
     "text": [
      "C:\\Users\\mathi\\AppData\\Roaming\\Python\\Python310\\site-packages\\sklearn\\linear_model\\_coordinate_descent.py:593: ConvergenceWarning: Objective did not converge. You might want to increase the number of iterations. Duality gap: 1988239.481633148, tolerance: 403.24542653096137\n"
     ]
    },
    {
     "name": "stdout",
     "output_type": "stream",
     "text": [
      "[CV] END ...ElasticNet__alpha=56.0, ElasticNet__l1_ratio=0.0; total time=   2.1s\n"
     ]
    },
    {
     "name": "stderr",
     "output_type": "stream",
     "text": [
      "C:\\Users\\mathi\\AppData\\Roaming\\Python\\Python310\\site-packages\\sklearn\\linear_model\\_coordinate_descent.py:593: ConvergenceWarning: Objective did not converge. You might want to increase the number of iterations. Duality gap: 1992612.026682227, tolerance: 404.18541976850264\n"
     ]
    },
    {
     "name": "stdout",
     "output_type": "stream",
     "text": [
      "[CV] END ...ElasticNet__alpha=56.0, ElasticNet__l1_ratio=0.0; total time=   1.9s\n",
      "[CV] END ..ElasticNet__alpha=56.0, ElasticNet__l1_ratio=0.25; total time=   0.0s\n",
      "[CV] END ..ElasticNet__alpha=56.0, ElasticNet__l1_ratio=0.25; total time=   0.0s\n",
      "[CV] END ..ElasticNet__alpha=56.0, ElasticNet__l1_ratio=0.25; total time=   0.0s\n",
      "[CV] END ...ElasticNet__alpha=56.0, ElasticNet__l1_ratio=0.5; total time=   0.0s\n",
      "[CV] END ...ElasticNet__alpha=56.0, ElasticNet__l1_ratio=0.5; total time=   0.0s\n",
      "[CV] END ...ElasticNet__alpha=56.0, ElasticNet__l1_ratio=0.5; total time=   0.0s\n",
      "[CV] END ..ElasticNet__alpha=56.0, ElasticNet__l1_ratio=0.75; total time=   0.0s\n",
      "[CV] END ..ElasticNet__alpha=56.0, ElasticNet__l1_ratio=0.75; total time=   0.0s\n",
      "[CV] END ..ElasticNet__alpha=56.0, ElasticNet__l1_ratio=0.75; total time=   0.0s\n",
      "[CV] END ...ElasticNet__alpha=56.0, ElasticNet__l1_ratio=1.0; total time=   0.0s\n",
      "[CV] END ...ElasticNet__alpha=56.0, ElasticNet__l1_ratio=1.0; total time=   0.0s\n",
      "[CV] END ...ElasticNet__alpha=56.0, ElasticNet__l1_ratio=1.0; total time=   0.0s\n"
     ]
    },
    {
     "name": "stderr",
     "output_type": "stream",
     "text": [
      "C:\\Users\\mathi\\AppData\\Roaming\\Python\\Python310\\site-packages\\sklearn\\linear_model\\_coordinate_descent.py:593: ConvergenceWarning: Objective did not converge. You might want to increase the number of iterations. Duality gap: 1964851.6091638708, tolerance: 397.6422871365036\n"
     ]
    },
    {
     "name": "stdout",
     "output_type": "stream",
     "text": [
      "[CV] END ...ElasticNet__alpha=67.0, ElasticNet__l1_ratio=0.0; total time=   2.0s\n"
     ]
    },
    {
     "name": "stderr",
     "output_type": "stream",
     "text": [
      "C:\\Users\\mathi\\AppData\\Roaming\\Python\\Python310\\site-packages\\sklearn\\linear_model\\_coordinate_descent.py:593: ConvergenceWarning: Objective did not converge. You might want to increase the number of iterations. Duality gap: 1992750.0238952418, tolerance: 403.24542653096137\n"
     ]
    },
    {
     "name": "stdout",
     "output_type": "stream",
     "text": [
      "[CV] END ...ElasticNet__alpha=67.0, ElasticNet__l1_ratio=0.0; total time=   2.0s\n"
     ]
    },
    {
     "name": "stderr",
     "output_type": "stream",
     "text": [
      "C:\\Users\\mathi\\AppData\\Roaming\\Python\\Python310\\site-packages\\sklearn\\linear_model\\_coordinate_descent.py:593: ConvergenceWarning: Objective did not converge. You might want to increase the number of iterations. Duality gap: 1997175.0904603254, tolerance: 404.18541976850264\n"
     ]
    },
    {
     "name": "stdout",
     "output_type": "stream",
     "text": [
      "[CV] END ...ElasticNet__alpha=67.0, ElasticNet__l1_ratio=0.0; total time=   1.9s\n",
      "[CV] END ..ElasticNet__alpha=67.0, ElasticNet__l1_ratio=0.25; total time=   0.0s\n",
      "[CV] END ..ElasticNet__alpha=67.0, ElasticNet__l1_ratio=0.25; total time=   0.0s\n",
      "[CV] END ..ElasticNet__alpha=67.0, ElasticNet__l1_ratio=0.25; total time=   0.0s\n",
      "[CV] END ...ElasticNet__alpha=67.0, ElasticNet__l1_ratio=0.5; total time=   0.0s\n",
      "[CV] END ...ElasticNet__alpha=67.0, ElasticNet__l1_ratio=0.5; total time=   0.0s\n",
      "[CV] END ...ElasticNet__alpha=67.0, ElasticNet__l1_ratio=0.5; total time=   0.0s\n",
      "[CV] END ..ElasticNet__alpha=67.0, ElasticNet__l1_ratio=0.75; total time=   0.0s\n",
      "[CV] END ..ElasticNet__alpha=67.0, ElasticNet__l1_ratio=0.75; total time=   0.0s\n",
      "[CV] END ..ElasticNet__alpha=67.0, ElasticNet__l1_ratio=0.75; total time=   0.0s\n",
      "[CV] END ...ElasticNet__alpha=67.0, ElasticNet__l1_ratio=1.0; total time=   0.0s\n",
      "[CV] END ...ElasticNet__alpha=67.0, ElasticNet__l1_ratio=1.0; total time=   0.0s\n",
      "[CV] END ...ElasticNet__alpha=67.0, ElasticNet__l1_ratio=1.0; total time=   0.0s\n"
     ]
    },
    {
     "name": "stderr",
     "output_type": "stream",
     "text": [
      "C:\\Users\\mathi\\AppData\\Roaming\\Python\\Python310\\site-packages\\sklearn\\linear_model\\_coordinate_descent.py:593: ConvergenceWarning: Objective did not converge. You might want to increase the number of iterations. Duality gap: 1968093.663165347, tolerance: 397.6422871365036\n"
     ]
    },
    {
     "name": "stdout",
     "output_type": "stream",
     "text": [
      "[CV] END ...ElasticNet__alpha=78.0, ElasticNet__l1_ratio=0.0; total time=   2.0s\n"
     ]
    },
    {
     "name": "stderr",
     "output_type": "stream",
     "text": [
      "C:\\Users\\mathi\\AppData\\Roaming\\Python\\Python310\\site-packages\\sklearn\\linear_model\\_coordinate_descent.py:593: ConvergenceWarning: Objective did not converge. You might want to increase the number of iterations. Duality gap: 1996008.4943654616, tolerance: 403.24542653096137\n"
     ]
    },
    {
     "name": "stdout",
     "output_type": "stream",
     "text": [
      "[CV] END ...ElasticNet__alpha=78.0, ElasticNet__l1_ratio=0.0; total time=   2.1s\n"
     ]
    },
    {
     "name": "stderr",
     "output_type": "stream",
     "text": [
      "C:\\Users\\mathi\\AppData\\Roaming\\Python\\Python310\\site-packages\\sklearn\\linear_model\\_coordinate_descent.py:593: ConvergenceWarning: Objective did not converge. You might want to increase the number of iterations. Duality gap: 2000471.5617088093, tolerance: 404.18541976850264\n"
     ]
    },
    {
     "name": "stdout",
     "output_type": "stream",
     "text": [
      "[CV] END ...ElasticNet__alpha=78.0, ElasticNet__l1_ratio=0.0; total time=   2.1s\n",
      "[CV] END ..ElasticNet__alpha=78.0, ElasticNet__l1_ratio=0.25; total time=   0.0s\n",
      "[CV] END ..ElasticNet__alpha=78.0, ElasticNet__l1_ratio=0.25; total time=   0.0s\n",
      "[CV] END ..ElasticNet__alpha=78.0, ElasticNet__l1_ratio=0.25; total time=   0.0s\n",
      "[CV] END ...ElasticNet__alpha=78.0, ElasticNet__l1_ratio=0.5; total time=   0.0s\n",
      "[CV] END ...ElasticNet__alpha=78.0, ElasticNet__l1_ratio=0.5; total time=   0.0s\n",
      "[CV] END ...ElasticNet__alpha=78.0, ElasticNet__l1_ratio=0.5; total time=   0.0s\n",
      "[CV] END ..ElasticNet__alpha=78.0, ElasticNet__l1_ratio=0.75; total time=   0.0s\n",
      "[CV] END ..ElasticNet__alpha=78.0, ElasticNet__l1_ratio=0.75; total time=   0.0s\n",
      "[CV] END ..ElasticNet__alpha=78.0, ElasticNet__l1_ratio=0.75; total time=   0.0s\n",
      "[CV] END ...ElasticNet__alpha=78.0, ElasticNet__l1_ratio=1.0; total time=   0.0s\n",
      "[CV] END ...ElasticNet__alpha=78.0, ElasticNet__l1_ratio=1.0; total time=   0.0s\n",
      "[CV] END ...ElasticNet__alpha=78.0, ElasticNet__l1_ratio=1.0; total time=   0.0s\n"
     ]
    },
    {
     "name": "stderr",
     "output_type": "stream",
     "text": [
      "C:\\Users\\mathi\\AppData\\Roaming\\Python\\Python310\\site-packages\\sklearn\\linear_model\\_coordinate_descent.py:593: ConvergenceWarning: Objective did not converge. You might want to increase the number of iterations. Duality gap: 1970545.4772558005, tolerance: 397.6422871365036\n"
     ]
    },
    {
     "name": "stdout",
     "output_type": "stream",
     "text": [
      "[CV] END ...ElasticNet__alpha=89.0, ElasticNet__l1_ratio=0.0; total time=   2.0s\n"
     ]
    },
    {
     "name": "stderr",
     "output_type": "stream",
     "text": [
      "C:\\Users\\mathi\\AppData\\Roaming\\Python\\Python310\\site-packages\\sklearn\\linear_model\\_coordinate_descent.py:593: ConvergenceWarning: Objective did not converge. You might want to increase the number of iterations. Duality gap: 1998472.69384812, tolerance: 403.24542653096137\n"
     ]
    },
    {
     "name": "stdout",
     "output_type": "stream",
     "text": [
      "[CV] END ...ElasticNet__alpha=89.0, ElasticNet__l1_ratio=0.0; total time=   2.1s\n"
     ]
    },
    {
     "name": "stderr",
     "output_type": "stream",
     "text": [
      "C:\\Users\\mathi\\AppData\\Roaming\\Python\\Python310\\site-packages\\sklearn\\linear_model\\_coordinate_descent.py:593: ConvergenceWarning: Objective did not converge. You might want to increase the number of iterations. Duality gap: 2002964.5317816401, tolerance: 404.18541976850264\n"
     ]
    },
    {
     "name": "stdout",
     "output_type": "stream",
     "text": [
      "[CV] END ...ElasticNet__alpha=89.0, ElasticNet__l1_ratio=0.0; total time=   2.0s\n",
      "[CV] END ..ElasticNet__alpha=89.0, ElasticNet__l1_ratio=0.25; total time=   0.0s\n",
      "[CV] END ..ElasticNet__alpha=89.0, ElasticNet__l1_ratio=0.25; total time=   0.0s\n",
      "[CV] END ..ElasticNet__alpha=89.0, ElasticNet__l1_ratio=0.25; total time=   0.0s\n",
      "[CV] END ...ElasticNet__alpha=89.0, ElasticNet__l1_ratio=0.5; total time=   0.0s\n",
      "[CV] END ...ElasticNet__alpha=89.0, ElasticNet__l1_ratio=0.5; total time=   0.0s\n",
      "[CV] END ...ElasticNet__alpha=89.0, ElasticNet__l1_ratio=0.5; total time=   0.0s\n",
      "[CV] END ..ElasticNet__alpha=89.0, ElasticNet__l1_ratio=0.75; total time=   0.0s\n",
      "[CV] END ..ElasticNet__alpha=89.0, ElasticNet__l1_ratio=0.75; total time=   0.0s\n",
      "[CV] END ..ElasticNet__alpha=89.0, ElasticNet__l1_ratio=0.75; total time=   0.0s\n",
      "[CV] END ...ElasticNet__alpha=89.0, ElasticNet__l1_ratio=1.0; total time=   0.0s\n",
      "[CV] END ...ElasticNet__alpha=89.0, ElasticNet__l1_ratio=1.0; total time=   0.0s\n",
      "[CV] END ...ElasticNet__alpha=89.0, ElasticNet__l1_ratio=1.0; total time=   0.0s\n"
     ]
    },
    {
     "name": "stderr",
     "output_type": "stream",
     "text": [
      "C:\\Users\\mathi\\AppData\\Roaming\\Python\\Python310\\site-packages\\sklearn\\linear_model\\_coordinate_descent.py:593: ConvergenceWarning: Objective did not converge. You might want to increase the number of iterations. Duality gap: 1972464.5920670186, tolerance: 397.6422871365036\n"
     ]
    },
    {
     "name": "stdout",
     "output_type": "stream",
     "text": [
      "[CV] END ..ElasticNet__alpha=100.0, ElasticNet__l1_ratio=0.0; total time=   2.1s\n"
     ]
    },
    {
     "name": "stderr",
     "output_type": "stream",
     "text": [
      "C:\\Users\\mathi\\AppData\\Roaming\\Python\\Python310\\site-packages\\sklearn\\linear_model\\_coordinate_descent.py:593: ConvergenceWarning: Objective did not converge. You might want to increase the number of iterations. Duality gap: 2000401.4852704336, tolerance: 403.24542653096137\n"
     ]
    },
    {
     "name": "stdout",
     "output_type": "stream",
     "text": [
      "[CV] END ..ElasticNet__alpha=100.0, ElasticNet__l1_ratio=0.0; total time=   2.1s\n"
     ]
    },
    {
     "name": "stderr",
     "output_type": "stream",
     "text": [
      "C:\\Users\\mathi\\AppData\\Roaming\\Python\\Python310\\site-packages\\sklearn\\linear_model\\_coordinate_descent.py:593: ConvergenceWarning: Objective did not converge. You might want to increase the number of iterations. Duality gap: 2004915.8623705355, tolerance: 404.18541976850264\n"
     ]
    },
    {
     "name": "stdout",
     "output_type": "stream",
     "text": [
      "[CV] END ..ElasticNet__alpha=100.0, ElasticNet__l1_ratio=0.0; total time=   2.0s\n",
      "[CV] END .ElasticNet__alpha=100.0, ElasticNet__l1_ratio=0.25; total time=   0.0s\n",
      "[CV] END .ElasticNet__alpha=100.0, ElasticNet__l1_ratio=0.25; total time=   0.0s\n",
      "[CV] END .ElasticNet__alpha=100.0, ElasticNet__l1_ratio=0.25; total time=   0.0s\n",
      "[CV] END ..ElasticNet__alpha=100.0, ElasticNet__l1_ratio=0.5; total time=   0.0s\n",
      "[CV] END ..ElasticNet__alpha=100.0, ElasticNet__l1_ratio=0.5; total time=   0.0s\n",
      "[CV] END ..ElasticNet__alpha=100.0, ElasticNet__l1_ratio=0.5; total time=   0.0s\n",
      "[CV] END .ElasticNet__alpha=100.0, ElasticNet__l1_ratio=0.75; total time=   0.0s\n",
      "[CV] END .ElasticNet__alpha=100.0, ElasticNet__l1_ratio=0.75; total time=   0.0s\n",
      "[CV] END .ElasticNet__alpha=100.0, ElasticNet__l1_ratio=0.75; total time=   0.0s\n",
      "[CV] END ..ElasticNet__alpha=100.0, ElasticNet__l1_ratio=1.0; total time=   0.0s\n",
      "[CV] END ..ElasticNet__alpha=100.0, ElasticNet__l1_ratio=1.0; total time=   0.0s\n",
      "[CV] END ..ElasticNet__alpha=100.0, ElasticNet__l1_ratio=1.0; total time=   0.0s\n"
     ]
    },
    {
     "name": "stderr",
     "output_type": "stream",
     "text": [
      "C:\\Users\\mathi\\AppData\\Roaming\\Python\\Python310\\site-packages\\sklearn\\linear_model\\_coordinate_descent.py:593: ConvergenceWarning: Objective did not converge. You might want to increase the number of iterations. Duality gap: 802234.3918764662, tolerance: 602.5525668681341\n"
     ]
    }
   ],
   "source": [
    "# Runs about 3 minutes\n",
    "search = (\n",
    "    GridSearchCV(model_pipeline, param_grid=grid, cv=3, verbose=2, scoring=\"r2\")\n",
    "    .fit(X_train, y_train)\n",
    ")"
   ]
  },
  {
   "cell_type": "code",
   "execution_count": 185,
   "metadata": {},
   "outputs": [
    {
     "data": {
      "text/html": [
       "<div>\n",
       "<style scoped>\n",
       "    .dataframe tbody tr th:only-of-type {\n",
       "        vertical-align: middle;\n",
       "    }\n",
       "\n",
       "    .dataframe tbody tr th {\n",
       "        vertical-align: top;\n",
       "    }\n",
       "\n",
       "    .dataframe thead th {\n",
       "        text-align: right;\n",
       "    }\n",
       "</style>\n",
       "<table border=\"1\" class=\"dataframe\">\n",
       "  <thead>\n",
       "    <tr style=\"text-align: right;\">\n",
       "      <th></th>\n",
       "      <th>l1_ratio</th>\n",
       "      <th>alpha</th>\n",
       "      <th>mean_test_score</th>\n",
       "    </tr>\n",
       "  </thead>\n",
       "  <tbody>\n",
       "    <tr>\n",
       "      <th>5</th>\n",
       "      <td>0.0</td>\n",
       "      <td>0.0001</td>\n",
       "      <td>0.732793</td>\n",
       "    </tr>\n",
       "    <tr>\n",
       "      <th>6</th>\n",
       "      <td>0.25</td>\n",
       "      <td>0.0001</td>\n",
       "      <td>0.732792</td>\n",
       "    </tr>\n",
       "    <tr>\n",
       "      <th>7</th>\n",
       "      <td>0.5</td>\n",
       "      <td>0.0001</td>\n",
       "      <td>0.732791</td>\n",
       "    </tr>\n",
       "    <tr>\n",
       "      <th>8</th>\n",
       "      <td>0.75</td>\n",
       "      <td>0.0001</td>\n",
       "      <td>0.732789</td>\n",
       "    </tr>\n",
       "    <tr>\n",
       "      <th>9</th>\n",
       "      <td>1.0</td>\n",
       "      <td>0.0001</td>\n",
       "      <td>0.732787</td>\n",
       "    </tr>\n",
       "    <tr>\n",
       "      <th>...</th>\n",
       "      <td>...</td>\n",
       "      <td>...</td>\n",
       "      <td>...</td>\n",
       "    </tr>\n",
       "    <tr>\n",
       "      <th>43</th>\n",
       "      <td>0.75</td>\n",
       "      <td>34.0</td>\n",
       "      <td>-0.000238</td>\n",
       "    </tr>\n",
       "    <tr>\n",
       "      <th>49</th>\n",
       "      <td>1.0</td>\n",
       "      <td>45.0</td>\n",
       "      <td>-0.000238</td>\n",
       "    </tr>\n",
       "    <tr>\n",
       "      <th>48</th>\n",
       "      <td>0.75</td>\n",
       "      <td>45.0</td>\n",
       "      <td>-0.000238</td>\n",
       "    </tr>\n",
       "    <tr>\n",
       "      <th>47</th>\n",
       "      <td>0.5</td>\n",
       "      <td>45.0</td>\n",
       "      <td>-0.000238</td>\n",
       "    </tr>\n",
       "    <tr>\n",
       "      <th>74</th>\n",
       "      <td>1.0</td>\n",
       "      <td>100.0</td>\n",
       "      <td>-0.000238</td>\n",
       "    </tr>\n",
       "  </tbody>\n",
       "</table>\n",
       "<p>75 rows × 3 columns</p>\n",
       "</div>"
      ],
      "text/plain": [
       "   l1_ratio   alpha  mean_test_score\n",
       "5       0.0  0.0001         0.732793\n",
       "6      0.25  0.0001         0.732792\n",
       "7       0.5  0.0001         0.732791\n",
       "8      0.75  0.0001         0.732789\n",
       "9       1.0  0.0001         0.732787\n",
       "..      ...     ...              ...\n",
       "43     0.75    34.0        -0.000238\n",
       "49      1.0    45.0        -0.000238\n",
       "48     0.75    45.0        -0.000238\n",
       "47      0.5    45.0        -0.000238\n",
       "74      1.0   100.0        -0.000238\n",
       "\n",
       "[75 rows x 3 columns]"
      ]
     },
     "execution_count": 185,
     "metadata": {},
     "output_type": "execute_result"
    }
   ],
   "source": [
    "# Select the hyperparams and the score from the results\n",
    "search_results = pd.DataFrame(search.cv_results_).filter([\"param_\" + x for x in list(grid.keys())] + [\"mean_test_score\"])\n",
    "\n",
    "# Clean up column headers\n",
    "search_results.columns = search_results.columns.str.replace(\"param_ElasticNet__\", \"\")\n",
    "\n",
    "search_results.sort_values(\"mean_test_score\", ascending=False)"
   ]
  },
  {
   "cell_type": "code",
   "execution_count": 187,
   "metadata": {},
   "outputs": [
    {
     "data": {
      "text/html": [
       "<div>\n",
       "<style scoped>\n",
       "    .dataframe tbody tr th:only-of-type {\n",
       "        vertical-align: middle;\n",
       "    }\n",
       "\n",
       "    .dataframe tbody tr th {\n",
       "        vertical-align: top;\n",
       "    }\n",
       "\n",
       "    .dataframe thead th {\n",
       "        text-align: right;\n",
       "    }\n",
       "</style>\n",
       "<table border=\"1\" class=\"dataframe\">\n",
       "  <thead>\n",
       "    <tr style=\"text-align: right;\">\n",
       "      <th></th>\n",
       "      <th>mean_test_score</th>\n",
       "    </tr>\n",
       "  </thead>\n",
       "  <tbody>\n",
       "    <tr>\n",
       "      <th>count</th>\n",
       "      <td>75.000000</td>\n",
       "    </tr>\n",
       "    <tr>\n",
       "      <th>mean</th>\n",
       "      <td>0.286180</td>\n",
       "    </tr>\n",
       "    <tr>\n",
       "      <th>std</th>\n",
       "      <td>0.337922</td>\n",
       "    </tr>\n",
       "    <tr>\n",
       "      <th>min</th>\n",
       "      <td>-0.000238</td>\n",
       "    </tr>\n",
       "    <tr>\n",
       "      <th>25%</th>\n",
       "      <td>-0.000238</td>\n",
       "    </tr>\n",
       "    <tr>\n",
       "      <th>50%</th>\n",
       "      <td>0.033867</td>\n",
       "    </tr>\n",
       "    <tr>\n",
       "      <th>75%</th>\n",
       "      <td>0.719074</td>\n",
       "    </tr>\n",
       "    <tr>\n",
       "      <th>max</th>\n",
       "      <td>0.732793</td>\n",
       "    </tr>\n",
       "  </tbody>\n",
       "</table>\n",
       "</div>"
      ],
      "text/plain": [
       "       mean_test_score\n",
       "count        75.000000\n",
       "mean          0.286180\n",
       "std           0.337922\n",
       "min          -0.000238\n",
       "25%          -0.000238\n",
       "50%           0.033867\n",
       "75%           0.719074\n",
       "max           0.732793"
      ]
     },
     "execution_count": 187,
     "metadata": {},
     "output_type": "execute_result"
    }
   ],
   "source": [
    "search_results.describe()"
   ]
  },
  {
   "attachments": {},
   "cell_type": "markdown",
   "metadata": {},
   "source": [
    "Select best model from tuning:"
   ]
  },
  {
   "cell_type": "code",
   "execution_count": 192,
   "metadata": {},
   "outputs": [
    {
     "data": {
      "text/plain": [
       "{'ElasticNet__alpha': 0.0001, 'ElasticNet__l1_ratio': 0.0}"
      ]
     },
     "execution_count": 192,
     "metadata": {},
     "output_type": "execute_result"
    }
   ],
   "source": [
    "search.best_params_"
   ]
  },
  {
   "attachments": {},
   "cell_type": "markdown",
   "metadata": {},
   "source": [
    "Actually **no need to refit model**, as GridSearchCV does that automatically, apparently."
   ]
  },
  {
   "cell_type": "code",
   "execution_count": 193,
   "metadata": {},
   "outputs": [
    {
     "name": "stdout",
     "output_type": "stream",
     "text": [
      "R-Squared: 0.746339473589392\n",
      "MAE: 5.24265470306493\n",
      "MAPE: 0.07375832937399185\n"
     ]
    }
   ],
   "source": [
    "# Print the metrics\n",
    "print(f\"R-Squared: {r2_score(y_pred=search.predict(X_test), y_true=y_test)}\")\n",
    "print(f\"MAE: {mean_absolute_error(y_pred=search.predict(X_test), y_true=y_test)}\")\n",
    "print(f\"MAPE: {mean_absolute_percentage_error(y_pred=search.predict(X_test), y_true=y_test)}\")"
   ]
  },
  {
   "cell_type": "code",
   "execution_count": 190,
   "metadata": {},
   "outputs": [
    {
     "data": {
      "image/png": "[encoded data removed]",
      "text/plain": [
       "<Figure size 640x480 with 1 Axes>"
      ]
     },
     "metadata": {},
     "output_type": "display_data"
    },
    {
     "data": {
      "text/plain": [
       "<ggplot: (89687599876)>"
      ]
     },
     "execution_count": 190,
     "metadata": {},
     "output_type": "execute_result"
    }
   ],
   "source": [
    "predictions = pd.DataFrame({\"predictions\":search.predict(X_test), \"truth\":y_test})\n",
    "\n",
    "(ggplot(data=predictions, mapping=aes(x=\"truth\", y=\"predictions\")) +\n",
    "    geom_point(alpha=0.3) +\n",
    "    geom_abline(colour=\"blue\", linetype=\"dotted\", size=1) +\n",
    "    labs(title=\"Predicted vs. Actual Values for Weight\") +\n",
    "    theme_bw()\n",
    ")"
   ]
  }
 ],
 "metadata": {
  "kernelspec": {
   "display_name": "Python 3",
   "language": "python",
   "name": "python3"
  },
  "language_info": {
   "codemirror_mode": {
    "name": "ipython",
    "version": 3
   },
   "file_extension": ".py",
   "mimetype": "text/x-python",
   "name": "python",
   "nbconvert_exporter": "python",
   "pygments_lexer": "ipython3",
   "version": "3.10.5"
  },
  "orig_nbformat": 4,
  "vscode": {
   "interpreter": {
    "hash": "607db476e417971f05b607c2dd14e77ee8262c2c4c20dea422522c60605a222a"
   }
  }
 },
 "nbformat": 4,
 "nbformat_minor": 2
}
