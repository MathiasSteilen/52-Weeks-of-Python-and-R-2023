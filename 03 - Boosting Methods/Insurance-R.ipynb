{
 "cells": [
  {
   "attachments": {},
   "cell_type": "markdown",
   "metadata": {},
   "source": [
    "# Comparing Boosting Methods in `tidymodels` 🚀\n",
    "\n",
    "And among others:\n",
    "- hyperparameter tuning using a space filling design\n",
    "- out-of-sample fit scoring\n",
    "\n",
    "First importing the relevant libraries:"
   ]
  },
  {
   "cell_type": "code",
   "execution_count": 6,
   "metadata": {
    "vscode": {
     "languageId": "r"
    }
   },
   "outputs": [],
   "source": [
    "# Libraries\n",
    "library(tidyverse)\n",
    "library(tidymodels)\n",
    "library(doParallel)\n",
    "library(tidytext)\n",
    "library(ggridges)\n",
    "library(vip)\n",
    "library(lubridate)\n",
    "library(broom)\n",
    "library(scales)\n",
    "library(bonsai)\n",
    "\n",
    "# Chart Theme\n",
    "theme_set(theme_bw() +\n",
    "          theme(plot.title = element_text(size = 14, face = \"bold\"),\n",
    "                plot.subtitle = element_text(size = 10, face = \"italic\",\n",
    "                                             colour = \"grey50\")))"
   ]
  },
  {
   "cell_type": "code",
   "execution_count": 2,
   "metadata": {
    "vscode": {
     "languageId": "r"
    }
   },
   "outputs": [],
   "source": [
    "dt_train <- read_csv(\"train.csv\", show_col_types = F)\n",
    "dt_test <- read_csv(\"test.csv\", show_col_types = F)\n",
    "folds <- vfold_cv(dt_train, v = 3)"
   ]
  },
  {
   "attachments": {},
   "cell_type": "markdown",
   "metadata": {},
   "source": [
    "## One quick chart\n",
    "\n",
    "This week, I started with Python and then translated to R. Therefore, I won't redo the same charts, I already did with `plotnine`, but will make a new one that would be much harder to do in Python:"
   ]
  },
  {
   "cell_type": "code",
   "execution_count": 9,
   "metadata": {
    "vscode": {
     "languageId": "r"
    }
   },
   "outputs": [
    {
     "name": "stderr",
     "output_type": "stream",
     "text": [
      "Picking joint bandwidth of 2.52\n",
      "\n",
      "Picking joint bandwidth of 2.35\n",
      "\n",
      "Picking joint bandwidth of 2.44\n",
      "\n"
     ]
    },
    {
     "data": {
      "image/png": "[encoded data removed]",
      "text/plain": [
       "plot without title"
      ]
     },
     "metadata": {
      "image/png": {
       "height": 180,
       "width": 360
      }
     },
     "output_type": "display_data"
    }
   ],
   "source": [
    "options(repr.plot.width = 6, repr.plot.height = 3)\n",
    "\n",
    "dt_train %>% \n",
    "  select(where(is.character), charges) %>% \n",
    "  pivot_longer(-charges) %>% \n",
    "  mutate(charges = charges/1000) %>% \n",
    "  ggplot(aes(charges, \n",
    "             value %>% reorder_within(charges, name),\n",
    "             fill = name)) +\n",
    "  geom_density_ridges(scale = 1.5, alpha = 0.5, size = 0.25) +\n",
    "  facet_wrap(~ name, scales = \"free\") +\n",
    "  scale_y_reordered() +\n",
    "  scale_x_continuous(labels = dollar_format(suffix = \"k\")) +\n",
    "  ggsci::scale_fill_futurama() +\n",
    "  labs(title = \"Density of Charges by Nominal Predictor Value\",\n",
    "       y = NULL, x = \"Charges\") +\n",
    "  theme(legend.position = \"none\",\n",
    "        strip.background = element_rect(fill = alpha(\"black\", 0.1)),\n",
    "        strip.text = element_text(face = \"bold\", size = 10))"
   ]
  },
  {
   "cell_type": "code",
   "execution_count": null,
   "metadata": {
    "vscode": {
     "languageId": "r"
    }
   },
   "outputs": [],
   "source": [
    "# Save for the markdown file\n",
    "# ggsave(file = \"ridges.png\", dpi = 350, width = 6, height = 3)"
   ]
  },
  {
   "attachments": {},
   "cell_type": "markdown",
   "metadata": {},
   "source": [
    "## Continue with the models"
   ]
  },
  {
   "attachments": {},
   "cell_type": "markdown",
   "metadata": {},
   "source": [
    "Building both models in `tidymodels` includes:\n",
    "- the model specification, including the `engine` and `mode`\n",
    "- the `recipe`, including all preprocessing steps"
   ]
  },
  {
   "cell_type": "code",
   "execution_count": 23,
   "metadata": {
    "vscode": {
     "languageId": "r"
    }
   },
   "outputs": [],
   "source": [
    "# XGBoost Model\n",
    "xg_wflow <- workflow() %>% \n",
    "  add_model(\n",
    "    boost_tree(trees = tune(),\n",
    "               tree_depth = tune(),\n",
    "               min_n = tune(),\n",
    "               loss_reduction = tune(),\n",
    "               sample_size = tune(),\n",
    "               mtry = tune(),\n",
    "               learn_rate = tune()) %>%\n",
    "      set_engine(\"xgboost\", importance = \"impurity\") %>%\n",
    "      set_mode(\"regression\")\n",
    "  ) %>% \n",
    "  add_recipe(\n",
    "    recipe(charges ~ ., data = dt_train) %>% \n",
    "      step_novel(all_nominal_predictors()) %>% \n",
    "      step_normalize(all_numeric_predictors()) %>% \n",
    "      step_dummy(all_nominal_predictors(), one_hot = TRUE),\n",
    "    blueprint = hardhat::default_recipe_blueprint(allow_novel_levels = TRUE)\n",
    "  )"
   ]
  },
  {
   "cell_type": "code",
   "execution_count": 45,
   "metadata": {
    "vscode": {
     "languageId": "r"
    }
   },
   "outputs": [
    {
     "data": {
      "text/html": [
       "<table class=\"dataframe\">\n",
       "<caption>A tibble: 5 × 4</caption>\n",
       "<thead>\n",
       "\t<tr><th scope=col>.metric</th><th scope=col>mean</th><th scope=col>std_err</th><th scope=col>n</th></tr>\n",
       "\t<tr><th scope=col>&lt;chr&gt;</th><th scope=col>&lt;dbl&gt;</th><th scope=col>&lt;dbl&gt;</th><th scope=col>&lt;int&gt;</th></tr>\n",
       "</thead>\n",
       "<tbody>\n",
       "\t<tr><td>rmse</td><td>4681.691</td><td>305.5070</td><td>3</td></tr>\n",
       "\t<tr><td>rmse</td><td>4720.669</td><td>279.1093</td><td>3</td></tr>\n",
       "\t<tr><td>rmse</td><td>4729.883</td><td>272.8867</td><td>3</td></tr>\n",
       "\t<tr><td>rmse</td><td>4741.291</td><td>274.6010</td><td>3</td></tr>\n",
       "\t<tr><td>rmse</td><td>4752.347</td><td>284.3850</td><td>3</td></tr>\n",
       "</tbody>\n",
       "</table>\n"
      ],
      "text/latex": [
       "A tibble: 5 × 4\n",
       "\\begin{tabular}{llll}\n",
       " .metric & mean & std\\_err & n\\\\\n",
       " <chr> & <dbl> & <dbl> & <int>\\\\\n",
       "\\hline\n",
       "\t rmse & 4681.691 & 305.5070 & 3\\\\\n",
       "\t rmse & 4720.669 & 279.1093 & 3\\\\\n",
       "\t rmse & 4729.883 & 272.8867 & 3\\\\\n",
       "\t rmse & 4741.291 & 274.6010 & 3\\\\\n",
       "\t rmse & 4752.347 & 284.3850 & 3\\\\\n",
       "\\end{tabular}\n"
      ],
      "text/markdown": [
       "\n",
       "A tibble: 5 × 4\n",
       "\n",
       "| .metric &lt;chr&gt; | mean &lt;dbl&gt; | std_err &lt;dbl&gt; | n &lt;int&gt; |\n",
       "|---|---|---|---|\n",
       "| rmse | 4681.691 | 305.5070 | 3 |\n",
       "| rmse | 4720.669 | 279.1093 | 3 |\n",
       "| rmse | 4729.883 | 272.8867 | 3 |\n",
       "| rmse | 4741.291 | 274.6010 | 3 |\n",
       "| rmse | 4752.347 | 284.3850 | 3 |\n",
       "\n"
      ],
      "text/plain": [
       "  .metric mean     std_err  n\n",
       "1 rmse    4681.691 305.5070 3\n",
       "2 rmse    4720.669 279.1093 3\n",
       "3 rmse    4729.883 272.8867 3\n",
       "4 rmse    4741.291 274.6010 3\n",
       "5 rmse    4752.347 284.3850 3"
      ]
     },
     "metadata": {},
     "output_type": "display_data"
    }
   ],
   "source": [
    "# Hyperparameter Tuning XGBoost\n",
    "start_time <- Sys.time()\n",
    "unregister_dopar <- function() {\n",
    "  env <- foreach:::.foreachGlobals\n",
    "  rm(list=ls(name=env), pos=env)\n",
    "}\n",
    "\n",
    "cl <- makePSOCKcluster(7)\n",
    "registerDoParallel(cl)\n",
    "\n",
    "xg_tune <- tune_grid(object = xg_wflow,\n",
    "                     resamples = folds,\n",
    "                     grid = grid_latin_hypercube(\n",
    "                       trees(),\n",
    "                       tree_depth(),\n",
    "                       min_n(),\n",
    "                       loss_reduction(),\n",
    "                       sample_size = sample_prop(),\n",
    "                       finalize(mtry(), dt_train),\n",
    "                       learn_rate(),\n",
    "                       size = 100\n",
    "                     ))\n",
    "\n",
    "stopCluster(cl)\n",
    "unregister_dopar()\n",
    "Sys.time() - start_time\n",
    "\n",
    "xg_tune %>% \n",
    "  show_best(metric = \"rmse\") %>% \n",
    "  select(.metric, mean, std_err, n)"
   ]
  },
  {
   "cell_type": "code",
   "execution_count": 28,
   "metadata": {
    "vscode": {
     "languageId": "r"
    }
   },
   "outputs": [],
   "source": [
    "# LGBM Model\n",
    "lgbm_wflow <- workflow() %>% \n",
    "  add_model(\n",
    "    boost_tree(trees = tune(),\n",
    "               tree_depth = tune(),\n",
    "               min_n = tune(),\n",
    "               loss_reduction = tune(),\n",
    "               mtry = tune(),\n",
    "               learn_rate = tune()) %>%\n",
    "      set_engine(\"lightgbm\", objective=\"mse\") %>%\n",
    "      set_mode(\"regression\")\n",
    "  ) %>% \n",
    "  add_recipe(\n",
    "    recipe(charges ~ ., data = dt_train) %>% \n",
    "      step_novel(all_nominal_predictors()) %>% \n",
    "      step_normalize(all_numeric_predictors()) %>% \n",
    "      step_dummy(all_nominal_predictors(), one_hot = TRUE),\n",
    "    blueprint = hardhat::default_recipe_blueprint(allow_novel_levels = TRUE)\n",
    "  )"
   ]
  },
  {
   "cell_type": "code",
   "execution_count": 44,
   "metadata": {
    "vscode": {
     "languageId": "r"
    }
   },
   "outputs": [
    {
     "data": {
      "text/html": [
       "<table class=\"dataframe\">\n",
       "<caption>A tibble: 5 × 4</caption>\n",
       "<thead>\n",
       "\t<tr><th scope=col>.metric</th><th scope=col>mean</th><th scope=col>std_err</th><th scope=col>n</th></tr>\n",
       "\t<tr><th scope=col>&lt;chr&gt;</th><th scope=col>&lt;dbl&gt;</th><th scope=col>&lt;dbl&gt;</th><th scope=col>&lt;int&gt;</th></tr>\n",
       "</thead>\n",
       "<tbody>\n",
       "\t<tr><td>rmse</td><td>4726.056</td><td>278.8142</td><td>3</td></tr>\n",
       "\t<tr><td>rmse</td><td>4783.247</td><td>278.2388</td><td>3</td></tr>\n",
       "\t<tr><td>rmse</td><td>4818.970</td><td>216.2120</td><td>3</td></tr>\n",
       "\t<tr><td>rmse</td><td>4832.759</td><td>304.5370</td><td>3</td></tr>\n",
       "\t<tr><td>rmse</td><td>4835.273</td><td>302.4014</td><td>3</td></tr>\n",
       "</tbody>\n",
       "</table>\n"
      ],
      "text/latex": [
       "A tibble: 5 × 4\n",
       "\\begin{tabular}{llll}\n",
       " .metric & mean & std\\_err & n\\\\\n",
       " <chr> & <dbl> & <dbl> & <int>\\\\\n",
       "\\hline\n",
       "\t rmse & 4726.056 & 278.8142 & 3\\\\\n",
       "\t rmse & 4783.247 & 278.2388 & 3\\\\\n",
       "\t rmse & 4818.970 & 216.2120 & 3\\\\\n",
       "\t rmse & 4832.759 & 304.5370 & 3\\\\\n",
       "\t rmse & 4835.273 & 302.4014 & 3\\\\\n",
       "\\end{tabular}\n"
      ],
      "text/markdown": [
       "\n",
       "A tibble: 5 × 4\n",
       "\n",
       "| .metric &lt;chr&gt; | mean &lt;dbl&gt; | std_err &lt;dbl&gt; | n &lt;int&gt; |\n",
       "|---|---|---|---|\n",
       "| rmse | 4726.056 | 278.8142 | 3 |\n",
       "| rmse | 4783.247 | 278.2388 | 3 |\n",
       "| rmse | 4818.970 | 216.2120 | 3 |\n",
       "| rmse | 4832.759 | 304.5370 | 3 |\n",
       "| rmse | 4835.273 | 302.4014 | 3 |\n",
       "\n"
      ],
      "text/plain": [
       "  .metric mean     std_err  n\n",
       "1 rmse    4726.056 278.8142 3\n",
       "2 rmse    4783.247 278.2388 3\n",
       "3 rmse    4818.970 216.2120 3\n",
       "4 rmse    4832.759 304.5370 3\n",
       "5 rmse    4835.273 302.4014 3"
      ]
     },
     "metadata": {},
     "output_type": "display_data"
    }
   ],
   "source": [
    "# Hyperparameter Tuning LGBM\n",
    "start_time <- Sys.time()\n",
    "unregister_dopar <- function() {\n",
    "  env <- foreach:::.foreachGlobals\n",
    "  rm(list=ls(name=env), pos=env)\n",
    "}\n",
    "\n",
    "cl <- makePSOCKcluster(7)\n",
    "registerDoParallel(cl)\n",
    "\n",
    "lgbm_tune <- tune_grid(object = lgbm_wflow,\n",
    "                       resamples = folds,\n",
    "                       grid = grid_latin_hypercube(\n",
    "                         trees(),\n",
    "                         tree_depth(),\n",
    "                         min_n(),\n",
    "                         loss_reduction(),\n",
    "                         finalize(mtry(), dt_train),\n",
    "                         learn_rate(),\n",
    "                         size = 100\n",
    "                       ))\n",
    "\n",
    "stopCluster(cl)\n",
    "unregister_dopar()\n",
    "Sys.time() - start_time\n",
    "\n",
    "lgbm_tune %>% \n",
    "  show_best(metric = \"rmse\") %>% \n",
    "  select(.metric, mean, std_err, n)"
   ]
  },
  {
   "attachments": {},
   "cell_type": "markdown",
   "metadata": {},
   "source": [
    "Wow, the hyperparameter tuning for LGBM took a long time with `tidymodels`! Next up, fitting the models with the best hyperparameters from the tuning results:"
   ]
  },
  {
   "cell_type": "code",
   "execution_count": 46,
   "metadata": {
    "vscode": {
     "languageId": "r"
    }
   },
   "outputs": [
    {
     "name": "stdout",
     "output_type": "stream",
     "text": [
      "[20:30:57] WARNING: amalgamation/../src/learner.cc:627: \n",
      "Parameters: { \"importance\" } might not be used.\n",
      "\n",
      "  This could be a false alarm, with some parameters getting used by language bindings but\n",
      "  then being mistakenly passed down to XGBoost core, or some parameter actually being used\n",
      "  but getting flagged wrongly here. Please open an issue if you find any such cases.\n",
      "\n",
      "\n"
     ]
    }
   ],
   "source": [
    "# Fit the best models\n",
    "xg_fit <- xg_wflow %>% \n",
    "  finalize_workflow(select_best(xg_tune, metric = \"rmse\")) %>% \n",
    "  fit(dt_train)"
   ]
  },
  {
   "cell_type": "code",
   "execution_count": 47,
   "metadata": {
    "vscode": {
     "languageId": "r"
    }
   },
   "outputs": [],
   "source": [
    "lgbm_fit <- lgbm_wflow %>% \n",
    "  finalize_workflow(select_best(lgbm_tune, metric=\"rmse\")) %>% \n",
    "  fit(dt_train)"
   ]
  },
  {
   "attachments": {},
   "cell_type": "markdown",
   "metadata": {},
   "source": [
    "With `tidymodels`, it's incredibly convenient to calculate multiple evaluation metrics in one step:"
   ]
  },
  {
   "cell_type": "code",
   "execution_count": 48,
   "metadata": {
    "vscode": {
     "languageId": "r"
    }
   },
   "outputs": [],
   "source": [
    "eval_metrics <- metric_set(rsq, mae, mape)"
   ]
  },
  {
   "cell_type": "code",
   "execution_count": 56,
   "metadata": {
    "vscode": {
     "languageId": "r"
    }
   },
   "outputs": [
    {
     "data": {
      "text/html": [
       "<table class=\"dataframe\">\n",
       "<caption>A tibble: 3 × 3</caption>\n",
       "<thead>\n",
       "\t<tr><th scope=col>.metric</th><th scope=col>LGBM</th><th scope=col>XGBoost</th></tr>\n",
       "\t<tr><th scope=col>&lt;chr&gt;</th><th scope=col>&lt;dbl&gt;</th><th scope=col>&lt;dbl&gt;</th></tr>\n",
       "</thead>\n",
       "<tbody>\n",
       "\t<tr><td>rsq </td><td>   0.8736014</td><td>   0.8775492</td></tr>\n",
       "\t<tr><td>mae </td><td>2456.5254949</td><td>2182.5013151</td></tr>\n",
       "\t<tr><td>mape</td><td>  35.6821793</td><td>  26.4608142</td></tr>\n",
       "</tbody>\n",
       "</table>\n"
      ],
      "text/latex": [
       "A tibble: 3 × 3\n",
       "\\begin{tabular}{lll}\n",
       " .metric & LGBM & XGBoost\\\\\n",
       " <chr> & <dbl> & <dbl>\\\\\n",
       "\\hline\n",
       "\t rsq  &    0.8736014 &    0.8775492\\\\\n",
       "\t mae  & 2456.5254949 & 2182.5013151\\\\\n",
       "\t mape &   35.6821793 &   26.4608142\\\\\n",
       "\\end{tabular}\n"
      ],
      "text/markdown": [
       "\n",
       "A tibble: 3 × 3\n",
       "\n",
       "| .metric &lt;chr&gt; | LGBM &lt;dbl&gt; | XGBoost &lt;dbl&gt; |\n",
       "|---|---|---|\n",
       "| rsq  |    0.8736014 |    0.8775492 |\n",
       "| mae  | 2456.5254949 | 2182.5013151 |\n",
       "| mape |   35.6821793 |   26.4608142 |\n",
       "\n"
      ],
      "text/plain": [
       "  .metric LGBM         XGBoost     \n",
       "1 rsq        0.8736014    0.8775492\n",
       "2 mae     2456.5254949 2182.5013151\n",
       "3 mape      35.6821793   26.4608142"
      ]
     },
     "metadata": {},
     "output_type": "display_data"
    }
   ],
   "source": [
    "bind_rows(\n",
    "    xg_fit %>%\n",
    "        augment(dt_test) %>%\n",
    "        mutate(model = \"XGBoost\"),\n",
    "    lgbm_fit %>%\n",
    "        augment(dt_test) %>%\n",
    "        mutate(model = \"LGBM\")\n",
    ") %>% \n",
    "  group_by(model) %>% \n",
    "  eval_metrics(truth = charges, estimate = .pred) %>% \n",
    "  select(-.estimator) %>% \n",
    "  pivot_wider(names_from = model, values_from = .estimate)"
   ]
  },
  {
   "attachments": {},
   "cell_type": "markdown",
   "metadata": {},
   "source": [
    "Contrary to Python, `XGBoost` worked better on the holdout data set."
   ]
  },
  {
   "cell_type": "code",
   "execution_count": 57,
   "metadata": {
    "vscode": {
     "languageId": "r"
    }
   },
   "outputs": [
    {
     "data": {
      "image/png": "[encoded data removed]",
      "text/plain": [
       "plot without title"
      ]
     },
     "metadata": {
      "image/png": {
       "height": 180,
       "width": 300
      }
     },
     "output_type": "display_data"
    }
   ],
   "source": [
    "options(repr.plot.width = 5, repr.plot.height = 3)\n",
    "\n",
    "bind_rows(\n",
    "    xg_fit %>%\n",
    "        augment(dt_test) %>%\n",
    "        mutate(model = \"XGBoost\"),\n",
    "    lgbm_fit %>%\n",
    "        augment(dt_test) %>%\n",
    "        mutate(model = \"LGBM\")\n",
    ") %>%\n",
    "    ggplot(aes(x = charges, y = .pred)) +\n",
    "    geom_point(alpha = 0.25, colour = \"midnightblue\") +\n",
    "    geom_abline() +\n",
    "    labs(\n",
    "        title = \"R: Predicted vs. Actuals\",\n",
    "        x = \"Actuals\", y = \"Predictions\"\n",
    "    ) +\n",
    "    facet_wrap(~model) +\n",
    "    scale_y_continuous(labels = dollar_format()) +\n",
    "    scale_x_continuous(labels = dollar_format()) +\n",
    "    theme_bw() +\n",
    "    theme(axis.text = element_text(size = 7))"
   ]
  },
  {
   "attachments": {},
   "cell_type": "markdown",
   "metadata": {},
   "source": [
    "And that's it for this week. Couldn't invest much more time this week because of exams."
   ]
  },
  {
   "cell_type": "code",
   "execution_count": null,
   "metadata": {
    "vscode": {
     "languageId": "r"
    }
   },
   "outputs": [],
   "source": [
    "ggsave(file = \"R.png\", dpi = 350, width = 4, height = 4)"
   ]
  }
 ],
 "metadata": {
  "kernelspec": {
   "display_name": "R",
   "language": "R",
   "name": "ir"
  },
  "language_info": {
   "codemirror_mode": "r",
   "file_extension": ".r",
   "mimetype": "text/x-r-source",
   "name": "R",
   "pygments_lexer": "r",
   "version": "4.2.1"
  },
  "orig_nbformat": 4
 },
 "nbformat": 4,
 "nbformat_minor": 2
}
