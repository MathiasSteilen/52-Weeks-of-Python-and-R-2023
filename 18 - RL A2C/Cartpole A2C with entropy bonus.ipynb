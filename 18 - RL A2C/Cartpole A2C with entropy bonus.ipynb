{
 "cells": [
  {
   "attachments": {},
   "cell_type": "markdown",
   "metadata": {},
   "source": [
    "### Implementing Advantage Actor Critic for CartPole Example\n",
    "#### In Addition: Entropy Bonus for Exploration\n",
    "\n",
    "Importing necessary dependencies:"
   ]
  },
  {
   "cell_type": "code",
   "execution_count": 1,
   "metadata": {},
   "outputs": [
    {
     "ename": "ModuleNotFoundError",
     "evalue": "No module named 'gym'",
     "output_type": "error",
     "traceback": [
      "\u001b[1;31m---------------------------------------------------------------------------\u001b[0m",
      "\u001b[1;31mModuleNotFoundError\u001b[0m                       Traceback (most recent call last)",
      "Cell \u001b[1;32mIn[1], line 14\u001b[0m\n\u001b[0;32m     11\u001b[0m \u001b[38;5;28;01mimport\u001b[39;00m \u001b[38;5;21;01mmatplotlib\u001b[39;00m\u001b[38;5;21;01m.\u001b[39;00m\u001b[38;5;21;01mpyplot\u001b[39;00m \u001b[38;5;28;01mas\u001b[39;00m \u001b[38;5;21;01mplt\u001b[39;00m\n\u001b[0;32m     12\u001b[0m \u001b[38;5;28;01mfrom\u001b[39;00m \u001b[38;5;21;01mIPython\u001b[39;00m\u001b[38;5;21;01m.\u001b[39;00m\u001b[38;5;21;01mdisplay\u001b[39;00m \u001b[38;5;28;01mimport\u001b[39;00m clear_output\n\u001b[1;32m---> 14\u001b[0m \u001b[38;5;28;01mimport\u001b[39;00m \u001b[38;5;21;01mgym\u001b[39;00m\n\u001b[0;32m     15\u001b[0m \u001b[38;5;28;01mimport\u001b[39;00m \u001b[38;5;21;01mtorch\u001b[39;00m\n\u001b[0;32m     16\u001b[0m \u001b[38;5;28;01mimport\u001b[39;00m \u001b[38;5;21;01mtorch\u001b[39;00m\u001b[38;5;21;01m.\u001b[39;00m\u001b[38;5;21;01mnn\u001b[39;00m \u001b[38;5;28;01mas\u001b[39;00m \u001b[38;5;21;01mnn\u001b[39;00m\n",
      "\u001b[1;31mModuleNotFoundError\u001b[0m: No module named 'gym'"
     ]
    }
   ],
   "source": [
    "import os\n",
    "import random\n",
    "from collections import namedtuple, deque\n",
    "from itertools import count\n",
    "\n",
    "import numpy as np\n",
    "import pandas as pd\n",
    "from plotnine import *\n",
    "from mizani.formatters import comma_format\n",
    "import time\n",
    "import matplotlib.pyplot as plt\n",
    "from IPython.display import clear_output\n",
    "\n",
    "import gym\n",
    "import torch\n",
    "import torch.nn as nn\n",
    "import torch.optim as optim\n",
    "import torch.nn.functional as F\n",
    "from torch.distributions import Categorical"
   ]
  },
  {
   "attachments": {},
   "cell_type": "markdown",
   "metadata": {},
   "source": [
    "### The Game"
   ]
  },
  {
   "cell_type": "code",
   "execution_count": 2,
   "metadata": {},
   "outputs": [],
   "source": [
    "env = gym.make('CartPole-v1', render_mode='rgb_array')"
   ]
  },
  {
   "cell_type": "code",
   "execution_count": 3,
   "metadata": {},
   "outputs": [
    {
     "data": {
      "text/plain": [
       "Box([-4.8000002e+00 -3.4028235e+38 -4.1887903e-01 -3.4028235e+38], [4.8000002e+00 3.4028235e+38 4.1887903e-01 3.4028235e+38], (4,), float32)"
      ]
     },
     "execution_count": 3,
     "metadata": {},
     "output_type": "execute_result"
    }
   ],
   "source": [
    "env.observation_space"
   ]
  },
  {
   "attachments": {},
   "cell_type": "markdown",
   "metadata": {},
   "source": [
    "Observation space is four continuous measurements."
   ]
  },
  {
   "cell_type": "code",
   "execution_count": 4,
   "metadata": {},
   "outputs": [
    {
     "data": {
      "text/plain": [
       "Discrete(2)"
      ]
     },
     "execution_count": 4,
     "metadata": {},
     "output_type": "execute_result"
    }
   ],
   "source": [
    "env.action_space"
   ]
  },
  {
   "attachments": {},
   "cell_type": "markdown",
   "metadata": {},
   "source": [
    "Action space is discrete range from 0 to 1, i.e. left and right."
   ]
  },
  {
   "cell_type": "code",
   "execution_count": 5,
   "metadata": {},
   "outputs": [
    {
     "data": {
      "text/plain": [
       "(array([0.02610479, 0.04398819, 0.04971935, 0.00347209], dtype=float32), {})"
      ]
     },
     "execution_count": 5,
     "metadata": {},
     "output_type": "execute_result"
    }
   ],
   "source": [
    "env.reset()"
   ]
  },
  {
   "cell_type": "code",
   "execution_count": 6,
   "metadata": {},
   "outputs": [
    {
     "data": {
      "text/plain": [
       "<matplotlib.image.AxesImage at 0x296e00532b0>"
      ]
     },
     "execution_count": 6,
     "metadata": {},
     "output_type": "execute_result"
    },
    {
     "data": {
      "image/png": "[encoded data removed]",
      "text/plain": [
       "<Figure size 640x480 with 1 Axes>"
      ]
     },
     "metadata": {},
     "output_type": "display_data"
    }
   ],
   "source": [
    "plt.imshow(env.render())"
   ]
  },
  {
   "attachments": {},
   "cell_type": "markdown",
   "metadata": {},
   "source": [
    "### Writing an A2C Algorithm with PyTorch"
   ]
  },
  {
   "cell_type": "code",
   "execution_count": 9,
   "metadata": {},
   "outputs": [
    {
     "data": {
      "text/plain": [
       "(array([ 0.04441297, -0.03055383, -0.00520976,  0.01191806], dtype=float32),\n",
       " {})"
      ]
     },
     "execution_count": 9,
     "metadata": {},
     "output_type": "execute_result"
    }
   ],
   "source": [
    "env = gym.make('CartPole-v1')\n",
    "env.reset()"
   ]
  },
  {
   "cell_type": "code",
   "execution_count": 10,
   "metadata": {},
   "outputs": [],
   "source": [
    "GAMMA = 0.99\n",
    "BETA = 0.05\n",
    "LEARNING_RATE = 0.003\n",
    "\n",
    "SavedAction = namedtuple('SavedAction', ['log_prob', 'value'])"
   ]
  },
  {
   "cell_type": "code",
   "execution_count": 11,
   "metadata": {},
   "outputs": [],
   "source": [
    "class Policy(nn.Module):\n",
    "    \"\"\"\n",
    "    implements both actor and critic in one model\n",
    "    \"\"\"\n",
    "    def __init__(self):\n",
    "        super(Policy, self).__init__()\n",
    "        self.affine1 = nn.Linear(4, 128)\n",
    "\n",
    "        # actor's layer\n",
    "        self.action_head = nn.Linear(128, 2)\n",
    "\n",
    "        # critic's layer\n",
    "        self.value_head = nn.Linear(128, 1)\n",
    "\n",
    "        # action & reward buffer\n",
    "        self.saved_actions = [] # for log probs from actor and values from critic\n",
    "        self.rewards = []\n",
    "\n",
    "        # Entropies for entropy bonus\n",
    "        self.entropies = []\n",
    "\n",
    "    def forward(self, x):\n",
    "        \"\"\"\n",
    "        forward of both actor and critic\n",
    "        \"\"\"\n",
    "        # first, pass the observation through the first \n",
    "        # fully connected layer with relu activation\n",
    "        x = F.relu(self.affine1(x))\n",
    "\n",
    "        # then, two outputs from the same network that \n",
    "        # has only one input (state)\n",
    "        # First: actor: choses action to take from state s_t\n",
    "        # by returning probability of each action\n",
    "        action_prob = F.softmax(self.action_head(x), dim=-1)\n",
    "\n",
    "        # critic: evaluates being in the state s_t\n",
    "        state_values = self.value_head(x)\n",
    "\n",
    "        # return values for both actor and critic as a tuple of 2 values:\n",
    "        # 1. softmax output over the action space\n",
    "        # 2. the value from state s_t\n",
    "        return action_prob, state_values"
   ]
  },
  {
   "cell_type": "code",
   "execution_count": 12,
   "metadata": {},
   "outputs": [],
   "source": [
    "model = Policy()\n",
    "optimizer = optim.Adam(model.parameters(), lr=LEARNING_RATE)\n",
    "eps = np.finfo(np.float32).eps.item() # used to avoid dividing by zero error"
   ]
  },
  {
   "cell_type": "code",
   "execution_count": 13,
   "metadata": {},
   "outputs": [],
   "source": [
    "def select_action(state, model):\n",
    "    state = torch.from_numpy(state).float()\n",
    "    probs, state_value = model(state)\n",
    "\n",
    "    # Calculate entropy bonus\n",
    "    entropy = -torch.sum(probs * torch.log(probs))\n",
    "    model.entropies.append(entropy)\n",
    "\n",
    "    # create a categorical distribution over the list of probabilities of actions\n",
    "    m = Categorical(probs)\n",
    "\n",
    "    # and sample an action using the distribution\n",
    "    action = m.sample()\n",
    "\n",
    "    # save log probabilities outputted by actor head \n",
    "    # and state value outputted by critic head to action buffer\n",
    "    model.saved_actions.append(SavedAction(m.log_prob(action), state_value))\n",
    "\n",
    "    # return the action to take (left or right)\n",
    "    return action.item()"
   ]
  },
  {
   "cell_type": "code",
   "execution_count": 14,
   "metadata": {},
   "outputs": [],
   "source": [
    "def finish_episode(model):\n",
    "    \"\"\"\n",
    "    Training code. Calculates actor and critic loss and performs backprop.\n",
    "    \"\"\"\n",
    "    R = 0\n",
    "    saved_actions = model.saved_actions # log probs and respective actions\n",
    "    entropies = model.entropies # entropies for entropy bonus\n",
    "    policy_losses = [] # list to save actor (policy) loss for each step in episode\n",
    "    value_losses = [] # list to save critic (value) loss for each step in episode\n",
    "    returns = [] # list to save the true values\n",
    "\n",
    "    # calculate the true value using rewards returned from the environment\n",
    "    # Those are the Q-Values from the unrolled rewards until the final state\n",
    "    for r in model.rewards[::-1]:\n",
    "        # calculate the discounted value\n",
    "        R = r + GAMMA * R\n",
    "        returns.insert(0, R) # insert at beginning of list\n",
    "\n",
    "    returns = torch.tensor(returns, dtype=torch.float32)\n",
    "    returns = (returns - returns.mean()) / (returns.std() + eps)\n",
    "\n",
    "    for (log_prob, value), R in zip(saved_actions, returns):\n",
    "        advantage = R - value.item()\n",
    "\n",
    "        # calculate actor (policy) loss\n",
    "        policy_losses.append(-log_prob * advantage)\n",
    "\n",
    "        # calculate critic (value) loss using L1 smooth loss\n",
    "        value_losses.append(F.smooth_l1_loss(value, torch.tensor([R])))\n",
    "\n",
    "    # reset gradients\n",
    "    optimizer.zero_grad()\n",
    "\n",
    "    # sum up all the values of policy_losses and value_losses\n",
    "    loss = torch.stack(policy_losses).sum() + torch.stack(value_losses).sum() - BETA * torch.stack(entropies).mean()\n",
    "\n",
    "    # perform backprop\n",
    "    loss.backward()\n",
    "    optimizer.step()\n",
    "\n",
    "    # reset rewards, episode actions and log probs as well as entropies\n",
    "    del model.rewards[:]\n",
    "    del model.saved_actions[:]\n",
    "    del model.entropies[:]"
   ]
  },
  {
   "attachments": {},
   "cell_type": "markdown",
   "metadata": {},
   "source": [
    "The actual training loop:"
   ]
  },
  {
   "cell_type": "code",
   "execution_count": 252,
   "metadata": {},
   "outputs": [
    {
     "name": "stdout",
     "output_type": "stream",
     "text": [
      "Episode 100\tLast reward: 83.00\tAverage reward: 56.58\n",
      "Episode 200\tLast reward: 177.00\tAverage reward: 218.04\n",
      "Episode 300\tLast reward: 500.00\tAverage reward: 441.10\n",
      "Episode 400\tLast reward: 500.00\tAverage reward: 466.32\n",
      "Episode 500\tLast reward: 500.00\tAverage reward: 438.94\n",
      "Solved at Episode 565! Average reward is now 500.0\n"
     ]
    }
   ],
   "source": [
    "min_episodes = 50\n",
    "running_rewards = deque(maxlen=min_episodes)\n",
    "ep_reward_history = []\n",
    "best_reward = None\n",
    "\n",
    "# run infinitely many episodes (until break condition is met)\n",
    "for episode_idx in count(1):\n",
    "\n",
    "    # reset environment and episode reward at the beginning of episode\n",
    "    state, _ = env.reset()\n",
    "    ep_reward = 0\n",
    "\n",
    "    # for each episode, only run 9999 steps so that we don't\n",
    "    # infinite loop while learning (agent getting stuck)\n",
    "    for t in range(1, 10000):\n",
    "\n",
    "        # select action from policy (and save model output to buffer)\n",
    "        action = select_action(state, model)\n",
    "\n",
    "        # take the action\n",
    "        state, reward, terminated, truncated, _ = env.step(action)\n",
    "\n",
    "        # save the rewards at each step taken in the episode in the buffer\n",
    "        # This will be used for calculating\n",
    "        model.rewards.append(reward)\n",
    "        ep_reward += reward\n",
    "\n",
    "        if terminated or truncated:\n",
    "            running_rewards.append(ep_reward)\n",
    "            ep_reward_history.append(ep_reward)\n",
    "            break\n",
    "\n",
    "    # perform backprop\n",
    "    finish_episode(model)\n",
    "\n",
    "    # log results only if enough episodes have been played\n",
    "    if episode_idx < min_episodes:\n",
    "        continue\n",
    "\n",
    "    # Calculate mean reward of past min_episodes\n",
    "    running_reward = np.mean(running_rewards)\n",
    "    if episode_idx % 100 == 0:\n",
    "        print(f\"Episode {episode_idx}\\tLast reward: {ep_reward:.2f}\\tAverage reward: {running_reward:.2f}\")\n",
    "\n",
    "    # check if we have \"solved\" the cart pole problem\n",
    "    if running_reward >= 500: # env.spec.reward_threshold:\n",
    "        print(f\"Solved at Episode {episode_idx}! Average reward is now {running_reward}\")\n",
    "        break"
   ]
  },
  {
   "cell_type": "code",
   "execution_count": 256,
   "metadata": {},
   "outputs": [
    {
     "name": "stderr",
     "output_type": "stream",
     "text": [
      "c:\\Users\\STEIM\\AppData\\Local\\anaconda3\\lib\\site-packages\\plotnine\\geoms\\geom_path.py:75: PlotnineWarning: geom_path: Removed 24 rows containing missing values.\n"
     ]
    },
    {
     "data": {
      "image/png": "[encoded data removed]",
      "text/plain": [
       "<Figure size 800x400 with 1 Axes>"
      ]
     },
     "metadata": {},
     "output_type": "display_data"
    },
    {
     "data": {
      "text/plain": [
       "<ggplot: (177557684444)>"
      ]
     },
     "execution_count": 256,
     "metadata": {},
     "output_type": "execute_result"
    }
   ],
   "source": [
    "(\n",
    "    ggplot(data=(pd.DataFrame({'Episodes': np.arange(1, episode_idx + 1),\n",
    "                               'Rewards': ep_reward_history})\n",
    "                 .assign(Rewards=lambda x: x['Rewards'].rolling(25).mean())),\n",
    "           mapping=aes(x='Episodes', y='Rewards')) +\n",
    "    geom_line() +\n",
    "    labs(title='Training Process (25 Episode Rolling Mean)',\n",
    "         y='Mean Reward') +\n",
    "    theme_bw() +\n",
    "    theme(figure_size=[8, 4])\n",
    ")\n"
   ]
  },
  {
   "cell_type": "code",
   "execution_count": 257,
   "metadata": {},
   "outputs": [],
   "source": [
    "torch.save(model.state_dict(), f='trained_model_a2c_entropy_bonus.pt')"
   ]
  },
  {
   "cell_type": "markdown",
   "metadata": {},
   "source": [
    "### Letting the Trained Agent Play\n",
    "\n",
    "Start by loading the agent and initialising the environment:"
   ]
  },
  {
   "cell_type": "code",
   "execution_count": 15,
   "metadata": {},
   "outputs": [
    {
     "data": {
      "text/plain": [
       "Policy(\n",
       "  (affine1): Linear(in_features=4, out_features=128, bias=True)\n",
       "  (action_head): Linear(in_features=128, out_features=2, bias=True)\n",
       "  (value_head): Linear(in_features=128, out_features=1, bias=True)\n",
       ")"
      ]
     },
     "execution_count": 15,
     "metadata": {},
     "output_type": "execute_result"
    }
   ],
   "source": [
    "# Defining the environment\n",
    "env = gym.make('CartPole-v1', render_mode='rgb_array')\n",
    "obs_size = env.observation_space.shape[0] # define sizes for NN\n",
    "n_actions = env.action_space.n\n",
    "\n",
    "\n",
    "# Loading the model\n",
    "trained_agent = Policy() # instance of model\n",
    "trained_agent.load_state_dict(torch.load(\"trained_model_a2c_entropy_bonus.pt\"))\n",
    "trained_agent.eval()"
   ]
  },
  {
   "cell_type": "code",
   "execution_count": 17,
   "metadata": {},
   "outputs": [
    {
     "data": {
      "image/png": "[encoded data removed]",
      "text/plain": [
       "<Figure size 640x480 with 1 Axes>"
      ]
     },
     "metadata": {},
     "output_type": "display_data"
    },
    {
     "name": "stdout",
     "output_type": "stream",
     "text": [
      "Total Episode Reward: 500.0\n"
     ]
    }
   ],
   "source": [
    "obs, _ = env.reset()\n",
    "total_reward = 0.0\n",
    "\n",
    "for step_idx in count(1):\n",
    "    action = select_action(obs, trained_agent)\n",
    "    obs, reward, terminated, truncated, info = env.step(action)\n",
    "    total_reward += reward\n",
    "\n",
    "    if step_idx % 8 == 0:\n",
    "        clear_output(wait=True)\n",
    "        plt.imshow(env.render())\n",
    "        plt.show()\n",
    "\n",
    "    if terminated or truncated:\n",
    "        print(f\"Total Episode Reward: {total_reward}\")\n",
    "        break"
   ]
  },
  {
   "attachments": {},
   "cell_type": "markdown",
   "metadata": {},
   "source": [
    "Success, the agent now stays more in the middle, which is great, because it's exactly what I aimed to achieve with the entropy bonus!"
   ]
  }
 ],
 "metadata": {
  "kernelspec": {
   "display_name": "Python 3 (ipykernel)",
   "language": "python",
   "name": "python3"
  },
  "language_info": {
   "codemirror_mode": {
    "name": "ipython",
    "version": 3
   },
   "file_extension": ".py",
   "mimetype": "text/x-python",
   "name": "python",
   "nbconvert_exporter": "python",
   "pygments_lexer": "ipython3",
   "version": "3.11.5"
  }
 },
 "nbformat": 4,
 "nbformat_minor": 4
}
