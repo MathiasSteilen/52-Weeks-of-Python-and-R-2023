{
 "cells": [
  {
   "cell_type": "code",
   "execution_count": 11,
   "metadata": {},
   "outputs": [
    {
     "name": "stdout",
     "output_type": "stream",
     "text": [
      "The blackcellmagic extension is already loaded. To reload it, use:\n",
      "  %reload_ext blackcellmagic\n"
     ]
    }
   ],
   "source": [
    "import pandas as pd\n",
    "import polars as pl\n",
    "import numpy as np\n",
    "import plotnine as pn\n",
    "from mizani.formatters import comma_format, custom_format, currency_format, percent_format\n",
    "from IPython.display import clear_output, display\n",
    "import os\n",
    "import yfinance as yf\n",
    "import itertools\n",
    "\n",
    "pd.set_option('display.max.columns', 500)\n",
    "background_colour = \"#F2F2F2\"\n",
    "pn.theme_set(pn.theme_classic() + \n",
    "          pn.theme(text=pn.element_text(family=\"monospace\"),\n",
    "                plot_background=pn.element_rect(fill=background_colour, colour=background_colour),\n",
    "                panel_background=pn.element_rect(fill=background_colour, colour=background_colour),\n",
    "                legend_background=pn.element_rect(fill=background_colour, colour=background_colour)))\n",
    "\n",
    "%load_ext blackcellmagic\n",
    "%matplotlib inline"
   ]
  },
  {
   "cell_type": "markdown",
   "metadata": {},
   "source": [
    "## Yahoo Finance Exchange Rates"
   ]
  },
  {
   "cell_type": "code",
   "execution_count": 42,
   "metadata": {},
   "outputs": [
    {
     "data": {
      "text/plain": [
       "['EURCHF=X', 'EURUSD=X', 'CHFEUR=X', 'CHFUSD=X', 'USDEUR=X', 'USDCHF=X']"
      ]
     },
     "execution_count": 42,
     "metadata": {},
     "output_type": "execute_result"
    }
   ],
   "source": [
    "rates = (\n",
    "    pd.DataFrame(\n",
    "        itertools.permutations([\"EUR\", \"CHF\", \"USD\"], r=2), columns=[\"from\", \"to\"]\n",
    "    )\n",
    "    .assign(name=lambda x: x[\"from\"] + x[\"to\"] + \"=X\")[\"name\"]\n",
    "    .tolist()\n",
    ")\n",
    "\n",
    "rates"
   ]
  },
  {
   "cell_type": "code",
   "execution_count": 49,
   "metadata": {},
   "outputs": [
    {
     "name": "stderr",
     "output_type": "stream",
     "text": [
      "[*********************100%%**********************]  1 of 1 completed\n",
      "[*********************100%%**********************]  1 of 1 completed\n",
      "[*********************100%%**********************]  1 of 1 completed\n",
      "[*********************100%%**********************]  1 of 1 completed\n",
      "[*********************100%%**********************]  1 of 1 completed\n",
      "[*********************100%%**********************]  1 of 1 completed\n"
     ]
    }
   ],
   "source": [
    "dfs = []\n",
    "\n",
    "for rate in rates:\n",
    "    data = yf.download(rate, period=\"max\", interval=\"1d\")\n",
    "    data = data.reset_index().assign(rate=rate)\n",
    "\n",
    "    dfs.append(data)"
   ]
  },
  {
   "cell_type": "code",
   "execution_count": 51,
   "metadata": {},
   "outputs": [
    {
     "data": {
      "text/html": [
       "<div>\n",
       "<style scoped>\n",
       "    .dataframe tbody tr th:only-of-type {\n",
       "        vertical-align: middle;\n",
       "    }\n",
       "\n",
       "    .dataframe tbody tr th {\n",
       "        vertical-align: top;\n",
       "    }\n",
       "\n",
       "    .dataframe thead th {\n",
       "        text-align: right;\n",
       "    }\n",
       "</style>\n",
       "<table border=\"1\" class=\"dataframe\">\n",
       "  <thead>\n",
       "    <tr style=\"text-align: right;\">\n",
       "      <th></th>\n",
       "      <th>Date</th>\n",
       "      <th>Open</th>\n",
       "      <th>High</th>\n",
       "      <th>Low</th>\n",
       "      <th>Close</th>\n",
       "      <th>Adj Close</th>\n",
       "      <th>Volume</th>\n",
       "      <th>rate</th>\n",
       "    </tr>\n",
       "  </thead>\n",
       "  <tbody>\n",
       "    <tr>\n",
       "      <th>0</th>\n",
       "      <td>2003-01-23</td>\n",
       "      <td>1.46330</td>\n",
       "      <td>1.46500</td>\n",
       "      <td>1.46200</td>\n",
       "      <td>1.46420</td>\n",
       "      <td>1.46420</td>\n",
       "      <td>0</td>\n",
       "      <td>EURCHF=X</td>\n",
       "    </tr>\n",
       "    <tr>\n",
       "      <th>1</th>\n",
       "      <td>2003-01-24</td>\n",
       "      <td>1.46440</td>\n",
       "      <td>1.46760</td>\n",
       "      <td>1.46200</td>\n",
       "      <td>1.46730</td>\n",
       "      <td>1.46730</td>\n",
       "      <td>0</td>\n",
       "      <td>EURCHF=X</td>\n",
       "    </tr>\n",
       "    <tr>\n",
       "      <th>2</th>\n",
       "      <td>2003-01-27</td>\n",
       "      <td>1.46640</td>\n",
       "      <td>1.46920</td>\n",
       "      <td>1.46520</td>\n",
       "      <td>1.46760</td>\n",
       "      <td>1.46760</td>\n",
       "      <td>0</td>\n",
       "      <td>EURCHF=X</td>\n",
       "    </tr>\n",
       "    <tr>\n",
       "      <th>3</th>\n",
       "      <td>2003-01-28</td>\n",
       "      <td>1.46760</td>\n",
       "      <td>1.47030</td>\n",
       "      <td>1.46650</td>\n",
       "      <td>1.46830</td>\n",
       "      <td>1.46830</td>\n",
       "      <td>0</td>\n",
       "      <td>EURCHF=X</td>\n",
       "    </tr>\n",
       "    <tr>\n",
       "      <th>4</th>\n",
       "      <td>2003-01-29</td>\n",
       "      <td>1.46780</td>\n",
       "      <td>1.47030</td>\n",
       "      <td>1.46510</td>\n",
       "      <td>1.46930</td>\n",
       "      <td>1.46930</td>\n",
       "      <td>0</td>\n",
       "      <td>EURCHF=X</td>\n",
       "    </tr>\n",
       "    <tr>\n",
       "      <th>...</th>\n",
       "      <td>...</td>\n",
       "      <td>...</td>\n",
       "      <td>...</td>\n",
       "      <td>...</td>\n",
       "      <td>...</td>\n",
       "      <td>...</td>\n",
       "      <td>...</td>\n",
       "      <td>...</td>\n",
       "    </tr>\n",
       "    <tr>\n",
       "      <th>5353</th>\n",
       "      <td>2024-04-16</td>\n",
       "      <td>0.91160</td>\n",
       "      <td>0.91409</td>\n",
       "      <td>0.91123</td>\n",
       "      <td>0.91160</td>\n",
       "      <td>0.91160</td>\n",
       "      <td>0</td>\n",
       "      <td>USDCHF=X</td>\n",
       "    </tr>\n",
       "    <tr>\n",
       "      <th>5354</th>\n",
       "      <td>2024-04-17</td>\n",
       "      <td>0.91256</td>\n",
       "      <td>0.91317</td>\n",
       "      <td>0.90940</td>\n",
       "      <td>0.91256</td>\n",
       "      <td>0.91256</td>\n",
       "      <td>0</td>\n",
       "      <td>USDCHF=X</td>\n",
       "    </tr>\n",
       "    <tr>\n",
       "      <th>5355</th>\n",
       "      <td>2024-04-18</td>\n",
       "      <td>0.91040</td>\n",
       "      <td>0.91213</td>\n",
       "      <td>0.90790</td>\n",
       "      <td>0.91040</td>\n",
       "      <td>0.91040</td>\n",
       "      <td>0</td>\n",
       "      <td>USDCHF=X</td>\n",
       "    </tr>\n",
       "    <tr>\n",
       "      <th>5356</th>\n",
       "      <td>2024-04-19</td>\n",
       "      <td>0.91210</td>\n",
       "      <td>0.91265</td>\n",
       "      <td>0.90183</td>\n",
       "      <td>0.91210</td>\n",
       "      <td>0.91210</td>\n",
       "      <td>0</td>\n",
       "      <td>USDCHF=X</td>\n",
       "    </tr>\n",
       "    <tr>\n",
       "      <th>5357</th>\n",
       "      <td>2024-04-21</td>\n",
       "      <td>0.91010</td>\n",
       "      <td>0.91010</td>\n",
       "      <td>0.91010</td>\n",
       "      <td>0.91010</td>\n",
       "      <td>0.91010</td>\n",
       "      <td>0</td>\n",
       "      <td>USDCHF=X</td>\n",
       "    </tr>\n",
       "  </tbody>\n",
       "</table>\n",
       "<p>31772 rows × 8 columns</p>\n",
       "</div>"
      ],
      "text/plain": [
       "           Date     Open     High      Low    Close  Adj Close  Volume  \\\n",
       "0    2003-01-23  1.46330  1.46500  1.46200  1.46420    1.46420       0   \n",
       "1    2003-01-24  1.46440  1.46760  1.46200  1.46730    1.46730       0   \n",
       "2    2003-01-27  1.46640  1.46920  1.46520  1.46760    1.46760       0   \n",
       "3    2003-01-28  1.46760  1.47030  1.46650  1.46830    1.46830       0   \n",
       "4    2003-01-29  1.46780  1.47030  1.46510  1.46930    1.46930       0   \n",
       "...         ...      ...      ...      ...      ...        ...     ...   \n",
       "5353 2024-04-16  0.91160  0.91409  0.91123  0.91160    0.91160       0   \n",
       "5354 2024-04-17  0.91256  0.91317  0.90940  0.91256    0.91256       0   \n",
       "5355 2024-04-18  0.91040  0.91213  0.90790  0.91040    0.91040       0   \n",
       "5356 2024-04-19  0.91210  0.91265  0.90183  0.91210    0.91210       0   \n",
       "5357 2024-04-21  0.91010  0.91010  0.91010  0.91010    0.91010       0   \n",
       "\n",
       "          rate  \n",
       "0     EURCHF=X  \n",
       "1     EURCHF=X  \n",
       "2     EURCHF=X  \n",
       "3     EURCHF=X  \n",
       "4     EURCHF=X  \n",
       "...        ...  \n",
       "5353  USDCHF=X  \n",
       "5354  USDCHF=X  \n",
       "5355  USDCHF=X  \n",
       "5356  USDCHF=X  \n",
       "5357  USDCHF=X  \n",
       "\n",
       "[31772 rows x 8 columns]"
      ]
     },
     "execution_count": 51,
     "metadata": {},
     "output_type": "execute_result"
    }
   ],
   "source": [
    "df = pd.concat(dfs, axis=0)\n",
    "df"
   ]
  },
  {
   "cell_type": "markdown",
   "metadata": {},
   "source": [
    "Daily data is not ideal here, it would be to have higher frequencies to spot interesting patterns. In reality, order book data is what we would need."
   ]
  },
  {
   "cell_type": "code",
   "execution_count": 63,
   "metadata": {},
   "outputs": [
    {
     "data": {
      "text/html": [
       "<div>\n",
       "<style scoped>\n",
       "    .dataframe tbody tr th:only-of-type {\n",
       "        vertical-align: middle;\n",
       "    }\n",
       "\n",
       "    .dataframe tbody tr th {\n",
       "        vertical-align: top;\n",
       "    }\n",
       "\n",
       "    .dataframe thead th {\n",
       "        text-align: right;\n",
       "    }\n",
       "</style>\n",
       "<table border=\"1\" class=\"dataframe\">\n",
       "  <thead>\n",
       "    <tr style=\"text-align: right;\">\n",
       "      <th></th>\n",
       "      <th>Date</th>\n",
       "      <th>CHFEUR=X</th>\n",
       "      <th>CHFUSD=X</th>\n",
       "      <th>EURCHF=X</th>\n",
       "      <th>EURUSD=X</th>\n",
       "      <th>USDCHF=X</th>\n",
       "      <th>USDEUR=X</th>\n",
       "    </tr>\n",
       "  </thead>\n",
       "  <tbody>\n",
       "    <tr>\n",
       "      <th>0</th>\n",
       "      <td>2005-03-16</td>\n",
       "      <td>0.64654</td>\n",
       "      <td>0.867378</td>\n",
       "      <td>1.5463</td>\n",
       "      <td>1.341094</td>\n",
       "      <td>1.1529</td>\n",
       "      <td>0.74566</td>\n",
       "    </tr>\n",
       "    <tr>\n",
       "      <th>1</th>\n",
       "      <td>2005-03-17</td>\n",
       "      <td>0.64558</td>\n",
       "      <td>0.864006</td>\n",
       "      <td>1.5484</td>\n",
       "      <td>1.337900</td>\n",
       "      <td>1.1574</td>\n",
       "      <td>0.74744</td>\n",
       "    </tr>\n",
       "    <tr>\n",
       "      <th>2</th>\n",
       "      <td>2005-03-18</td>\n",
       "      <td>0.64479</td>\n",
       "      <td>0.859402</td>\n",
       "      <td>1.5501</td>\n",
       "      <td>1.332197</td>\n",
       "      <td>1.1636</td>\n",
       "      <td>0.75064</td>\n",
       "    </tr>\n",
       "    <tr>\n",
       "      <th>3</th>\n",
       "      <td>2005-03-21</td>\n",
       "      <td>0.64437</td>\n",
       "      <td>0.848248</td>\n",
       "      <td>1.5512</td>\n",
       "      <td>1.316101</td>\n",
       "      <td>1.1789</td>\n",
       "      <td>0.75982</td>\n",
       "    </tr>\n",
       "    <tr>\n",
       "      <th>4</th>\n",
       "      <td>2005-03-22</td>\n",
       "      <td>0.64329</td>\n",
       "      <td>0.841043</td>\n",
       "      <td>1.5546</td>\n",
       "      <td>1.307702</td>\n",
       "      <td>1.1890</td>\n",
       "      <td>0.76470</td>\n",
       "    </tr>\n",
       "  </tbody>\n",
       "</table>\n",
       "</div>"
      ],
      "text/plain": [
       "        Date  CHFEUR=X  CHFUSD=X  EURCHF=X  EURUSD=X  USDCHF=X  USDEUR=X\n",
       "0 2005-03-16   0.64654  0.867378    1.5463  1.341094    1.1529   0.74566\n",
       "1 2005-03-17   0.64558  0.864006    1.5484  1.337900    1.1574   0.74744\n",
       "2 2005-03-18   0.64479  0.859402    1.5501  1.332197    1.1636   0.75064\n",
       "3 2005-03-21   0.64437  0.848248    1.5512  1.316101    1.1789   0.75982\n",
       "4 2005-03-22   0.64329  0.841043    1.5546  1.307702    1.1890   0.76470"
      ]
     },
     "execution_count": 63,
     "metadata": {},
     "output_type": "execute_result"
    }
   ],
   "source": [
    "df = (\n",
    "    df.filter([\"Date\", \"Close\", \"rate\"])\n",
    "    .pivot(index=\"Date\", columns=\"rate\", values=\"Close\")\n",
    "    .reset_index()\n",
    "    .rename_axis(None, axis=1)\n",
    "    .dropna()\n",
    "    .reset_index(drop=True)\n",
    ")\n",
    "\n",
    "df.head()"
   ]
  },
  {
   "cell_type": "markdown",
   "metadata": {},
   "source": [
    "## Two Way Trades"
   ]
  },
  {
   "cell_type": "code",
   "execution_count": 115,
   "metadata": {},
   "outputs": [
    {
     "data": {
      "text/html": [
       "<div>\n",
       "<style scoped>\n",
       "    .dataframe tbody tr th:only-of-type {\n",
       "        vertical-align: middle;\n",
       "    }\n",
       "\n",
       "    .dataframe tbody tr th {\n",
       "        vertical-align: top;\n",
       "    }\n",
       "\n",
       "    .dataframe thead th {\n",
       "        text-align: right;\n",
       "    }\n",
       "</style>\n",
       "<table border=\"1\" class=\"dataframe\">\n",
       "  <thead>\n",
       "    <tr style=\"text-align: right;\">\n",
       "      <th></th>\n",
       "      <th>from</th>\n",
       "      <th>to</th>\n",
       "    </tr>\n",
       "  </thead>\n",
       "  <tbody>\n",
       "    <tr>\n",
       "      <th>0</th>\n",
       "      <td>EUR</td>\n",
       "      <td>CHF</td>\n",
       "    </tr>\n",
       "    <tr>\n",
       "      <th>1</th>\n",
       "      <td>EUR</td>\n",
       "      <td>USD</td>\n",
       "    </tr>\n",
       "    <tr>\n",
       "      <th>2</th>\n",
       "      <td>CHF</td>\n",
       "      <td>EUR</td>\n",
       "    </tr>\n",
       "    <tr>\n",
       "      <th>3</th>\n",
       "      <td>CHF</td>\n",
       "      <td>USD</td>\n",
       "    </tr>\n",
       "    <tr>\n",
       "      <th>4</th>\n",
       "      <td>USD</td>\n",
       "      <td>EUR</td>\n",
       "    </tr>\n",
       "    <tr>\n",
       "      <th>5</th>\n",
       "      <td>USD</td>\n",
       "      <td>CHF</td>\n",
       "    </tr>\n",
       "  </tbody>\n",
       "</table>\n",
       "</div>"
      ],
      "text/plain": [
       "  from   to\n",
       "0  EUR  CHF\n",
       "1  EUR  USD\n",
       "2  CHF  EUR\n",
       "3  CHF  USD\n",
       "4  USD  EUR\n",
       "5  USD  CHF"
      ]
     },
     "execution_count": 115,
     "metadata": {},
     "output_type": "execute_result"
    }
   ],
   "source": [
    "combinations = pd.DataFrame(itertools.permutations([\"EUR\", \"CHF\", \"USD\"], 2), columns=[\"from\", \"to\"])\n",
    "combinations"
   ]
  },
  {
   "cell_type": "code",
   "execution_count": 146,
   "metadata": {},
   "outputs": [],
   "source": [
    "pairs = []\n",
    "\n",
    "for combination in combinations.iterrows():\n",
    "    first = combination[1][\"from\"] + combination[1][\"to\"] + \"=X\"\n",
    "    second = combination[1][\"to\"] + combination[1][\"from\"] + \"=X\"\n",
    "\n",
    "    pair = (\n",
    "        df\n",
    "        .filter([first, second])\n",
    "        .assign(\n",
    "            result=lambda x: x.iloc[:, 0] * x.iloc[:, 1],\n",
    "            pair=lambda x: x.columns[0][:-2],\n",
    "        )\n",
    "        .filter([\"pair\", \"result\"])\n",
    "    )\n",
    "\n",
    "    pairs.append(pair)"
   ]
  },
  {
   "cell_type": "code",
   "execution_count": 147,
   "metadata": {},
   "outputs": [
    {
     "data": {
      "text/html": [
       "<div>\n",
       "<style scoped>\n",
       "    .dataframe tbody tr th:only-of-type {\n",
       "        vertical-align: middle;\n",
       "    }\n",
       "\n",
       "    .dataframe tbody tr th {\n",
       "        vertical-align: top;\n",
       "    }\n",
       "\n",
       "    .dataframe thead th {\n",
       "        text-align: right;\n",
       "    }\n",
       "</style>\n",
       "<table border=\"1\" class=\"dataframe\">\n",
       "  <thead>\n",
       "    <tr style=\"text-align: right;\">\n",
       "      <th></th>\n",
       "      <th>pair</th>\n",
       "      <th>result</th>\n",
       "    </tr>\n",
       "  </thead>\n",
       "  <tbody>\n",
       "    <tr>\n",
       "      <th>0</th>\n",
       "      <td>EURCHF</td>\n",
       "      <td>0.999745</td>\n",
       "    </tr>\n",
       "    <tr>\n",
       "      <th>1</th>\n",
       "      <td>EURCHF</td>\n",
       "      <td>0.999616</td>\n",
       "    </tr>\n",
       "    <tr>\n",
       "      <th>2</th>\n",
       "      <td>EURCHF</td>\n",
       "      <td>0.999489</td>\n",
       "    </tr>\n",
       "    <tr>\n",
       "      <th>3</th>\n",
       "      <td>EURCHF</td>\n",
       "      <td>0.999547</td>\n",
       "    </tr>\n",
       "    <tr>\n",
       "      <th>4</th>\n",
       "      <td>EURCHF</td>\n",
       "      <td>1.000059</td>\n",
       "    </tr>\n",
       "  </tbody>\n",
       "</table>\n",
       "</div>"
      ],
      "text/plain": [
       "     pair    result\n",
       "0  EURCHF  0.999745\n",
       "1  EURCHF  0.999616\n",
       "2  EURCHF  0.999489\n",
       "3  EURCHF  0.999547\n",
       "4  EURCHF  1.000059"
      ]
     },
     "execution_count": 147,
     "metadata": {},
     "output_type": "execute_result"
    }
   ],
   "source": [
    "twoway = pd.concat(pairs, axis=0).reset_index(drop=True)\n",
    "twoway.head()"
   ]
  },
  {
   "cell_type": "code",
   "execution_count": 148,
   "metadata": {},
   "outputs": [
    {
     "data": {
      "text/plain": [
       "pair\n",
       "EURCHF    4952\n",
       "EURUSD    4952\n",
       "CHFEUR    4952\n",
       "CHFUSD    4952\n",
       "USDEUR    4952\n",
       "USDCHF    4952\n",
       "Name: count, dtype: int64"
      ]
     },
     "execution_count": 148,
     "metadata": {},
     "output_type": "execute_result"
    }
   ],
   "source": [
    "twoway.pair.value_counts()"
   ]
  },
  {
   "cell_type": "code",
   "execution_count": 149,
   "metadata": {},
   "outputs": [
    {
     "data": {
      "text/html": [
       "<div>\n",
       "<style scoped>\n",
       "    .dataframe tbody tr th:only-of-type {\n",
       "        vertical-align: middle;\n",
       "    }\n",
       "\n",
       "    .dataframe tbody tr th {\n",
       "        vertical-align: top;\n",
       "    }\n",
       "\n",
       "    .dataframe thead tr th {\n",
       "        text-align: left;\n",
       "    }\n",
       "\n",
       "    .dataframe thead tr:last-of-type th {\n",
       "        text-align: right;\n",
       "    }\n",
       "</style>\n",
       "<table border=\"1\" class=\"dataframe\">\n",
       "  <thead>\n",
       "    <tr>\n",
       "      <th></th>\n",
       "      <th colspan=\"3\" halign=\"left\">result</th>\n",
       "    </tr>\n",
       "    <tr>\n",
       "      <th></th>\n",
       "      <th>min</th>\n",
       "      <th>mean</th>\n",
       "      <th>max</th>\n",
       "    </tr>\n",
       "    <tr>\n",
       "      <th>pair</th>\n",
       "      <th></th>\n",
       "      <th></th>\n",
       "      <th></th>\n",
       "    </tr>\n",
       "  </thead>\n",
       "  <tbody>\n",
       "    <tr>\n",
       "      <th>CHFEUR</th>\n",
       "      <td>0.98105</td>\n",
       "      <td>0.999719</td>\n",
       "      <td>1.000937</td>\n",
       "    </tr>\n",
       "    <tr>\n",
       "      <th>CHFUSD</th>\n",
       "      <td>1.00000</td>\n",
       "      <td>1.000000</td>\n",
       "      <td>1.000000</td>\n",
       "    </tr>\n",
       "    <tr>\n",
       "      <th>EURCHF</th>\n",
       "      <td>0.98105</td>\n",
       "      <td>0.999719</td>\n",
       "      <td>1.000937</td>\n",
       "    </tr>\n",
       "    <tr>\n",
       "      <th>EURUSD</th>\n",
       "      <td>1.00000</td>\n",
       "      <td>1.000000</td>\n",
       "      <td>1.000000</td>\n",
       "    </tr>\n",
       "    <tr>\n",
       "      <th>USDCHF</th>\n",
       "      <td>1.00000</td>\n",
       "      <td>1.000000</td>\n",
       "      <td>1.000000</td>\n",
       "    </tr>\n",
       "    <tr>\n",
       "      <th>USDEUR</th>\n",
       "      <td>1.00000</td>\n",
       "      <td>1.000000</td>\n",
       "      <td>1.000000</td>\n",
       "    </tr>\n",
       "  </tbody>\n",
       "</table>\n",
       "</div>"
      ],
      "text/plain": [
       "         result                    \n",
       "            min      mean       max\n",
       "pair                               \n",
       "CHFEUR  0.98105  0.999719  1.000937\n",
       "CHFUSD  1.00000  1.000000  1.000000\n",
       "EURCHF  0.98105  0.999719  1.000937\n",
       "EURUSD  1.00000  1.000000  1.000000\n",
       "USDCHF  1.00000  1.000000  1.000000\n",
       "USDEUR  1.00000  1.000000  1.000000"
      ]
     },
     "execution_count": 149,
     "metadata": {},
     "output_type": "execute_result"
    }
   ],
   "source": [
    "twoway.groupby(\"pair\").agg([\"min\", \"mean\", \"max\"])"
   ]
  },
  {
   "cell_type": "code",
   "execution_count": 150,
   "metadata": {},
   "outputs": [
    {
     "data": {
      "image/png": "[encoded data removed]",
      "text/plain": [
       "<Figure size 600x300 with 1 Axes>"
      ]
     },
     "metadata": {
      "image/png": {
       "height": 300,
       "width": 600
      }
     },
     "output_type": "display_data"
    },
    {
     "data": {
      "text/plain": [
       "<Figure Size: (600 x 300)>"
      ]
     },
     "execution_count": 150,
     "metadata": {},
     "output_type": "execute_result"
    }
   ],
   "source": [
    "(\n",
    "    pn.ggplot(data=twoway, mapping=pn.aes(y=\"result\", x=\"pair\"))\n",
    "    + pn.geom_boxplot(outlier_colour=\"none\")\n",
    "    + pn.coord_cartesian(ylim=[0.999, 1.0005])\n",
    "    + pn.theme(figure_size=[6, 3])\n",
    ")"
   ]
  },
  {
   "cell_type": "markdown",
   "metadata": {},
   "source": [
    "## Three Way"
   ]
  },
  {
   "cell_type": "code",
   "execution_count": 152,
   "metadata": {},
   "outputs": [
    {
     "data": {
      "text/html": [
       "<div>\n",
       "<style scoped>\n",
       "    .dataframe tbody tr th:only-of-type {\n",
       "        vertical-align: middle;\n",
       "    }\n",
       "\n",
       "    .dataframe tbody tr th {\n",
       "        vertical-align: top;\n",
       "    }\n",
       "\n",
       "    .dataframe thead th {\n",
       "        text-align: right;\n",
       "    }\n",
       "</style>\n",
       "<table border=\"1\" class=\"dataframe\">\n",
       "  <thead>\n",
       "    <tr style=\"text-align: right;\">\n",
       "      <th></th>\n",
       "      <th>base</th>\n",
       "      <th>first</th>\n",
       "      <th>second</th>\n",
       "    </tr>\n",
       "  </thead>\n",
       "  <tbody>\n",
       "    <tr>\n",
       "      <th>0</th>\n",
       "      <td>EUR</td>\n",
       "      <td>CHF</td>\n",
       "      <td>USD</td>\n",
       "    </tr>\n",
       "    <tr>\n",
       "      <th>1</th>\n",
       "      <td>EUR</td>\n",
       "      <td>USD</td>\n",
       "      <td>CHF</td>\n",
       "    </tr>\n",
       "    <tr>\n",
       "      <th>2</th>\n",
       "      <td>CHF</td>\n",
       "      <td>EUR</td>\n",
       "      <td>USD</td>\n",
       "    </tr>\n",
       "    <tr>\n",
       "      <th>3</th>\n",
       "      <td>CHF</td>\n",
       "      <td>USD</td>\n",
       "      <td>EUR</td>\n",
       "    </tr>\n",
       "    <tr>\n",
       "      <th>4</th>\n",
       "      <td>USD</td>\n",
       "      <td>EUR</td>\n",
       "      <td>CHF</td>\n",
       "    </tr>\n",
       "    <tr>\n",
       "      <th>5</th>\n",
       "      <td>USD</td>\n",
       "      <td>CHF</td>\n",
       "      <td>EUR</td>\n",
       "    </tr>\n",
       "  </tbody>\n",
       "</table>\n",
       "</div>"
      ],
      "text/plain": [
       "  base first second\n",
       "0  EUR   CHF    USD\n",
       "1  EUR   USD    CHF\n",
       "2  CHF   EUR    USD\n",
       "3  CHF   USD    EUR\n",
       "4  USD   EUR    CHF\n",
       "5  USD   CHF    EUR"
      ]
     },
     "execution_count": 152,
     "metadata": {},
     "output_type": "execute_result"
    }
   ],
   "source": [
    "combinations = pd.DataFrame(itertools.permutations([\"EUR\", \"CHF\", \"USD\"], 3), columns=[\"base\", \"first\", \"second                                                                                       \"])\n",
    "combinations"
   ]
  },
  {
   "cell_type": "code",
   "execution_count": null,
   "metadata": {},
   "outputs": [],
   "source": [
    "pairs = []\n",
    "\n",
    "for combination in combinations.iterrows():\n",
    "    # base to first\n",
    "    first = combination[1][\"from\"] + combination[1][\"to\"] + \"=X\"\n",
    "    # first to second\n",
    "    second = combination[1][\"to\"] + combination[1][\"from\"] + \"=X\"\n",
    "    # second to base\n",
    "\n",
    "    pair = (\n",
    "        df\n",
    "        .filter([first, second])\n",
    "        .assign(\n",
    "            result=lambda x: x.iloc[:, 0] * x.iloc[:, 1],\n",
    "            pair=lambda x: x.columns[0][:-2],\n",
    "        )\n",
    "        .filter([\"pair\", \"result\"])\n",
    "    )\n",
    "\n",
    "    pairs.append(pair)"
   ]
  },
  {
   "cell_type": "code",
   "execution_count": null,
   "metadata": {},
   "outputs": [
    {
     "data": {
      "text/html": [
       "<div>\n",
       "<style scoped>\n",
       "    .dataframe tbody tr th:only-of-type {\n",
       "        vertical-align: middle;\n",
       "    }\n",
       "\n",
       "    .dataframe tbody tr th {\n",
       "        vertical-align: top;\n",
       "    }\n",
       "\n",
       "    .dataframe thead th {\n",
       "        text-align: right;\n",
       "    }\n",
       "</style>\n",
       "<table border=\"1\" class=\"dataframe\">\n",
       "  <thead>\n",
       "    <tr style=\"text-align: right;\">\n",
       "      <th></th>\n",
       "      <th>pair</th>\n",
       "      <th>result</th>\n",
       "    </tr>\n",
       "  </thead>\n",
       "  <tbody>\n",
       "    <tr>\n",
       "      <th>0</th>\n",
       "      <td>EURCHF</td>\n",
       "      <td>0.999745</td>\n",
       "    </tr>\n",
       "    <tr>\n",
       "      <th>1</th>\n",
       "      <td>EURCHF</td>\n",
       "      <td>0.999616</td>\n",
       "    </tr>\n",
       "    <tr>\n",
       "      <th>2</th>\n",
       "      <td>EURCHF</td>\n",
       "      <td>0.999489</td>\n",
       "    </tr>\n",
       "    <tr>\n",
       "      <th>3</th>\n",
       "      <td>EURCHF</td>\n",
       "      <td>0.999547</td>\n",
       "    </tr>\n",
       "    <tr>\n",
       "      <th>4</th>\n",
       "      <td>EURCHF</td>\n",
       "      <td>1.000059</td>\n",
       "    </tr>\n",
       "  </tbody>\n",
       "</table>\n",
       "</div>"
      ],
      "text/plain": [
       "     pair    result\n",
       "0  EURCHF  0.999745\n",
       "1  EURCHF  0.999616\n",
       "2  EURCHF  0.999489\n",
       "3  EURCHF  0.999547\n",
       "4  EURCHF  1.000059"
      ]
     },
     "metadata": {},
     "output_type": "display_data"
    }
   ],
   "source": [
    "twoway = pd.concat(pairs, axis=0).reset_index(drop=True)\n",
    "twoway.head()"
   ]
  },
  {
   "cell_type": "code",
   "execution_count": null,
   "metadata": {},
   "outputs": [
    {
     "data": {
      "text/plain": [
       "pair\n",
       "EURCHF    4952\n",
       "EURUSD    4952\n",
       "CHFEUR    4952\n",
       "CHFUSD    4952\n",
       "USDEUR    4952\n",
       "USDCHF    4952\n",
       "Name: count, dtype: int64"
      ]
     },
     "metadata": {},
     "output_type": "display_data"
    }
   ],
   "source": [
    "twoway.pair.value_counts()"
   ]
  },
  {
   "cell_type": "code",
   "execution_count": null,
   "metadata": {},
   "outputs": [
    {
     "data": {
      "text/html": [
       "<div>\n",
       "<style scoped>\n",
       "    .dataframe tbody tr th:only-of-type {\n",
       "        vertical-align: middle;\n",
       "    }\n",
       "\n",
       "    .dataframe tbody tr th {\n",
       "        vertical-align: top;\n",
       "    }\n",
       "\n",
       "    .dataframe thead tr th {\n",
       "        text-align: left;\n",
       "    }\n",
       "\n",
       "    .dataframe thead tr:last-of-type th {\n",
       "        text-align: right;\n",
       "    }\n",
       "</style>\n",
       "<table border=\"1\" class=\"dataframe\">\n",
       "  <thead>\n",
       "    <tr>\n",
       "      <th></th>\n",
       "      <th colspan=\"3\" halign=\"left\">result</th>\n",
       "    </tr>\n",
       "    <tr>\n",
       "      <th></th>\n",
       "      <th>min</th>\n",
       "      <th>mean</th>\n",
       "      <th>max</th>\n",
       "    </tr>\n",
       "    <tr>\n",
       "      <th>pair</th>\n",
       "      <th></th>\n",
       "      <th></th>\n",
       "      <th></th>\n",
       "    </tr>\n",
       "  </thead>\n",
       "  <tbody>\n",
       "    <tr>\n",
       "      <th>CHFEUR</th>\n",
       "      <td>0.98105</td>\n",
       "      <td>0.999719</td>\n",
       "      <td>1.000937</td>\n",
       "    </tr>\n",
       "    <tr>\n",
       "      <th>CHFUSD</th>\n",
       "      <td>1.00000</td>\n",
       "      <td>1.000000</td>\n",
       "      <td>1.000000</td>\n",
       "    </tr>\n",
       "    <tr>\n",
       "      <th>EURCHF</th>\n",
       "      <td>0.98105</td>\n",
       "      <td>0.999719</td>\n",
       "      <td>1.000937</td>\n",
       "    </tr>\n",
       "    <tr>\n",
       "      <th>EURUSD</th>\n",
       "      <td>1.00000</td>\n",
       "      <td>1.000000</td>\n",
       "      <td>1.000000</td>\n",
       "    </tr>\n",
       "    <tr>\n",
       "      <th>USDCHF</th>\n",
       "      <td>1.00000</td>\n",
       "      <td>1.000000</td>\n",
       "      <td>1.000000</td>\n",
       "    </tr>\n",
       "    <tr>\n",
       "      <th>USDEUR</th>\n",
       "      <td>1.00000</td>\n",
       "      <td>1.000000</td>\n",
       "      <td>1.000000</td>\n",
       "    </tr>\n",
       "  </tbody>\n",
       "</table>\n",
       "</div>"
      ],
      "text/plain": [
       "         result                    \n",
       "            min      mean       max\n",
       "pair                               \n",
       "CHFEUR  0.98105  0.999719  1.000937\n",
       "CHFUSD  1.00000  1.000000  1.000000\n",
       "EURCHF  0.98105  0.999719  1.000937\n",
       "EURUSD  1.00000  1.000000  1.000000\n",
       "USDCHF  1.00000  1.000000  1.000000\n",
       "USDEUR  1.00000  1.000000  1.000000"
      ]
     },
     "metadata": {},
     "output_type": "display_data"
    }
   ],
   "source": [
    "twoway.groupby(\"pair\").agg([\"min\", \"mean\", \"max\"])"
   ]
  },
  {
   "cell_type": "code",
   "execution_count": null,
   "metadata": {},
   "outputs": [
    {
     "data": {
      "image/png": "[encoded data removed]",
      "text/plain": [
       "<Figure size 600x300 with 1 Axes>"
      ]
     },
     "metadata": {},
     "output_type": "display_data"
    },
    {
     "data": {
      "text/plain": [
       "<Figure Size: (600 x 300)>"
      ]
     },
     "metadata": {},
     "output_type": "display_data"
    }
   ],
   "source": [
    "(\n",
    "    pn.ggplot(data=twoway, mapping=pn.aes(y=\"result\", x=\"pair\"))\n",
    "    + pn.geom_boxplot(outlier_colour=\"none\")\n",
    "    + pn.coord_cartesian(ylim=[0.999, 1.0005])\n",
    "    + pn.theme(figure_size=[6, 3])\n",
    ")"
   ]
  }
 ],
 "metadata": {
  "kernelspec": {
   "display_name": "general",
   "language": "python",
   "name": "python3"
  },
  "language_info": {
   "codemirror_mode": {
    "name": "ipython",
    "version": 3
   },
   "file_extension": ".py",
   "mimetype": "text/x-python",
   "name": "python",
   "nbconvert_exporter": "python",
   "pygments_lexer": "ipython3",
   "version": "3.11.5"
  }
 },
 "nbformat": 4,
 "nbformat_minor": 2
}
