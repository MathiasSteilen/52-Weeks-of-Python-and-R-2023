{
 "cells": [
  {
   "cell_type": "code",
   "execution_count": 1,
   "metadata": {},
   "outputs": [],
   "source": [
    "import pandas as pd\n",
    "import numpy as np\n",
    "from selenium import webdriver\n",
    "from selenium.webdriver.common.keys import Keys\n",
    "from selenium.webdriver.common.by import By\n",
    "\n",
    "import pandas as pd\n",
    "import numpy as np"
   ]
  },
  {
   "cell_type": "code",
   "execution_count": 2,
   "metadata": {},
   "outputs": [],
   "source": [
    "# Convert a list to a dictionary two elements at a time\n",
    "def Convert(lst):\n",
    "    res_dct = {lst[i]: lst[i + 1] for i in range(0, len(lst), 2)}\n",
    "    return res_dct"
   ]
  },
  {
   "cell_type": "code",
   "execution_count": 3,
   "metadata": {},
   "outputs": [],
   "source": [
    "driver = webdriver.Chrome()"
   ]
  },
  {
   "cell_type": "code",
   "execution_count": 4,
   "metadata": {},
   "outputs": [],
   "source": [
    "driver.get('https://www.mediamarkt.ch/de/category/_laptop-notebooks-750532.html?searchParams=&sort=&view=PRODUCTGRID&page=1')"
   ]
  },
  {
   "cell_type": "code",
   "execution_count": 5,
   "metadata": {},
   "outputs": [
    {
     "name": "stdout",
     "output_type": "stream",
     "text": [
      "https://www.mediamarkt.ch/de/product/_apple-macbook-air-2022-m2-2133911.html\n",
      "https://www.mediamarkt.ch/de/product/_apple-macbook-air-2022-m2-2133908.html\n",
      "https://www.mediamarkt.ch/de/product/_lenovo-idea-ideapad-1-15ijl7-2117522.html\n",
      "https://www.mediamarkt.ch/de/product/_elgato-hd60-x-2124695.html\n",
      "https://www.mediamarkt.ch/de/product/_lenovo-idea-ideapad-5-15alc05-2087190.html\n",
      "https://www.mediamarkt.ch/de/product/_lenovo-idea-ideapad-1-15alc7-2117525.html\n",
      "https://www.mediamarkt.ch/de/product/_apple-macbook-air-2020-m1-2038800.html\n",
      "https://www.mediamarkt.ch/de/product/_acer-aspire-5-a517-52-517s-2092206.html\n",
      "https://www.mediamarkt.ch/de/product/_lenovo-yoga-yoga-slim-7-pro-14iap7-2117514.html\n",
      "https://www.mediamarkt.ch/de/product/_acer-aspire-3-a317-33-c4qq-2092201.html\n",
      "https://www.mediamarkt.ch/de/product/_apple-macbook-pro-2021-m1-pro-2097748.html\n",
      "https://www.mediamarkt.ch/de/product/_apple-macbook-air-2022-m2-2133910.html\n",
      "https://www.mediamarkt.ch/de/product/_apple-macbook-pro-2022-m2-2133916.html\n",
      "https://www.mediamarkt.ch/de/product/_apple-macbook-air-2022-m2-2133915.html\n",
      "https://www.mediamarkt.ch/de/product/_elgato-facecam-2089939.html\n",
      "https://www.mediamarkt.ch/de/product/_lenovo-idea-ideapad-5-15itl05-2087188.html\n",
      "https://www.mediamarkt.ch/de/product/_asus-vivobook-15-x1502za-bq763w-2136248.html\n",
      "https://www.mediamarkt.ch/de/product/_hp-pavilion-x360-15-er1104nz-2125329.html\n",
      "https://www.mediamarkt.ch/de/product/_apple-macbook-pro-2021-m1-pro-2097761.html\n",
      "https://www.mediamarkt.ch/de/product/_logitech-c270-2075261.html\n",
      "https://www.mediamarkt.ch/de/product/_acer-swift-3-sf314-43-r1pq-2092205.html\n",
      "https://www.mediamarkt.ch/de/product/_acer-aspire-5-a515-56-54ls-2092202.html\n",
      "https://www.mediamarkt.ch/de/product/_apple-macbook-air-2020-m1-2038808.html\n",
      "https://www.mediamarkt.ch/de/product/_twelve-south-curve-se-1987434.html\n"
     ]
    }
   ],
   "source": [
    "# elem = driver.find_element(\n",
    "#     by=\"xpath\",\n",
    "#     value='//*[@id=\"productListingContainer\"]/div[4]/article[1]/div[5]'\n",
    "# )\n",
    "# print(elem)\n",
    "\n",
    "listings = driver.find_elements(by=By.CLASS_NAME, value='product-link')\n",
    "\n",
    "for link in listings:\n",
    "    print(link.get_attribute(\"href\"))"
   ]
  },
  {
   "attachments": {},
   "cell_type": "markdown",
   "metadata": {},
   "source": [
    "Navigate to each link:"
   ]
  },
  {
   "cell_type": "code",
   "execution_count": 9,
   "metadata": {},
   "outputs": [
    {
     "ename": "StaleElementReferenceException",
     "evalue": "Message: stale element reference: element is not attached to the page document\n  (Session info: chrome=109.0.5414.75)\nStacktrace:\nBacktrace:\n\t(No symbol) [0x00236643]\n\t(No symbol) [0x001CBE21]\n\t(No symbol) [0x000CDA9D]\n\t(No symbol) [0x000D09E4]\n\t(No symbol) [0x000D08AD]\n\t(No symbol) [0x000D12E5]\n\t(No symbol) [0x001379F7]\n\t(No symbol) [0x0011FD7C]\n\t(No symbol) [0x00136B09]\n\t(No symbol) [0x0011FB76]\n\t(No symbol) [0x000F49C1]\n\t(No symbol) [0x000F5E5D]\n\tGetHandleVerifier [0x004AA142+2497106]\n\tGetHandleVerifier [0x004D85D3+2686691]\n\tGetHandleVerifier [0x004DBB9C+2700460]\n\tGetHandleVerifier [0x002E3B10+635936]\n\t(No symbol) [0x001D4A1F]\n\t(No symbol) [0x001DA418]\n\t(No symbol) [0x001DA505]\n\t(No symbol) [0x001E508B]\n\tBaseThreadInitThunk [0x75926BD9+25]\n\tRtlGetFullPathName_UEx [0x76EF8FD2+1218]\n\tRtlGetFullPathName_UEx [0x76EF8F9D+1165]\n\t(No symbol) [0x00000000]\n",
     "output_type": "error",
     "traceback": [
      "\u001b[1;31m---------------------------------------------------------------------------\u001b[0m",
      "\u001b[1;31mStaleElementReferenceException\u001b[0m            Traceback (most recent call last)",
      "Cell \u001b[1;32mIn [9], line 6\u001b[0m\n\u001b[0;32m      1\u001b[0m items_list \u001b[39m=\u001b[39m \u001b[39mlist\u001b[39m()\n\u001b[0;32m      3\u001b[0m \u001b[39mfor\u001b[39;00m link \u001b[39min\u001b[39;00m listings:\n\u001b[0;32m      4\u001b[0m     \n\u001b[0;32m      5\u001b[0m     \u001b[39m# Navigate to full listing of the item\u001b[39;00m\n\u001b[1;32m----> 6\u001b[0m     driver\u001b[39m.\u001b[39mget(link\u001b[39m.\u001b[39;49mget_attribute(\u001b[39m\"\u001b[39;49m\u001b[39mhref\u001b[39;49m\u001b[39m\"\u001b[39;49m))\n\u001b[0;32m      8\u001b[0m     \u001b[39m# Get model name and price\u001b[39;00m\n\u001b[0;32m      9\u001b[0m     model_name \u001b[39m=\u001b[39m driver\u001b[39m.\u001b[39mfind_element(by\u001b[39m=\u001b[39mBy\u001b[39m.\u001b[39mCLASS_NAME, value\u001b[39m=\u001b[39m\u001b[39m'\u001b[39m\u001b[39mproduct-name-2-3\u001b[39m\u001b[39m'\u001b[39m)\u001b[39m.\u001b[39mtext\n",
      "File \u001b[1;32m~\\AppData\\Roaming\\Python\\Python310\\site-packages\\selenium\\webdriver\\remote\\webelement.py:177\u001b[0m, in \u001b[0;36mWebElement.get_attribute\u001b[1;34m(self, name)\u001b[0m\n\u001b[0;32m    175\u001b[0m \u001b[39mif\u001b[39;00m getAttribute_js \u001b[39mis\u001b[39;00m \u001b[39mNone\u001b[39;00m:\n\u001b[0;32m    176\u001b[0m     _load_js()\n\u001b[1;32m--> 177\u001b[0m attribute_value \u001b[39m=\u001b[39m \u001b[39mself\u001b[39;49m\u001b[39m.\u001b[39;49mparent\u001b[39m.\u001b[39;49mexecute_script(\n\u001b[0;32m    178\u001b[0m     \u001b[39mf\u001b[39;49m\u001b[39m\"\u001b[39;49m\u001b[39m/* getAttribute */return (\u001b[39;49m\u001b[39m{\u001b[39;49;00mgetAttribute_js\u001b[39m}\u001b[39;49;00m\u001b[39m).apply(null, arguments);\u001b[39;49m\u001b[39m\"\u001b[39;49m, \u001b[39mself\u001b[39;49m, name\n\u001b[0;32m    179\u001b[0m )\n\u001b[0;32m    180\u001b[0m \u001b[39mreturn\u001b[39;00m attribute_value\n",
      "File \u001b[1;32m~\\AppData\\Roaming\\Python\\Python310\\site-packages\\selenium\\webdriver\\remote\\webdriver.py:500\u001b[0m, in \u001b[0;36mWebDriver.execute_script\u001b[1;34m(self, script, *args)\u001b[0m\n\u001b[0;32m    497\u001b[0m converted_args \u001b[39m=\u001b[39m \u001b[39mlist\u001b[39m(args)\n\u001b[0;32m    498\u001b[0m command \u001b[39m=\u001b[39m Command\u001b[39m.\u001b[39mW3C_EXECUTE_SCRIPT\n\u001b[1;32m--> 500\u001b[0m \u001b[39mreturn\u001b[39;00m \u001b[39mself\u001b[39;49m\u001b[39m.\u001b[39;49mexecute(command, {\u001b[39m\"\u001b[39;49m\u001b[39mscript\u001b[39;49m\u001b[39m\"\u001b[39;49m: script, \u001b[39m\"\u001b[39;49m\u001b[39margs\u001b[39;49m\u001b[39m\"\u001b[39;49m: converted_args})[\u001b[39m\"\u001b[39m\u001b[39mvalue\u001b[39m\u001b[39m\"\u001b[39m]\n",
      "File \u001b[1;32m~\\AppData\\Roaming\\Python\\Python310\\site-packages\\selenium\\webdriver\\remote\\webdriver.py:440\u001b[0m, in \u001b[0;36mWebDriver.execute\u001b[1;34m(self, driver_command, params)\u001b[0m\n\u001b[0;32m    438\u001b[0m response \u001b[39m=\u001b[39m \u001b[39mself\u001b[39m\u001b[39m.\u001b[39mcommand_executor\u001b[39m.\u001b[39mexecute(driver_command, params)\n\u001b[0;32m    439\u001b[0m \u001b[39mif\u001b[39;00m response:\n\u001b[1;32m--> 440\u001b[0m     \u001b[39mself\u001b[39;49m\u001b[39m.\u001b[39;49merror_handler\u001b[39m.\u001b[39;49mcheck_response(response)\n\u001b[0;32m    441\u001b[0m     response[\u001b[39m\"\u001b[39m\u001b[39mvalue\u001b[39m\u001b[39m\"\u001b[39m] \u001b[39m=\u001b[39m \u001b[39mself\u001b[39m\u001b[39m.\u001b[39m_unwrap_value(response\u001b[39m.\u001b[39mget(\u001b[39m\"\u001b[39m\u001b[39mvalue\u001b[39m\u001b[39m\"\u001b[39m, \u001b[39mNone\u001b[39;00m))\n\u001b[0;32m    442\u001b[0m     \u001b[39mreturn\u001b[39;00m response\n",
      "File \u001b[1;32m~\\AppData\\Roaming\\Python\\Python310\\site-packages\\selenium\\webdriver\\remote\\errorhandler.py:245\u001b[0m, in \u001b[0;36mErrorHandler.check_response\u001b[1;34m(self, response)\u001b[0m\n\u001b[0;32m    243\u001b[0m         alert_text \u001b[39m=\u001b[39m value[\u001b[39m\"\u001b[39m\u001b[39malert\u001b[39m\u001b[39m\"\u001b[39m]\u001b[39m.\u001b[39mget(\u001b[39m\"\u001b[39m\u001b[39mtext\u001b[39m\u001b[39m\"\u001b[39m)\n\u001b[0;32m    244\u001b[0m     \u001b[39mraise\u001b[39;00m exception_class(message, screen, stacktrace, alert_text)  \u001b[39m# type: ignore[call-arg]  # mypy is not smart enough here\u001b[39;00m\n\u001b[1;32m--> 245\u001b[0m \u001b[39mraise\u001b[39;00m exception_class(message, screen, stacktrace)\n",
      "\u001b[1;31mStaleElementReferenceException\u001b[0m: Message: stale element reference: element is not attached to the page document\n  (Session info: chrome=109.0.5414.75)\nStacktrace:\nBacktrace:\n\t(No symbol) [0x00236643]\n\t(No symbol) [0x001CBE21]\n\t(No symbol) [0x000CDA9D]\n\t(No symbol) [0x000D09E4]\n\t(No symbol) [0x000D08AD]\n\t(No symbol) [0x000D12E5]\n\t(No symbol) [0x001379F7]\n\t(No symbol) [0x0011FD7C]\n\t(No symbol) [0x00136B09]\n\t(No symbol) [0x0011FB76]\n\t(No symbol) [0x000F49C1]\n\t(No symbol) [0x000F5E5D]\n\tGetHandleVerifier [0x004AA142+2497106]\n\tGetHandleVerifier [0x004D85D3+2686691]\n\tGetHandleVerifier [0x004DBB9C+2700460]\n\tGetHandleVerifier [0x002E3B10+635936]\n\t(No symbol) [0x001D4A1F]\n\t(No symbol) [0x001DA418]\n\t(No symbol) [0x001DA505]\n\t(No symbol) [0x001E508B]\n\tBaseThreadInitThunk [0x75926BD9+25]\n\tRtlGetFullPathName_UEx [0x76EF8FD2+1218]\n\tRtlGetFullPathName_UEx [0x76EF8F9D+1165]\n\t(No symbol) [0x00000000]\n"
     ]
    }
   ],
   "source": [
    "items_list = list()\n",
    "\n",
    "for link in listings:\n",
    "    \n",
    "    # Navigate to full listing of the item\n",
    "    driver.get(link.get_attribute(\"href\"))\n",
    "    \n",
    "    # Get model name and price\n",
    "    model_name = driver.find_element(by=By.CLASS_NAME, value='product-name-2-3').text\n",
    "    price_chf = driver.find_element(by=By.XPATH, value='//*[@id=\"product-details\"]/div[2]/div[1]/meta[2]').get_attribute(\"content\")\n",
    "    \n",
    "    \n",
    "    # Expand technical details menu\n",
    "    driver.find_element(by=By.XPATH, value='//*[@id=\"pdp_default_configuration-content_product_detail\"]/div[6]/div/div[2]/a').click()    \n",
    "\n",
    "    # Get the technical attributes\n",
    "    attributes = driver.find_elements(by=By.CLASS_NAME, value='specification')\n",
    "         \n",
    "    # Convert technical attributes to first to dict, then to dataframe and add model and price tag\n",
    "    item_df = (pd.DataFrame(Convert(attributes[0].text.split(\"\\n\")).items(),\n",
    "                columns=[\"Header\", \"Content\"])\n",
    "        .set_index(\"Header\")\n",
    "        .T\n",
    "        .assign(model = model_name,\n",
    "                price = price_chf)\n",
    "        .reset_index(drop=True)\n",
    "        .rename_axis(None, axis=1)\n",
    "    )\n",
    "        \n",
    "    items_list.append(item_df)"
   ]
  },
  {
   "cell_type": "code",
   "execution_count": 194,
   "metadata": {},
   "outputs": [
    {
     "data": {
      "text/plain": [
       "[]"
      ]
     },
     "execution_count": 194,
     "metadata": {},
     "output_type": "execute_result"
    }
   ],
   "source": [
    "items_list"
   ]
  },
  {
   "cell_type": "code",
   "execution_count": 75,
   "metadata": {},
   "outputs": [],
   "source": []
  },
  {
   "cell_type": "code",
   "execution_count": null,
   "metadata": {},
   "outputs": [],
   "source": []
  },
  {
   "cell_type": "code",
   "execution_count": 174,
   "metadata": {},
   "outputs": [
    {
     "data": {
      "text/html": [
       "<div>\n",
       "<style scoped>\n",
       "    .dataframe tbody tr th:only-of-type {\n",
       "        vertical-align: middle;\n",
       "    }\n",
       "\n",
       "    .dataframe tbody tr th {\n",
       "        vertical-align: top;\n",
       "    }\n",
       "\n",
       "    .dataframe thead th {\n",
       "        text-align: right;\n",
       "    }\n",
       "</style>\n",
       "<table border=\"1\" class=\"dataframe\">\n",
       "  <thead>\n",
       "    <tr style=\"text-align: right;\">\n",
       "      <th></th>\n",
       "      <th>Bildschirmdiagonale (cm/Zoll):</th>\n",
       "      <th>Bildschirmauflösung:</th>\n",
       "      <th>LED Hintergrundbeleuchtung:</th>\n",
       "      <th>Helligkeit:</th>\n",
       "      <th>Bildqualität:</th>\n",
       "      <th>Bildschirmdiagonale (cm):</th>\n",
       "      <th>Bildschirmdiagonale (Zoll):</th>\n",
       "      <th>Bildverhältnis:</th>\n",
       "      <th>Paneltyp:</th>\n",
       "      <th>Bildschirmtyp:</th>\n",
       "      <th>Bildschirmmerkmale:</th>\n",
       "      <th>Artikelnummer:</th>\n",
       "      <th>EAN:</th>\n",
       "      <th>model</th>\n",
       "      <th>price</th>\n",
       "    </tr>\n",
       "  </thead>\n",
       "  <tbody>\n",
       "    <tr>\n",
       "      <th>0</th>\n",
       "      <td>34.46 cm / 13.6 \"</td>\n",
       "      <td>2.560 x 1.664 Pixel</td>\n",
       "      <td>ja</td>\n",
       "      <td>500 cd/m²</td>\n",
       "      <td>Retina</td>\n",
       "      <td>34.46 cm</td>\n",
       "      <td>13.6 \"</td>\n",
       "      <td>16:10</td>\n",
       "      <td>IPS (In-Plane Switching)</td>\n",
       "      <td>Liquid Retina (mit IPS Technologie)</td>\n",
       "      <td>224 ppi mit Unterstützung für eine Milliarde F...</td>\n",
       "      <td>2133911</td>\n",
       "      <td>0194253083337</td>\n",
       "      <td>APPLE MacBook Air (2022) M2 Notebook (13.6 \", ...</td>\n",
       "      <td>1199</td>\n",
       "    </tr>\n",
       "  </tbody>\n",
       "</table>\n",
       "</div>"
      ],
      "text/plain": [
       "  Bildschirmdiagonale (cm/Zoll): Bildschirmauflösung:  \\\n",
       "0              34.46 cm / 13.6 \"  2.560 x 1.664 Pixel   \n",
       "\n",
       "  LED Hintergrundbeleuchtung: Helligkeit: Bildqualität:  \\\n",
       "0                          ja   500 cd/m²        Retina   \n",
       "\n",
       "  Bildschirmdiagonale (cm): Bildschirmdiagonale (Zoll): Bildverhältnis:  \\\n",
       "0                  34.46 cm                      13.6 \"           16:10   \n",
       "\n",
       "                  Paneltyp:                       Bildschirmtyp:  \\\n",
       "0  IPS (In-Plane Switching)  Liquid Retina (mit IPS Technologie)   \n",
       "\n",
       "                                 Bildschirmmerkmale: Artikelnummer:  \\\n",
       "0  224 ppi mit Unterstützung für eine Milliarde F...        2133911   \n",
       "\n",
       "            EAN:                                              model price  \n",
       "0  0194253083337  APPLE MacBook Air (2022) M2 Notebook (13.6 \", ...  1199  "
      ]
     },
     "execution_count": 174,
     "metadata": {},
     "output_type": "execute_result"
    }
   ],
   "source": []
  },
  {
   "cell_type": "code",
   "execution_count": 21,
   "metadata": {},
   "outputs": [],
   "source": [
    "driver.quit()"
   ]
  }
 ],
 "metadata": {
  "kernelspec": {
   "display_name": "Python 3",
   "language": "python",
   "name": "python3"
  },
  "language_info": {
   "codemirror_mode": {
    "name": "ipython",
    "version": 3
   },
   "file_extension": ".py",
   "mimetype": "text/x-python",
   "name": "python",
   "nbconvert_exporter": "python",
   "pygments_lexer": "ipython3",
   "version": "3.10.5"
  },
  "orig_nbformat": 4,
  "vscode": {
   "interpreter": {
    "hash": "607db476e417971f05b607c2dd14e77ee8262c2c4c20dea422522c60605a222a"
   }
  }
 },
 "nbformat": 4,
 "nbformat_minor": 2
}
